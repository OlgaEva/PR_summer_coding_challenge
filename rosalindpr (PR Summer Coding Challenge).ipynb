{
 "cells": [
  {
   "cell_type": "code",
   "execution_count": 1,
   "metadata": {},
   "outputs": [
    {
     "name": "stdout",
     "output_type": "stream",
     "text": [
      "The Zen of Python, by Tim Peters\n",
      "\n",
      "Beautiful is better than ugly.\n",
      "Explicit is better than implicit.\n",
      "Simple is better than complex.\n",
      "Complex is better than complicated.\n",
      "Flat is better than nested.\n",
      "Sparse is better than dense.\n",
      "Readability counts.\n",
      "Special cases aren't special enough to break the rules.\n",
      "Although practicality beats purity.\n",
      "Errors should never pass silently.\n",
      "Unless explicitly silenced.\n",
      "In the face of ambiguity, refuse the temptation to guess.\n",
      "There should be one-- and preferably only one --obvious way to do it.\n",
      "Although that way may not be obvious at first unless you're Dutch.\n",
      "Now is better than never.\n",
      "Although never is often better than *right* now.\n",
      "If the implementation is hard to explain, it's a bad idea.\n",
      "If the implementation is easy to explain, it may be a good idea.\n",
      "Namespaces are one honking great idea -- let's do more of those!\n"
     ]
    }
   ],
   "source": [
    "import this"
   ]
  },
  {
   "cell_type": "markdown",
   "metadata": {},
   "source": [
    "-----------\n",
    "Problem\n",
    "Given: Two positive integers a and b, each less than 1000.\n",
    "\n",
    "Return: The integer corresponding to the square of the hypotenuse of the right triangle whose legs have lengths a and b."
   ]
  },
  {
   "cell_type": "code",
   "execution_count": 3,
   "metadata": {},
   "outputs": [
    {
     "name": "stdout",
     "output_type": "stream",
     "text": [
      "1601064\n"
     ]
    }
   ],
   "source": [
    "a = 858\n",
    "b = 930\n",
    "print (a ** 2 + b ** 2)"
   ]
  },
  {
   "cell_type": "markdown",
   "metadata": {},
   "source": [
    "-----\n",
    "Problem\n",
    "Given: A string s of length at most 200 letters and four integers a, b, c and d.\n",
    "\n",
    "Return: The slice of this string from indices a through b and c through d (with space in between), inclusively. In other words, we should include elements s[b] and s[d] in our slice.\n",
    "\n",
    "Sample Dataset\n",
    "HumptyDumptysatonawallHumptyDumptyhadagreatfallAlltheKingshorsesandalltheKingsmenCouldntputHumptyDumptyinhisplaceagain.\n",
    "22 27 97 102\n",
    "Sample Output\n",
    "Humpty Dumpty"
   ]
  },
  {
   "cell_type": "code",
   "execution_count": 4,
   "metadata": {},
   "outputs": [
    {
     "name": "stdout",
     "output_type": "stream",
     "text": [
      "Heterodon calamita\n"
     ]
    }
   ],
   "source": [
    "my_string = \"6byWCpouqfQ44pKz624IHeterodonddXEXiosparQddb2Sg0Wp2mpF6xG6ZcRfWTaCuoLcu5xyDzoSKzCwHNFtGmqTWGY53ncalamitaREzZ4wmaC4ahjkWLoIZVdAGZAEDFtOl3ahzn9t7maKrl9YDPeAxNnLcI2AyIqfujZ8yQJiB1Gmg.\"\n",
    "a = 20\n",
    "b = 28\n",
    "c = 96\n",
    "d = 103\n",
    "print (my_string[20:29] + ' ' + my_string[96:104])"
   ]
  },
  {
   "cell_type": "markdown",
   "metadata": {},
   "source": [
    "------\n",
    "Problem\n",
    "Given: Two positive integers a and b (a<b<10000).\n",
    "\n",
    "Return: The sum of all odd integers from a through b, inclusively.\n",
    "\n",
    "Sample Dataset\n",
    "100 200\n",
    "Sample Output\n",
    "7500\n",
    "Hintclick to collapse\n",
    "You can use a % 2 == 1 to test if a is odd."
   ]
  },
  {
   "cell_type": "code",
   "execution_count": 16,
   "metadata": {},
   "outputs": [
    {
     "name": "stdout",
     "output_type": "stream",
     "text": [
      "14784957\n"
     ]
    }
   ],
   "source": [
    "counter = 0\n",
    "a = 4476\n",
    "b = 8897\n",
    "\n",
    "for num in range(a, b+1):\n",
    "    if(num % 2 == 1):\n",
    "        counter += num\n",
    "\n",
    "print(counter)\n",
    "        "
   ]
  },
  {
   "cell_type": "markdown",
   "metadata": {},
   "source": [
    "------\n",
    "Problem\n",
    "Given: A file containing at most 1000 lines.\n",
    "\n",
    "Return: A file containing all the even-numbered lines from the original file. Assume 1-based numbering of lines.\n",
    "\n",
    "Sample Dataset\n",
    "Bravely bold Sir Robin rode forth from Camelot\n",
    "Yes, brave Sir Robin turned about\n",
    "He was not afraid to die, O brave Sir Robin\n",
    "And gallantly he chickened out\n",
    "He was not at all afraid to be killed in nasty ways\n",
    "Bravely talking to his feet\n",
    "Brave, brave, brave, brave Sir Robin\n",
    "He beat a very brave retreat\n",
    "\n",
    "Sample Output\n",
    "Yes, brave Sir Robin turned about\n",
    "And gallantly he chickened out\n",
    "Bravely talking to his feet\n",
    "He beat a very brave retreat"
   ]
  },
  {
   "cell_type": "code",
   "execution_count": 37,
   "metadata": {},
   "outputs": [],
   "source": [
    "with open('rosalind_ini5.txt') as f:\n",
    "    content = f.readlines()"
   ]
  },
  {
   "cell_type": "code",
   "execution_count": 38,
   "metadata": {},
   "outputs": [
    {
     "data": {
      "text/plain": [
       "40"
      ]
     },
     "execution_count": 38,
     "metadata": {},
     "output_type": "execute_result"
    }
   ],
   "source": [
    "len(content)"
   ]
  },
  {
   "cell_type": "code",
   "execution_count": 39,
   "metadata": {},
   "outputs": [
    {
     "data": {
      "text/plain": [
       "['`Twas brillig, and the slithy toves\\n',\n",
       " 'Some things in life are bad, they can really make you mad\\n',\n",
       " '  Did gyre and gimble in the wabe:\\n',\n",
       " 'Other things just make you swear and curse\\n',\n",
       " 'All mimsy were the borogoves,\\n',\n",
       " \"When you're chewing on life's gristle, don't grumble give a whistle\\n\",\n",
       " '  And the mome raths outgrabe.\\n',\n",
       " 'This will help things turn out for the best\\n',\n",
       " '\"Beware the Jabberwock, my son!\\n',\n",
       " 'Always look on the bright side of life\\n',\n",
       " '  The jaws that bite, the claws that catch!\\n',\n",
       " 'Always look on the right side of life\\n',\n",
       " 'Beware the Jubjub bird, and shun\\n',\n",
       " \"If life seems jolly rotten, there's something you've forgotten\\n\",\n",
       " '  The frumious Bandersnatch!\"\\n',\n",
       " \"And that's to laugh and smile and dance and sing\\n\",\n",
       " 'He took his vorpal sword in hand:\\n',\n",
       " \"When you're feeling in the dumps, don't be silly, chumps\\n\",\n",
       " '  Long time the manxome foe he sought --\\n',\n",
       " \"Just purse your lips and whistle, that's the thing\\n\",\n",
       " 'So rested he by the Tumtum tree,\\n',\n",
       " 'So, always look on the bright side of death\\n',\n",
       " '  And stood awhile in thought.\\n',\n",
       " 'Just before you draw your terminal breath\\n',\n",
       " 'And, as in uffish thought he stood,\\n',\n",
       " \"Life's a counterfeit and when you look at it\\n\",\n",
       " '  The Jabberwock, with eyes of flame,\\n',\n",
       " \"Life's a laugh and death's the joke, it's true\\n\",\n",
       " 'Came whiffling through the tulgey wood,\\n',\n",
       " \"You see, it's all a show, keep them laughing as you go\\n\",\n",
       " '  And burbled as it came!\\n',\n",
       " 'Just remember the last laugh is on you\\n',\n",
       " 'One, two! One, two! And through and through\\n',\n",
       " 'Always look on the bright side of life\\n',\n",
       " '  The vorpal blade went snicker-snack!\\n',\n",
       " 'And always look on the right side of life\\n',\n",
       " 'He left it dead, and with its head\\n',\n",
       " 'Always look on the bright side of life\\n',\n",
       " '  He went galumphing back.\\n',\n",
       " 'And always look on the right side of life\\n']"
      ]
     },
     "execution_count": 39,
     "metadata": {},
     "output_type": "execute_result"
    }
   ],
   "source": [
    "content"
   ]
  },
  {
   "cell_type": "code",
   "execution_count": 48,
   "metadata": {},
   "outputs": [
    {
     "name": "stdout",
     "output_type": "stream",
     "text": [
      "Some things in life are bad, they can really make you mad\n",
      "\n",
      "Other things just make you swear and curse\n",
      "\n",
      "When you're chewing on life's gristle, don't grumble give a whistle\n",
      "\n",
      "This will help things turn out for the best\n",
      "\n",
      "Always look on the bright side of life\n",
      "\n",
      "Always look on the right side of life\n",
      "\n",
      "If life seems jolly rotten, there's something you've forgotten\n",
      "\n",
      "And that's to laugh and smile and dance and sing\n",
      "\n",
      "When you're feeling in the dumps, don't be silly, chumps\n",
      "\n",
      "Just purse your lips and whistle, that's the thing\n",
      "\n",
      "So, always look on the bright side of death\n",
      "\n",
      "Just before you draw your terminal breath\n",
      "\n",
      "Life's a counterfeit and when you look at it\n",
      "\n",
      "Life's a laugh and death's the joke, it's true\n",
      "\n",
      "You see, it's all a show, keep them laughing as you go\n",
      "\n",
      "Just remember the last laugh is on you\n",
      "\n",
      "Always look on the bright side of life\n",
      "\n",
      "And always look on the right side of life\n",
      "\n",
      "Always look on the bright side of life\n",
      "\n",
      "And always look on the right side of life\n",
      "\n"
     ]
    }
   ],
   "source": [
    "i = 1\n",
    "while i <= len(content):\n",
    "    print(content[i])\n",
    "    i = i + 2"
   ]
  },
  {
   "cell_type": "code",
   "execution_count": 68,
   "metadata": {},
   "outputs": [],
   "source": [
    "def charMap(string):\n",
    "  my_dict = {}\n",
    "\n",
    "  for word in string.split():\n",
    "    if word in my_dict.keys():\n",
    "      my_dict[word]+= 1\n",
    "    else: \n",
    "      my_dict[word]= 1\n",
    "    \n",
    "  return my_dict\n"
   ]
  },
  {
   "cell_type": "code",
   "execution_count": 63,
   "metadata": {},
   "outputs": [
    {
     "data": {
      "text/plain": [
       "{'We': 1,\n",
       " 'tried': 3,\n",
       " 'list': 1,\n",
       " 'and': 1,\n",
       " 'we': 2,\n",
       " 'dicts': 1,\n",
       " 'also': 1,\n",
       " 'Zen': 1}"
      ]
     },
     "execution_count": 63,
     "metadata": {},
     "output_type": "execute_result"
    }
   ],
   "source": [
    "charMap('We tried list and we tried dicts also we tried Zen')"
   ]
  },
  {
   "cell_type": "code",
   "execution_count": 73,
   "metadata": {},
   "outputs": [
    {
     "name": "stdout",
     "output_type": "stream",
     "text": [
      "We\n",
      "1\n",
      "tried\n",
      "3\n",
      "list\n",
      "1\n",
      "and\n",
      "1\n",
      "we\n",
      "2\n",
      "dicts\n",
      "1\n",
      "also\n",
      "1\n",
      "Zen\n",
      "1\n"
     ]
    }
   ],
   "source": [
    "my_dict = {}\n",
    "my_string = 'We tried list and we tried dicts also we tried Zen'\n",
    "\n",
    "for word in my_string.split():\n",
    "  if word in my_dict.keys():\n",
    "    my_dict[word]+= 1\n",
    "  else: \n",
    "    my_dict[word]= 1\n",
    "\n",
    "for key, value in my_dict.items():\n",
    "    print(key)\n",
    "    print(value)"
   ]
  },
  {
   "cell_type": "code",
   "execution_count": 74,
   "metadata": {},
   "outputs": [
    {
     "name": "stdout",
     "output_type": "stream",
     "text": [
      "When\n",
      "1\n",
      "I\n",
      "2\n",
      "find\n",
      "1\n",
      "myself\n",
      "1\n",
      "in\n",
      "4\n",
      "times\n",
      "1\n",
      "of\n",
      "11\n",
      "trouble\n",
      "1\n",
      "Mother\n",
      "2\n",
      "Mary\n",
      "2\n",
      "comes\n",
      "2\n",
      "to\n",
      "3\n",
      "me\n",
      "4\n",
      "Speaking\n",
      "3\n",
      "words\n",
      "7\n",
      "wisdom\n",
      "7\n",
      "let\n",
      "30\n",
      "it\n",
      "36\n",
      "be\n",
      "41\n",
      "And\n",
      "3\n",
      "my\n",
      "1\n",
      "hour\n",
      "1\n",
      "darkness\n",
      "1\n",
      "she\n",
      "1\n",
      "is\n",
      "4\n",
      "standing\n",
      "1\n",
      "right\n",
      "1\n",
      "front\n",
      "1\n",
      "Let\n",
      "6\n",
      "Whisper\n",
      "4\n",
      "when\n",
      "2\n",
      "the\n",
      "4\n",
      "broken\n",
      "1\n",
      "hearted\n",
      "1\n",
      "people\n",
      "1\n",
      "living\n",
      "1\n",
      "world\n",
      "1\n",
      "agree\n",
      "1\n",
      "There\n",
      "4\n",
      "will\n",
      "5\n",
      "an\n",
      "4\n",
      "answer\n",
      "4\n",
      "For\n",
      "1\n",
      "though\n",
      "1\n",
      "they\n",
      "2\n",
      "may\n",
      "1\n",
      "parted\n",
      "1\n",
      "there\n",
      "2\n",
      "still\n",
      "2\n",
      "a\n",
      "2\n",
      "chance\n",
      "1\n",
      "that\n",
      "2\n",
      "see\n",
      "1\n",
      "night\n",
      "1\n",
      "cloudy\n",
      "1\n",
      "light\n",
      "1\n",
      "shines\n",
      "1\n",
      "on\n",
      "1\n",
      "Shine\n",
      "1\n",
      "until\n",
      "1\n",
      "tomorrow\n",
      "1\n",
      "wake\n",
      "1\n",
      "up\n",
      "1\n",
      "sound\n",
      "1\n",
      "music\n",
      "1\n",
      "yeah\n",
      "2\n"
     ]
    }
   ],
   "source": [
    "my_string = 'When I find myself in times of trouble Mother Mary comes to me Speaking words of wisdom let it be And in my hour of darkness she is standing right in front of me Speaking words of wisdom let it be Let it be let it be let it be let it be Whisper words of wisdom let it be And when the broken hearted people living in the world agree There will be an answer let it be For though they may be parted there is still a chance that they will see There will be an answer let it be Let it be let it be let it be let it be There will be an answer let it be Let it be let it be let it be let it be Whisper words of wisdom let it be Let it be let it be let it be let it be Whisper words of wisdom let it be And when the night is cloudy there is still a light that shines on me Shine until tomorrow let it be I wake up to the sound of music Mother Mary comes to me Speaking words of wisdom let it be Let it be let it be let it be yeah let it be There will be an answer let it be Let it be let it be let it be yeah let it be Whisper words of wisdom let it be'\n",
    "my_dict = {}\n",
    "\n",
    "for word in my_string.split():\n",
    "    if word in my_dict.keys():\n",
    "        my_dict[word]+= 1\n",
    "    else: \n",
    "        my_dict[word]= 1\n",
    "\n",
    "for key, value in my_dict.items():\n",
    "    print(key)\n",
    "    print(value)"
   ]
  },
  {
   "cell_type": "markdown",
   "metadata": {},
   "source": [
    "-----------\n",
    "Problem\n",
    "A string is simply an ordered collection of symbols selected from some alphabet and formed into a word; the length of a string is the number of symbols that it contains.\n",
    "\n",
    "An example of a length 21 DNA string (whose alphabet contains the symbols 'A', 'C', 'G', and 'T') is \"ATGCTTCAGAAAGGTCTTACG.\"\n",
    "\n",
    "Given: A DNA string s of length at most 1000 nt.\n",
    "\n",
    "Return: Four integers (separated by spaces) counting the respective number of times that the symbols 'A', 'C', 'G', and 'T' occur in s.\n",
    "\n",
    "Sample Dataset\n",
    "AGCTTTTCATTCTGACTGCAACGGGCAATATGTCTCTGTGTGGATTAAAAAAAGAGTGTCTGATAGCAGC\n",
    "Sample Output\n",
    "20 12 17 21"
   ]
  },
  {
   "cell_type": "code",
   "execution_count": 96,
   "metadata": {},
   "outputs": [
    {
     "name": "stdout",
     "output_type": "stream",
     "text": [
      "20 12 17 21\n"
     ]
    }
   ],
   "source": [
    "my_dict = {}\n",
    "my_string = 'AGCTTTTCATTCTGACTGCAACGGGCAATATGTCTCTGTGTGGATTAAAAAAAGAGTGTCTGATAGCAGC'\n",
    "\n",
    "for letter in my_string:\n",
    "    if letter in my_dict.keys():\n",
    "        my_dict[letter]+= 1\n",
    "    else: \n",
    "        my_dict[letter]= 1\n",
    "    \n",
    "print('{0} {1} {2} {3}'.format(my_dict['A'], my_dict['C'], my_dict['G'], my_dict['T']))"
   ]
  },
  {
   "cell_type": "code",
   "execution_count": 98,
   "metadata": {},
   "outputs": [
    {
     "name": "stdout",
     "output_type": "stream",
     "text": [
      "262 235 241 252\n"
     ]
    }
   ],
   "source": [
    "my_dict = {}\n",
    "my_string = 'GACTATCATGACCGACTTCCGAAGCGCACACTCTTCTCGGCACCCGTCCTAGCCGATAGTAAAAGCTCTTACCATGATGGCAGCTAGACCTGCTATCCGGATAAACAACACTTAGGACGCCTTCTCCTAACTTTCGACGAGGTCAGGACCAACAGAGACTACAATTTGTCCTGTCTATTCGCAGTAAAACAATACAGGCGAGCGATGAATTCAGTGGCGGCTGCTTCCACCTGTGAGGGACTGTGGATTGCAGATTTATCCAGACTGCACGGCTCTTACTACTAGGAGAGGTAAAAATTATTTTGTCAAAGTAATTGGGAGCCCAAAGTCTTTGATATACCCGTACAACGATTCAGTGAGGTCCCTATTCATTTGTTTAGCATATTGAGTGTTATCCAGCGAACTCACTCTCTGGGATTCAGGAATTATGAGTGAAAGTCCCGTTCCGAAGTGACATCCACGGGTGATAGTCGTTCCGCTGAACCTCTATTCGTGTGAGCACGCATAGTCTACCCGAACACTAGCGGAGACATGTTATGTGTAGATGTCAGGGGACTGGTCTTTGACGATCTCAGGATCTCCGATTACTAGGATTAATGAAAGCATCTGACTCCTAAGCCCACTTGTACATCAGAGCCGTCTAGTTCGAGTAACGTCGCGTACAGTGCCCGTGTACCGAGGCCAGGCGGTGATATGAACTATGTGTGGTAATCAAGGTAGGGGTTCATCTCGATACGTCCCAGGCTGGCAAACACTCACCAATCTGGGGAGGTTGATAAGCCAAAGCGTCACTACAGAGCTCGGTTGGAACGAATCGCGGTGGTATTGCGTTCCGATTAAAATTTACAGCTAACAGACCCGAGCGCACGGAATCGATTATAACAAGCGATCTGTGATCCGGCAAGTTAAGGTGGTTGTTCGTCTAGCACGGAAGCGTTCTTACGGTAAGAAAACCACATGCTACTACTCTGTCTACCTTTAAGAGCCGGT'\n",
    "\n",
    "for letter in my_string:\n",
    "    if letter in my_dict.keys():\n",
    "        my_dict[letter]+= 1\n",
    "    else: \n",
    "        my_dict[letter]= 1\n",
    "    \n",
    "print('{0} {1} {2} {3}'.format(my_dict['A'], my_dict['C'], my_dict['G'], my_dict['T']))"
   ]
  },
  {
   "cell_type": "markdown",
   "metadata": {},
   "source": [
    "--------------\n",
    "\n",
    "Problem\n",
    "An RNA string is a string formed from the alphabet containing 'A', 'C', 'G', and 'U'.\n",
    "\n",
    "Given a DNA string t corresponding to a coding strand, its transcribed RNA string u is formed by replacing all occurrences of 'T' in t with 'U' in u.\n",
    "\n",
    "Given: A DNA string t having length at most 1000 nt.\n",
    "\n",
    "Return: The transcribed RNA string of t.\n",
    "\n",
    "Sample Dataset\n",
    "GATGGAACTTGACTACGTAAATT\n",
    "\n",
    "Sample Output\n",
    "GAUGGAACUUGACUACGUAAAUU"
   ]
  },
  {
   "cell_type": "code",
   "execution_count": 106,
   "metadata": {},
   "outputs": [
    {
     "name": "stdout",
     "output_type": "stream",
     "text": [
      "GAUGGAACUUGACUACGUAAAUU\n"
     ]
    }
   ],
   "source": [
    "dnastring = 'GATGGAACTTGACTACGTAAATT'\n",
    "rna = []\n",
    "str = ''\n",
    "\n",
    "for letter in dnastring:\n",
    "    if letter == 'T':\n",
    "        rna.append('U')\n",
    "    else:\n",
    "        rna.append(letter)\n",
    "\n",
    "print(str.join(rna))\n"
   ]
  },
  {
   "cell_type": "code",
   "execution_count": 107,
   "metadata": {},
   "outputs": [
    {
     "name": "stdout",
     "output_type": "stream",
     "text": [
      "UCUGCUGGAGCGCGUGGAUGGUUGCCGAACGCAGUGGGAGGUAUUGAUGUACUGACGAUUACGUACAGGUACGACAACUCUCCUCAGCAAAAUUCGGAUUAUCAAUAUAUAUACUCAGUUAAACACAUACAUCCGGAUUGCCUUCGAAUGCUUACCUGCAAAUAAUGUUCAAGAGUCAUCAUACUUGCAUAGAGCUCCGGAAGACUUGGUUCAAGCAGAACACCGAGCUAUAUCGGCAACUUUCAAUCUAAUUCGAAAACACAACUAUUGCUCACCCUUCCUUCCCCAACUCGAACUCUACAUCGUGCCUUAAUUACACGUCCCUAAGUAUAUUUAGUUACUACCAAAGAGAGCAGAACAGGUUGCAUUAGCCGGAAGAAGCAUAGUGAAGGUAGUUUCUCAAUGGGUUAGUUUAGCAUGAUCGUGGACACCCUACGCGCCCCAUUAUCGUGCCUAAGUAUGUCCGUUCUUUUGCAAUGCUGGGCACUAUCAUGGUCAAGCCUAAGCGGUCCGACUCGGGGGCUUGUCAAUACAAGGCUAGCAGGAGGACUACCCACCCAGCUGGCAUUAUUAAUAUUCUAGGUGAGUCGGACGUCAACAUUCGGAACUACUGCUGGCAGUAAGUGGCUACGACAUACGCACGAUUACAGGGGGUUGGAAGAUAUGAGCGUCUUUGCGCGAGUGGAACGAAGUUUGUUCUAUGGGUAGUCUCAGGCCUGUAACGAAGACUUGACAAGACAGCAGGGAACCGAAUAUCGCCACGCGCGGGGAAUCCUGAUUACAUCUCCGACCAUACCCUUCGCGUGGGCUUCUGUGGGAAUAAGUUAGGUGUAAACCGCGUCGUUAUCGUCUAGCUCCAGCUCGGUCCUUCCCGCCUUUCUAAACUGCGGCGUGAGGGUCCACACGGAGAGAAGUUUACGGGCCACGUGUUAAAGAUGUUAUUUAAUUCG\n"
     ]
    }
   ],
   "source": [
    "dnastring = 'TCTGCTGGAGCGCGTGGATGGTTGCCGAACGCAGTGGGAGGTATTGATGTACTGACGATTACGTACAGGTACGACAACTCTCCTCAGCAAAATTCGGATTATCAATATATATACTCAGTTAAACACATACATCCGGATTGCCTTCGAATGCTTACCTGCAAATAATGTTCAAGAGTCATCATACTTGCATAGAGCTCCGGAAGACTTGGTTCAAGCAGAACACCGAGCTATATCGGCAACTTTCAATCTAATTCGAAAACACAACTATTGCTCACCCTTCCTTCCCCAACTCGAACTCTACATCGTGCCTTAATTACACGTCCCTAAGTATATTTAGTTACTACCAAAGAGAGCAGAACAGGTTGCATTAGCCGGAAGAAGCATAGTGAAGGTAGTTTCTCAATGGGTTAGTTTAGCATGATCGTGGACACCCTACGCGCCCCATTATCGTGCCTAAGTATGTCCGTTCTTTTGCAATGCTGGGCACTATCATGGTCAAGCCTAAGCGGTCCGACTCGGGGGCTTGTCAATACAAGGCTAGCAGGAGGACTACCCACCCAGCTGGCATTATTAATATTCTAGGTGAGTCGGACGTCAACATTCGGAACTACTGCTGGCAGTAAGTGGCTACGACATACGCACGATTACAGGGGGTTGGAAGATATGAGCGTCTTTGCGCGAGTGGAACGAAGTTTGTTCTATGGGTAGTCTCAGGCCTGTAACGAAGACTTGACAAGACAGCAGGGAACCGAATATCGCCACGCGCGGGGAATCCTGATTACATCTCCGACCATACCCTTCGCGTGGGCTTCTGTGGGAATAAGTTAGGTGTAAACCGCGTCGTTATCGTCTAGCTCCAGCTCGGTCCTTCCCGCCTTTCTAAACTGCGGCGTGAGGGTCCACACGGAGAGAAGTTTACGGGCCACGTGTTAAAGATGTTATTTAATTCG'\n",
    "rna = []\n",
    "rnastring = ''\n",
    "\n",
    "for letter in dnastring:\n",
    "    if letter == 'T':\n",
    "        rna.append('U')\n",
    "    else:\n",
    "        rna.append(letter)\n",
    "\n",
    "print(rnastring.join(rna))\n"
   ]
  },
  {
   "cell_type": "markdown",
   "metadata": {},
   "source": [
    "---------------\n",
    "Problem\n",
    "In DNA strings, symbols 'A' and 'T' are complements of each other, as are 'C' and 'G'.\n",
    "\n",
    "The reverse complement of a DNA string s is the string sc formed by reversing the symbols of s, then taking the complement of each symbol (e.g., the reverse complement of \"GTCA\" is \"TGAC\").\n",
    "\n",
    "Given: A DNA string s of length at most 1000 bp.\n",
    "\n",
    "Return: The reverse complement sc of s.\n",
    "\n",
    "Sample Dataset\n",
    "AAAACCCGGT\n",
    "\n",
    "Sample Output\n",
    "ACCGGGTTTT\n"
   ]
  },
  {
   "cell_type": "code",
   "execution_count": 117,
   "metadata": {},
   "outputs": [
    {
     "name": "stdout",
     "output_type": "stream",
     "text": [
      "ACCGGGTTTT\n"
     ]
    }
   ],
   "source": [
    "origstring = 'AAAACCCGGT'\n",
    "revstring = origstring[::-1]\n",
    "templist = []\n",
    "newstring = ''\n",
    "\n",
    "for letter in revstring:\n",
    "    if letter == 'T':\n",
    "        templist.append('A')\n",
    "    elif letter == 'G':\n",
    "        templist.append('C')\n",
    "    elif letter == 'C':\n",
    "        templist.append('G')\n",
    "    else:\n",
    "        templist.append('T')\n",
    "\n",
    "print(newstring.join(templist))      "
   ]
  },
  {
   "cell_type": "code",
   "execution_count": 118,
   "metadata": {},
   "outputs": [
    {
     "name": "stdout",
     "output_type": "stream",
     "text": [
      "CCGTGCACTGATCAAGAGGCAAAGTTCTGCGTGTAATAGATTGAATTGGCTTATTGCGTCGGTAGCCAATAATCACGCATCACCAATGGACGGATTCGAACGATAACCCGGCGCATGTCAATATCCTCTCATGTATTTCGGCCGGTTTCCCGAGGGCCCGTGGTAACCTCTAGCACCTTTACCTTTCAGAACGCACGCAAATGGTTAAGCATACTAGTAGCTTGTGCTACAGAACATATCAGTTCCGCCCCCGCGCCTCCTCCTTACTCGCTAATCGTTCGGCTTTATAATATGCCACTATCTGCCACCTGACGTGCGAATTTGTTCAAGTACCAATGGCGATAGGAATAAGGTCGGTTGCAATGTTAAGCTATGAGTAGGTTCTCTGGTTGCAGCTGACGAACTTTCAAAACTTCTTTCGATCAGTAGACTGGGACCGCGAGAGTGGCTTCACGTGTATAGATTGCTATCAATTCCTTAGTCGTCAACTTCTAGCCAGGTGGCGTTGGACGGTCTCAATGGCTCTTTGGACCGAACATCGGTTCTCAGTGAGCCCTAAGTTAATAGCTCATTTCAAGTCAGTAATCAGTGTTCCCCACTGTGATCGGGGTGAAATCTCCCCCCAGCAGACTGATGCCGTACACAGATAAGCTCCCGCAACATCAGCCGCCGGGCCTCTACTAGCCGTGGACTGTATCGTGGATCTTTTACATGTTGCGTCCCCGGCCCGGATCAAGGGATCTAGTATTTCGACCTGAAAGAACGTACTCCTGCACTCGCCATTCCTATTCTCGGGTAGCGTCTGACAGCTGCACTGCGCAATTGCTACGCACGAGCAGCAGTACTATCACTTTTGGTGACCCCGTGGACCCTTGGTACTAGGC\n"
     ]
    }
   ],
   "source": [
    "origstring = 'GCCTAGTACCAAGGGTCCACGGGGTCACCAAAAGTGATAGTACTGCTGCTCGTGCGTAGCAATTGCGCAGTGCAGCTGTCAGACGCTACCCGAGAATAGGAATGGCGAGTGCAGGAGTACGTTCTTTCAGGTCGAAATACTAGATCCCTTGATCCGGGCCGGGGACGCAACATGTAAAAGATCCACGATACAGTCCACGGCTAGTAGAGGCCCGGCGGCTGATGTTGCGGGAGCTTATCTGTGTACGGCATCAGTCTGCTGGGGGGAGATTTCACCCCGATCACAGTGGGGAACACTGATTACTGACTTGAAATGAGCTATTAACTTAGGGCTCACTGAGAACCGATGTTCGGTCCAAAGAGCCATTGAGACCGTCCAACGCCACCTGGCTAGAAGTTGACGACTAAGGAATTGATAGCAATCTATACACGTGAAGCCACTCTCGCGGTCCCAGTCTACTGATCGAAAGAAGTTTTGAAAGTTCGTCAGCTGCAACCAGAGAACCTACTCATAGCTTAACATTGCAACCGACCTTATTCCTATCGCCATTGGTACTTGAACAAATTCGCACGTCAGGTGGCAGATAGTGGCATATTATAAAGCCGAACGATTAGCGAGTAAGGAGGAGGCGCGGGGGCGGAACTGATATGTTCTGTAGCACAAGCTACTAGTATGCTTAACCATTTGCGTGCGTTCTGAAAGGTAAAGGTGCTAGAGGTTACCACGGGCCCTCGGGAAACCGGCCGAAATACATGAGAGGATATTGACATGCGCCGGGTTATCGTTCGAATCCGTCCATTGGTGATGCGTGATTATTGGCTACCGACGCAATAAGCCAATTCAATCTATTACACGCAGAACTTTGCCTCTTGATCAGTGCACGG'\n",
    "revstring = origstring[::-1]\n",
    "templist = []\n",
    "newstring = ''\n",
    "\n",
    "for letter in revstring:\n",
    "    if letter == 'T':\n",
    "        templist.append('A')\n",
    "    elif letter == 'G':\n",
    "        templist.append('C')\n",
    "    elif letter == 'C':\n",
    "        templist.append('G')\n",
    "    else:\n",
    "        templist.append('T')\n",
    "\n",
    "print(newstring.join(templist))    "
   ]
  },
  {
   "cell_type": "markdown",
   "metadata": {},
   "source": [
    "-----------\n",
    "Problem\n",
    "A sequence is an ordered collection of objects (usually numbers), which are allowed to repeat. Sequences can be finite or infinite. Two examples are the finite sequence (π,−2‾√,0,π) and the infinite sequence of odd numbers (1,3,5,7,9,…). We use the notation an to represent the n-th term of a sequence.\n",
    "\n",
    "A recurrence relation is a way of defining the terms of a sequence with respect to the values of previous terms. In the case of Fibonacci's rabbits from the introduction, any given month will contain the rabbits that were alive the previous month, plus any new offspring. A key observation is that the number of offspring in any month is equal to the number of rabbits that were alive two months prior. As a result, if Fn represents the number of rabbit pairs alive after the n-th month, then we obtain the Fibonacci sequence having terms Fn that are defined by the recurrence relation Fn=Fn−1+Fn−2 (with F1=F2=1 to initiate the sequence). Although the sequence bears Fibonacci's name, it was known to Indian mathematicians over two millennia ago.\n",
    "\n",
    "When finding the n-th term of a sequence defined by a recurrence relation, we can simply use the recurrence relation to generate terms for progressively larger values of n. This problem introduces us to the computational technique of dynamic programming, which successively builds up solutions by using the answers to smaller cases.\n",
    "\n",
    "Given: Positive integers n≤40 and k≤5.\n",
    "\n",
    "Return: The total number of rabbit pairs that will be present after n months, if we begin with 1 pair and in each generation, every pair of reproduction-age rabbits produces a litter of k rabbit pairs (instead of only 1 pair).\n",
    "\n",
    "Sample Dataset\n",
    "5 3\n",
    "\n",
    "Sample Output\n",
    "19"
   ]
  },
  {
   "cell_type": "code",
   "execution_count": 280,
   "metadata": {},
   "outputs": [],
   "source": [
    "def rabbit(n,k):\n",
    "    if n <= 2:\n",
    "        return 1\n",
    "    elif n == 3:\n",
    "        return 1 + k\n",
    "    else:\n",
    "        return rabbit(n-1, k) + (k * rabbit(n-2, k))"
   ]
  },
  {
   "cell_type": "code",
   "execution_count": 281,
   "metadata": {},
   "outputs": [
    {
     "data": {
      "text/plain": [
       "7334743797805"
      ]
     },
     "execution_count": 281,
     "metadata": {},
     "output_type": "execute_result"
    }
   ],
   "source": [
    "rabbit(33,4)"
   ]
  },
  {
   "cell_type": "markdown",
   "metadata": {},
   "source": [
    "---------------\n",
    "Problem\n",
    "The GC-content of a DNA string is given by the percentage of symbols in the string that are 'C' or 'G'. \n",
    "For example, the GC-content of \"AGCTATAG\" is 37.5%. Note that the reverse complement of any DNA string \n",
    "has the same GC-content.\n",
    "\n",
    "DNA strings must be labeled when they are consolidated into a database. A commonly used method of string \n",
    "labeling is called FASTA format. In this format, the string is introduced by a line that begins with '>', \n",
    "followed by some labeling information. Subsequent lines contain the string itself; the first line to begin \n",
    "with '>' indicates the label of the next string.\n",
    "\n",
    "In Rosalind's implementation, a string in FASTA format will be labeled by the ID \"Rosalind_xxxx\", where \n",
    "\"xxxx\" denotes a four-digit code between 0000 and 9999.\n",
    "\n",
    "Given: At most 10 DNA strings in FASTA format (of length at most 1 kbp each).\n",
    "\n",
    "Return: The ID of the string having the highest GC-content, followed by the GC-content of that string. \n",
    "Rosalind allows for a default error of 0.001 in all decimal answers unless otherwise stated; please see \n",
    "the note on absolute error below.\n",
    "\n",
    "Sample Dataset\n",
    ">Rosalind_6404\n",
    "CCTGCGGAAGATCGGCACTAGAATAGCCAGAACCGTTTCTCTGAGGCTTCCGGCCTTCCC\n",
    "TCCCACTAATAATTCTGAGG\n",
    ">Rosalind_5959\n",
    "CCATCGGTAGCGCATCCTTAGTCCAATTAAGTCCCTATCCAGGCGCTCCGCCGAAGGTCT\n",
    "ATATCCATTTGTCAGCAGACACGC\n",
    ">Rosalind_0808\n",
    "CCACCCTCGTGGTATGGCTAGGCATTCAGGAACCGGAGAACGCTTCAGACCAGCCCGGAC\n",
    "TGGGAACCTGCGGGCAGTAGGTGGAAT\n",
    "\n",
    "Sample Output\n",
    "Rosalind_0808\n",
    "60.919540"
   ]
  },
  {
   "cell_type": "code",
   "execution_count": 212,
   "metadata": {},
   "outputs": [
    {
     "name": "stdout",
     "output_type": "stream",
     "text": [
      "0.5375\n",
      "0.5365853658536586\n",
      "0.5617529880478087\n"
     ]
    }
   ],
   "source": [
    "my_dict = {'Rosalind_6404': 'CCTGCGGAAGATCGGCACTAGAATAGCCAGAACCGTTTCTCTGAGGCTTCCGGCCTTCCCTCCCACTAATAATTCTGAGG', 'Rosalind_5959': 'CCATCGGTAGCGCATCCTTAGTCCAATTAAGTCCCTATCCAGGCGCTCCGCCGAAGGTCTATATCCATTTGTCAGCAGACACGC', 'Rosalind_0808': 'CCACCCTCGTGGTATGGCTAGGCATTCAGGAACCGGAGAACGCTTCAGACCAGCCCGGACTGGGAACCTGCGGGCAGTAGGTGGAAT' }\n",
    "temp_dict = {}\n",
    "new_dict = {}\n",
    "counter = 0\n",
    "\n",
    "for items in my_dict.values():\n",
    "#     print(my_dict)\n",
    "    for letter in items:\n",
    "#         print(letter)\n",
    "        if letter in temp_dict.keys():\n",
    "            temp_dict[letter]+= 1\n",
    "        else:  \n",
    "            temp_dict[letter]= 1\n",
    "    print((temp_dict['C'] + temp_dict['G']) / (temp_dict['A'] + temp_dict['C'] + temp_dict['G'] + temp_dict['T']))\n"
   ]
  },
  {
   "cell_type": "code",
   "execution_count": 213,
   "metadata": {},
   "outputs": [
    {
     "name": "stdout",
     "output_type": "stream",
     "text": [
      "Rosalind_6404 0.5375\n",
      "Rosalind_5959 0.5375\n",
      "Rosalind_0808 0.5375\n",
      "Rosalind_6404 0.5365853658536586\n",
      "Rosalind_5959 0.5365853658536586\n",
      "Rosalind_0808 0.5365853658536586\n",
      "Rosalind_6404 0.5617529880478087\n",
      "Rosalind_5959 0.5617529880478087\n",
      "Rosalind_0808 0.5617529880478087\n"
     ]
    }
   ],
   "source": [
    "my_dict = {'Rosalind_6404': 'CCTGCGGAAGATCGGCACTAGAATAGCCAGAACCGTTTCTCTGAGGCTTCCGGCCTTCCCTCCCACTAATAATTCTGAGG', 'Rosalind_5959': 'CCATCGGTAGCGCATCCTTAGTCCAATTAAGTCCCTATCCAGGCGCTCCGCCGAAGGTCTATATCCATTTGTCAGCAGACACGC', 'Rosalind_0808': 'CCACCCTCGTGGTATGGCTAGGCATTCAGGAACCGGAGAACGCTTCAGACCAGCCCGGACTGGGAACCTGCGGGCAGTAGGTGGAAT' }\n",
    "temp_dict = {}\n",
    "new_dict = {}\n",
    "results = []\n",
    "    \n",
    "for items in my_dict.values():\n",
    "\n",
    "    for letter in items:\n",
    "\n",
    "        if letter in temp_dict.keys():\n",
    "            temp_dict[letter]+= 1\n",
    "        else:  \n",
    "            temp_dict[letter]= 1\n",
    "    results.append((temp_dict['C'] + temp_dict['G']) / (temp_dict['A'] + temp_dict['C'] + temp_dict['G'] + temp_dict['T']))\n",
    "\n",
    "for item in results:\n",
    "    for keys in my_dict.keys():\n",
    "        print('{} {}'.format(keys, item))\n",
    "\n",
    "# for item in results:\n",
    "#     print(item)\n",
    "    "
   ]
  },
  {
   "cell_type": "code",
   "execution_count": 214,
   "metadata": {},
   "outputs": [
    {
     "name": "stdout",
     "output_type": "stream",
     "text": [
      "Counter({'C': 25, 'T': 19, 'G': 18, 'A': 18})\n",
      "18\n",
      "Counter({'C': 28, 'T': 20, 'A': 19, 'G': 17})\n",
      "17\n",
      "Counter({'G': 29, 'C': 24, 'A': 20, 'T': 14})\n",
      "29\n"
     ]
    }
   ],
   "source": [
    "my_dict = {'Rosalind_6404': 'CCTGCGGAAGATCGGCACTAGAATAGCCAGAACCGTTTCTCTGAGGCTTCCGGCCTTCCCTCCCACTAATAATTCTGAGG', 'Rosalind_5959': 'CCATCGGTAGCGCATCCTTAGTCCAATTAAGTCCCTATCCAGGCGCTCCGCCGAAGGTCTATATCCATTTGTCAGCAGACACGC', 'Rosalind_0808': 'CCACCCTCGTGGTATGGCTAGGCATTCAGGAACCGGAGAACGCTTCAGACCAGCCCGGACTGGGAACCTGCGGGCAGTAGGTGGAAT' }\n",
    "import collections\n",
    "for i, (k, v) in enumerate(my_dict.items()):\n",
    "    print(collections.Counter(v))\n",
    "    print(collections.Counter(v)['G'])\n",
    "\n"
   ]
  },
  {
   "cell_type": "code",
   "execution_count": 217,
   "metadata": {},
   "outputs": [
    {
     "name": "stdout",
     "output_type": "stream",
     "text": [
      "Rosalind_0808 0.5617529880478087\n"
     ]
    }
   ],
   "source": [
    "my_dict = {'Rosalind_6404': 'CCTGCGGAAGATCGGCACTAGAATAGCCAGAACCGTTTCTCTGAGGCTTCCGGCCTTCCCTCCCACTAATAATTCTGAGG', 'Rosalind_5959': 'CCATCGGTAGCGCATCCTTAGTCCAATTAAGTCCCTATCCAGGCGCTCCGCCGAAGGTCTATATCCATTTGTCAGCAGACACGC', 'Rosalind_0808': 'CCACCCTCGTGGTATGGCTAGGCATTCAGGAACCGGAGAACGCTTCAGACCAGCCCGGACTGGGAACCTGCGGGCAGTAGGTGGAAT' }\n",
    "temp_dict = {}\n",
    "new_dict = {}\n",
    "    \n",
    "for i, (k,v) in enumerate(my_dict.items()):\n",
    "\n",
    "    for letter in v:\n",
    "\n",
    "        if letter in temp_dict.keys():\n",
    "            temp_dict[letter]+= 1\n",
    "        else:  \n",
    "            temp_dict[letter]= 1\n",
    "        \n",
    "    new_dict[k] = ((temp_dict['C'] + temp_dict['G']) / (temp_dict['A'] + temp_dict['C'] + temp_dict['G'] + temp_dict['T']))\n",
    "\n",
    "# print(max(new_dict.values()))\n",
    " \n",
    "new_vals=list(new_dict.values())\n",
    "new_keys=list(new_dict.keys())\n",
    "print(new_keys[new_vals.index(max(new_vals))], new_dict[new_keys[new_vals.index(max(new_vals))]])\n"
   ]
  },
  {
   "cell_type": "code",
   "execution_count": 219,
   "metadata": {},
   "outputs": [
    {
     "name": "stdout",
     "output_type": "stream",
     "text": [
      "Rosalind_5402 0.5103294249022893\n"
     ]
    }
   ],
   "source": [
    "my_dict = {'Rosalind_3421': 'GATAATTACTGTGTAATAGTAGCATGTTTGGCCCCAGATTCGCTCAGCTTCGCTATTATATCAGCAATGGCCAATAATCGACCTAGGGACATCGTACAGACCCTCTGTTCCATTCATAATTGGACATCCTCGCGGCTTAGCACTTGTACCGCCACAATCTAGAGGGCCTTAAGTAGCTACCGTGCACGTAGCATGGGCTACGCCGAAGGTCATAAAGTATTTAATGTTGCGTACTCTCGATCAGCCCAGTTTTTTGGACTTCACTAACGTTCCGAACCTCGTTATCGCCAAAGAACTTTACTAACTCGCCGAGGTTCGCCCTTTTTCGGAAACGATAAAGACGGTACGACATACTAGGCGGGGCGCAGGTCTCGGAAGCCAGAATGCTGCGAGGGTCTGGAGGTATGTGGTCGATCACCATTAGCCAAGAAACCTGTCGGCGGACGGGTCGTAGAAGGGTACCACGCACCCCGTCCTTGAGGGTTTACTCCGTAATTTGGTATTATTAGGTCTCCACCAGGATGCCCCCTTAGAGCCTCCCGGCGGCGATTAATAAGCCTACAGCGTCTACCTACAGGTCATGCAGTGGGGCGCAGTTCACCTTCGAGATGTGGTACGGGATCCAGTCTGGCCGTTAGACATAGATACAAATTCCTTCCACGGCCACGACCGCCATGGATATACCAGATGAGTGCTTGGTGAGTTTATCTTCGGCGCTTAGTGAAGTTTTCTTACACGGGTGACTTATACCCTGAAGACAGATCACCGCATTCACTGCTGGCCTGACGCCTAATCTTAATCATC',\n",
    "'Rosalind_5402':\n",
    "'CGCTGCGACGTTGGCAGACTTCTGGAAGTTCGGTTCAACACTGAAATACATCATGGGCTCGATGGACGTGCTCCCAAGAATCCGCAGCTGCTAAGTCGACGCTCGGATAACAGCTGGAGCATGATAACTCTTTATCGTCACGACCGGCTACTGCAAACAAGGTATCCGAGGATGGATCCCAAGACCGAACCCCAGTAGGTCAGCAAGATCCCCTAGGCCTGTGTCAACCAAGGAAAGTATTCTCTGTCAGTCCCAACCCGCTAAGCCCTCTAGGACTCTAAGGATAATACGACCTCTTACGTTGGGGAACACTCGTTCGCGATTTCCCGGAGCAAGCTGTGGGTGGACGTTTGAAATGTACGACTTCGATGCGAGTACGAGCGAACGAAAGTGTTTATGCTCGTCCGTCCCGGATGTCTGGGACATCCAGCGACAGTTGTACATGTGATTTCGGTTCGTCCGAAGAAACACTCGGGGGCCAGGAAGCCTCACGCTACTTGGCGCGGACTCCGAAGCGGAGAATCCCGGGGTTAAAATACGCCTGCCACTACCCGCGGTCATGATGATCGAGACTCTTCCCAGACTAACCGCTCAGTATTGGTCACTTCGTGGTCGCGTTCCCCGCATTCCTTTAGCATCGGTGTTTGAAATTGCAGTCCTACGCCACGTCCAAGTATGAAAAATAAAAGATAACTACTGGGATTCATACCAACCGGGAACCCGGTCCCCGTTCCTACTGTTATACTTCCGCCATGCCACGTCAGCCTACTAACACATGGGAGGCATTGTACCGTTATTCTAATTTCCCCCCAGAGTGAGCTTGTACTCCGACCAGTCATATTAAGATATGCTGCCGACTGAACCTAGTGTCTGCACGAGGATGAATCAAGCCAACCAGATATAAGGATGTCGAAGTGGCTCGGTATTGAATATTAAAGCAGAAGTACGTGATTGGACGCCAGCGTTGATGCCGAGTCCGTAAGTTCA',\n",
    "'Rosalind_6819':\n",
    "'GTGTTCGGATGCTTCTCTGCGTTATCCCCATCGTGACTGCGTAGCTCTCAACGGTAAGGACGAGGGACCGGGCCGGACGAAAGAACGGACACCATGCTAATTTTGATTTTTCTTGCCTTTCCGGAGGACCCGCCTCCGTACCTACCACCGAAGAACTGAGGAGCTTATTTAACCGTGTACGTAGTGCGGGACGCTCACCCTAAGCTTCGACGCTATCGGACTTGTCACCATTGCAGGAAGGACTTAAAGAACAATTCACCCGGCCTAGAAGTTTTCAAAACAGAGCCCGAGCACATTAATTTGATGGAACTACTCTGTCTAGACATCGATGTGCGGCTCTCTAATACCGCTAGCGCTGATGCAAACACGCACAATCCGACAACCAAGGCTCCATTGTTTGTTGCGATCATTTCACCGTCTTTCCTGCTCGTCAAAAAGCATACGCACAATATGTGATTGGTAGCAACATGGTTAAGCTCAGACCAAAGATTCGTGAAAATGCTTTCATACCCACTGGCGCCATTGGAGCCGGAAGCCACAGTGGTCTCAAGCCGTCCGTTCGACTACCAAAAGCTTACGCTCCATGTTACGGATACTGTACAAAAAGCAAGGGATTGGCCTCGAGGATCACGTATTTTTCTCACTCTGGAATAAAGTCAGGGATAGAAACCGCTTACGAATCCGATTGGAATTCCGTGTTTACTCTGGCTCCGTCCTGCGCTAATCCATTGGCTTGGCGTAGTACGGCGTCGGATTCTTTATCGACAGTAGGGGGAACCTCGGTTTCTAGGTATGTGAGTTAGTTAATGCGTGGAGCCAAGCTTCCGGACGACCGTAATGAATTGAAGGGCAGTAGGCCAAACGTCCAATTATATGGCTTCCCGGGATTTTG',\n",
    "'Rosalind_9164':'ATCATGGAGACCGAGGGCTGGTTATGACCGCCCCCATTGAAAGCGGTTTATCTCAACAATCCTGCGCGTTCCTCCTGGAGTTGTAGGGCGCATGGACGTATGCTGTCAATAAGTCGCCGCGGTAGCTTCCCTTCGGTCCAGACGGATATATCTGGTAAATGATCGGCTGGTACCCGCAGCCAGACACTGTGTTCACGACCACGGCAGCGGTGTCGTGGTCCCGTTTGATACATTGTGGGGATAGCCCCACGCAGGGGCCACCGCACGTAACCGTAAGTTGACAGGGCGCCAGACGGGTCTTCTCCGTTATAGAGATCGACCGTCAACCACCATCGCGAAGAGCCAGTTGGTCCATAAGGGTAGGGTATTGTATAATGCTAGTCCTATGATTTCCTTCTACGAAAATTTATCATAAGATACGTCGTACCTAACCTGACAACAATAATTCATCATAAAAGCCCGCACCGCAGAACGTATGTCTATACGCACTTCAACCTGAACCATCCCACTGTCCTATCCGTTGAGGGATTTGCTAAGTGAACACGATTTTACTGATTCAGAAATCATGGTTCTTATGCCTTACTCACCTCTCTTTGGGTCGAGATGAACTCGAGCAATCCGAGCAGCTAGCACGATGCGCAGCAGCAAGGTACTTCATAGATGGAGTTTTGCGAAGAGTTCAGCTCTCCAACTGTCATCTGTCCACTGCTCAATAAGTAGACCTTACCTCACCCCAAGCTGCAATGTTCGACTGCCGATGGCACTGCTGTTCTTCCCAGAGCTGTCAGTAACATCACCTAGGCTAACTCTGGACACCTACAGCGCAATACACCAGGGACTTGCA',\n",
    "'Rosalind_2451':\n",
    "'ACACCGCTCAAGACTCGAGAGAAATCTTTGGCGACGTTGGCCAGCACCAGTCTTAATGATCAGCGTGTTTCCAACGTACCTGGACAATGTAGTACCGCTCCCACGATCTGTATCACATTCGAGACAAAGATGTGGATATCATAGTCGAATCTGACTTTAATTCGTGAGTGTTAAGCCGCGTCGATTACCACTACAGATCAAGGACGGAAGAAGAGGTGCTCCAGACTTATCATCCGGTTACGCTCATACTCACAGCCAGCAAATCCCACGGGAAGATGCGATTGAGCTCGACGCCTTGGCGCGATCCCGAATTGCGCTCATGCTCTGTATCTTGTAAGTGACAACCTTTAGGCCGGTTCAGAATTCCCCAGTACTCTGCATGCTCCCCCATGCGTCGGATCTTGGTTCTACTAACAGATAGTATAAACCAAGTGGACTATCCACTCTTTTTTGGCCTTTTTTACTCCAAGTATCCTCCGGATTTGGGACGCAAACTCATCAGGTACTGGAGTGTCGGTGAGGGGGTAGGTTGAATGAACCTTGAGAAGCGGCGCGACCATTGGGCAATTCCGCCCAACGCCCTCACATAGATCCAACTTCGCGCGCAAACCCCGTACGGCACCAATCAGAACAAAATCAGGTCCAGGAGTAGGATCCCCAGAGACTCCACCTGCCGATTGCAGGGCGTTGTTAGATGGTAGCTCTTAGTGAAACCAATTTCGTGGAATCGTATGCCATCTTGGCACGTTGGAAGATGGCATCCACTGGCCAATCAAATTTGACCGGGCAAAACCGGCTACACGCGGTGGGTAGGCCAGGGGGTTCGTTTGAGGGGGGT',\n",
    "'Rosalind_6889':\n",
    "'CCTACTCCAGCTACCGGGTCCACCATGTGGATGTCATGCTCACCGCTCATGGAAGCCTTGTACACCTGGGTCTGAGCTGAGCCCTTCTACAATATGTCACATGGCTACATGCTCCTTGCTGCACTGCAGTTCAGGATATATCCTAACAGAGGGCCCACACATATTCAAAGGTATAAGGACGCGTTAGATGTGGTGTCGCCAACCGCCGTTGGCACTCTCACCGACGTCTAGGACAGTCAAACTGGTTGCGCGGAGGGGATGCAGGCGGTCGCAAAGGTTAGGTGGCAGCCGTCGAGAAAGCAAAACATTGAGGGGATGTACTGAGTCGCCTACTATAATGCAGATACGAAGTATTTCAGGAAGTGATGCACAGGTGGAAAGCCGACGCGGCAGATAGAGAGCGTCGCCTACAAAACAAGGGCTAAGGGGCGCGGCTAGTAATGTCTTCTAGGTCAACAACGGATTAGGCATCAGATGCCCTTGCGGATCTAGTCGATATCCCGCCCTGAGTTAGTACCATTGATCTTAGTGATGCATAGCGAGCCAGGCACAGGTTAGCGGAGAAAGAAACCCAAGATCGAAAGGTCACGACCTCTTCCACTGTTCTATGGGTCCCTTGCGTTCAACTCGGAGCAGATGTTTAGATTCCAAATTTGTCTGTTGGTCGAACCGCTGGGCAGGGTCTACCCAATCGGCTGCCATCTTTGAGGAATACATGAAACGCCCCCCCCTCAACACGTAGGCTATGAGCTTATTGTGTTTATTTGCGGACTGGAATGTAGTCCTTCCCTTTTAAGTCCCTGCACATCTAGGTCGAAATTCTCCCCTTTGTCCTATTGGTGCTGGAGCAGTAATGCTGGTGGCTTCCA'\n",
    "}\n",
    "temp_dict = {}\n",
    "new_dict = {}\n",
    "    \n",
    "for i, (k,v) in enumerate(my_dict.items()):\n",
    "\n",
    "    for letter in v:\n",
    "\n",
    "        if letter in temp_dict.keys():\n",
    "            temp_dict[letter]+= 1\n",
    "        else:  \n",
    "            temp_dict[letter]= 1\n",
    "        \n",
    "    new_dict[k] = ((temp_dict['C'] + temp_dict['G']) / (temp_dict['A'] + temp_dict['C'] + temp_dict['G'] + temp_dict['T']))\n",
    "\n",
    "# print(max(new_dict.values()))\n",
    " \n",
    "new_vals=list(new_dict.values())\n",
    "new_keys=list(new_dict.keys())\n",
    "print(new_keys[new_vals.index(max(new_vals))], new_dict[new_keys[new_vals.index(max(new_vals))]])\n"
   ]
  },
  {
   "cell_type": "code",
   "execution_count": 221,
   "metadata": {},
   "outputs": [],
   "source": [
    "def fib(n):\n",
    "    if(n<2):\n",
    "        return n\n",
    "    else:\n",
    "        return fib(n-1) + fib(n-2)"
   ]
  },
  {
   "cell_type": "code",
   "execution_count": 223,
   "metadata": {},
   "outputs": [
    {
     "data": {
      "text/plain": [
       "17711"
      ]
     },
     "execution_count": 223,
     "metadata": {},
     "output_type": "execute_result"
    }
   ],
   "source": [
    "fib(22)"
   ]
  },
  {
   "cell_type": "code",
   "execution_count": 232,
   "metadata": {},
   "outputs": [
    {
     "name": "stdout",
     "output_type": "stream",
     "text": [
      "222 211 230 217\n"
     ]
    }
   ],
   "source": [
    "my_str = 'ATCGCACTAAGCTCTTGGGCGACTGGGCCGTACAAGTACTTAATAGTGCTGGTCCTGACTCCTCGAAACAATTGGCTTGGTTACTGTGCGCGAAGACAAGGACCCTGCGCGAGACTGTACGGACTCATTCTACCGCCACCTCCACCAACCTGTGGCCTGTCTTTCTAAGATTTCGCTGGAAAACCCGGTATGCCATAGTCTTGGACCGTTCTGAACTAATTGCTCATGGATATGAACGAGTGACTCAACAGGGCGATAGTAATTACCAGTTAGAGGATTTAGCGGAACGCCCAGCAACACGACTGGGCCCGTTCGGTAAAGTCCGCAAATGTGTATACGTAATTCACCCGGGTAACGCGGAGATGTCGAGATGACTTGCAGGACCGGTTAGCATAGCTACCGATCTAAAACTGCATTCCCCTGAGGTCCATGACATGCTGCCCGTCTGGTAGTCTAGCCGCGTACCCTGGCAAGTTCAGGGTTCTGGAAGAAACAGAACCCAATTCCGATTTAGCTACGGCCTAGTCTTGAGATCCCACCGGATTAATCAGAGCTGGCATCGGTTCACATTCAAAAACGGGGCTAAAAATCCACGTCTACATATCAATTTTCTTATTTACTTGACACCCGGGAGGCTCAAGGGGGGAGACTCTATTTTACCTTTTCGGTAATAAGCTGAGATGGCTGGCGGTTCTAGGAGCTTAATTTGATCTTTGGACTCTAGGATCTTACTTGGGGGGCCGGGGACATACTTATGAAGCTGGGCGCCTAAAGCAAGGCTTAGGGTACCGGTCGGGGCGATTAATGGCGGGAGGAGAGGGCTTAAAGACAGCAATTCGATACATGAATCGCCCAAGGAGTGCTCTCTTCTACATTAGTA'\n",
    "my_dict = {}\n",
    "\n",
    "for letter in my_str:\n",
    "    if letter in my_dict.keys():\n",
    "        my_dict[letter]+= 1\n",
    "    else: \n",
    "        my_dict[letter]= 1\n",
    "    \n",
    "print('{0} {1} {2} {3}'.format(my_dict['A'], my_dict['C'], my_dict['G'], my_dict['T']))\n"
   ]
  },
  {
   "cell_type": "code",
   "execution_count": 3,
   "metadata": {},
   "outputs": [],
   "source": [
    "with open('rosalind_gc.txt') as f:\n",
    "    content = f.readlines()"
   ]
  },
  {
   "cell_type": "code",
   "execution_count": 4,
   "metadata": {},
   "outputs": [
    {
     "data": {
      "text/plain": [
       "['>Rosalind_3421\\n',\n",
       " 'GATAATTACTGTGTAATAGTAGCATGTTTGGCCCCAGATTCGCTCAGCTTCGCTATTATA\\n',\n",
       " 'TCAGCAATGGCCAATAATCGACCTAGGGACATCGTACAGACCCTCTGTTCCATTCATAAT\\n',\n",
       " 'TGGACATCCTCGCGGCTTAGCACTTGTACCGCCACAATCTAGAGGGCCTTAAGTAGCTAC\\n',\n",
       " 'CGTGCACGTAGCATGGGCTACGCCGAAGGTCATAAAGTATTTAATGTTGCGTACTCTCGA\\n',\n",
       " 'TCAGCCCAGTTTTTTGGACTTCACTAACGTTCCGAACCTCGTTATCGCCAAAGAACTTTA\\n',\n",
       " 'CTAACTCGCCGAGGTTCGCCCTTTTTCGGAAACGATAAAGACGGTACGACATACTAGGCG\\n',\n",
       " 'GGGCGCAGGTCTCGGAAGCCAGAATGCTGCGAGGGTCTGGAGGTATGTGGTCGATCACCA\\n',\n",
       " 'TTAGCCAAGAAACCTGTCGGCGGACGGGTCGTAGAAGGGTACCACGCACCCCGTCCTTGA\\n',\n",
       " 'GGGTTTACTCCGTAATTTGGTATTATTAGGTCTCCACCAGGATGCCCCCTTAGAGCCTCC\\n',\n",
       " 'CGGCGGCGATTAATAAGCCTACAGCGTCTACCTACAGGTCATGCAGTGGGGCGCAGTTCA\\n',\n",
       " 'CCTTCGAGATGTGGTACGGGATCCAGTCTGGCCGTTAGACATAGATACAAATTCCTTCCA\\n',\n",
       " 'CGGCCACGACCGCCATGGATATACCAGATGAGTGCTTGGTGAGTTTATCTTCGGCGCTTA\\n',\n",
       " 'GTGAAGTTTTCTTACACGGGTGACTTATACCCTGAAGACAGATCACCGCATTCACTGCTG\\n',\n",
       " 'GCCTGACGCCTAATCTTAATCATC\\n',\n",
       " '>Rosalind_5402\\n',\n",
       " 'CGCTGCGACGTTGGCAGACTTCTGGAAGTTCGGTTCAACACTGAAATACATCATGGGCTC\\n',\n",
       " 'GATGGACGTGCTCCCAAGAATCCGCAGCTGCTAAGTCGACGCTCGGATAACAGCTGGAGC\\n',\n",
       " 'ATGATAACTCTTTATCGTCACGACCGGCTACTGCAAACAAGGTATCCGAGGATGGATCCC\\n',\n",
       " 'AAGACCGAACCCCAGTAGGTCAGCAAGATCCCCTAGGCCTGTGTCAACCAAGGAAAGTAT\\n',\n",
       " 'TCTCTGTCAGTCCCAACCCGCTAAGCCCTCTAGGACTCTAAGGATAATACGACCTCTTAC\\n',\n",
       " 'GTTGGGGAACACTCGTTCGCGATTTCCCGGAGCAAGCTGTGGGTGGACGTTTGAAATGTA\\n',\n",
       " 'CGACTTCGATGCGAGTACGAGCGAACGAAAGTGTTTATGCTCGTCCGTCCCGGATGTCTG\\n',\n",
       " 'GGACATCCAGCGACAGTTGTACATGTGATTTCGGTTCGTCCGAAGAAACACTCGGGGGCC\\n',\n",
       " 'AGGAAGCCTCACGCTACTTGGCGCGGACTCCGAAGCGGAGAATCCCGGGGTTAAAATACG\\n',\n",
       " 'CCTGCCACTACCCGCGGTCATGATGATCGAGACTCTTCCCAGACTAACCGCTCAGTATTG\\n',\n",
       " 'GTCACTTCGTGGTCGCGTTCCCCGCATTCCTTTAGCATCGGTGTTTGAAATTGCAGTCCT\\n',\n",
       " 'ACGCCACGTCCAAGTATGAAAAATAAAAGATAACTACTGGGATTCATACCAACCGGGAAC\\n',\n",
       " 'CCGGTCCCCGTTCCTACTGTTATACTTCCGCCATGCCACGTCAGCCTACTAACACATGGG\\n',\n",
       " 'AGGCATTGTACCGTTATTCTAATTTCCCCCCAGAGTGAGCTTGTACTCCGACCAGTCATA\\n',\n",
       " 'TTAAGATATGCTGCCGACTGAACCTAGTGTCTGCACGAGGATGAATCAAGCCAACCAGAT\\n',\n",
       " 'ATAAGGATGTCGAAGTGGCTCGGTATTGAATATTAAAGCAGAAGTACGTGATTGGACGCC\\n',\n",
       " 'AGCGTTGATGCCGAGTCCGTAAGTTCA\\n',\n",
       " '>Rosalind_6819\\n',\n",
       " 'GTGTTCGGATGCTTCTCTGCGTTATCCCCATCGTGACTGCGTAGCTCTCAACGGTAAGGA\\n',\n",
       " 'CGAGGGACCGGGCCGGACGAAAGAACGGACACCATGCTAATTTTGATTTTTCTTGCCTTT\\n',\n",
       " 'CCGGAGGACCCGCCTCCGTACCTACCACCGAAGAACTGAGGAGCTTATTTAACCGTGTAC\\n',\n",
       " 'GTAGTGCGGGACGCTCACCCTAAGCTTCGACGCTATCGGACTTGTCACCATTGCAGGAAG\\n',\n",
       " 'GACTTAAAGAACAATTCACCCGGCCTAGAAGTTTTCAAAACAGAGCCCGAGCACATTAAT\\n',\n",
       " 'TTGATGGAACTACTCTGTCTAGACATCGATGTGCGGCTCTCTAATACCGCTAGCGCTGAT\\n',\n",
       " 'GCAAACACGCACAATCCGACAACCAAGGCTCCATTGTTTGTTGCGATCATTTCACCGTCT\\n',\n",
       " 'TTCCTGCTCGTCAAAAAGCATACGCACAATATGTGATTGGTAGCAACATGGTTAAGCTCA\\n',\n",
       " 'GACCAAAGATTCGTGAAAATGCTTTCATACCCACTGGCGCCATTGGAGCCGGAAGCCACA\\n',\n",
       " 'GTGGTCTCAAGCCGTCCGTTCGACTACCAAAAGCTTACGCTCCATGTTACGGATACTGTA\\n',\n",
       " 'CAAAAAGCAAGGGATTGGCCTCGAGGATCACGTATTTTTCTCACTCTGGAATAAAGTCAG\\n',\n",
       " 'GGATAGAAACCGCTTACGAATCCGATTGGAATTCCGTGTTTACTCTGGCTCCGTCCTGCG\\n',\n",
       " 'CTAATCCATTGGCTTGGCGTAGTACGGCGTCGGATTCTTTATCGACAGTAGGGGGAACCT\\n',\n",
       " 'CGGTTTCTAGGTATGTGAGTTAGTTAATGCGTGGAGCCAAGCTTCCGGACGACCGTAATG\\n',\n",
       " 'AATTGAAGGGCAGTAGGCCAAACGTCCAATTATATGGCTTCCCGGGATTTTG\\n',\n",
       " '>Rosalind_9164\\n',\n",
       " 'ATCATGGAGACCGAGGGCTGGTTATGACCGCCCCCATTGAAAGCGGTTTATCTCAACAAT\\n',\n",
       " 'CCTGCGCGTTCCTCCTGGAGTTGTAGGGCGCATGGACGTATGCTGTCAATAAGTCGCCGC\\n',\n",
       " 'GGTAGCTTCCCTTCGGTCCAGACGGATATATCTGGTAAATGATCGGCTGGTACCCGCAGC\\n',\n",
       " 'CAGACACTGTGTTCACGACCACGGCAGCGGTGTCGTGGTCCCGTTTGATACATTGTGGGG\\n',\n",
       " 'ATAGCCCCACGCAGGGGCCACCGCACGTAACCGTAAGTTGACAGGGCGCCAGACGGGTCT\\n',\n",
       " 'TCTCCGTTATAGAGATCGACCGTCAACCACCATCGCGAAGAGCCAGTTGGTCCATAAGGG\\n',\n",
       " 'TAGGGTATTGTATAATGCTAGTCCTATGATTTCCTTCTACGAAAATTTATCATAAGATAC\\n',\n",
       " 'GTCGTACCTAACCTGACAACAATAATTCATCATAAAAGCCCGCACCGCAGAACGTATGTC\\n',\n",
       " 'TATACGCACTTCAACCTGAACCATCCCACTGTCCTATCCGTTGAGGGATTTGCTAAGTGA\\n',\n",
       " 'ACACGATTTTACTGATTCAGAAATCATGGTTCTTATGCCTTACTCACCTCTCTTTGGGTC\\n',\n",
       " 'GAGATGAACTCGAGCAATCCGAGCAGCTAGCACGATGCGCAGCAGCAAGGTACTTCATAG\\n',\n",
       " 'ATGGAGTTTTGCGAAGAGTTCAGCTCTCCAACTGTCATCTGTCCACTGCTCAATAAGTAG\\n',\n",
       " 'ACCTTACCTCACCCCAAGCTGCAATGTTCGACTGCCGATGGCACTGCTGTTCTTCCCAGA\\n',\n",
       " 'GCTGTCAGTAACATCACCTAGGCTAACTCTGGACACCTACAGCGCAATACACCAGGGACT\\n',\n",
       " 'TGCA\\n',\n",
       " '>Rosalind_2451\\n',\n",
       " 'ACACCGCTCAAGACTCGAGAGAAATCTTTGGCGACGTTGGCCAGCACCAGTCTTAATGAT\\n',\n",
       " 'CAGCGTGTTTCCAACGTACCTGGACAATGTAGTACCGCTCCCACGATCTGTATCACATTC\\n',\n",
       " 'GAGACAAAGATGTGGATATCATAGTCGAATCTGACTTTAATTCGTGAGTGTTAAGCCGCG\\n',\n",
       " 'TCGATTACCACTACAGATCAAGGACGGAAGAAGAGGTGCTCCAGACTTATCATCCGGTTA\\n',\n",
       " 'CGCTCATACTCACAGCCAGCAAATCCCACGGGAAGATGCGATTGAGCTCGACGCCTTGGC\\n',\n",
       " 'GCGATCCCGAATTGCGCTCATGCTCTGTATCTTGTAAGTGACAACCTTTAGGCCGGTTCA\\n',\n",
       " 'GAATTCCCCAGTACTCTGCATGCTCCCCCATGCGTCGGATCTTGGTTCTACTAACAGATA\\n',\n",
       " 'GTATAAACCAAGTGGACTATCCACTCTTTTTTGGCCTTTTTTACTCCAAGTATCCTCCGG\\n',\n",
       " 'ATTTGGGACGCAAACTCATCAGGTACTGGAGTGTCGGTGAGGGGGTAGGTTGAATGAACC\\n',\n",
       " 'TTGAGAAGCGGCGCGACCATTGGGCAATTCCGCCCAACGCCCTCACATAGATCCAACTTC\\n',\n",
       " 'GCGCGCAAACCCCGTACGGCACCAATCAGAACAAAATCAGGTCCAGGAGTAGGATCCCCA\\n',\n",
       " 'GAGACTCCACCTGCCGATTGCAGGGCGTTGTTAGATGGTAGCTCTTAGTGAAACCAATTT\\n',\n",
       " 'CGTGGAATCGTATGCCATCTTGGCACGTTGGAAGATGGCATCCACTGGCCAATCAAATTT\\n',\n",
       " 'GACCGGGCAAAACCGGCTACACGCGGTGGGTAGGCCAGGGGGTTCGTTTGAGGGGGGT\\n',\n",
       " '>Rosalind_6889\\n',\n",
       " 'CCTACTCCAGCTACCGGGTCCACCATGTGGATGTCATGCTCACCGCTCATGGAAGCCTTG\\n',\n",
       " 'TACACCTGGGTCTGAGCTGAGCCCTTCTACAATATGTCACATGGCTACATGCTCCTTGCT\\n',\n",
       " 'GCACTGCAGTTCAGGATATATCCTAACAGAGGGCCCACACATATTCAAAGGTATAAGGAC\\n',\n",
       " 'GCGTTAGATGTGGTGTCGCCAACCGCCGTTGGCACTCTCACCGACGTCTAGGACAGTCAA\\n',\n",
       " 'ACTGGTTGCGCGGAGGGGATGCAGGCGGTCGCAAAGGTTAGGTGGCAGCCGTCGAGAAAG\\n',\n",
       " 'CAAAACATTGAGGGGATGTACTGAGTCGCCTACTATAATGCAGATACGAAGTATTTCAGG\\n',\n",
       " 'AAGTGATGCACAGGTGGAAAGCCGACGCGGCAGATAGAGAGCGTCGCCTACAAAACAAGG\\n',\n",
       " 'GCTAAGGGGCGCGGCTAGTAATGTCTTCTAGGTCAACAACGGATTAGGCATCAGATGCCC\\n',\n",
       " 'TTGCGGATCTAGTCGATATCCCGCCCTGAGTTAGTACCATTGATCTTAGTGATGCATAGC\\n',\n",
       " 'GAGCCAGGCACAGGTTAGCGGAGAAAGAAACCCAAGATCGAAAGGTCACGACCTCTTCCA\\n',\n",
       " 'CTGTTCTATGGGTCCCTTGCGTTCAACTCGGAGCAGATGTTTAGATTCCAAATTTGTCTG\\n',\n",
       " 'TTGGTCGAACCGCTGGGCAGGGTCTACCCAATCGGCTGCCATCTTTGAGGAATACATGAA\\n',\n",
       " 'ACGCCCCCCCCTCAACACGTAGGCTATGAGCTTATTGTGTTTATTTGCGGACTGGAATGT\\n',\n",
       " 'AGTCCTTCCCTTTTAAGTCCCTGCACATCTAGGTCGAAATTCTCCCCTTTGTCCTATTGG\\n',\n",
       " 'TGCTGGAGCAGTAATGCTGGTGGCTTCCA\\n']"
      ]
     },
     "execution_count": 4,
     "metadata": {},
     "output_type": "execute_result"
    }
   ],
   "source": [
    "content"
   ]
  },
  {
   "cell_type": "code",
   "execution_count": 5,
   "metadata": {},
   "outputs": [
    {
     "name": "stdout",
     "output_type": "stream",
     "text": [
      "['Rosalind_3421', 'Rosalind_5402', 'Rosalind_6819', 'Rosalind_9164', 'Rosalind_2451', 'Rosalind_6889']\n",
      "['GATAATTACTGTGTAATAGTAGCATGTTTGGCCCCAGATTCGCTCAGCTTCGCTATTATA', 'TCAGCAATGGCCAATAATCGACCTAGGGACATCGTACAGACCCTCTGTTCCATTCATAAT', 'TGGACATCCTCGCGGCTTAGCACTTGTACCGCCACAATCTAGAGGGCCTTAAGTAGCTAC', 'CGTGCACGTAGCATGGGCTACGCCGAAGGTCATAAAGTATTTAATGTTGCGTACTCTCGA', 'TCAGCCCAGTTTTTTGGACTTCACTAACGTTCCGAACCTCGTTATCGCCAAAGAACTTTA', 'CTAACTCGCCGAGGTTCGCCCTTTTTCGGAAACGATAAAGACGGTACGACATACTAGGCG', 'GGGCGCAGGTCTCGGAAGCCAGAATGCTGCGAGGGTCTGGAGGTATGTGGTCGATCACCA', 'TTAGCCAAGAAACCTGTCGGCGGACGGGTCGTAGAAGGGTACCACGCACCCCGTCCTTGA', 'GGGTTTACTCCGTAATTTGGTATTATTAGGTCTCCACCAGGATGCCCCCTTAGAGCCTCC', 'CGGCGGCGATTAATAAGCCTACAGCGTCTACCTACAGGTCATGCAGTGGGGCGCAGTTCA', 'CCTTCGAGATGTGGTACGGGATCCAGTCTGGCCGTTAGACATAGATACAAATTCCTTCCA', 'CGGCCACGACCGCCATGGATATACCAGATGAGTGCTTGGTGAGTTTATCTTCGGCGCTTA', 'GTGAAGTTTTCTTACACGGGTGACTTATACCCTGAAGACAGATCACCGCATTCACTGCTG', 'GCCTGACGCCTAATCTTAATCATC', 'CGCTGCGACGTTGGCAGACTTCTGGAAGTTCGGTTCAACACTGAAATACATCATGGGCTC', 'GATGGACGTGCTCCCAAGAATCCGCAGCTGCTAAGTCGACGCTCGGATAACAGCTGGAGC', 'ATGATAACTCTTTATCGTCACGACCGGCTACTGCAAACAAGGTATCCGAGGATGGATCCC', 'AAGACCGAACCCCAGTAGGTCAGCAAGATCCCCTAGGCCTGTGTCAACCAAGGAAAGTAT', 'TCTCTGTCAGTCCCAACCCGCTAAGCCCTCTAGGACTCTAAGGATAATACGACCTCTTAC', 'GTTGGGGAACACTCGTTCGCGATTTCCCGGAGCAAGCTGTGGGTGGACGTTTGAAATGTA', 'CGACTTCGATGCGAGTACGAGCGAACGAAAGTGTTTATGCTCGTCCGTCCCGGATGTCTG', 'GGACATCCAGCGACAGTTGTACATGTGATTTCGGTTCGTCCGAAGAAACACTCGGGGGCC', 'AGGAAGCCTCACGCTACTTGGCGCGGACTCCGAAGCGGAGAATCCCGGGGTTAAAATACG', 'CCTGCCACTACCCGCGGTCATGATGATCGAGACTCTTCCCAGACTAACCGCTCAGTATTG', 'GTCACTTCGTGGTCGCGTTCCCCGCATTCCTTTAGCATCGGTGTTTGAAATTGCAGTCCT', 'ACGCCACGTCCAAGTATGAAAAATAAAAGATAACTACTGGGATTCATACCAACCGGGAAC', 'CCGGTCCCCGTTCCTACTGTTATACTTCCGCCATGCCACGTCAGCCTACTAACACATGGG', 'AGGCATTGTACCGTTATTCTAATTTCCCCCCAGAGTGAGCTTGTACTCCGACCAGTCATA', 'TTAAGATATGCTGCCGACTGAACCTAGTGTCTGCACGAGGATGAATCAAGCCAACCAGAT', 'ATAAGGATGTCGAAGTGGCTCGGTATTGAATATTAAAGCAGAAGTACGTGATTGGACGCC', 'AGCGTTGATGCCGAGTCCGTAAGTTCA', 'GTGTTCGGATGCTTCTCTGCGTTATCCCCATCGTGACTGCGTAGCTCTCAACGGTAAGGA', 'CGAGGGACCGGGCCGGACGAAAGAACGGACACCATGCTAATTTTGATTTTTCTTGCCTTT', 'CCGGAGGACCCGCCTCCGTACCTACCACCGAAGAACTGAGGAGCTTATTTAACCGTGTAC', 'GTAGTGCGGGACGCTCACCCTAAGCTTCGACGCTATCGGACTTGTCACCATTGCAGGAAG', 'GACTTAAAGAACAATTCACCCGGCCTAGAAGTTTTCAAAACAGAGCCCGAGCACATTAAT', 'TTGATGGAACTACTCTGTCTAGACATCGATGTGCGGCTCTCTAATACCGCTAGCGCTGAT', 'GCAAACACGCACAATCCGACAACCAAGGCTCCATTGTTTGTTGCGATCATTTCACCGTCT', 'TTCCTGCTCGTCAAAAAGCATACGCACAATATGTGATTGGTAGCAACATGGTTAAGCTCA', 'GACCAAAGATTCGTGAAAATGCTTTCATACCCACTGGCGCCATTGGAGCCGGAAGCCACA', 'GTGGTCTCAAGCCGTCCGTTCGACTACCAAAAGCTTACGCTCCATGTTACGGATACTGTA', 'CAAAAAGCAAGGGATTGGCCTCGAGGATCACGTATTTTTCTCACTCTGGAATAAAGTCAG', 'GGATAGAAACCGCTTACGAATCCGATTGGAATTCCGTGTTTACTCTGGCTCCGTCCTGCG', 'CTAATCCATTGGCTTGGCGTAGTACGGCGTCGGATTCTTTATCGACAGTAGGGGGAACCT', 'CGGTTTCTAGGTATGTGAGTTAGTTAATGCGTGGAGCCAAGCTTCCGGACGACCGTAATG', 'AATTGAAGGGCAGTAGGCCAAACGTCCAATTATATGGCTTCCCGGGATTTTG', 'ATCATGGAGACCGAGGGCTGGTTATGACCGCCCCCATTGAAAGCGGTTTATCTCAACAAT', 'CCTGCGCGTTCCTCCTGGAGTTGTAGGGCGCATGGACGTATGCTGTCAATAAGTCGCCGC', 'GGTAGCTTCCCTTCGGTCCAGACGGATATATCTGGTAAATGATCGGCTGGTACCCGCAGC', 'CAGACACTGTGTTCACGACCACGGCAGCGGTGTCGTGGTCCCGTTTGATACATTGTGGGG', 'ATAGCCCCACGCAGGGGCCACCGCACGTAACCGTAAGTTGACAGGGCGCCAGACGGGTCT', 'TCTCCGTTATAGAGATCGACCGTCAACCACCATCGCGAAGAGCCAGTTGGTCCATAAGGG', 'TAGGGTATTGTATAATGCTAGTCCTATGATTTCCTTCTACGAAAATTTATCATAAGATAC', 'GTCGTACCTAACCTGACAACAATAATTCATCATAAAAGCCCGCACCGCAGAACGTATGTC', 'TATACGCACTTCAACCTGAACCATCCCACTGTCCTATCCGTTGAGGGATTTGCTAAGTGA', 'ACACGATTTTACTGATTCAGAAATCATGGTTCTTATGCCTTACTCACCTCTCTTTGGGTC', 'GAGATGAACTCGAGCAATCCGAGCAGCTAGCACGATGCGCAGCAGCAAGGTACTTCATAG', 'ATGGAGTTTTGCGAAGAGTTCAGCTCTCCAACTGTCATCTGTCCACTGCTCAATAAGTAG', 'ACCTTACCTCACCCCAAGCTGCAATGTTCGACTGCCGATGGCACTGCTGTTCTTCCCAGA', 'GCTGTCAGTAACATCACCTAGGCTAACTCTGGACACCTACAGCGCAATACACCAGGGACT', 'TGCA', 'ACACCGCTCAAGACTCGAGAGAAATCTTTGGCGACGTTGGCCAGCACCAGTCTTAATGAT', 'CAGCGTGTTTCCAACGTACCTGGACAATGTAGTACCGCTCCCACGATCTGTATCACATTC', 'GAGACAAAGATGTGGATATCATAGTCGAATCTGACTTTAATTCGTGAGTGTTAAGCCGCG', 'TCGATTACCACTACAGATCAAGGACGGAAGAAGAGGTGCTCCAGACTTATCATCCGGTTA', 'CGCTCATACTCACAGCCAGCAAATCCCACGGGAAGATGCGATTGAGCTCGACGCCTTGGC', 'GCGATCCCGAATTGCGCTCATGCTCTGTATCTTGTAAGTGACAACCTTTAGGCCGGTTCA', 'GAATTCCCCAGTACTCTGCATGCTCCCCCATGCGTCGGATCTTGGTTCTACTAACAGATA', 'GTATAAACCAAGTGGACTATCCACTCTTTTTTGGCCTTTTTTACTCCAAGTATCCTCCGG', 'ATTTGGGACGCAAACTCATCAGGTACTGGAGTGTCGGTGAGGGGGTAGGTTGAATGAACC', 'TTGAGAAGCGGCGCGACCATTGGGCAATTCCGCCCAACGCCCTCACATAGATCCAACTTC', 'GCGCGCAAACCCCGTACGGCACCAATCAGAACAAAATCAGGTCCAGGAGTAGGATCCCCA', 'GAGACTCCACCTGCCGATTGCAGGGCGTTGTTAGATGGTAGCTCTTAGTGAAACCAATTT', 'CGTGGAATCGTATGCCATCTTGGCACGTTGGAAGATGGCATCCACTGGCCAATCAAATTT', 'GACCGGGCAAAACCGGCTACACGCGGTGGGTAGGCCAGGGGGTTCGTTTGAGGGGGGT', 'CCTACTCCAGCTACCGGGTCCACCATGTGGATGTCATGCTCACCGCTCATGGAAGCCTTG', 'TACACCTGGGTCTGAGCTGAGCCCTTCTACAATATGTCACATGGCTACATGCTCCTTGCT', 'GCACTGCAGTTCAGGATATATCCTAACAGAGGGCCCACACATATTCAAAGGTATAAGGAC', 'GCGTTAGATGTGGTGTCGCCAACCGCCGTTGGCACTCTCACCGACGTCTAGGACAGTCAA', 'ACTGGTTGCGCGGAGGGGATGCAGGCGGTCGCAAAGGTTAGGTGGCAGCCGTCGAGAAAG', 'CAAAACATTGAGGGGATGTACTGAGTCGCCTACTATAATGCAGATACGAAGTATTTCAGG', 'AAGTGATGCACAGGTGGAAAGCCGACGCGGCAGATAGAGAGCGTCGCCTACAAAACAAGG', 'GCTAAGGGGCGCGGCTAGTAATGTCTTCTAGGTCAACAACGGATTAGGCATCAGATGCCC', 'TTGCGGATCTAGTCGATATCCCGCCCTGAGTTAGTACCATTGATCTTAGTGATGCATAGC', 'GAGCCAGGCACAGGTTAGCGGAGAAAGAAACCCAAGATCGAAAGGTCACGACCTCTTCCA', 'CTGTTCTATGGGTCCCTTGCGTTCAACTCGGAGCAGATGTTTAGATTCCAAATTTGTCTG', 'TTGGTCGAACCGCTGGGCAGGGTCTACCCAATCGGCTGCCATCTTTGAGGAATACATGAA', 'ACGCCCCCCCCTCAACACGTAGGCTATGAGCTTATTGTGTTTATTTGCGGACTGGAATGT', 'AGTCCTTCCCTTTTAAGTCCCTGCACATCTAGGTCGAAATTCTCCCCTTTGTCCTATTGG', 'TGCTGGAGCAGTAATGCTGGTGGCTTCCA']\n"
     ]
    }
   ],
   "source": [
    "stringy = ''\n",
    "empty = []\n",
    "keys = []\n",
    "new_dict = {}\n",
    "\n",
    "for line in content:\n",
    "#     while line != \">Rosalind_\":\n",
    "    if '>Rosalind' in line:\n",
    "# #         line.strip(\">\")\n",
    "        keys.append(line[1:14])\n",
    "    else:\n",
    "        empty.append(line.strip('>\\n,'))\n",
    "print(keys)\n",
    "print(empty)\n",
    "\n",
    "# NEED HELP PARSING OUT FASTA FILE\n",
    "# TO BE CONTINUED..."
   ]
  },
  {
   "cell_type": "code",
   "execution_count": null,
   "metadata": {},
   "outputs": [],
   "source": []
  }
 ],
 "metadata": {
  "kernelspec": {
   "display_name": "Python 3",
   "language": "python",
   "name": "python3"
  },
  "language_info": {
   "codemirror_mode": {
    "name": "ipython",
    "version": 3
   },
   "file_extension": ".py",
   "mimetype": "text/x-python",
   "name": "python",
   "nbconvert_exporter": "python",
   "pygments_lexer": "ipython3",
   "version": "3.7.4"
  }
 },
 "nbformat": 4,
 "nbformat_minor": 2
}
