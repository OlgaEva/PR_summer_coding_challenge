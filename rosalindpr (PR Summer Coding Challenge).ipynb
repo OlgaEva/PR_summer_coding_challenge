{
 "cells": [
  {
   "cell_type": "code",
   "execution_count": 1,
   "metadata": {},
   "outputs": [
    {
     "name": "stdout",
     "output_type": "stream",
     "text": [
      "The Zen of Python, by Tim Peters\n",
      "\n",
      "Beautiful is better than ugly.\n",
      "Explicit is better than implicit.\n",
      "Simple is better than complex.\n",
      "Complex is better than complicated.\n",
      "Flat is better than nested.\n",
      "Sparse is better than dense.\n",
      "Readability counts.\n",
      "Special cases aren't special enough to break the rules.\n",
      "Although practicality beats purity.\n",
      "Errors should never pass silently.\n",
      "Unless explicitly silenced.\n",
      "In the face of ambiguity, refuse the temptation to guess.\n",
      "There should be one-- and preferably only one --obvious way to do it.\n",
      "Although that way may not be obvious at first unless you're Dutch.\n",
      "Now is better than never.\n",
      "Although never is often better than *right* now.\n",
      "If the implementation is hard to explain, it's a bad idea.\n",
      "If the implementation is easy to explain, it may be a good idea.\n",
      "Namespaces are one honking great idea -- let's do more of those!\n"
     ]
    }
   ],
   "source": [
    "import this"
   ]
  },
  {
   "cell_type": "markdown",
   "metadata": {},
   "source": [
    "-----------\n",
    "Problem\n",
    "Given: Two positive integers a and b, each less than 1000.\n",
    "\n",
    "Return: The integer corresponding to the square of the hypotenuse of the right triangle whose legs have lengths a and b."
   ]
  },
  {
   "cell_type": "code",
   "execution_count": 3,
   "metadata": {},
   "outputs": [
    {
     "name": "stdout",
     "output_type": "stream",
     "text": [
      "1601064\n"
     ]
    }
   ],
   "source": [
    "a = 858\n",
    "b = 930\n",
    "print (a ** 2 + b ** 2)"
   ]
  },
  {
   "cell_type": "markdown",
   "metadata": {},
   "source": [
    "-----\n",
    "Problem\n",
    "Given: A string s of length at most 200 letters and four integers a, b, c and d.\n",
    "\n",
    "Return: The slice of this string from indices a through b and c through d (with space in between), inclusively. In other words, we should include elements s[b] and s[d] in our slice.\n",
    "\n",
    "Sample Dataset\n",
    "HumptyDumptysatonawallHumptyDumptyhadagreatfallAlltheKingshorsesandalltheKingsmenCouldntputHumptyDumptyinhisplaceagain.\n",
    "22 27 97 102\n",
    "Sample Output\n",
    "Humpty Dumpty"
   ]
  },
  {
   "cell_type": "code",
   "execution_count": 4,
   "metadata": {},
   "outputs": [
    {
     "name": "stdout",
     "output_type": "stream",
     "text": [
      "Heterodon calamita\n"
     ]
    }
   ],
   "source": [
    "my_string = \"6byWCpouqfQ44pKz624IHeterodonddXEXiosparQddb2Sg0Wp2mpF6xG6ZcRfWTaCuoLcu5xyDzoSKzCwHNFtGmqTWGY53ncalamitaREzZ4wmaC4ahjkWLoIZVdAGZAEDFtOl3ahzn9t7maKrl9YDPeAxNnLcI2AyIqfujZ8yQJiB1Gmg.\"\n",
    "a = 20\n",
    "b = 28\n",
    "c = 96\n",
    "d = 103\n",
    "print (my_string[20:29] + ' ' + my_string[96:104])"
   ]
  },
  {
   "cell_type": "markdown",
   "metadata": {},
   "source": [
    "------\n",
    "Problem\n",
    "Given: Two positive integers a and b (a<b<10000).\n",
    "\n",
    "Return: The sum of all odd integers from a through b, inclusively.\n",
    "\n",
    "Sample Dataset\n",
    "100 200\n",
    "Sample Output\n",
    "7500\n",
    "Hintclick to collapse\n",
    "You can use a % 2 == 1 to test if a is odd."
   ]
  },
  {
   "cell_type": "code",
   "execution_count": 16,
   "metadata": {},
   "outputs": [
    {
     "name": "stdout",
     "output_type": "stream",
     "text": [
      "14784957\n"
     ]
    }
   ],
   "source": [
    "counter = 0\n",
    "a = 4476\n",
    "b = 8897\n",
    "\n",
    "for num in range(a, b+1):\n",
    "    if(num % 2 == 1):\n",
    "        counter += num\n",
    "\n",
    "print(counter)\n",
    "        "
   ]
  },
  {
   "cell_type": "markdown",
   "metadata": {},
   "source": [
    "------\n",
    "Problem\n",
    "Given: A file containing at most 1000 lines.\n",
    "\n",
    "Return: A file containing all the even-numbered lines from the original file. Assume 1-based numbering of lines.\n",
    "\n",
    "Sample Dataset\n",
    "Bravely bold Sir Robin rode forth from Camelot\n",
    "Yes, brave Sir Robin turned about\n",
    "He was not afraid to die, O brave Sir Robin\n",
    "And gallantly he chickened out\n",
    "He was not at all afraid to be killed in nasty ways\n",
    "Bravely talking to his feet\n",
    "Brave, brave, brave, brave Sir Robin\n",
    "He beat a very brave retreat\n",
    "\n",
    "Sample Output\n",
    "Yes, brave Sir Robin turned about\n",
    "And gallantly he chickened out\n",
    "Bravely talking to his feet\n",
    "He beat a very brave retreat"
   ]
  },
  {
   "cell_type": "code",
   "execution_count": 37,
   "metadata": {},
   "outputs": [],
   "source": [
    "with open('rosalind_ini5.txt') as f:\n",
    "    content = f.readlines()"
   ]
  },
  {
   "cell_type": "code",
   "execution_count": 38,
   "metadata": {},
   "outputs": [
    {
     "data": {
      "text/plain": [
       "40"
      ]
     },
     "execution_count": 38,
     "metadata": {},
     "output_type": "execute_result"
    }
   ],
   "source": [
    "len(content)"
   ]
  },
  {
   "cell_type": "code",
   "execution_count": 39,
   "metadata": {},
   "outputs": [
    {
     "data": {
      "text/plain": [
       "['`Twas brillig, and the slithy toves\\n',\n",
       " 'Some things in life are bad, they can really make you mad\\n',\n",
       " '  Did gyre and gimble in the wabe:\\n',\n",
       " 'Other things just make you swear and curse\\n',\n",
       " 'All mimsy were the borogoves,\\n',\n",
       " \"When you're chewing on life's gristle, don't grumble give a whistle\\n\",\n",
       " '  And the mome raths outgrabe.\\n',\n",
       " 'This will help things turn out for the best\\n',\n",
       " '\"Beware the Jabberwock, my son!\\n',\n",
       " 'Always look on the bright side of life\\n',\n",
       " '  The jaws that bite, the claws that catch!\\n',\n",
       " 'Always look on the right side of life\\n',\n",
       " 'Beware the Jubjub bird, and shun\\n',\n",
       " \"If life seems jolly rotten, there's something you've forgotten\\n\",\n",
       " '  The frumious Bandersnatch!\"\\n',\n",
       " \"And that's to laugh and smile and dance and sing\\n\",\n",
       " 'He took his vorpal sword in hand:\\n',\n",
       " \"When you're feeling in the dumps, don't be silly, chumps\\n\",\n",
       " '  Long time the manxome foe he sought --\\n',\n",
       " \"Just purse your lips and whistle, that's the thing\\n\",\n",
       " 'So rested he by the Tumtum tree,\\n',\n",
       " 'So, always look on the bright side of death\\n',\n",
       " '  And stood awhile in thought.\\n',\n",
       " 'Just before you draw your terminal breath\\n',\n",
       " 'And, as in uffish thought he stood,\\n',\n",
       " \"Life's a counterfeit and when you look at it\\n\",\n",
       " '  The Jabberwock, with eyes of flame,\\n',\n",
       " \"Life's a laugh and death's the joke, it's true\\n\",\n",
       " 'Came whiffling through the tulgey wood,\\n',\n",
       " \"You see, it's all a show, keep them laughing as you go\\n\",\n",
       " '  And burbled as it came!\\n',\n",
       " 'Just remember the last laugh is on you\\n',\n",
       " 'One, two! One, two! And through and through\\n',\n",
       " 'Always look on the bright side of life\\n',\n",
       " '  The vorpal blade went snicker-snack!\\n',\n",
       " 'And always look on the right side of life\\n',\n",
       " 'He left it dead, and with its head\\n',\n",
       " 'Always look on the bright side of life\\n',\n",
       " '  He went galumphing back.\\n',\n",
       " 'And always look on the right side of life\\n']"
      ]
     },
     "execution_count": 39,
     "metadata": {},
     "output_type": "execute_result"
    }
   ],
   "source": [
    "content"
   ]
  },
  {
   "cell_type": "code",
   "execution_count": 48,
   "metadata": {},
   "outputs": [
    {
     "name": "stdout",
     "output_type": "stream",
     "text": [
      "Some things in life are bad, they can really make you mad\n",
      "\n",
      "Other things just make you swear and curse\n",
      "\n",
      "When you're chewing on life's gristle, don't grumble give a whistle\n",
      "\n",
      "This will help things turn out for the best\n",
      "\n",
      "Always look on the bright side of life\n",
      "\n",
      "Always look on the right side of life\n",
      "\n",
      "If life seems jolly rotten, there's something you've forgotten\n",
      "\n",
      "And that's to laugh and smile and dance and sing\n",
      "\n",
      "When you're feeling in the dumps, don't be silly, chumps\n",
      "\n",
      "Just purse your lips and whistle, that's the thing\n",
      "\n",
      "So, always look on the bright side of death\n",
      "\n",
      "Just before you draw your terminal breath\n",
      "\n",
      "Life's a counterfeit and when you look at it\n",
      "\n",
      "Life's a laugh and death's the joke, it's true\n",
      "\n",
      "You see, it's all a show, keep them laughing as you go\n",
      "\n",
      "Just remember the last laugh is on you\n",
      "\n",
      "Always look on the bright side of life\n",
      "\n",
      "And always look on the right side of life\n",
      "\n",
      "Always look on the bright side of life\n",
      "\n",
      "And always look on the right side of life\n",
      "\n"
     ]
    }
   ],
   "source": [
    "i = 1\n",
    "while i <= len(content):\n",
    "    print(content[i])\n",
    "    i = i + 2"
   ]
  },
  {
   "cell_type": "code",
   "execution_count": 68,
   "metadata": {},
   "outputs": [],
   "source": [
    "def charMap(string):\n",
    "  my_dict = {}\n",
    "\n",
    "  for word in string.split():\n",
    "    if word in my_dict.keys():\n",
    "      my_dict[word]+= 1\n",
    "    else: \n",
    "      my_dict[word]= 1\n",
    "    \n",
    "  return my_dict\n"
   ]
  },
  {
   "cell_type": "code",
   "execution_count": 63,
   "metadata": {},
   "outputs": [
    {
     "data": {
      "text/plain": [
       "{'We': 1,\n",
       " 'tried': 3,\n",
       " 'list': 1,\n",
       " 'and': 1,\n",
       " 'we': 2,\n",
       " 'dicts': 1,\n",
       " 'also': 1,\n",
       " 'Zen': 1}"
      ]
     },
     "execution_count": 63,
     "metadata": {},
     "output_type": "execute_result"
    }
   ],
   "source": [
    "charMap('We tried list and we tried dicts also we tried Zen')"
   ]
  },
  {
   "cell_type": "code",
   "execution_count": 73,
   "metadata": {},
   "outputs": [
    {
     "name": "stdout",
     "output_type": "stream",
     "text": [
      "We\n",
      "1\n",
      "tried\n",
      "3\n",
      "list\n",
      "1\n",
      "and\n",
      "1\n",
      "we\n",
      "2\n",
      "dicts\n",
      "1\n",
      "also\n",
      "1\n",
      "Zen\n",
      "1\n"
     ]
    }
   ],
   "source": [
    "my_dict = {}\n",
    "my_string = 'We tried list and we tried dicts also we tried Zen'\n",
    "\n",
    "for word in my_string.split():\n",
    "  if word in my_dict.keys():\n",
    "    my_dict[word]+= 1\n",
    "  else: \n",
    "    my_dict[word]= 1\n",
    "\n",
    "for key, value in my_dict.items():\n",
    "    print(key)\n",
    "    print(value)"
   ]
  },
  {
   "cell_type": "code",
   "execution_count": 74,
   "metadata": {},
   "outputs": [
    {
     "name": "stdout",
     "output_type": "stream",
     "text": [
      "When\n",
      "1\n",
      "I\n",
      "2\n",
      "find\n",
      "1\n",
      "myself\n",
      "1\n",
      "in\n",
      "4\n",
      "times\n",
      "1\n",
      "of\n",
      "11\n",
      "trouble\n",
      "1\n",
      "Mother\n",
      "2\n",
      "Mary\n",
      "2\n",
      "comes\n",
      "2\n",
      "to\n",
      "3\n",
      "me\n",
      "4\n",
      "Speaking\n",
      "3\n",
      "words\n",
      "7\n",
      "wisdom\n",
      "7\n",
      "let\n",
      "30\n",
      "it\n",
      "36\n",
      "be\n",
      "41\n",
      "And\n",
      "3\n",
      "my\n",
      "1\n",
      "hour\n",
      "1\n",
      "darkness\n",
      "1\n",
      "she\n",
      "1\n",
      "is\n",
      "4\n",
      "standing\n",
      "1\n",
      "right\n",
      "1\n",
      "front\n",
      "1\n",
      "Let\n",
      "6\n",
      "Whisper\n",
      "4\n",
      "when\n",
      "2\n",
      "the\n",
      "4\n",
      "broken\n",
      "1\n",
      "hearted\n",
      "1\n",
      "people\n",
      "1\n",
      "living\n",
      "1\n",
      "world\n",
      "1\n",
      "agree\n",
      "1\n",
      "There\n",
      "4\n",
      "will\n",
      "5\n",
      "an\n",
      "4\n",
      "answer\n",
      "4\n",
      "For\n",
      "1\n",
      "though\n",
      "1\n",
      "they\n",
      "2\n",
      "may\n",
      "1\n",
      "parted\n",
      "1\n",
      "there\n",
      "2\n",
      "still\n",
      "2\n",
      "a\n",
      "2\n",
      "chance\n",
      "1\n",
      "that\n",
      "2\n",
      "see\n",
      "1\n",
      "night\n",
      "1\n",
      "cloudy\n",
      "1\n",
      "light\n",
      "1\n",
      "shines\n",
      "1\n",
      "on\n",
      "1\n",
      "Shine\n",
      "1\n",
      "until\n",
      "1\n",
      "tomorrow\n",
      "1\n",
      "wake\n",
      "1\n",
      "up\n",
      "1\n",
      "sound\n",
      "1\n",
      "music\n",
      "1\n",
      "yeah\n",
      "2\n"
     ]
    }
   ],
   "source": [
    "my_string = 'When I find myself in times of trouble Mother Mary comes to me Speaking words of wisdom let it be And in my hour of darkness she is standing right in front of me Speaking words of wisdom let it be Let it be let it be let it be let it be Whisper words of wisdom let it be And when the broken hearted people living in the world agree There will be an answer let it be For though they may be parted there is still a chance that they will see There will be an answer let it be Let it be let it be let it be let it be There will be an answer let it be Let it be let it be let it be let it be Whisper words of wisdom let it be Let it be let it be let it be let it be Whisper words of wisdom let it be And when the night is cloudy there is still a light that shines on me Shine until tomorrow let it be I wake up to the sound of music Mother Mary comes to me Speaking words of wisdom let it be Let it be let it be let it be yeah let it be There will be an answer let it be Let it be let it be let it be yeah let it be Whisper words of wisdom let it be'\n",
    "my_dict = {}\n",
    "\n",
    "for word in my_string.split():\n",
    "    if word in my_dict.keys():\n",
    "        my_dict[word]+= 1\n",
    "    else: \n",
    "        my_dict[word]= 1\n",
    "\n",
    "for key, value in my_dict.items():\n",
    "    print(key)\n",
    "    print(value)"
   ]
  },
  {
   "cell_type": "markdown",
   "metadata": {},
   "source": [
    "-----------\n",
    "Problem\n",
    "A string is simply an ordered collection of symbols selected from some alphabet and formed into a word; the length of a string is the number of symbols that it contains.\n",
    "\n",
    "An example of a length 21 DNA string (whose alphabet contains the symbols 'A', 'C', 'G', and 'T') is \"ATGCTTCAGAAAGGTCTTACG.\"\n",
    "\n",
    "Given: A DNA string s of length at most 1000 nt.\n",
    "\n",
    "Return: Four integers (separated by spaces) counting the respective number of times that the symbols 'A', 'C', 'G', and 'T' occur in s.\n",
    "\n",
    "Sample Dataset\n",
    "AGCTTTTCATTCTGACTGCAACGGGCAATATGTCTCTGTGTGGATTAAAAAAAGAGTGTCTGATAGCAGC\n",
    "Sample Output\n",
    "20 12 17 21"
   ]
  },
  {
   "cell_type": "code",
   "execution_count": 96,
   "metadata": {},
   "outputs": [
    {
     "name": "stdout",
     "output_type": "stream",
     "text": [
      "20 12 17 21\n"
     ]
    }
   ],
   "source": [
    "my_dict = {}\n",
    "my_string = 'AGCTTTTCATTCTGACTGCAACGGGCAATATGTCTCTGTGTGGATTAAAAAAAGAGTGTCTGATAGCAGC'\n",
    "\n",
    "for letter in my_string:\n",
    "    if letter in my_dict.keys():\n",
    "        my_dict[letter]+= 1\n",
    "    else: \n",
    "        my_dict[letter]= 1\n",
    "    \n",
    "print('{0} {1} {2} {3}'.format(my_dict['A'], my_dict['C'], my_dict['G'], my_dict['T']))"
   ]
  },
  {
   "cell_type": "code",
   "execution_count": 98,
   "metadata": {},
   "outputs": [
    {
     "name": "stdout",
     "output_type": "stream",
     "text": [
      "262 235 241 252\n"
     ]
    }
   ],
   "source": [
    "my_dict = {}\n",
    "my_string = 'GACTATCATGACCGACTTCCGAAGCGCACACTCTTCTCGGCACCCGTCCTAGCCGATAGTAAAAGCTCTTACCATGATGGCAGCTAGACCTGCTATCCGGATAAACAACACTTAGGACGCCTTCTCCTAACTTTCGACGAGGTCAGGACCAACAGAGACTACAATTTGTCCTGTCTATTCGCAGTAAAACAATACAGGCGAGCGATGAATTCAGTGGCGGCTGCTTCCACCTGTGAGGGACTGTGGATTGCAGATTTATCCAGACTGCACGGCTCTTACTACTAGGAGAGGTAAAAATTATTTTGTCAAAGTAATTGGGAGCCCAAAGTCTTTGATATACCCGTACAACGATTCAGTGAGGTCCCTATTCATTTGTTTAGCATATTGAGTGTTATCCAGCGAACTCACTCTCTGGGATTCAGGAATTATGAGTGAAAGTCCCGTTCCGAAGTGACATCCACGGGTGATAGTCGTTCCGCTGAACCTCTATTCGTGTGAGCACGCATAGTCTACCCGAACACTAGCGGAGACATGTTATGTGTAGATGTCAGGGGACTGGTCTTTGACGATCTCAGGATCTCCGATTACTAGGATTAATGAAAGCATCTGACTCCTAAGCCCACTTGTACATCAGAGCCGTCTAGTTCGAGTAACGTCGCGTACAGTGCCCGTGTACCGAGGCCAGGCGGTGATATGAACTATGTGTGGTAATCAAGGTAGGGGTTCATCTCGATACGTCCCAGGCTGGCAAACACTCACCAATCTGGGGAGGTTGATAAGCCAAAGCGTCACTACAGAGCTCGGTTGGAACGAATCGCGGTGGTATTGCGTTCCGATTAAAATTTACAGCTAACAGACCCGAGCGCACGGAATCGATTATAACAAGCGATCTGTGATCCGGCAAGTTAAGGTGGTTGTTCGTCTAGCACGGAAGCGTTCTTACGGTAAGAAAACCACATGCTACTACTCTGTCTACCTTTAAGAGCCGGT'\n",
    "\n",
    "for letter in my_string:\n",
    "    if letter in my_dict.keys():\n",
    "        my_dict[letter]+= 1\n",
    "    else: \n",
    "        my_dict[letter]= 1\n",
    "    \n",
    "print('{0} {1} {2} {3}'.format(my_dict['A'], my_dict['C'], my_dict['G'], my_dict['T']))"
   ]
  },
  {
   "cell_type": "markdown",
   "metadata": {},
   "source": [
    "--------------\n",
    "\n",
    "Problem\n",
    "An RNA string is a string formed from the alphabet containing 'A', 'C', 'G', and 'U'.\n",
    "\n",
    "Given a DNA string t corresponding to a coding strand, its transcribed RNA string u is formed by replacing all occurrences of 'T' in t with 'U' in u.\n",
    "\n",
    "Given: A DNA string t having length at most 1000 nt.\n",
    "\n",
    "Return: The transcribed RNA string of t.\n",
    "\n",
    "Sample Dataset\n",
    "GATGGAACTTGACTACGTAAATT\n",
    "\n",
    "Sample Output\n",
    "GAUGGAACUUGACUACGUAAAUU"
   ]
  },
  {
   "cell_type": "code",
   "execution_count": 106,
   "metadata": {},
   "outputs": [
    {
     "name": "stdout",
     "output_type": "stream",
     "text": [
      "GAUGGAACUUGACUACGUAAAUU\n"
     ]
    }
   ],
   "source": [
    "dnastring = 'GATGGAACTTGACTACGTAAATT'\n",
    "rna = []\n",
    "str = ''\n",
    "\n",
    "for letter in dnastring:\n",
    "    if letter == 'T':\n",
    "        rna.append('U')\n",
    "    else:\n",
    "        rna.append(letter)\n",
    "\n",
    "print(str.join(rna))\n"
   ]
  },
  {
   "cell_type": "code",
   "execution_count": 107,
   "metadata": {},
   "outputs": [
    {
     "name": "stdout",
     "output_type": "stream",
     "text": [
      "UCUGCUGGAGCGCGUGGAUGGUUGCCGAACGCAGUGGGAGGUAUUGAUGUACUGACGAUUACGUACAGGUACGACAACUCUCCUCAGCAAAAUUCGGAUUAUCAAUAUAUAUACUCAGUUAAACACAUACAUCCGGAUUGCCUUCGAAUGCUUACCUGCAAAUAAUGUUCAAGAGUCAUCAUACUUGCAUAGAGCUCCGGAAGACUUGGUUCAAGCAGAACACCGAGCUAUAUCGGCAACUUUCAAUCUAAUUCGAAAACACAACUAUUGCUCACCCUUCCUUCCCCAACUCGAACUCUACAUCGUGCCUUAAUUACACGUCCCUAAGUAUAUUUAGUUACUACCAAAGAGAGCAGAACAGGUUGCAUUAGCCGGAAGAAGCAUAGUGAAGGUAGUUUCUCAAUGGGUUAGUUUAGCAUGAUCGUGGACACCCUACGCGCCCCAUUAUCGUGCCUAAGUAUGUCCGUUCUUUUGCAAUGCUGGGCACUAUCAUGGUCAAGCCUAAGCGGUCCGACUCGGGGGCUUGUCAAUACAAGGCUAGCAGGAGGACUACCCACCCAGCUGGCAUUAUUAAUAUUCUAGGUGAGUCGGACGUCAACAUUCGGAACUACUGCUGGCAGUAAGUGGCUACGACAUACGCACGAUUACAGGGGGUUGGAAGAUAUGAGCGUCUUUGCGCGAGUGGAACGAAGUUUGUUCUAUGGGUAGUCUCAGGCCUGUAACGAAGACUUGACAAGACAGCAGGGAACCGAAUAUCGCCACGCGCGGGGAAUCCUGAUUACAUCUCCGACCAUACCCUUCGCGUGGGCUUCUGUGGGAAUAAGUUAGGUGUAAACCGCGUCGUUAUCGUCUAGCUCCAGCUCGGUCCUUCCCGCCUUUCUAAACUGCGGCGUGAGGGUCCACACGGAGAGAAGUUUACGGGCCACGUGUUAAAGAUGUUAUUUAAUUCG\n"
     ]
    }
   ],
   "source": [
    "dnastring = 'TCTGCTGGAGCGCGTGGATGGTTGCCGAACGCAGTGGGAGGTATTGATGTACTGACGATTACGTACAGGTACGACAACTCTCCTCAGCAAAATTCGGATTATCAATATATATACTCAGTTAAACACATACATCCGGATTGCCTTCGAATGCTTACCTGCAAATAATGTTCAAGAGTCATCATACTTGCATAGAGCTCCGGAAGACTTGGTTCAAGCAGAACACCGAGCTATATCGGCAACTTTCAATCTAATTCGAAAACACAACTATTGCTCACCCTTCCTTCCCCAACTCGAACTCTACATCGTGCCTTAATTACACGTCCCTAAGTATATTTAGTTACTACCAAAGAGAGCAGAACAGGTTGCATTAGCCGGAAGAAGCATAGTGAAGGTAGTTTCTCAATGGGTTAGTTTAGCATGATCGTGGACACCCTACGCGCCCCATTATCGTGCCTAAGTATGTCCGTTCTTTTGCAATGCTGGGCACTATCATGGTCAAGCCTAAGCGGTCCGACTCGGGGGCTTGTCAATACAAGGCTAGCAGGAGGACTACCCACCCAGCTGGCATTATTAATATTCTAGGTGAGTCGGACGTCAACATTCGGAACTACTGCTGGCAGTAAGTGGCTACGACATACGCACGATTACAGGGGGTTGGAAGATATGAGCGTCTTTGCGCGAGTGGAACGAAGTTTGTTCTATGGGTAGTCTCAGGCCTGTAACGAAGACTTGACAAGACAGCAGGGAACCGAATATCGCCACGCGCGGGGAATCCTGATTACATCTCCGACCATACCCTTCGCGTGGGCTTCTGTGGGAATAAGTTAGGTGTAAACCGCGTCGTTATCGTCTAGCTCCAGCTCGGTCCTTCCCGCCTTTCTAAACTGCGGCGTGAGGGTCCACACGGAGAGAAGTTTACGGGCCACGTGTTAAAGATGTTATTTAATTCG'\n",
    "rna = []\n",
    "rnastring = ''\n",
    "\n",
    "for letter in dnastring:\n",
    "    if letter == 'T':\n",
    "        rna.append('U')\n",
    "    else:\n",
    "        rna.append(letter)\n",
    "\n",
    "print(rnastring.join(rna))\n"
   ]
  },
  {
   "cell_type": "markdown",
   "metadata": {},
   "source": [
    "---------------\n",
    "Problem\n",
    "In DNA strings, symbols 'A' and 'T' are complements of each other, as are 'C' and 'G'.\n",
    "\n",
    "The reverse complement of a DNA string s is the string sc formed by reversing the symbols of s, then taking the complement of each symbol (e.g., the reverse complement of \"GTCA\" is \"TGAC\").\n",
    "\n",
    "Given: A DNA string s of length at most 1000 bp.\n",
    "\n",
    "Return: The reverse complement sc of s.\n",
    "\n",
    "Sample Dataset\n",
    "AAAACCCGGT\n",
    "\n",
    "Sample Output\n",
    "ACCGGGTTTT\n"
   ]
  },
  {
   "cell_type": "code",
   "execution_count": 117,
   "metadata": {},
   "outputs": [
    {
     "name": "stdout",
     "output_type": "stream",
     "text": [
      "ACCGGGTTTT\n"
     ]
    }
   ],
   "source": [
    "origstring = 'AAAACCCGGT'\n",
    "revstring = origstring[::-1]\n",
    "templist = []\n",
    "newstring = ''\n",
    "\n",
    "for letter in revstring:\n",
    "    if letter == 'T':\n",
    "        templist.append('A')\n",
    "    elif letter == 'G':\n",
    "        templist.append('C')\n",
    "    elif letter == 'C':\n",
    "        templist.append('G')\n",
    "    else:\n",
    "        templist.append('T')\n",
    "\n",
    "print(newstring.join(templist))      "
   ]
  },
  {
   "cell_type": "code",
   "execution_count": 118,
   "metadata": {},
   "outputs": [
    {
     "name": "stdout",
     "output_type": "stream",
     "text": [
      "CCGTGCACTGATCAAGAGGCAAAGTTCTGCGTGTAATAGATTGAATTGGCTTATTGCGTCGGTAGCCAATAATCACGCATCACCAATGGACGGATTCGAACGATAACCCGGCGCATGTCAATATCCTCTCATGTATTTCGGCCGGTTTCCCGAGGGCCCGTGGTAACCTCTAGCACCTTTACCTTTCAGAACGCACGCAAATGGTTAAGCATACTAGTAGCTTGTGCTACAGAACATATCAGTTCCGCCCCCGCGCCTCCTCCTTACTCGCTAATCGTTCGGCTTTATAATATGCCACTATCTGCCACCTGACGTGCGAATTTGTTCAAGTACCAATGGCGATAGGAATAAGGTCGGTTGCAATGTTAAGCTATGAGTAGGTTCTCTGGTTGCAGCTGACGAACTTTCAAAACTTCTTTCGATCAGTAGACTGGGACCGCGAGAGTGGCTTCACGTGTATAGATTGCTATCAATTCCTTAGTCGTCAACTTCTAGCCAGGTGGCGTTGGACGGTCTCAATGGCTCTTTGGACCGAACATCGGTTCTCAGTGAGCCCTAAGTTAATAGCTCATTTCAAGTCAGTAATCAGTGTTCCCCACTGTGATCGGGGTGAAATCTCCCCCCAGCAGACTGATGCCGTACACAGATAAGCTCCCGCAACATCAGCCGCCGGGCCTCTACTAGCCGTGGACTGTATCGTGGATCTTTTACATGTTGCGTCCCCGGCCCGGATCAAGGGATCTAGTATTTCGACCTGAAAGAACGTACTCCTGCACTCGCCATTCCTATTCTCGGGTAGCGTCTGACAGCTGCACTGCGCAATTGCTACGCACGAGCAGCAGTACTATCACTTTTGGTGACCCCGTGGACCCTTGGTACTAGGC\n"
     ]
    }
   ],
   "source": [
    "origstring = 'GCCTAGTACCAAGGGTCCACGGGGTCACCAAAAGTGATAGTACTGCTGCTCGTGCGTAGCAATTGCGCAGTGCAGCTGTCAGACGCTACCCGAGAATAGGAATGGCGAGTGCAGGAGTACGTTCTTTCAGGTCGAAATACTAGATCCCTTGATCCGGGCCGGGGACGCAACATGTAAAAGATCCACGATACAGTCCACGGCTAGTAGAGGCCCGGCGGCTGATGTTGCGGGAGCTTATCTGTGTACGGCATCAGTCTGCTGGGGGGAGATTTCACCCCGATCACAGTGGGGAACACTGATTACTGACTTGAAATGAGCTATTAACTTAGGGCTCACTGAGAACCGATGTTCGGTCCAAAGAGCCATTGAGACCGTCCAACGCCACCTGGCTAGAAGTTGACGACTAAGGAATTGATAGCAATCTATACACGTGAAGCCACTCTCGCGGTCCCAGTCTACTGATCGAAAGAAGTTTTGAAAGTTCGTCAGCTGCAACCAGAGAACCTACTCATAGCTTAACATTGCAACCGACCTTATTCCTATCGCCATTGGTACTTGAACAAATTCGCACGTCAGGTGGCAGATAGTGGCATATTATAAAGCCGAACGATTAGCGAGTAAGGAGGAGGCGCGGGGGCGGAACTGATATGTTCTGTAGCACAAGCTACTAGTATGCTTAACCATTTGCGTGCGTTCTGAAAGGTAAAGGTGCTAGAGGTTACCACGGGCCCTCGGGAAACCGGCCGAAATACATGAGAGGATATTGACATGCGCCGGGTTATCGTTCGAATCCGTCCATTGGTGATGCGTGATTATTGGCTACCGACGCAATAAGCCAATTCAATCTATTACACGCAGAACTTTGCCTCTTGATCAGTGCACGG'\n",
    "revstring = origstring[::-1]\n",
    "templist = []\n",
    "newstring = ''\n",
    "\n",
    "for letter in revstring:\n",
    "    if letter == 'T':\n",
    "        templist.append('A')\n",
    "    elif letter == 'G':\n",
    "        templist.append('C')\n",
    "    elif letter == 'C':\n",
    "        templist.append('G')\n",
    "    else:\n",
    "        templist.append('T')\n",
    "\n",
    "print(newstring.join(templist))    "
   ]
  },
  {
   "cell_type": "markdown",
   "metadata": {},
   "source": [
    "-----------\n",
    "Problem\n",
    "A sequence is an ordered collection of objects (usually numbers), which are allowed to repeat. Sequences can be finite or infinite. Two examples are the finite sequence (π,−2‾√,0,π) and the infinite sequence of odd numbers (1,3,5,7,9,…). We use the notation an to represent the n-th term of a sequence.\n",
    "\n",
    "A recurrence relation is a way of defining the terms of a sequence with respect to the values of previous terms. In the case of Fibonacci's rabbits from the introduction, any given month will contain the rabbits that were alive the previous month, plus any new offspring. A key observation is that the number of offspring in any month is equal to the number of rabbits that were alive two months prior. As a result, if Fn represents the number of rabbit pairs alive after the n-th month, then we obtain the Fibonacci sequence having terms Fn that are defined by the recurrence relation Fn=Fn−1+Fn−2 (with F1=F2=1 to initiate the sequence). Although the sequence bears Fibonacci's name, it was known to Indian mathematicians over two millennia ago.\n",
    "\n",
    "When finding the n-th term of a sequence defined by a recurrence relation, we can simply use the recurrence relation to generate terms for progressively larger values of n. This problem introduces us to the computational technique of dynamic programming, which successively builds up solutions by using the answers to smaller cases.\n",
    "\n",
    "Given: Positive integers n≤40 and k≤5.\n",
    "\n",
    "Return: The total number of rabbit pairs that will be present after n months, if we begin with 1 pair and in each generation, every pair of reproduction-age rabbits produces a litter of k rabbit pairs (instead of only 1 pair).\n",
    "\n",
    "Sample Dataset\n",
    "5 3\n",
    "\n",
    "Sample Output\n",
    "19"
   ]
  },
  {
   "cell_type": "code",
   "execution_count": 280,
   "metadata": {},
   "outputs": [],
   "source": [
    "def rabbit(n,k):\n",
    "    if n <= 2:\n",
    "        return 1\n",
    "    elif n == 3:\n",
    "        return 1 + k\n",
    "    else:\n",
    "        return rabbit(n-1, k) + (k * rabbit(n-2, k))"
   ]
  },
  {
   "cell_type": "code",
   "execution_count": 281,
   "metadata": {},
   "outputs": [
    {
     "data": {
      "text/plain": [
       "7334743797805"
      ]
     },
     "execution_count": 281,
     "metadata": {},
     "output_type": "execute_result"
    }
   ],
   "source": [
    "rabbit(33,4)"
   ]
  },
  {
   "cell_type": "markdown",
   "metadata": {},
   "source": [
    "---------------\n",
    "Problem\n",
    "The GC-content of a DNA string is given by the percentage of symbols in the string that are 'C' or 'G'. \n",
    "For example, the GC-content of \"AGCTATAG\" is 37.5%. Note that the reverse complement of any DNA string \n",
    "has the same GC-content.\n",
    "\n",
    "DNA strings must be labeled when they are consolidated into a database. A commonly used method of string \n",
    "labeling is called FASTA format. In this format, the string is introduced by a line that begins with '>', \n",
    "followed by some labeling information. Subsequent lines contain the string itself; the first line to begin \n",
    "with '>' indicates the label of the next string.\n",
    "\n",
    "In Rosalind's implementation, a string in FASTA format will be labeled by the ID \"Rosalind_xxxx\", where \n",
    "\"xxxx\" denotes a four-digit code between 0000 and 9999.\n",
    "\n",
    "Given: At most 10 DNA strings in FASTA format (of length at most 1 kbp each).\n",
    "\n",
    "Return: The ID of the string having the highest GC-content, followed by the GC-content of that string. \n",
    "Rosalind allows for a default error of 0.001 in all decimal answers unless otherwise stated; please see \n",
    "the note on absolute error below.\n",
    "\n",
    "Sample Dataset\n",
    ">Rosalind_6404\n",
    "CCTGCGGAAGATCGGCACTAGAATAGCCAGAACCGTTTCTCTGAGGCTTCCGGCCTTCCC\n",
    "TCCCACTAATAATTCTGAGG\n",
    ">Rosalind_5959\n",
    "CCATCGGTAGCGCATCCTTAGTCCAATTAAGTCCCTATCCAGGCGCTCCGCCGAAGGTCT\n",
    "ATATCCATTTGTCAGCAGACACGC\n",
    ">Rosalind_0808\n",
    "CCACCCTCGTGGTATGGCTAGGCATTCAGGAACCGGAGAACGCTTCAGACCAGCCCGGAC\n",
    "TGGGAACCTGCGGGCAGTAGGTGGAAT\n",
    "\n",
    "Sample Output\n",
    "Rosalind_0808\n",
    "60.919540"
   ]
  },
  {
   "cell_type": "code",
   "execution_count": 212,
   "metadata": {},
   "outputs": [
    {
     "name": "stdout",
     "output_type": "stream",
     "text": [
      "0.5375\n",
      "0.5365853658536586\n",
      "0.5617529880478087\n"
     ]
    }
   ],
   "source": [
    "my_dict = {'Rosalind_6404': 'CCTGCGGAAGATCGGCACTAGAATAGCCAGAACCGTTTCTCTGAGGCTTCCGGCCTTCCCTCCCACTAATAATTCTGAGG', 'Rosalind_5959': 'CCATCGGTAGCGCATCCTTAGTCCAATTAAGTCCCTATCCAGGCGCTCCGCCGAAGGTCTATATCCATTTGTCAGCAGACACGC', 'Rosalind_0808': 'CCACCCTCGTGGTATGGCTAGGCATTCAGGAACCGGAGAACGCTTCAGACCAGCCCGGACTGGGAACCTGCGGGCAGTAGGTGGAAT' }\n",
    "temp_dict = {}\n",
    "new_dict = {}\n",
    "counter = 0\n",
    "\n",
    "for items in my_dict.values():\n",
    "#     print(my_dict)\n",
    "    for letter in items:\n",
    "#         print(letter)\n",
    "        if letter in temp_dict.keys():\n",
    "            temp_dict[letter]+= 1\n",
    "        else:  \n",
    "            temp_dict[letter]= 1\n",
    "    print((temp_dict['C'] + temp_dict['G']) / (temp_dict['A'] + temp_dict['C'] + temp_dict['G'] + temp_dict['T']))\n"
   ]
  },
  {
   "cell_type": "code",
   "execution_count": 213,
   "metadata": {},
   "outputs": [
    {
     "name": "stdout",
     "output_type": "stream",
     "text": [
      "Rosalind_6404 0.5375\n",
      "Rosalind_5959 0.5375\n",
      "Rosalind_0808 0.5375\n",
      "Rosalind_6404 0.5365853658536586\n",
      "Rosalind_5959 0.5365853658536586\n",
      "Rosalind_0808 0.5365853658536586\n",
      "Rosalind_6404 0.5617529880478087\n",
      "Rosalind_5959 0.5617529880478087\n",
      "Rosalind_0808 0.5617529880478087\n"
     ]
    }
   ],
   "source": [
    "my_dict = {'Rosalind_6404': 'CCTGCGGAAGATCGGCACTAGAATAGCCAGAACCGTTTCTCTGAGGCTTCCGGCCTTCCCTCCCACTAATAATTCTGAGG', 'Rosalind_5959': 'CCATCGGTAGCGCATCCTTAGTCCAATTAAGTCCCTATCCAGGCGCTCCGCCGAAGGTCTATATCCATTTGTCAGCAGACACGC', 'Rosalind_0808': 'CCACCCTCGTGGTATGGCTAGGCATTCAGGAACCGGAGAACGCTTCAGACCAGCCCGGACTGGGAACCTGCGGGCAGTAGGTGGAAT' }\n",
    "temp_dict = {}\n",
    "new_dict = {}\n",
    "results = []\n",
    "    \n",
    "for items in my_dict.values():\n",
    "\n",
    "    for letter in items:\n",
    "\n",
    "        if letter in temp_dict.keys():\n",
    "            temp_dict[letter]+= 1\n",
    "        else:  \n",
    "            temp_dict[letter]= 1\n",
    "    results.append((temp_dict['C'] + temp_dict['G']) / (temp_dict['A'] + temp_dict['C'] + temp_dict['G'] + temp_dict['T']))\n",
    "\n",
    "for item in results:\n",
    "    for keys in my_dict.keys():\n",
    "        print('{} {}'.format(keys, item))\n",
    "\n",
    "# for item in results:\n",
    "#     print(item)\n",
    "    "
   ]
  },
  {
   "cell_type": "code",
   "execution_count": 214,
   "metadata": {},
   "outputs": [
    {
     "name": "stdout",
     "output_type": "stream",
     "text": [
      "Counter({'C': 25, 'T': 19, 'G': 18, 'A': 18})\n",
      "18\n",
      "Counter({'C': 28, 'T': 20, 'A': 19, 'G': 17})\n",
      "17\n",
      "Counter({'G': 29, 'C': 24, 'A': 20, 'T': 14})\n",
      "29\n"
     ]
    }
   ],
   "source": [
    "my_dict = {'Rosalind_6404': 'CCTGCGGAAGATCGGCACTAGAATAGCCAGAACCGTTTCTCTGAGGCTTCCGGCCTTCCCTCCCACTAATAATTCTGAGG', 'Rosalind_5959': 'CCATCGGTAGCGCATCCTTAGTCCAATTAAGTCCCTATCCAGGCGCTCCGCCGAAGGTCTATATCCATTTGTCAGCAGACACGC', 'Rosalind_0808': 'CCACCCTCGTGGTATGGCTAGGCATTCAGGAACCGGAGAACGCTTCAGACCAGCCCGGACTGGGAACCTGCGGGCAGTAGGTGGAAT' }\n",
    "import collections\n",
    "for i, (k, v) in enumerate(my_dict.items()):\n",
    "    print(collections.Counter(v))\n",
    "    print(collections.Counter(v)['G'])\n",
    "\n"
   ]
  },
  {
   "cell_type": "code",
   "execution_count": 60,
   "metadata": {},
   "outputs": [
    {
     "name": "stdout",
     "output_type": "stream",
     "text": [
      "Rosalind_0808 56.17529880478087\n"
     ]
    }
   ],
   "source": [
    "my_dict = {'Rosalind_6404': 'CCTGCGGAAGATCGGCACTAGAATAGCCAGAACCGTTTCTCTGAGGCTTCCGGCCTTCCCTCCCACTAATAATTCTGAGG', 'Rosalind_5959': 'CCATCGGTAGCGCATCCTTAGTCCAATTAAGTCCCTATCCAGGCGCTCCGCCGAAGGTCTATATCCATTTGTCAGCAGACACGC', 'Rosalind_0808': 'CCACCCTCGTGGTATGGCTAGGCATTCAGGAACCGGAGAACGCTTCAGACCAGCCCGGACTGGGAACCTGCGGGCAGTAGGTGGAAT'}\n",
    "temp_dict = {}\n",
    "new_dict = {}\n",
    "    \n",
    "for i, (k,v) in enumerate(my_dict.items()):\n",
    "\n",
    "    for letter in v:\n",
    "\n",
    "        if letter in temp_dict.keys():\n",
    "            temp_dict[letter]+= 1\n",
    "        else:  \n",
    "            temp_dict[letter]= 1\n",
    "        \n",
    "    new_dict[k] = ((temp_dict['C'] + temp_dict['G']) / (temp_dict['A'] + temp_dict['C'] + temp_dict['G'] + temp_dict['T']))\n",
    "\n",
    "# print(max(new_dict.values()))\n",
    " \n",
    "new_vals=list(new_dict.values())\n",
    "new_keys=list(new_dict.keys())\n",
    "print(new_keys[new_vals.index(max(new_vals))], new_dict[new_keys[new_vals.index(max(new_vals))]]*100)\n"
   ]
  },
  {
   "cell_type": "code",
   "execution_count": 219,
   "metadata": {},
   "outputs": [
    {
     "name": "stdout",
     "output_type": "stream",
     "text": [
      "Rosalind_5402 0.5103294249022893\n"
     ]
    }
   ],
   "source": [
    "my_dict = {'Rosalind_3421': 'GATAATTACTGTGTAATAGTAGCATGTTTGGCCCCAGATTCGCTCAGCTTCGCTATTATATCAGCAATGGCCAATAATCGACCTAGGGACATCGTACAGACCCTCTGTTCCATTCATAATTGGACATCCTCGCGGCTTAGCACTTGTACCGCCACAATCTAGAGGGCCTTAAGTAGCTACCGTGCACGTAGCATGGGCTACGCCGAAGGTCATAAAGTATTTAATGTTGCGTACTCTCGATCAGCCCAGTTTTTTGGACTTCACTAACGTTCCGAACCTCGTTATCGCCAAAGAACTTTACTAACTCGCCGAGGTTCGCCCTTTTTCGGAAACGATAAAGACGGTACGACATACTAGGCGGGGCGCAGGTCTCGGAAGCCAGAATGCTGCGAGGGTCTGGAGGTATGTGGTCGATCACCATTAGCCAAGAAACCTGTCGGCGGACGGGTCGTAGAAGGGTACCACGCACCCCGTCCTTGAGGGTTTACTCCGTAATTTGGTATTATTAGGTCTCCACCAGGATGCCCCCTTAGAGCCTCCCGGCGGCGATTAATAAGCCTACAGCGTCTACCTACAGGTCATGCAGTGGGGCGCAGTTCACCTTCGAGATGTGGTACGGGATCCAGTCTGGCCGTTAGACATAGATACAAATTCCTTCCACGGCCACGACCGCCATGGATATACCAGATGAGTGCTTGGTGAGTTTATCTTCGGCGCTTAGTGAAGTTTTCTTACACGGGTGACTTATACCCTGAAGACAGATCACCGCATTCACTGCTGGCCTGACGCCTAATCTTAATCATC',\n",
    "'Rosalind_5402':\n",
    "'CGCTGCGACGTTGGCAGACTTCTGGAAGTTCGGTTCAACACTGAAATACATCATGGGCTCGATGGACGTGCTCCCAAGAATCCGCAGCTGCTAAGTCGACGCTCGGATAACAGCTGGAGCATGATAACTCTTTATCGTCACGACCGGCTACTGCAAACAAGGTATCCGAGGATGGATCCCAAGACCGAACCCCAGTAGGTCAGCAAGATCCCCTAGGCCTGTGTCAACCAAGGAAAGTATTCTCTGTCAGTCCCAACCCGCTAAGCCCTCTAGGACTCTAAGGATAATACGACCTCTTACGTTGGGGAACACTCGTTCGCGATTTCCCGGAGCAAGCTGTGGGTGGACGTTTGAAATGTACGACTTCGATGCGAGTACGAGCGAACGAAAGTGTTTATGCTCGTCCGTCCCGGATGTCTGGGACATCCAGCGACAGTTGTACATGTGATTTCGGTTCGTCCGAAGAAACACTCGGGGGCCAGGAAGCCTCACGCTACTTGGCGCGGACTCCGAAGCGGAGAATCCCGGGGTTAAAATACGCCTGCCACTACCCGCGGTCATGATGATCGAGACTCTTCCCAGACTAACCGCTCAGTATTGGTCACTTCGTGGTCGCGTTCCCCGCATTCCTTTAGCATCGGTGTTTGAAATTGCAGTCCTACGCCACGTCCAAGTATGAAAAATAAAAGATAACTACTGGGATTCATACCAACCGGGAACCCGGTCCCCGTTCCTACTGTTATACTTCCGCCATGCCACGTCAGCCTACTAACACATGGGAGGCATTGTACCGTTATTCTAATTTCCCCCCAGAGTGAGCTTGTACTCCGACCAGTCATATTAAGATATGCTGCCGACTGAACCTAGTGTCTGCACGAGGATGAATCAAGCCAACCAGATATAAGGATGTCGAAGTGGCTCGGTATTGAATATTAAAGCAGAAGTACGTGATTGGACGCCAGCGTTGATGCCGAGTCCGTAAGTTCA',\n",
    "'Rosalind_6819':\n",
    "'GTGTTCGGATGCTTCTCTGCGTTATCCCCATCGTGACTGCGTAGCTCTCAACGGTAAGGACGAGGGACCGGGCCGGACGAAAGAACGGACACCATGCTAATTTTGATTTTTCTTGCCTTTCCGGAGGACCCGCCTCCGTACCTACCACCGAAGAACTGAGGAGCTTATTTAACCGTGTACGTAGTGCGGGACGCTCACCCTAAGCTTCGACGCTATCGGACTTGTCACCATTGCAGGAAGGACTTAAAGAACAATTCACCCGGCCTAGAAGTTTTCAAAACAGAGCCCGAGCACATTAATTTGATGGAACTACTCTGTCTAGACATCGATGTGCGGCTCTCTAATACCGCTAGCGCTGATGCAAACACGCACAATCCGACAACCAAGGCTCCATTGTTTGTTGCGATCATTTCACCGTCTTTCCTGCTCGTCAAAAAGCATACGCACAATATGTGATTGGTAGCAACATGGTTAAGCTCAGACCAAAGATTCGTGAAAATGCTTTCATACCCACTGGCGCCATTGGAGCCGGAAGCCACAGTGGTCTCAAGCCGTCCGTTCGACTACCAAAAGCTTACGCTCCATGTTACGGATACTGTACAAAAAGCAAGGGATTGGCCTCGAGGATCACGTATTTTTCTCACTCTGGAATAAAGTCAGGGATAGAAACCGCTTACGAATCCGATTGGAATTCCGTGTTTACTCTGGCTCCGTCCTGCGCTAATCCATTGGCTTGGCGTAGTACGGCGTCGGATTCTTTATCGACAGTAGGGGGAACCTCGGTTTCTAGGTATGTGAGTTAGTTAATGCGTGGAGCCAAGCTTCCGGACGACCGTAATGAATTGAAGGGCAGTAGGCCAAACGTCCAATTATATGGCTTCCCGGGATTTTG',\n",
    "'Rosalind_9164':'ATCATGGAGACCGAGGGCTGGTTATGACCGCCCCCATTGAAAGCGGTTTATCTCAACAATCCTGCGCGTTCCTCCTGGAGTTGTAGGGCGCATGGACGTATGCTGTCAATAAGTCGCCGCGGTAGCTTCCCTTCGGTCCAGACGGATATATCTGGTAAATGATCGGCTGGTACCCGCAGCCAGACACTGTGTTCACGACCACGGCAGCGGTGTCGTGGTCCCGTTTGATACATTGTGGGGATAGCCCCACGCAGGGGCCACCGCACGTAACCGTAAGTTGACAGGGCGCCAGACGGGTCTTCTCCGTTATAGAGATCGACCGTCAACCACCATCGCGAAGAGCCAGTTGGTCCATAAGGGTAGGGTATTGTATAATGCTAGTCCTATGATTTCCTTCTACGAAAATTTATCATAAGATACGTCGTACCTAACCTGACAACAATAATTCATCATAAAAGCCCGCACCGCAGAACGTATGTCTATACGCACTTCAACCTGAACCATCCCACTGTCCTATCCGTTGAGGGATTTGCTAAGTGAACACGATTTTACTGATTCAGAAATCATGGTTCTTATGCCTTACTCACCTCTCTTTGGGTCGAGATGAACTCGAGCAATCCGAGCAGCTAGCACGATGCGCAGCAGCAAGGTACTTCATAGATGGAGTTTTGCGAAGAGTTCAGCTCTCCAACTGTCATCTGTCCACTGCTCAATAAGTAGACCTTACCTCACCCCAAGCTGCAATGTTCGACTGCCGATGGCACTGCTGTTCTTCCCAGAGCTGTCAGTAACATCACCTAGGCTAACTCTGGACACCTACAGCGCAATACACCAGGGACTTGCA',\n",
    "'Rosalind_2451':\n",
    "'ACACCGCTCAAGACTCGAGAGAAATCTTTGGCGACGTTGGCCAGCACCAGTCTTAATGATCAGCGTGTTTCCAACGTACCTGGACAATGTAGTACCGCTCCCACGATCTGTATCACATTCGAGACAAAGATGTGGATATCATAGTCGAATCTGACTTTAATTCGTGAGTGTTAAGCCGCGTCGATTACCACTACAGATCAAGGACGGAAGAAGAGGTGCTCCAGACTTATCATCCGGTTACGCTCATACTCACAGCCAGCAAATCCCACGGGAAGATGCGATTGAGCTCGACGCCTTGGCGCGATCCCGAATTGCGCTCATGCTCTGTATCTTGTAAGTGACAACCTTTAGGCCGGTTCAGAATTCCCCAGTACTCTGCATGCTCCCCCATGCGTCGGATCTTGGTTCTACTAACAGATAGTATAAACCAAGTGGACTATCCACTCTTTTTTGGCCTTTTTTACTCCAAGTATCCTCCGGATTTGGGACGCAAACTCATCAGGTACTGGAGTGTCGGTGAGGGGGTAGGTTGAATGAACCTTGAGAAGCGGCGCGACCATTGGGCAATTCCGCCCAACGCCCTCACATAGATCCAACTTCGCGCGCAAACCCCGTACGGCACCAATCAGAACAAAATCAGGTCCAGGAGTAGGATCCCCAGAGACTCCACCTGCCGATTGCAGGGCGTTGTTAGATGGTAGCTCTTAGTGAAACCAATTTCGTGGAATCGTATGCCATCTTGGCACGTTGGAAGATGGCATCCACTGGCCAATCAAATTTGACCGGGCAAAACCGGCTACACGCGGTGGGTAGGCCAGGGGGTTCGTTTGAGGGGGGT',\n",
    "'Rosalind_6889':\n",
    "'CCTACTCCAGCTACCGGGTCCACCATGTGGATGTCATGCTCACCGCTCATGGAAGCCTTGTACACCTGGGTCTGAGCTGAGCCCTTCTACAATATGTCACATGGCTACATGCTCCTTGCTGCACTGCAGTTCAGGATATATCCTAACAGAGGGCCCACACATATTCAAAGGTATAAGGACGCGTTAGATGTGGTGTCGCCAACCGCCGTTGGCACTCTCACCGACGTCTAGGACAGTCAAACTGGTTGCGCGGAGGGGATGCAGGCGGTCGCAAAGGTTAGGTGGCAGCCGTCGAGAAAGCAAAACATTGAGGGGATGTACTGAGTCGCCTACTATAATGCAGATACGAAGTATTTCAGGAAGTGATGCACAGGTGGAAAGCCGACGCGGCAGATAGAGAGCGTCGCCTACAAAACAAGGGCTAAGGGGCGCGGCTAGTAATGTCTTCTAGGTCAACAACGGATTAGGCATCAGATGCCCTTGCGGATCTAGTCGATATCCCGCCCTGAGTTAGTACCATTGATCTTAGTGATGCATAGCGAGCCAGGCACAGGTTAGCGGAGAAAGAAACCCAAGATCGAAAGGTCACGACCTCTTCCACTGTTCTATGGGTCCCTTGCGTTCAACTCGGAGCAGATGTTTAGATTCCAAATTTGTCTGTTGGTCGAACCGCTGGGCAGGGTCTACCCAATCGGCTGCCATCTTTGAGGAATACATGAAACGCCCCCCCCTCAACACGTAGGCTATGAGCTTATTGTGTTTATTTGCGGACTGGAATGTAGTCCTTCCCTTTTAAGTCCCTGCACATCTAGGTCGAAATTCTCCCCTTTGTCCTATTGGTGCTGGAGCAGTAATGCTGGTGGCTTCCA'\n",
    "}\n",
    "temp_dict = {}\n",
    "new_dict = {}\n",
    "    \n",
    "for i, (k,v) in enumerate(my_dict.items()):\n",
    "\n",
    "    for letter in v:\n",
    "\n",
    "        if letter in temp_dict.keys():\n",
    "            temp_dict[letter]+= 1\n",
    "        else:  \n",
    "            temp_dict[letter]= 1\n",
    "        \n",
    "    new_dict[k] = ((temp_dict['C'] + temp_dict['G']) / (temp_dict['A'] + temp_dict['C'] + temp_dict['G'] + temp_dict['T']))\n",
    "\n",
    "# print(max(new_dict.values()))\n",
    " \n",
    "new_vals=list(new_dict.values())\n",
    "new_keys=list(new_dict.keys())\n",
    "print(new_keys[new_vals.index(max(new_vals))], new_dict[new_keys[new_vals.index(max(new_vals))]])\n"
   ]
  },
  {
   "cell_type": "code",
   "execution_count": 221,
   "metadata": {},
   "outputs": [],
   "source": [
    "def fib(n):\n",
    "    if(n<2):\n",
    "        return n\n",
    "    else:\n",
    "        return fib(n-1) + fib(n-2)"
   ]
  },
  {
   "cell_type": "code",
   "execution_count": 223,
   "metadata": {},
   "outputs": [
    {
     "data": {
      "text/plain": [
       "17711"
      ]
     },
     "execution_count": 223,
     "metadata": {},
     "output_type": "execute_result"
    }
   ],
   "source": [
    "fib(22)"
   ]
  },
  {
   "cell_type": "code",
   "execution_count": 232,
   "metadata": {},
   "outputs": [
    {
     "name": "stdout",
     "output_type": "stream",
     "text": [
      "222 211 230 217\n"
     ]
    }
   ],
   "source": [
    "my_str = 'ATCGCACTAAGCTCTTGGGCGACTGGGCCGTACAAGTACTTAATAGTGCTGGTCCTGACTCCTCGAAACAATTGGCTTGGTTACTGTGCGCGAAGACAAGGACCCTGCGCGAGACTGTACGGACTCATTCTACCGCCACCTCCACCAACCTGTGGCCTGTCTTTCTAAGATTTCGCTGGAAAACCCGGTATGCCATAGTCTTGGACCGTTCTGAACTAATTGCTCATGGATATGAACGAGTGACTCAACAGGGCGATAGTAATTACCAGTTAGAGGATTTAGCGGAACGCCCAGCAACACGACTGGGCCCGTTCGGTAAAGTCCGCAAATGTGTATACGTAATTCACCCGGGTAACGCGGAGATGTCGAGATGACTTGCAGGACCGGTTAGCATAGCTACCGATCTAAAACTGCATTCCCCTGAGGTCCATGACATGCTGCCCGTCTGGTAGTCTAGCCGCGTACCCTGGCAAGTTCAGGGTTCTGGAAGAAACAGAACCCAATTCCGATTTAGCTACGGCCTAGTCTTGAGATCCCACCGGATTAATCAGAGCTGGCATCGGTTCACATTCAAAAACGGGGCTAAAAATCCACGTCTACATATCAATTTTCTTATTTACTTGACACCCGGGAGGCTCAAGGGGGGAGACTCTATTTTACCTTTTCGGTAATAAGCTGAGATGGCTGGCGGTTCTAGGAGCTTAATTTGATCTTTGGACTCTAGGATCTTACTTGGGGGGCCGGGGACATACTTATGAAGCTGGGCGCCTAAAGCAAGGCTTAGGGTACCGGTCGGGGCGATTAATGGCGGGAGGAGAGGGCTTAAAGACAGCAATTCGATACATGAATCGCCCAAGGAGTGCTCTCTTCTACATTAGTA'\n",
    "my_dict = {}\n",
    "\n",
    "for letter in my_str:\n",
    "    if letter in my_dict.keys():\n",
    "        my_dict[letter]+= 1\n",
    "    else: \n",
    "        my_dict[letter]= 1\n",
    "    \n",
    "print('{0} {1} {2} {3}'.format(my_dict['A'], my_dict['C'], my_dict['G'], my_dict['T']))\n"
   ]
  },
  {
   "cell_type": "code",
   "execution_count": 3,
   "metadata": {},
   "outputs": [],
   "source": [
    "with open('rosalind_gc.txt') as f:\n",
    "    content = f.readlines()"
   ]
  },
  {
   "cell_type": "code",
   "execution_count": 4,
   "metadata": {},
   "outputs": [
    {
     "data": {
      "text/plain": [
       "['>Rosalind_3421\\n',\n",
       " 'GATAATTACTGTGTAATAGTAGCATGTTTGGCCCCAGATTCGCTCAGCTTCGCTATTATA\\n',\n",
       " 'TCAGCAATGGCCAATAATCGACCTAGGGACATCGTACAGACCCTCTGTTCCATTCATAAT\\n',\n",
       " 'TGGACATCCTCGCGGCTTAGCACTTGTACCGCCACAATCTAGAGGGCCTTAAGTAGCTAC\\n',\n",
       " 'CGTGCACGTAGCATGGGCTACGCCGAAGGTCATAAAGTATTTAATGTTGCGTACTCTCGA\\n',\n",
       " 'TCAGCCCAGTTTTTTGGACTTCACTAACGTTCCGAACCTCGTTATCGCCAAAGAACTTTA\\n',\n",
       " 'CTAACTCGCCGAGGTTCGCCCTTTTTCGGAAACGATAAAGACGGTACGACATACTAGGCG\\n',\n",
       " 'GGGCGCAGGTCTCGGAAGCCAGAATGCTGCGAGGGTCTGGAGGTATGTGGTCGATCACCA\\n',\n",
       " 'TTAGCCAAGAAACCTGTCGGCGGACGGGTCGTAGAAGGGTACCACGCACCCCGTCCTTGA\\n',\n",
       " 'GGGTTTACTCCGTAATTTGGTATTATTAGGTCTCCACCAGGATGCCCCCTTAGAGCCTCC\\n',\n",
       " 'CGGCGGCGATTAATAAGCCTACAGCGTCTACCTACAGGTCATGCAGTGGGGCGCAGTTCA\\n',\n",
       " 'CCTTCGAGATGTGGTACGGGATCCAGTCTGGCCGTTAGACATAGATACAAATTCCTTCCA\\n',\n",
       " 'CGGCCACGACCGCCATGGATATACCAGATGAGTGCTTGGTGAGTTTATCTTCGGCGCTTA\\n',\n",
       " 'GTGAAGTTTTCTTACACGGGTGACTTATACCCTGAAGACAGATCACCGCATTCACTGCTG\\n',\n",
       " 'GCCTGACGCCTAATCTTAATCATC\\n',\n",
       " '>Rosalind_5402\\n',\n",
       " 'CGCTGCGACGTTGGCAGACTTCTGGAAGTTCGGTTCAACACTGAAATACATCATGGGCTC\\n',\n",
       " 'GATGGACGTGCTCCCAAGAATCCGCAGCTGCTAAGTCGACGCTCGGATAACAGCTGGAGC\\n',\n",
       " 'ATGATAACTCTTTATCGTCACGACCGGCTACTGCAAACAAGGTATCCGAGGATGGATCCC\\n',\n",
       " 'AAGACCGAACCCCAGTAGGTCAGCAAGATCCCCTAGGCCTGTGTCAACCAAGGAAAGTAT\\n',\n",
       " 'TCTCTGTCAGTCCCAACCCGCTAAGCCCTCTAGGACTCTAAGGATAATACGACCTCTTAC\\n',\n",
       " 'GTTGGGGAACACTCGTTCGCGATTTCCCGGAGCAAGCTGTGGGTGGACGTTTGAAATGTA\\n',\n",
       " 'CGACTTCGATGCGAGTACGAGCGAACGAAAGTGTTTATGCTCGTCCGTCCCGGATGTCTG\\n',\n",
       " 'GGACATCCAGCGACAGTTGTACATGTGATTTCGGTTCGTCCGAAGAAACACTCGGGGGCC\\n',\n",
       " 'AGGAAGCCTCACGCTACTTGGCGCGGACTCCGAAGCGGAGAATCCCGGGGTTAAAATACG\\n',\n",
       " 'CCTGCCACTACCCGCGGTCATGATGATCGAGACTCTTCCCAGACTAACCGCTCAGTATTG\\n',\n",
       " 'GTCACTTCGTGGTCGCGTTCCCCGCATTCCTTTAGCATCGGTGTTTGAAATTGCAGTCCT\\n',\n",
       " 'ACGCCACGTCCAAGTATGAAAAATAAAAGATAACTACTGGGATTCATACCAACCGGGAAC\\n',\n",
       " 'CCGGTCCCCGTTCCTACTGTTATACTTCCGCCATGCCACGTCAGCCTACTAACACATGGG\\n',\n",
       " 'AGGCATTGTACCGTTATTCTAATTTCCCCCCAGAGTGAGCTTGTACTCCGACCAGTCATA\\n',\n",
       " 'TTAAGATATGCTGCCGACTGAACCTAGTGTCTGCACGAGGATGAATCAAGCCAACCAGAT\\n',\n",
       " 'ATAAGGATGTCGAAGTGGCTCGGTATTGAATATTAAAGCAGAAGTACGTGATTGGACGCC\\n',\n",
       " 'AGCGTTGATGCCGAGTCCGTAAGTTCA\\n',\n",
       " '>Rosalind_6819\\n',\n",
       " 'GTGTTCGGATGCTTCTCTGCGTTATCCCCATCGTGACTGCGTAGCTCTCAACGGTAAGGA\\n',\n",
       " 'CGAGGGACCGGGCCGGACGAAAGAACGGACACCATGCTAATTTTGATTTTTCTTGCCTTT\\n',\n",
       " 'CCGGAGGACCCGCCTCCGTACCTACCACCGAAGAACTGAGGAGCTTATTTAACCGTGTAC\\n',\n",
       " 'GTAGTGCGGGACGCTCACCCTAAGCTTCGACGCTATCGGACTTGTCACCATTGCAGGAAG\\n',\n",
       " 'GACTTAAAGAACAATTCACCCGGCCTAGAAGTTTTCAAAACAGAGCCCGAGCACATTAAT\\n',\n",
       " 'TTGATGGAACTACTCTGTCTAGACATCGATGTGCGGCTCTCTAATACCGCTAGCGCTGAT\\n',\n",
       " 'GCAAACACGCACAATCCGACAACCAAGGCTCCATTGTTTGTTGCGATCATTTCACCGTCT\\n',\n",
       " 'TTCCTGCTCGTCAAAAAGCATACGCACAATATGTGATTGGTAGCAACATGGTTAAGCTCA\\n',\n",
       " 'GACCAAAGATTCGTGAAAATGCTTTCATACCCACTGGCGCCATTGGAGCCGGAAGCCACA\\n',\n",
       " 'GTGGTCTCAAGCCGTCCGTTCGACTACCAAAAGCTTACGCTCCATGTTACGGATACTGTA\\n',\n",
       " 'CAAAAAGCAAGGGATTGGCCTCGAGGATCACGTATTTTTCTCACTCTGGAATAAAGTCAG\\n',\n",
       " 'GGATAGAAACCGCTTACGAATCCGATTGGAATTCCGTGTTTACTCTGGCTCCGTCCTGCG\\n',\n",
       " 'CTAATCCATTGGCTTGGCGTAGTACGGCGTCGGATTCTTTATCGACAGTAGGGGGAACCT\\n',\n",
       " 'CGGTTTCTAGGTATGTGAGTTAGTTAATGCGTGGAGCCAAGCTTCCGGACGACCGTAATG\\n',\n",
       " 'AATTGAAGGGCAGTAGGCCAAACGTCCAATTATATGGCTTCCCGGGATTTTG\\n',\n",
       " '>Rosalind_9164\\n',\n",
       " 'ATCATGGAGACCGAGGGCTGGTTATGACCGCCCCCATTGAAAGCGGTTTATCTCAACAAT\\n',\n",
       " 'CCTGCGCGTTCCTCCTGGAGTTGTAGGGCGCATGGACGTATGCTGTCAATAAGTCGCCGC\\n',\n",
       " 'GGTAGCTTCCCTTCGGTCCAGACGGATATATCTGGTAAATGATCGGCTGGTACCCGCAGC\\n',\n",
       " 'CAGACACTGTGTTCACGACCACGGCAGCGGTGTCGTGGTCCCGTTTGATACATTGTGGGG\\n',\n",
       " 'ATAGCCCCACGCAGGGGCCACCGCACGTAACCGTAAGTTGACAGGGCGCCAGACGGGTCT\\n',\n",
       " 'TCTCCGTTATAGAGATCGACCGTCAACCACCATCGCGAAGAGCCAGTTGGTCCATAAGGG\\n',\n",
       " 'TAGGGTATTGTATAATGCTAGTCCTATGATTTCCTTCTACGAAAATTTATCATAAGATAC\\n',\n",
       " 'GTCGTACCTAACCTGACAACAATAATTCATCATAAAAGCCCGCACCGCAGAACGTATGTC\\n',\n",
       " 'TATACGCACTTCAACCTGAACCATCCCACTGTCCTATCCGTTGAGGGATTTGCTAAGTGA\\n',\n",
       " 'ACACGATTTTACTGATTCAGAAATCATGGTTCTTATGCCTTACTCACCTCTCTTTGGGTC\\n',\n",
       " 'GAGATGAACTCGAGCAATCCGAGCAGCTAGCACGATGCGCAGCAGCAAGGTACTTCATAG\\n',\n",
       " 'ATGGAGTTTTGCGAAGAGTTCAGCTCTCCAACTGTCATCTGTCCACTGCTCAATAAGTAG\\n',\n",
       " 'ACCTTACCTCACCCCAAGCTGCAATGTTCGACTGCCGATGGCACTGCTGTTCTTCCCAGA\\n',\n",
       " 'GCTGTCAGTAACATCACCTAGGCTAACTCTGGACACCTACAGCGCAATACACCAGGGACT\\n',\n",
       " 'TGCA\\n',\n",
       " '>Rosalind_2451\\n',\n",
       " 'ACACCGCTCAAGACTCGAGAGAAATCTTTGGCGACGTTGGCCAGCACCAGTCTTAATGAT\\n',\n",
       " 'CAGCGTGTTTCCAACGTACCTGGACAATGTAGTACCGCTCCCACGATCTGTATCACATTC\\n',\n",
       " 'GAGACAAAGATGTGGATATCATAGTCGAATCTGACTTTAATTCGTGAGTGTTAAGCCGCG\\n',\n",
       " 'TCGATTACCACTACAGATCAAGGACGGAAGAAGAGGTGCTCCAGACTTATCATCCGGTTA\\n',\n",
       " 'CGCTCATACTCACAGCCAGCAAATCCCACGGGAAGATGCGATTGAGCTCGACGCCTTGGC\\n',\n",
       " 'GCGATCCCGAATTGCGCTCATGCTCTGTATCTTGTAAGTGACAACCTTTAGGCCGGTTCA\\n',\n",
       " 'GAATTCCCCAGTACTCTGCATGCTCCCCCATGCGTCGGATCTTGGTTCTACTAACAGATA\\n',\n",
       " 'GTATAAACCAAGTGGACTATCCACTCTTTTTTGGCCTTTTTTACTCCAAGTATCCTCCGG\\n',\n",
       " 'ATTTGGGACGCAAACTCATCAGGTACTGGAGTGTCGGTGAGGGGGTAGGTTGAATGAACC\\n',\n",
       " 'TTGAGAAGCGGCGCGACCATTGGGCAATTCCGCCCAACGCCCTCACATAGATCCAACTTC\\n',\n",
       " 'GCGCGCAAACCCCGTACGGCACCAATCAGAACAAAATCAGGTCCAGGAGTAGGATCCCCA\\n',\n",
       " 'GAGACTCCACCTGCCGATTGCAGGGCGTTGTTAGATGGTAGCTCTTAGTGAAACCAATTT\\n',\n",
       " 'CGTGGAATCGTATGCCATCTTGGCACGTTGGAAGATGGCATCCACTGGCCAATCAAATTT\\n',\n",
       " 'GACCGGGCAAAACCGGCTACACGCGGTGGGTAGGCCAGGGGGTTCGTTTGAGGGGGGT\\n',\n",
       " '>Rosalind_6889\\n',\n",
       " 'CCTACTCCAGCTACCGGGTCCACCATGTGGATGTCATGCTCACCGCTCATGGAAGCCTTG\\n',\n",
       " 'TACACCTGGGTCTGAGCTGAGCCCTTCTACAATATGTCACATGGCTACATGCTCCTTGCT\\n',\n",
       " 'GCACTGCAGTTCAGGATATATCCTAACAGAGGGCCCACACATATTCAAAGGTATAAGGAC\\n',\n",
       " 'GCGTTAGATGTGGTGTCGCCAACCGCCGTTGGCACTCTCACCGACGTCTAGGACAGTCAA\\n',\n",
       " 'ACTGGTTGCGCGGAGGGGATGCAGGCGGTCGCAAAGGTTAGGTGGCAGCCGTCGAGAAAG\\n',\n",
       " 'CAAAACATTGAGGGGATGTACTGAGTCGCCTACTATAATGCAGATACGAAGTATTTCAGG\\n',\n",
       " 'AAGTGATGCACAGGTGGAAAGCCGACGCGGCAGATAGAGAGCGTCGCCTACAAAACAAGG\\n',\n",
       " 'GCTAAGGGGCGCGGCTAGTAATGTCTTCTAGGTCAACAACGGATTAGGCATCAGATGCCC\\n',\n",
       " 'TTGCGGATCTAGTCGATATCCCGCCCTGAGTTAGTACCATTGATCTTAGTGATGCATAGC\\n',\n",
       " 'GAGCCAGGCACAGGTTAGCGGAGAAAGAAACCCAAGATCGAAAGGTCACGACCTCTTCCA\\n',\n",
       " 'CTGTTCTATGGGTCCCTTGCGTTCAACTCGGAGCAGATGTTTAGATTCCAAATTTGTCTG\\n',\n",
       " 'TTGGTCGAACCGCTGGGCAGGGTCTACCCAATCGGCTGCCATCTTTGAGGAATACATGAA\\n',\n",
       " 'ACGCCCCCCCCTCAACACGTAGGCTATGAGCTTATTGTGTTTATTTGCGGACTGGAATGT\\n',\n",
       " 'AGTCCTTCCCTTTTAAGTCCCTGCACATCTAGGTCGAAATTCTCCCCTTTGTCCTATTGG\\n',\n",
       " 'TGCTGGAGCAGTAATGCTGGTGGCTTCCA\\n']"
      ]
     },
     "execution_count": 4,
     "metadata": {},
     "output_type": "execute_result"
    }
   ],
   "source": [
    "content"
   ]
  },
  {
   "cell_type": "code",
   "execution_count": 5,
   "metadata": {},
   "outputs": [
    {
     "name": "stdout",
     "output_type": "stream",
     "text": [
      "['Rosalind_3421', 'Rosalind_5402', 'Rosalind_6819', 'Rosalind_9164', 'Rosalind_2451', 'Rosalind_6889']\n",
      "['GATAATTACTGTGTAATAGTAGCATGTTTGGCCCCAGATTCGCTCAGCTTCGCTATTATA', 'TCAGCAATGGCCAATAATCGACCTAGGGACATCGTACAGACCCTCTGTTCCATTCATAAT', 'TGGACATCCTCGCGGCTTAGCACTTGTACCGCCACAATCTAGAGGGCCTTAAGTAGCTAC', 'CGTGCACGTAGCATGGGCTACGCCGAAGGTCATAAAGTATTTAATGTTGCGTACTCTCGA', 'TCAGCCCAGTTTTTTGGACTTCACTAACGTTCCGAACCTCGTTATCGCCAAAGAACTTTA', 'CTAACTCGCCGAGGTTCGCCCTTTTTCGGAAACGATAAAGACGGTACGACATACTAGGCG', 'GGGCGCAGGTCTCGGAAGCCAGAATGCTGCGAGGGTCTGGAGGTATGTGGTCGATCACCA', 'TTAGCCAAGAAACCTGTCGGCGGACGGGTCGTAGAAGGGTACCACGCACCCCGTCCTTGA', 'GGGTTTACTCCGTAATTTGGTATTATTAGGTCTCCACCAGGATGCCCCCTTAGAGCCTCC', 'CGGCGGCGATTAATAAGCCTACAGCGTCTACCTACAGGTCATGCAGTGGGGCGCAGTTCA', 'CCTTCGAGATGTGGTACGGGATCCAGTCTGGCCGTTAGACATAGATACAAATTCCTTCCA', 'CGGCCACGACCGCCATGGATATACCAGATGAGTGCTTGGTGAGTTTATCTTCGGCGCTTA', 'GTGAAGTTTTCTTACACGGGTGACTTATACCCTGAAGACAGATCACCGCATTCACTGCTG', 'GCCTGACGCCTAATCTTAATCATC', 'CGCTGCGACGTTGGCAGACTTCTGGAAGTTCGGTTCAACACTGAAATACATCATGGGCTC', 'GATGGACGTGCTCCCAAGAATCCGCAGCTGCTAAGTCGACGCTCGGATAACAGCTGGAGC', 'ATGATAACTCTTTATCGTCACGACCGGCTACTGCAAACAAGGTATCCGAGGATGGATCCC', 'AAGACCGAACCCCAGTAGGTCAGCAAGATCCCCTAGGCCTGTGTCAACCAAGGAAAGTAT', 'TCTCTGTCAGTCCCAACCCGCTAAGCCCTCTAGGACTCTAAGGATAATACGACCTCTTAC', 'GTTGGGGAACACTCGTTCGCGATTTCCCGGAGCAAGCTGTGGGTGGACGTTTGAAATGTA', 'CGACTTCGATGCGAGTACGAGCGAACGAAAGTGTTTATGCTCGTCCGTCCCGGATGTCTG', 'GGACATCCAGCGACAGTTGTACATGTGATTTCGGTTCGTCCGAAGAAACACTCGGGGGCC', 'AGGAAGCCTCACGCTACTTGGCGCGGACTCCGAAGCGGAGAATCCCGGGGTTAAAATACG', 'CCTGCCACTACCCGCGGTCATGATGATCGAGACTCTTCCCAGACTAACCGCTCAGTATTG', 'GTCACTTCGTGGTCGCGTTCCCCGCATTCCTTTAGCATCGGTGTTTGAAATTGCAGTCCT', 'ACGCCACGTCCAAGTATGAAAAATAAAAGATAACTACTGGGATTCATACCAACCGGGAAC', 'CCGGTCCCCGTTCCTACTGTTATACTTCCGCCATGCCACGTCAGCCTACTAACACATGGG', 'AGGCATTGTACCGTTATTCTAATTTCCCCCCAGAGTGAGCTTGTACTCCGACCAGTCATA', 'TTAAGATATGCTGCCGACTGAACCTAGTGTCTGCACGAGGATGAATCAAGCCAACCAGAT', 'ATAAGGATGTCGAAGTGGCTCGGTATTGAATATTAAAGCAGAAGTACGTGATTGGACGCC', 'AGCGTTGATGCCGAGTCCGTAAGTTCA', 'GTGTTCGGATGCTTCTCTGCGTTATCCCCATCGTGACTGCGTAGCTCTCAACGGTAAGGA', 'CGAGGGACCGGGCCGGACGAAAGAACGGACACCATGCTAATTTTGATTTTTCTTGCCTTT', 'CCGGAGGACCCGCCTCCGTACCTACCACCGAAGAACTGAGGAGCTTATTTAACCGTGTAC', 'GTAGTGCGGGACGCTCACCCTAAGCTTCGACGCTATCGGACTTGTCACCATTGCAGGAAG', 'GACTTAAAGAACAATTCACCCGGCCTAGAAGTTTTCAAAACAGAGCCCGAGCACATTAAT', 'TTGATGGAACTACTCTGTCTAGACATCGATGTGCGGCTCTCTAATACCGCTAGCGCTGAT', 'GCAAACACGCACAATCCGACAACCAAGGCTCCATTGTTTGTTGCGATCATTTCACCGTCT', 'TTCCTGCTCGTCAAAAAGCATACGCACAATATGTGATTGGTAGCAACATGGTTAAGCTCA', 'GACCAAAGATTCGTGAAAATGCTTTCATACCCACTGGCGCCATTGGAGCCGGAAGCCACA', 'GTGGTCTCAAGCCGTCCGTTCGACTACCAAAAGCTTACGCTCCATGTTACGGATACTGTA', 'CAAAAAGCAAGGGATTGGCCTCGAGGATCACGTATTTTTCTCACTCTGGAATAAAGTCAG', 'GGATAGAAACCGCTTACGAATCCGATTGGAATTCCGTGTTTACTCTGGCTCCGTCCTGCG', 'CTAATCCATTGGCTTGGCGTAGTACGGCGTCGGATTCTTTATCGACAGTAGGGGGAACCT', 'CGGTTTCTAGGTATGTGAGTTAGTTAATGCGTGGAGCCAAGCTTCCGGACGACCGTAATG', 'AATTGAAGGGCAGTAGGCCAAACGTCCAATTATATGGCTTCCCGGGATTTTG', 'ATCATGGAGACCGAGGGCTGGTTATGACCGCCCCCATTGAAAGCGGTTTATCTCAACAAT', 'CCTGCGCGTTCCTCCTGGAGTTGTAGGGCGCATGGACGTATGCTGTCAATAAGTCGCCGC', 'GGTAGCTTCCCTTCGGTCCAGACGGATATATCTGGTAAATGATCGGCTGGTACCCGCAGC', 'CAGACACTGTGTTCACGACCACGGCAGCGGTGTCGTGGTCCCGTTTGATACATTGTGGGG', 'ATAGCCCCACGCAGGGGCCACCGCACGTAACCGTAAGTTGACAGGGCGCCAGACGGGTCT', 'TCTCCGTTATAGAGATCGACCGTCAACCACCATCGCGAAGAGCCAGTTGGTCCATAAGGG', 'TAGGGTATTGTATAATGCTAGTCCTATGATTTCCTTCTACGAAAATTTATCATAAGATAC', 'GTCGTACCTAACCTGACAACAATAATTCATCATAAAAGCCCGCACCGCAGAACGTATGTC', 'TATACGCACTTCAACCTGAACCATCCCACTGTCCTATCCGTTGAGGGATTTGCTAAGTGA', 'ACACGATTTTACTGATTCAGAAATCATGGTTCTTATGCCTTACTCACCTCTCTTTGGGTC', 'GAGATGAACTCGAGCAATCCGAGCAGCTAGCACGATGCGCAGCAGCAAGGTACTTCATAG', 'ATGGAGTTTTGCGAAGAGTTCAGCTCTCCAACTGTCATCTGTCCACTGCTCAATAAGTAG', 'ACCTTACCTCACCCCAAGCTGCAATGTTCGACTGCCGATGGCACTGCTGTTCTTCCCAGA', 'GCTGTCAGTAACATCACCTAGGCTAACTCTGGACACCTACAGCGCAATACACCAGGGACT', 'TGCA', 'ACACCGCTCAAGACTCGAGAGAAATCTTTGGCGACGTTGGCCAGCACCAGTCTTAATGAT', 'CAGCGTGTTTCCAACGTACCTGGACAATGTAGTACCGCTCCCACGATCTGTATCACATTC', 'GAGACAAAGATGTGGATATCATAGTCGAATCTGACTTTAATTCGTGAGTGTTAAGCCGCG', 'TCGATTACCACTACAGATCAAGGACGGAAGAAGAGGTGCTCCAGACTTATCATCCGGTTA', 'CGCTCATACTCACAGCCAGCAAATCCCACGGGAAGATGCGATTGAGCTCGACGCCTTGGC', 'GCGATCCCGAATTGCGCTCATGCTCTGTATCTTGTAAGTGACAACCTTTAGGCCGGTTCA', 'GAATTCCCCAGTACTCTGCATGCTCCCCCATGCGTCGGATCTTGGTTCTACTAACAGATA', 'GTATAAACCAAGTGGACTATCCACTCTTTTTTGGCCTTTTTTACTCCAAGTATCCTCCGG', 'ATTTGGGACGCAAACTCATCAGGTACTGGAGTGTCGGTGAGGGGGTAGGTTGAATGAACC', 'TTGAGAAGCGGCGCGACCATTGGGCAATTCCGCCCAACGCCCTCACATAGATCCAACTTC', 'GCGCGCAAACCCCGTACGGCACCAATCAGAACAAAATCAGGTCCAGGAGTAGGATCCCCA', 'GAGACTCCACCTGCCGATTGCAGGGCGTTGTTAGATGGTAGCTCTTAGTGAAACCAATTT', 'CGTGGAATCGTATGCCATCTTGGCACGTTGGAAGATGGCATCCACTGGCCAATCAAATTT', 'GACCGGGCAAAACCGGCTACACGCGGTGGGTAGGCCAGGGGGTTCGTTTGAGGGGGGT', 'CCTACTCCAGCTACCGGGTCCACCATGTGGATGTCATGCTCACCGCTCATGGAAGCCTTG', 'TACACCTGGGTCTGAGCTGAGCCCTTCTACAATATGTCACATGGCTACATGCTCCTTGCT', 'GCACTGCAGTTCAGGATATATCCTAACAGAGGGCCCACACATATTCAAAGGTATAAGGAC', 'GCGTTAGATGTGGTGTCGCCAACCGCCGTTGGCACTCTCACCGACGTCTAGGACAGTCAA', 'ACTGGTTGCGCGGAGGGGATGCAGGCGGTCGCAAAGGTTAGGTGGCAGCCGTCGAGAAAG', 'CAAAACATTGAGGGGATGTACTGAGTCGCCTACTATAATGCAGATACGAAGTATTTCAGG', 'AAGTGATGCACAGGTGGAAAGCCGACGCGGCAGATAGAGAGCGTCGCCTACAAAACAAGG', 'GCTAAGGGGCGCGGCTAGTAATGTCTTCTAGGTCAACAACGGATTAGGCATCAGATGCCC', 'TTGCGGATCTAGTCGATATCCCGCCCTGAGTTAGTACCATTGATCTTAGTGATGCATAGC', 'GAGCCAGGCACAGGTTAGCGGAGAAAGAAACCCAAGATCGAAAGGTCACGACCTCTTCCA', 'CTGTTCTATGGGTCCCTTGCGTTCAACTCGGAGCAGATGTTTAGATTCCAAATTTGTCTG', 'TTGGTCGAACCGCTGGGCAGGGTCTACCCAATCGGCTGCCATCTTTGAGGAATACATGAA', 'ACGCCCCCCCCTCAACACGTAGGCTATGAGCTTATTGTGTTTATTTGCGGACTGGAATGT', 'AGTCCTTCCCTTTTAAGTCCCTGCACATCTAGGTCGAAATTCTCCCCTTTGTCCTATTGG', 'TGCTGGAGCAGTAATGCTGGTGGCTTCCA']\n"
     ]
    }
   ],
   "source": [
    "stringy = ''\n",
    "empty = []\n",
    "keys = []\n",
    "new_dict = {}\n",
    "\n",
    "for line in content:\n",
    "#     while line != \">Rosalind_\":\n",
    "    if '>Rosalind' in line:\n",
    "# #         line.strip(\">\")\n",
    "        keys.append(line[1:14])\n",
    "    else:\n",
    "        empty.append(line.strip('>\\n,'))\n",
    "print(keys)\n",
    "print(empty)\n",
    "\n",
    "# NEED HELP PARSING OUT FASTA FILE\n",
    "# TO BE CONTINUED..."
   ]
  },
  {
   "cell_type": "markdown",
   "metadata": {},
   "source": [
    "- - - - - - - - - - - - \n",
    "Problem\n",
    "\n",
    "Figure 2. The Hamming distance between these two strings is 7. Mismatched symbols are colored red.\n",
    "Given two strings s and t of equal length, the Hamming distance between s and t, denoted dH(s,t), is the number of corresponding symbols that differ in s and t. See Figure 2.\n",
    "\n",
    "Given: Two DNA strings s and t of equal length (not exceeding 1 kbp).\n",
    "\n",
    "Return: The Hamming distance dH(s,t).\n",
    "\n",
    "Sample Dataset\n",
    "GAGCCTACTAACGGGAT\n",
    "CATCGTAATGACGGCCT\n",
    "\n",
    "Sample Output\n",
    "7"
   ]
  },
  {
   "cell_type": "code",
   "execution_count": 23,
   "metadata": {},
   "outputs": [
    {
     "name": "stdout",
     "output_type": "stream",
     "text": [
      "457\n"
     ]
    }
   ],
   "source": [
    "str_one = 'ATGGACTCCAACTTTGTGGCGACTATATGTGCATTAAGATAGTACATCAGAATTCGGCATTGTGACCTGAGCCCGCTGTCCCGAGAGGGGGTTGATACTGTCCAGTACATGGGGTGCCGAGTCCGACGGACACTTTGACCGGTTCAGAAGTCCCAAACCTGCGGCACTCGTCGATAAGTGGAGGGCAGATCTATACAGGTTTTTAGTCGTAGCATACTATCAATGTCACCCCTGGCCAGTGAGTTTGTGCTGAAGCTTCCCTTTAGTTTTGTCTACATCAGCCAAAGTTCCTAATACGAGGGTCTGAGCGGTTACAGTAAGCTCATCCAGACCTCATAAGCCACGACTGACGCTCAAGGTTATGTTGTTTCCCAAACATATGACTACAGTCCAGTTAAGGGCCTACGGCGTCAGTTCGTGCCTTAGGATTAGTCCAATCCATAACACAGGAATAAGCTCCGGTGTTTATTAAGGTTGGGGAAAGAGGTGTGGCTCATCTCTTCGATCAGGGACTCTGGCTCCGGCATAACCGATCCCGGCAAAGGACGTATTTAATTTTGAATTTGCAACGCGGGGATTACATGTTCTCGATGTACCAGTTCCCGCCTCGGGCCCGGCAGCCTGCTTGTGATCTCACTGTTTTCTGGTTCAAGGCACACTATAAGCGCCCCCGGGGCCTACCCGGGGAACGATTGGCGTCAGTGCCGCTTGAGGATACTCGTGCTGTTGCTGGCCCCTGTCTCTTGCCTCAGTTCCATAGCTCCGGTACTCGAACCCTGAATCCATACTTCCCGGGCGAAGGGCGGCCGGCTCTGGTCCACAGAAGCGGAATTTAACTCATATCTAGCGTAGTTCAGGACATGGAGTCAGGTATAAACGTAGCCTATCCTATTGGTCCAGCCATACGTACCATAGCATTGCCGGGGAAATACTACCCGGTT'\n",
    "str_two = 'ATCGACTCCACCACTCTGACGTCACTGGCTATTTTATAACCGTACAGCAGACTCGCCGATCCCGACGTTCTCGTGCGGTTTTGGGCAGGGGTTGATATAGTCGTGGACAGCGGATGTCAGGTGCTTTCAACGGCCGTTCAGGTCCTCCCGTTTAATCCAAGTAGAAGGTGTCGAAAATGCGGACAGATATTCATTAAGAGTATTTTTGGTGACGCACCATAAATATATCCCTTCGGGAGCAAGGCTGCTGTTAAGTCACCGACAAGTGATGACTACGTCAGGCACCAGTGAGCAGGCGTGGCGCTACACCTTTAGATACCGCACGAGTTGTACGCTTTATCTAATTGTCGCTCCCCGGGCGCTGGTGGTTACCAGTTACAAGTCTACTGTATAATTGTGGTACCACGGCGACAGGTCGGGATTTTGGCTTTGAGCACTGCAATGGAAGTGAAAAAGAATCTGGGATTCTTAACCTTCGATATGAAGTCTTCGACCATTTCAACTATCAAACCCCAGTAGTCCGGAAAATCCGAGCCCAGTACCTTCCAGGTTAACAACAGAATTTGTGGCCGAGAGCTTCTGTAAGCGCGCGGTACGGGTTGGCTATCGGGGATCGGCGTACAATTTGTGACCTCGACGGTTTCGGCGTCATAGGATGGGGTACGAGCACCTGAAGCCACAACGGGGAAAGAATGCCGCACGAGTAGCTTGCGGTGTCTTGAACGGCTAGAGTACTCCATTTCGTGCTTGGATTGCCTAGGTGCGTAAACTGGATGCTGAATCTATCATTATATTATGAAGTGCTGCCGTCTCAGGTAAACGCCCGCCGGATTGTTAGGCTGTATTCCCGACGCGGGGACGTGGACTGTAGTATTCCGTTACCCTTTCCCAAAATCCCAGCCATCCGACCAAGAGCATTTCCGTGGTAACATTAATTGGAC'\n",
    "hamming_counter = 0\n",
    "\n",
    "for a,b in zip(str_one, str_two):\n",
    "    if (a != b):\n",
    "        hamming_counter += 1\n",
    "\n",
    "print(hamming_counter)\n",
    "        "
   ]
  },
  {
   "cell_type": "code",
   "execution_count": null,
   "metadata": {},
   "outputs": [],
   "source": []
  },
  {
   "cell_type": "markdown",
   "metadata": {},
   "source": [
    "- - - - - - - - - -\n",
    "Rearrangements Power Large-Scale Genomic Changes\n",
    "\n",
    "Problem\n",
    "A permutation of length n is an ordering of the positive integers {1,2,…,n}. For example, π=(5,3,2,1,4) is \n",
    "a permutation of length 5.\n",
    "\n",
    "Given: A positive integer n≤7.\n",
    "\n",
    "Return: The total number of permutations of length n, followed by a list of all such permutations (in any order).\n",
    "\n",
    "Sample Dataset\n",
    "3\n",
    "\n",
    "Sample Output\n",
    "6\n",
    "1 2 3\n",
    "1 3 2\n",
    "2 1 3\n",
    "2 3 1\n",
    "3 1 2\n",
    "3 2 1"
   ]
  },
  {
   "cell_type": "code",
   "execution_count": 25,
   "metadata": {},
   "outputs": [
    {
     "name": "stdout",
     "output_type": "stream",
     "text": [
      "6\n"
     ]
    }
   ],
   "source": [
    "n = 3\n",
    "\n",
    "print(n * (n-1) * (n-2))"
   ]
  },
  {
   "cell_type": "code",
   "execution_count": 29,
   "metadata": {},
   "outputs": [],
   "source": [
    "def permutation(n):\n",
    "    for num in range(0,(n+1)):\n",
    "        print(num)"
   ]
  },
  {
   "cell_type": "code",
   "execution_count": 30,
   "metadata": {},
   "outputs": [
    {
     "name": "stdout",
     "output_type": "stream",
     "text": [
      "0\n",
      "1\n",
      "2\n",
      "3\n"
     ]
    }
   ],
   "source": [
    "permutation(3)"
   ]
  },
  {
   "cell_type": "markdown",
   "metadata": {},
   "source": [
    "- - - - - - - - - - - -\n",
    "The World's Biggest Genetic Database\n",
    "\n",
    "Problem\n",
    "GenBank comprises several subdivisions:\n",
    "\n",
    "Nucleotide: a collection of nucleic acid sequences from several sources.\n",
    "Genome Survey Sequence (GSS): uncharacterized short genomic sequences.\n",
    "Expressed Sequence Tags, (EST): uncharacterized short cDNA sequences.\n",
    "Searching the Nucleotide database with general text queries will produce the most relevant results. You can also use a simple query based on protein name, gene name or gene symbol.\n",
    "\n",
    "To limit your search to only certain kinds of records, you can search using GenBank's Limits page or alternatively use the Filter your results field to select categories of records after a search.\n",
    "\n",
    "If you cannot find what you are searching for, check how the database interpreted your query by investigating the Search details field on the right side of the page. This field automatically translates your search into standard keywords.\n",
    "\n",
    "For example, if you search for Drosophila, the Search details field will contain (Drosophila[All Fields]), and you will obtain all entries that mention Drosophila (including all its endosymbionts). You can restrict your search to only organisms belonging to the Drosophila genus by using a search tag and searching for Drosophila[Organism].\n",
    "\n",
    "Given: A genus name, followed by two dates in YYYY/M/D format.\n",
    "\n",
    "Return: The number of Nucleotide GenBank entries for the given genus that were published between the dates specified.\n",
    "\n",
    "Sample Dataset\n",
    "\n",
    "Anthoxanthum\n",
    "2003/7/25\n",
    "2005/12/27\n",
    "\n",
    "Sample Output\n",
    "7"
   ]
  },
  {
   "cell_type": "markdown",
   "metadata": {},
   "source": [
    "# Given this information in rosalind_gbk.txt\n",
    "Sporopachydermia\n",
    "2003/01/03\n",
    "2011/08/28"
   ]
  },
  {
   "cell_type": "markdown",
   "metadata": {},
   "source": [
    "Result found on https://www.ncbi.nlm.nih.gov/nuccore was:\n",
    "24"
   ]
  },
  {
   "cell_type": "code",
   "execution_count": 13,
   "metadata": {},
   "outputs": [],
   "source": []
  },
  {
   "cell_type": "code",
   "execution_count": 26,
   "metadata": {},
   "outputs": [],
   "source": [
    "\n",
    "from itertools import groupby\n",
    "\n",
    "def fasta_iter(fasta_name):\n",
    "\n",
    "    fh = open(fasta_name)\n",
    "\n",
    "# ditch the boolean (x[0]) and just keep the header or sequence since\n",
    "# we know they alternate.\n",
    "    faiter = (x[1] for x in groupby(fh, lambda line: line[0] == \">\"))\n",
    "\n",
    "    for header in faiter:\n",
    "    # drop the \">\"\n",
    "        headerStr = header.__next__()[1:].strip()\n",
    "\n",
    "    # join all sequence lines to one.\n",
    "        seq = \"\".join(s.strip() for s in faiter.__next__())\n",
    "\n",
    "        yield (headerStr, seq)\n",
    "\n"
   ]
  },
  {
   "cell_type": "code",
   "execution_count": 47,
   "metadata": {},
   "outputs": [
    {
     "name": "stdout",
     "output_type": "stream",
     "text": [
      "Rosalind_5402 0.5103294249022893\n"
     ]
    }
   ],
   "source": [
    "fiter = fasta_iter('rosalind_gc.txt')\n",
    "temp_dict = {}\n",
    "new_dict = {}\n",
    "\n",
    "for ff in fiter:\n",
    "    headerStr, seq = ff\n",
    "    \n",
    "    for letter in seq:\n",
    "#         print(letter)\n",
    "        if letter in temp_dict.keys():\n",
    "            temp_dict[letter]+= 1\n",
    "        else:  \n",
    "            temp_dict[letter]= 1\n",
    "#     print(headerStr)\n",
    "#     print((temp_dict['C'] + temp_dict['G']) / (temp_dict['A'] + temp_dict['C'] + temp_dict['G'] + temp_dict['T']))\n",
    "    new_dict[headerStr] = ((temp_dict['C'] + temp_dict['G']) / (temp_dict['A'] + temp_dict['C'] + temp_dict['G'] + temp_dict['T']))\n",
    "    \n",
    "# print(new_dict)\n",
    "#     print('{} {}'.format(keys, item))\n",
    "new_vals=list(new_dict.values())\n",
    "new_keys=list(new_dict.keys())\n",
    "print(new_keys[new_vals.index(max(new_vals))], new_dict[new_keys[new_vals.index(max(new_vals))]])"
   ]
  },
  {
   "cell_type": "code",
   "execution_count": 50,
   "metadata": {},
   "outputs": [
    {
     "name": "stdout",
     "output_type": "stream",
     "text": [
      "{'Rosalind_8746': 0.48216340621403914, 'Rosalind_7920': 0.49236192714453586, 'Rosalind_8823': 0.4845322400298174, 'Rosalind_7246': 0.49086944671572635, 'Rosalind_6482': 0.4950805008944544, 'Rosalind_0943': 0.4963113242345998}\n",
      "Rosalind_0943 49.63113242345998\n"
     ]
    }
   ],
   "source": [
    "fiter = fasta_iter('rosalind_gc.txt')\n",
    "temp_dict = {}\n",
    "new_dict = {}\n",
    "\n",
    "for ff in fiter:\n",
    "    headerStr, seq = ff\n",
    "    \n",
    "    for letter in seq:\n",
    "#         print(letter)\n",
    "        if letter in temp_dict.keys():\n",
    "            temp_dict[letter]+= 1\n",
    "        else:  \n",
    "            temp_dict[letter]= 1\n",
    "#     print(headerStr)\n",
    "#     print((temp_dict['C'] + temp_dict['G']) / (temp_dict['A'] + temp_dict['C'] + temp_dict['G'] + temp_dict['T']))\n",
    "    new_dict[headerStr] = ((temp_dict['C'] + temp_dict['G']) / (temp_dict['A'] + temp_dict['C'] + temp_dict['G'] + temp_dict['T']))\n",
    "    \n",
    "print(new_dict)\n",
    "#     print('{} {}'.format(keys, item))\n",
    "new_vals=list(new_dict.values())\n",
    "new_keys=list(new_dict.keys())\n",
    "print(new_keys[new_vals.index(max(new_vals))], new_dict[new_keys[new_vals.index(max(new_vals))]]*100)\n"
   ]
  },
  {
   "cell_type": "code",
   "execution_count": 52,
   "metadata": {},
   "outputs": [
    {
     "name": "stdout",
     "output_type": "stream",
     "text": [
      "Rosalind_1810 50.421654\n"
     ]
    }
   ],
   "source": [
    "fiter = fasta_iter('rosalind_gc.txt')\n",
    "temp_dict = {}\n",
    "new_dict = {}\n",
    "\n",
    "for ff in fiter:\n",
    "    headerStr, seq = ff\n",
    "    \n",
    "    for letter in seq:\n",
    "#         print(letter)\n",
    "        if letter in temp_dict.keys():\n",
    "            temp_dict[letter]+= 1\n",
    "        else:  \n",
    "            temp_dict[letter]= 1\n",
    "#     print(headerStr)\n",
    "#     print((temp_dict['C'] + temp_dict['G']) / (temp_dict['A'] + temp_dict['C'] + temp_dict['G'] + temp_dict['T']))\n",
    "    new_dict[headerStr] = ((temp_dict['C'] + temp_dict['G']) / (temp_dict['A'] + temp_dict['C'] + temp_dict['G'] + temp_dict['T']))\n",
    "    \n",
    "# print(new_dict)\n",
    "#     print('{} {}'.format(keys, item))\n",
    "new_vals=list(new_dict.values())\n",
    "new_keys=list(new_dict.keys())\n",
    "print('{} {r:1.6f}'.format(new_keys[new_vals.index(max(new_vals))], r = new_dict[new_keys[new_vals.index(max(new_vals))]]*100))\n"
   ]
  },
  {
   "cell_type": "code",
   "execution_count": 55,
   "metadata": {},
   "outputs": [
    {
     "name": "stdout",
     "output_type": "stream",
     "text": [
      "{'Rosalind_1292': 0.4859392575928009, 'Rosalind_9126': 0.48307860262008734, 'Rosalind_7920': 0.4874859917818454, 'Rosalind_7949': 0.4937106918238994, 'Rosalind_7717': 0.4963078988588051, 'Rosalind_2240': 0.49735149451381006, 'Rosalind_6026': 0.4978236337256166, 'Rosalind_3450': 0.4966545860050181}\n",
      "Rosalind_6026 49.78236337256166\n",
      "Rosalind_6026 49.782363\n"
     ]
    }
   ],
   "source": [
    "fiter = fasta_iter('rosalind_gc.txt')\n",
    "temp_dict = {}\n",
    "new_dict = {}\n",
    "\n",
    "for ff in fiter:\n",
    "    headerStr, seq = ff\n",
    "    \n",
    "    for letter in seq:\n",
    "\n",
    "        if letter in temp_dict.keys():\n",
    "            temp_dict[letter]+= 1\n",
    "        else:  \n",
    "            temp_dict[letter]= 1\n",
    "\n",
    "    new_dict[headerStr] = ((temp_dict['C'] + temp_dict['G']) / (temp_dict['A'] + temp_dict['C'] + temp_dict['G'] + temp_dict['T']))\n",
    "    \n",
    "print(new_dict)\n",
    "\n",
    "new_vals=list(new_dict.values())\n",
    "new_keys=list(new_dict.keys())\n",
    "print(new_keys[new_vals.index(max(new_vals))], new_dict[new_keys[new_vals.index(max(new_vals))]]*100)\n",
    "print('{} {r:1.8f}'.format(new_keys[new_vals.index(max(new_vals))], r = new_dict[new_keys[new_vals.index(max(new_vals))]]*100))\n"
   ]
  },
  {
   "cell_type": "code",
   "execution_count": 80,
   "metadata": {},
   "outputs": [
    {
     "name": "stdout",
     "output_type": "stream",
     "text": [
      "Rosalind_6295 52.435233%\n"
     ]
    }
   ],
   "source": [
    "fiter = fasta_iter('rosalind_gc.txt')\n",
    "temp_dict = {}\n",
    "new_dict = {}\n",
    "\n",
    "for ff in fiter:\n",
    "    headerStr, seq = ff\n",
    "    \n",
    "    for letter in seq:\n",
    "\n",
    "        if letter in temp_dict.keys():\n",
    "            temp_dict[letter]+= 1\n",
    "        else:  \n",
    "            temp_dict[letter]= 1\n",
    "\n",
    "    new_dict[headerStr] = ((temp_dict['C'] + temp_dict['G']) / (temp_dict['A'] + temp_dict['C'] + temp_dict['G'] + temp_dict['T']))\n",
    "    \n",
    "# print(new_dict)\n",
    "\n",
    "new_vals=list(new_dict.values())\n",
    "new_keys=list(new_dict.keys())\n",
    "# print(new_keys[new_vals.index(max(new_vals))], new_dict[new_keys[new_vals.index(max(new_vals))]]*100)\n",
    "print('{} {r:1.6f}%'.format(new_keys[new_vals.index(max(new_vals))], r = new_dict[new_keys[new_vals.index(max(new_vals))]]*100))\n"
   ]
  },
  {
   "cell_type": "markdown",
   "metadata": {},
   "source": [
    "- - - - - - - - - -\n",
    "Combing Throught the Haystack\n",
    "\n",
    "Problem\n",
    "Given two strings s and t, t is a substring of s if t is contained as a contiguous collection of symbols in s (as a result, t must be no longer than s).\n",
    "\n",
    "The position of a symbol in a string is the total number of symbols found to its left, including itself (e.g., the positions of all occurrences of 'U' in \"AUGCUUCAGAAAGGUCUUACG\" are 2, 5, 6, 15, 17, and 18). The symbol at position i of s is denoted by s[i].\n",
    "\n",
    "A substring of s can be represented as s[j:k], where j and k represent the starting and ending positions of the substring in s; for example, if s = \"AUGCUUCAGAAAGGUCUUACG\", then s[2:5] = \"UGCU\".\n",
    "\n",
    "The location of a substring s[j:k] is its beginning position j; note that t will have multiple locations in s if it occurs more than once as a substring of s (see the Sample below).\n",
    "\n",
    "Given: Two DNA strings s and t (each of length at most 1 kbp).\n",
    "\n",
    "Return: All locations of t as a substring of s.\n",
    "\n",
    "Sample Dataset\n",
    "GATATATGCATATACTT\n",
    "ATAT\n",
    "\n",
    "Sample Output\n",
    "2 4 10"
   ]
  },
  {
   "cell_type": "code",
   "execution_count": 101,
   "metadata": {},
   "outputs": [
    {
     "name": "stdout",
     "output_type": "stream",
     "text": [
      "2\n",
      "4\n",
      "10\n"
     ]
    }
   ],
   "source": [
    "my_str_t = 'GATATATGCATATACTT'\n",
    "my_str_s = 'ATAT'\n",
    "\n",
    "i = 0\n",
    "\n",
    "# print(len(my_str_s))\n",
    "section = my_str_t[i:(i+len(my_str_s))]\n",
    "# print(section)\n",
    "\n",
    "for section in my_str_t:\n",
    "    if my_str_t[i:(i+len(my_str_s))] == my_str_s:\n",
    "        print(i+1)\n",
    "    else:\n",
    "        pass\n",
    "    i += 1\n",
    "\n"
   ]
  },
  {
   "cell_type": "code",
   "execution_count": 103,
   "metadata": {},
   "outputs": [
    {
     "name": "stdout",
     "output_type": "stream",
     "text": [
      "10\n",
      "60\n",
      "81\n",
      "168\n",
      "226\n",
      "233\n",
      "251\n",
      "268\n",
      "308\n",
      "355\n",
      "393\n",
      "526\n",
      "541\n",
      "584\n",
      "611\n",
      "635\n",
      "653\n",
      "671\n",
      "678\n",
      "693\n",
      "767\n"
     ]
    }
   ],
   "source": [
    "my_str_t = 'ATAGCAGTATAGCAGTTAGCAGTGTTAGCAGTTGGCAAAACACTAGCAGTAAACGCAAATAGCAGTTAGCAGTGGTATGCTAGCAGTTAGCAGTCCCGCTAGCAGTATTAGGTTAGCAGTTTAGCAGTCGTTAGCAGTCAATAGCAGTATGCTGTAGTTAGCAGTCCTAGCAGTTATTAGCAGTGTAGCAGTTCACAATAGCAGTCTAGCAGTCTAGCAGTCAATTAGCAGTTAGCAGTTAGCAGTGGCATAGCAGTTAGCAGTAATTAGCAGTTAGCAGTCGTAGCAGTTCTCGGCCTAGCAGTTTTAGCAGTTAGCAGTATAGCAGTGTAGCAGTCATTAGCAGTCACATGATAGCAGTTAGTGGTTCCTAGCAGTTCTAGCAGTGTCTCTAGCAGTTAGCAGTCCAAGAATAGCAGTGAGATAGCAGTGAAGTAGGTAGCAGTGCGCTAGCAGTCAAGTAGCAGTCTTGTAGCAGTGAATAGCAGTCTAGCAGTATAGCAGTGTAGCAGTGTAGCAGTCTTATAGCAGTTAGCAGTCTAGCAGTTAGCAGTCGTAGCAGTCGTTAGCAGTGTAGCAGTCATAGCAGTTAGCAGTCCATAGCAGTTCCTAGCAGTTAGCAGTAATAGCAGTCTAGCAGTTAATAGCAGTGTAGCAGTTAGCAGTAACGTAGCAGTTAGCAGTTAGCAGTATAGCAGTTAGCAGTCCCTAGCAGTGCACTTTGCAATAGCAGTGTATAGCAGTAAAGATAATAGCAGTAGCCTGGTAGCAGTTAGCAGTAGGTTAGCAGTAGTGTTAGCAGTGCACGGGTAGCAGTTCAATAGCAGTGTAGCAGTGTCTAGCAGTCC'\n",
    "my_str_s = 'TAGCAGTTA'\n",
    "\n",
    "i = 0\n",
    "\n",
    "# section = my_str_t[i:(i+len(my_str_s))]\n",
    "\n",
    "for section in my_str_t:\n",
    "    if my_str_t[i:(i+len(my_str_s))] == my_str_s:\n",
    "        print(i+1)\n",
    "    else:\n",
    "        pass\n",
    "    i += 1\n"
   ]
  },
  {
   "cell_type": "markdown",
   "metadata": {},
   "source": [
    "- - - - - - - - - - - - - -\n",
    "FINDING A SHARED MOTIF\n",
    "\n",
    "Searching Through the Haystack\n",
    "\n",
    "Problem\n",
    "A common substring of a collection of strings is a substring of every member of the collection. We say that a \n",
    "common substring is a longest common substring if there does not exist a longer common substring. For example, \n",
    "\"CG\" is a common substring of \"ACGTACGT\" and \"AACCGTATA\", but it is not as long as possible; in this case, \n",
    "\"CGTA\" is a longest common substring of \"ACGTACGT\" and \"AACCGTATA\".\n",
    "\n",
    "Note that the longest common substring is not necessarily unique; for a simple example, \"AA\" and \"CC\" are \n",
    "both longest common substrings of \"AACC\" and \"CCAA\".\n",
    "\n",
    "Given: A collection of k (k≤100) DNA strings of length at most 1 kbp each in FASTA format.\n",
    "\n",
    "Return: A longest common substring of the collection. \n",
    "(If multiple solutions exist, you may return any single solution.)\n",
    "\n",
    "Sample Dataset\n",
    "\n",
    ">Rosalind_1\n",
    "GATTACA\n",
    "\n",
    ">Rosalind_2\n",
    "TAGACCA\n",
    "\n",
    ">Rosalind_3\n",
    "ATACA\n",
    "\n",
    "Sample Output\n",
    "AC"
   ]
  },
  {
   "cell_type": "code",
   "execution_count": null,
   "metadata": {},
   "outputs": [],
   "source": [
    "fiter = fasta_iter('NameOfFile.txt')\n",
    "temp_dict = {}\n",
    "new_dict = {}\n",
    "\n",
    "for ff in fiter:\n",
    "    headerStr, seq = ff\n",
    "    \n",
    "    for letter in seq:\n",
    "\n",
    "        if letter in temp_dict.keys():\n",
    "            temp_dict[letter]+= 1\n",
    "        else:  \n",
    "            temp_dict[letter]= 1\n",
    "\n",
    "    new_dict[headerStr] = ((temp_dict['C'] + temp_dict['G']) / (temp_dict['A'] + temp_dict['C'] + temp_dict['G'] + temp_dict['T']))\n",
    "    \n",
    "# print(new_dict)\n",
    "\n",
    "new_vals=list(new_dict.values())\n",
    "new_keys=list(new_dict.keys())\n",
    "# print(new_keys[new_vals.index(max(new_vals))], new_dict[new_keys[new_vals.index(max(new_vals))]]*100)\n",
    "print('{} {r:1.6f}%'.format(new_keys[new_vals.index(max(new_vals))], r = new_dict[new_keys[new_vals.index(max(new_vals))]]*100))\n"
   ]
  },
  {
   "cell_type": "code",
   "execution_count": 2,
   "metadata": {},
   "outputs": [
    {
     "name": "stdout",
     "output_type": "stream",
     "text": [
      "A A\n",
      "C C\n",
      "A A\n"
     ]
    }
   ],
   "source": [
    "str_one = 'GATTACA'\n",
    "str_two = 'TAGACCA'\n",
    "str_thr = 'ATACA'\n",
    "empty = []\n",
    "\n",
    "for a,b in zip(str_one, str_two):\n",
    "    if (a == b): \n",
    "        print(a,b)\n",
    "        \n",
    "\n",
    "# print(hamming_counter)"
   ]
  },
  {
   "cell_type": "code",
   "execution_count": null,
   "metadata": {},
   "outputs": [],
   "source": []
  },
  {
   "cell_type": "markdown",
   "metadata": {},
   "source": [
    "- - - - - - - - - - - - - - - - - \n",
    "ENUMERATING GENE ORDERS\n",
    "\n",
    "Problem\n",
    "A permutation of length n is an ordering of the positive integers {1,2,…,n}. For example, \n",
    "π=(5,3,2,1,4) is a permutation of length 5.\n",
    "\n",
    "Given: A positive integer n≤7.\n",
    "\n",
    "Return: The total number of permutations of length n, followed by a list of all such permutations (in any order).\n",
    "\n",
    "Sample Dataset\n",
    "3\n",
    "\n",
    "Sample Output\n",
    "6\n",
    "1 2 3\n",
    "1 3 2\n",
    "2 1 3\n",
    "2 3 1\n",
    "3 1 2\n",
    "3 2 1"
   ]
  },
  {
   "cell_type": "code",
   "execution_count": 44,
   "metadata": {},
   "outputs": [],
   "source": [
    "def permutation(n):\n",
    "    \n",
    "    my_list = (list(range(1,n+1)))\n",
    "    n = 0 \n",
    "    print(my_list)\n",
    "    print(my_list[::-1])\n",
    "\n",
    "    while n < len(my_list[::-1]):\n",
    "        print(my_list[n] * my_list[n + 1])\n",
    "        n -= 1"
   ]
  },
  {
   "cell_type": "code",
   "execution_count": 46,
   "metadata": {},
   "outputs": [
    {
     "name": "stdout",
     "output_type": "stream",
     "text": [
      "[1, 2, 3]\n",
      "[3, 2, 1]\n",
      "2\n",
      "3\n",
      "6\n",
      "2\n"
     ]
    },
    {
     "ename": "IndexError",
     "evalue": "list index out of range",
     "output_type": "error",
     "traceback": [
      "\u001b[0;31m---------------------------------------------------------------------------\u001b[0m",
      "\u001b[0;31mIndexError\u001b[0m                                Traceback (most recent call last)",
      "\u001b[0;32m<ipython-input-46-7ccc44bb3994>\u001b[0m in \u001b[0;36m<module>\u001b[0;34m\u001b[0m\n\u001b[0;32m----> 1\u001b[0;31m \u001b[0mpermutation\u001b[0m\u001b[0;34m(\u001b[0m\u001b[0;36m3\u001b[0m\u001b[0;34m)\u001b[0m\u001b[0;34m\u001b[0m\u001b[0;34m\u001b[0m\u001b[0m\n\u001b[0m",
      "\u001b[0;32m<ipython-input-44-ede87db4b759>\u001b[0m in \u001b[0;36mpermutation\u001b[0;34m(n)\u001b[0m\n\u001b[1;32m      7\u001b[0m \u001b[0;34m\u001b[0m\u001b[0m\n\u001b[1;32m      8\u001b[0m     \u001b[0;32mwhile\u001b[0m \u001b[0mn\u001b[0m \u001b[0;34m<\u001b[0m \u001b[0mlen\u001b[0m\u001b[0;34m(\u001b[0m\u001b[0mmy_list\u001b[0m\u001b[0;34m[\u001b[0m\u001b[0;34m:\u001b[0m\u001b[0;34m:\u001b[0m\u001b[0;34m-\u001b[0m\u001b[0;36m1\u001b[0m\u001b[0;34m]\u001b[0m\u001b[0;34m)\u001b[0m\u001b[0;34m:\u001b[0m\u001b[0;34m\u001b[0m\u001b[0;34m\u001b[0m\u001b[0m\n\u001b[0;32m----> 9\u001b[0;31m         \u001b[0mprint\u001b[0m\u001b[0;34m(\u001b[0m\u001b[0mmy_list\u001b[0m\u001b[0;34m[\u001b[0m\u001b[0mn\u001b[0m\u001b[0;34m]\u001b[0m \u001b[0;34m*\u001b[0m \u001b[0mmy_list\u001b[0m\u001b[0;34m[\u001b[0m\u001b[0mn\u001b[0m \u001b[0;34m+\u001b[0m \u001b[0;36m1\u001b[0m\u001b[0;34m]\u001b[0m\u001b[0;34m)\u001b[0m\u001b[0;34m\u001b[0m\u001b[0;34m\u001b[0m\u001b[0m\n\u001b[0m\u001b[1;32m     10\u001b[0m         \u001b[0mn\u001b[0m \u001b[0;34m-=\u001b[0m \u001b[0;36m1\u001b[0m\u001b[0;34m\u001b[0m\u001b[0;34m\u001b[0m\u001b[0m\n",
      "\u001b[0;31mIndexError\u001b[0m: list index out of range"
     ]
    }
   ],
   "source": [
    "permutation(3)"
   ]
  },
  {
   "cell_type": "code",
   "execution_count": null,
   "metadata": {},
   "outputs": [],
   "source": [
    "# RNA CODON TABLE\n",
    "UUU F      CUU L      AUU I      GUU V\n",
    "UUC F      CUC L      AUC I      GUC V\n",
    "UUA L      CUA L      AUA I      GUA V\n",
    "UUG L      CUG L      AUG M      GUG V\n",
    "UCU S      CCU P      ACU T      GCU A\n",
    "UCC S      CCC P      ACC T      GCC A\n",
    "UCA S      CCA P      ACA T      GCA A\n",
    "UCG S      CCG P      ACG T      GCG A\n",
    "UAU Y      CAU H      AAU N      GAU D\n",
    "UAC Y      CAC H      AAC N      GAC D\n",
    "UAA Stop   CAA Q      AAA K      GAA E\n",
    "UAG Stop   CAG Q      AAG K      GAG E\n",
    "UGU C      CGU R      AGU S      GGU G\n",
    "UGC C      CGC R      AGC S      GGC G\n",
    "UGA Stop   CGA R      AGA R      GGA G\n",
    "UGG W      CGG R      AGG R      GGG G \n"
   ]
  },
  {
   "cell_type": "markdown",
   "metadata": {},
   "source": [
    "- - - - - - - - - - - - - - - \n",
    "Translating RNA into Protein\n",
    "\n",
    "Problem\n",
    "The 20 commonly occurring amino acids are abbreviated by using 20 letters from the English alphabet \n",
    "(all letters except for B, J, O, U, X, and Z). Protein strings are constructed from these 20 symbols. \n",
    "Henceforth, the term genetic string will incorporate protein strings along with DNA strings and RNA strings.\n",
    "\n",
    "The RNA codon table dictates the details regarding the encoding of specific codons into the amino acid alphabet.\n",
    "\n",
    "Given: An RNA string s corresponding to a strand of mRNA (of length at most 10 kbp).\n",
    "\n",
    "Return: The protein string encoded by s.\n",
    "\n",
    "Sample Dataset\n",
    "\n",
    "AUGGCCAUGGCGCCCAGAACUGAGAUCAAUAGUACCCGUAUUAACGGGUGA\n",
    "\n",
    "\n",
    "Sample Output\n",
    "\n",
    "MAMAPRTEINSTRING"
   ]
  },
  {
   "cell_type": "code",
   "execution_count": 20,
   "metadata": {},
   "outputs": [
    {
     "name": "stdout",
     "output_type": "stream",
     "text": [
      "['AUG', 'GCC', 'AUG', 'GCG', 'CCC', 'AGA', 'ACU', 'GAG', 'AUC', 'AAU', 'AGU', 'ACC', 'CGU', 'AUU', 'AAC', 'GGG', 'UGA']\n"
     ]
    }
   ],
   "source": [
    "def split_by_n(seq, n):\n",
    "    '''A generator to divide a sequence into chunks of n units.'''\n",
    "    while seq:\n",
    "        yield seq[:n]\n",
    "        seq = seq[n:]\n",
    "\n",
    "print(list(split_by_n('AUGGCCAUGGCGCCCAGAACUGAGAUCAAUAGUACCCGUAUUAACGGGUGA', 3)))"
   ]
  },
  {
   "cell_type": "code",
   "execution_count": 24,
   "metadata": {},
   "outputs": [],
   "source": [
    "rna_codon_table = {'UUU': 'F', 'CUU': 'L', 'AUU': 'I', 'GUU': 'V', \n",
    "                   'UUC': 'F', 'CUC': 'L', 'AUC': 'I', 'GUC': 'V', \n",
    "                   'UUA': 'L', 'CUA': 'L', 'AUA': 'I', 'GUA': 'V', \n",
    "                   'UUG': 'L', 'CUG': 'L', 'AUG': 'M', 'GUG': 'V', \n",
    "                   'UCU': 'S', 'CCU': 'P', 'ACU': 'T', 'GCU': 'A', \n",
    "                   'UCC': 'S', 'CCC': 'P', 'ACC': 'T', 'GCC': 'A', \n",
    "                   'UCA': 'S', 'CCA': 'P', 'ACA': 'T', 'GCA': 'A', \n",
    "                   'UCG': 'S', 'CCG': 'P', 'ACG': 'T', 'GCG': 'A',\n",
    "                   'UAU': 'Y', 'CAU': 'H', 'AAU': 'N', 'GAU': 'D', \n",
    "                   'UAC': 'Y', 'CAC': 'H', 'AAC': 'N', 'GAC': 'D',\n",
    "                   'UAA': 'Stop', 'CAA': 'Q', 'AAA': 'K', 'GAA': 'E', \n",
    "                   'UAG': 'Stop', 'CAG': 'Q', 'AAG': 'K', 'GAG': 'E', \n",
    "                   'UGU': 'C', 'CGU': 'R', 'AGU': 'S', 'GGU': 'G', \n",
    "                   'UGC': 'C', 'CGC': 'R', 'AGC': 'S', 'GGC': 'G', \n",
    "                   'UGA': 'Stop', 'CGA': 'R', 'AGA': 'R', 'GGA': 'G', \n",
    "                   'UGG': 'W', 'CGG': 'R', 'AGG': 'R', 'GGG': 'G' }"
   ]
  },
  {
   "cell_type": "code",
   "execution_count": 26,
   "metadata": {},
   "outputs": [],
   "source": [
    "my_arr = ['AUG', 'GCC', 'AUG', 'GCG', 'CCC', 'AGA', 'ACU', 'GAG', 'AUC', 'AAU', 'AGU', 'ACC', 'CGU', 'AUU', 'AAC', 'GGG', 'UGA']"
   ]
  },
  {
   "cell_type": "code",
   "execution_count": 50,
   "metadata": {},
   "outputs": [
    {
     "name": "stdout",
     "output_type": "stream",
     "text": [
      "MAMAPRTEINSTRING\n"
     ]
    }
   ],
   "source": [
    "new_arr = []\n",
    "\n",
    "# for i, (k,v) in enumerate(rna_codon_table.items()):\n",
    "    #print(k)\n",
    "for elem in my_arr:\n",
    "    new_arr.append(rna_codon_table[elem])\n",
    "\n",
    "print(''.join(new_arr[0:-1]))"
   ]
  },
  {
   "cell_type": "code",
   "execution_count": null,
   "metadata": {},
   "outputs": [],
   "source": []
  }
 ],
 "metadata": {
  "kernelspec": {
   "display_name": "Python 3",
   "language": "python",
   "name": "python3"
  },
  "language_info": {
   "codemirror_mode": {
    "name": "ipython",
    "version": 3
   },
   "file_extension": ".py",
   "mimetype": "text/x-python",
   "name": "python",
   "nbconvert_exporter": "python",
   "pygments_lexer": "ipython3",
   "version": "3.7.4"
  }
 },
 "nbformat": 4,
 "nbformat_minor": 2
}
