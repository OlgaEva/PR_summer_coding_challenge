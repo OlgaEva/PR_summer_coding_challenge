{
 "cells": [
  {
   "cell_type": "code",
   "execution_count": 1,
   "metadata": {},
   "outputs": [
    {
     "name": "stdout",
     "output_type": "stream",
     "text": [
      "The Zen of Python, by Tim Peters\n",
      "\n",
      "Beautiful is better than ugly.\n",
      "Explicit is better than implicit.\n",
      "Simple is better than complex.\n",
      "Complex is better than complicated.\n",
      "Flat is better than nested.\n",
      "Sparse is better than dense.\n",
      "Readability counts.\n",
      "Special cases aren't special enough to break the rules.\n",
      "Although practicality beats purity.\n",
      "Errors should never pass silently.\n",
      "Unless explicitly silenced.\n",
      "In the face of ambiguity, refuse the temptation to guess.\n",
      "There should be one-- and preferably only one --obvious way to do it.\n",
      "Although that way may not be obvious at first unless you're Dutch.\n",
      "Now is better than never.\n",
      "Although never is often better than *right* now.\n",
      "If the implementation is hard to explain, it's a bad idea.\n",
      "If the implementation is easy to explain, it may be a good idea.\n",
      "Namespaces are one honking great idea -- let's do more of those!\n"
     ]
    }
   ],
   "source": [
    "import this"
   ]
  },
  {
   "cell_type": "markdown",
   "metadata": {},
   "source": [
    "-----------\n",
    "Problem\n",
    "Given: Two positive integers a and b, each less than 1000.\n",
    "\n",
    "Return: The integer corresponding to the square of the hypotenuse of the right triangle whose legs have lengths a and b."
   ]
  },
  {
   "cell_type": "code",
   "execution_count": 3,
   "metadata": {},
   "outputs": [
    {
     "name": "stdout",
     "output_type": "stream",
     "text": [
      "1601064\n"
     ]
    }
   ],
   "source": [
    "a = 858\n",
    "b = 930\n",
    "print (a ** 2 + b ** 2)"
   ]
  },
  {
   "cell_type": "markdown",
   "metadata": {},
   "source": [
    "-----\n",
    "Problem\n",
    "Given: A string s of length at most 200 letters and four integers a, b, c and d.\n",
    "\n",
    "Return: The slice of this string from indices a through b and c through d (with space in between), inclusively. In other words, we should include elements s[b] and s[d] in our slice.\n",
    "\n",
    "Sample Dataset\n",
    "HumptyDumptysatonawallHumptyDumptyhadagreatfallAlltheKingshorsesandalltheKingsmenCouldntputHumptyDumptyinhisplaceagain.\n",
    "22 27 97 102\n",
    "Sample Output\n",
    "Humpty Dumpty"
   ]
  },
  {
   "cell_type": "code",
   "execution_count": 4,
   "metadata": {},
   "outputs": [
    {
     "name": "stdout",
     "output_type": "stream",
     "text": [
      "Heterodon calamita\n"
     ]
    }
   ],
   "source": [
    "my_string = \"6byWCpouqfQ44pKz624IHeterodonddXEXiosparQddb2Sg0Wp2mpF6xG6ZcRfWTaCuoLcu5xyDzoSKzCwHNFtGmqTWGY53ncalamitaREzZ4wmaC4ahjkWLoIZVdAGZAEDFtOl3ahzn9t7maKrl9YDPeAxNnLcI2AyIqfujZ8yQJiB1Gmg.\"\n",
    "a = 20\n",
    "b = 28\n",
    "c = 96\n",
    "d = 103\n",
    "print (my_string[20:29] + ' ' + my_string[96:104])"
   ]
  },
  {
   "cell_type": "markdown",
   "metadata": {},
   "source": [
    "------\n",
    "Problem\n",
    "Given: Two positive integers a and b (a<b<10000).\n",
    "\n",
    "Return: The sum of all odd integers from a through b, inclusively.\n",
    "\n",
    "Sample Dataset\n",
    "100 200\n",
    "Sample Output\n",
    "7500\n",
    "Hintclick to collapse\n",
    "You can use a % 2 == 1 to test if a is odd."
   ]
  },
  {
   "cell_type": "code",
   "execution_count": 16,
   "metadata": {},
   "outputs": [
    {
     "name": "stdout",
     "output_type": "stream",
     "text": [
      "14784957\n"
     ]
    }
   ],
   "source": [
    "counter = 0\n",
    "a = 4476\n",
    "b = 8897\n",
    "\n",
    "for num in range(a, b+1):\n",
    "    if(num % 2 == 1):\n",
    "        counter += num\n",
    "\n",
    "print(counter)\n",
    "        "
   ]
  },
  {
   "cell_type": "markdown",
   "metadata": {},
   "source": [
    "------\n",
    "Problem\n",
    "Given: A file containing at most 1000 lines.\n",
    "\n",
    "Return: A file containing all the even-numbered lines from the original file. Assume 1-based numbering of lines.\n",
    "\n",
    "Sample Dataset\n",
    "Bravely bold Sir Robin rode forth from Camelot\n",
    "Yes, brave Sir Robin turned about\n",
    "He was not afraid to die, O brave Sir Robin\n",
    "And gallantly he chickened out\n",
    "He was not at all afraid to be killed in nasty ways\n",
    "Bravely talking to his feet\n",
    "Brave, brave, brave, brave Sir Robin\n",
    "He beat a very brave retreat\n",
    "\n",
    "Sample Output\n",
    "Yes, brave Sir Robin turned about\n",
    "And gallantly he chickened out\n",
    "Bravely talking to his feet\n",
    "He beat a very brave retreat"
   ]
  },
  {
   "cell_type": "code",
   "execution_count": 37,
   "metadata": {},
   "outputs": [],
   "source": [
    "with open('rosalind_ini5.txt') as f:\n",
    "    content = f.readlines()"
   ]
  },
  {
   "cell_type": "code",
   "execution_count": 38,
   "metadata": {},
   "outputs": [
    {
     "data": {
      "text/plain": [
       "40"
      ]
     },
     "execution_count": 38,
     "metadata": {},
     "output_type": "execute_result"
    }
   ],
   "source": [
    "len(content)"
   ]
  },
  {
   "cell_type": "code",
   "execution_count": 39,
   "metadata": {},
   "outputs": [
    {
     "data": {
      "text/plain": [
       "['`Twas brillig, and the slithy toves\\n',\n",
       " 'Some things in life are bad, they can really make you mad\\n',\n",
       " '  Did gyre and gimble in the wabe:\\n',\n",
       " 'Other things just make you swear and curse\\n',\n",
       " 'All mimsy were the borogoves,\\n',\n",
       " \"When you're chewing on life's gristle, don't grumble give a whistle\\n\",\n",
       " '  And the mome raths outgrabe.\\n',\n",
       " 'This will help things turn out for the best\\n',\n",
       " '\"Beware the Jabberwock, my son!\\n',\n",
       " 'Always look on the bright side of life\\n',\n",
       " '  The jaws that bite, the claws that catch!\\n',\n",
       " 'Always look on the right side of life\\n',\n",
       " 'Beware the Jubjub bird, and shun\\n',\n",
       " \"If life seems jolly rotten, there's something you've forgotten\\n\",\n",
       " '  The frumious Bandersnatch!\"\\n',\n",
       " \"And that's to laugh and smile and dance and sing\\n\",\n",
       " 'He took his vorpal sword in hand:\\n',\n",
       " \"When you're feeling in the dumps, don't be silly, chumps\\n\",\n",
       " '  Long time the manxome foe he sought --\\n',\n",
       " \"Just purse your lips and whistle, that's the thing\\n\",\n",
       " 'So rested he by the Tumtum tree,\\n',\n",
       " 'So, always look on the bright side of death\\n',\n",
       " '  And stood awhile in thought.\\n',\n",
       " 'Just before you draw your terminal breath\\n',\n",
       " 'And, as in uffish thought he stood,\\n',\n",
       " \"Life's a counterfeit and when you look at it\\n\",\n",
       " '  The Jabberwock, with eyes of flame,\\n',\n",
       " \"Life's a laugh and death's the joke, it's true\\n\",\n",
       " 'Came whiffling through the tulgey wood,\\n',\n",
       " \"You see, it's all a show, keep them laughing as you go\\n\",\n",
       " '  And burbled as it came!\\n',\n",
       " 'Just remember the last laugh is on you\\n',\n",
       " 'One, two! One, two! And through and through\\n',\n",
       " 'Always look on the bright side of life\\n',\n",
       " '  The vorpal blade went snicker-snack!\\n',\n",
       " 'And always look on the right side of life\\n',\n",
       " 'He left it dead, and with its head\\n',\n",
       " 'Always look on the bright side of life\\n',\n",
       " '  He went galumphing back.\\n',\n",
       " 'And always look on the right side of life\\n']"
      ]
     },
     "execution_count": 39,
     "metadata": {},
     "output_type": "execute_result"
    }
   ],
   "source": [
    "content"
   ]
  },
  {
   "cell_type": "code",
   "execution_count": 48,
   "metadata": {},
   "outputs": [
    {
     "name": "stdout",
     "output_type": "stream",
     "text": [
      "Some things in life are bad, they can really make you mad\n",
      "\n",
      "Other things just make you swear and curse\n",
      "\n",
      "When you're chewing on life's gristle, don't grumble give a whistle\n",
      "\n",
      "This will help things turn out for the best\n",
      "\n",
      "Always look on the bright side of life\n",
      "\n",
      "Always look on the right side of life\n",
      "\n",
      "If life seems jolly rotten, there's something you've forgotten\n",
      "\n",
      "And that's to laugh and smile and dance and sing\n",
      "\n",
      "When you're feeling in the dumps, don't be silly, chumps\n",
      "\n",
      "Just purse your lips and whistle, that's the thing\n",
      "\n",
      "So, always look on the bright side of death\n",
      "\n",
      "Just before you draw your terminal breath\n",
      "\n",
      "Life's a counterfeit and when you look at it\n",
      "\n",
      "Life's a laugh and death's the joke, it's true\n",
      "\n",
      "You see, it's all a show, keep them laughing as you go\n",
      "\n",
      "Just remember the last laugh is on you\n",
      "\n",
      "Always look on the bright side of life\n",
      "\n",
      "And always look on the right side of life\n",
      "\n",
      "Always look on the bright side of life\n",
      "\n",
      "And always look on the right side of life\n",
      "\n"
     ]
    }
   ],
   "source": [
    "i = 1\n",
    "while i <= len(content):\n",
    "    print(content[i])\n",
    "    i = i + 2"
   ]
  },
  {
   "cell_type": "code",
   "execution_count": 68,
   "metadata": {},
   "outputs": [],
   "source": [
    "def charMap(string):\n",
    "  my_dict = {}\n",
    "\n",
    "  for word in string.split():\n",
    "    if word in my_dict.keys():\n",
    "      my_dict[word]+= 1\n",
    "    else: \n",
    "      my_dict[word]= 1\n",
    "    \n",
    "  return my_dict\n"
   ]
  },
  {
   "cell_type": "code",
   "execution_count": 63,
   "metadata": {},
   "outputs": [
    {
     "data": {
      "text/plain": [
       "{'We': 1,\n",
       " 'tried': 3,\n",
       " 'list': 1,\n",
       " 'and': 1,\n",
       " 'we': 2,\n",
       " 'dicts': 1,\n",
       " 'also': 1,\n",
       " 'Zen': 1}"
      ]
     },
     "execution_count": 63,
     "metadata": {},
     "output_type": "execute_result"
    }
   ],
   "source": [
    "charMap('We tried list and we tried dicts also we tried Zen')"
   ]
  },
  {
   "cell_type": "code",
   "execution_count": 73,
   "metadata": {},
   "outputs": [
    {
     "name": "stdout",
     "output_type": "stream",
     "text": [
      "We\n",
      "1\n",
      "tried\n",
      "3\n",
      "list\n",
      "1\n",
      "and\n",
      "1\n",
      "we\n",
      "2\n",
      "dicts\n",
      "1\n",
      "also\n",
      "1\n",
      "Zen\n",
      "1\n"
     ]
    }
   ],
   "source": [
    "my_dict = {}\n",
    "my_string = 'We tried list and we tried dicts also we tried Zen'\n",
    "\n",
    "for word in my_string.split():\n",
    "  if word in my_dict.keys():\n",
    "    my_dict[word]+= 1\n",
    "  else: \n",
    "    my_dict[word]= 1\n",
    "\n",
    "for key, value in my_dict.items():\n",
    "    print(key)\n",
    "    print(value)"
   ]
  },
  {
   "cell_type": "code",
   "execution_count": 74,
   "metadata": {},
   "outputs": [
    {
     "name": "stdout",
     "output_type": "stream",
     "text": [
      "When\n",
      "1\n",
      "I\n",
      "2\n",
      "find\n",
      "1\n",
      "myself\n",
      "1\n",
      "in\n",
      "4\n",
      "times\n",
      "1\n",
      "of\n",
      "11\n",
      "trouble\n",
      "1\n",
      "Mother\n",
      "2\n",
      "Mary\n",
      "2\n",
      "comes\n",
      "2\n",
      "to\n",
      "3\n",
      "me\n",
      "4\n",
      "Speaking\n",
      "3\n",
      "words\n",
      "7\n",
      "wisdom\n",
      "7\n",
      "let\n",
      "30\n",
      "it\n",
      "36\n",
      "be\n",
      "41\n",
      "And\n",
      "3\n",
      "my\n",
      "1\n",
      "hour\n",
      "1\n",
      "darkness\n",
      "1\n",
      "she\n",
      "1\n",
      "is\n",
      "4\n",
      "standing\n",
      "1\n",
      "right\n",
      "1\n",
      "front\n",
      "1\n",
      "Let\n",
      "6\n",
      "Whisper\n",
      "4\n",
      "when\n",
      "2\n",
      "the\n",
      "4\n",
      "broken\n",
      "1\n",
      "hearted\n",
      "1\n",
      "people\n",
      "1\n",
      "living\n",
      "1\n",
      "world\n",
      "1\n",
      "agree\n",
      "1\n",
      "There\n",
      "4\n",
      "will\n",
      "5\n",
      "an\n",
      "4\n",
      "answer\n",
      "4\n",
      "For\n",
      "1\n",
      "though\n",
      "1\n",
      "they\n",
      "2\n",
      "may\n",
      "1\n",
      "parted\n",
      "1\n",
      "there\n",
      "2\n",
      "still\n",
      "2\n",
      "a\n",
      "2\n",
      "chance\n",
      "1\n",
      "that\n",
      "2\n",
      "see\n",
      "1\n",
      "night\n",
      "1\n",
      "cloudy\n",
      "1\n",
      "light\n",
      "1\n",
      "shines\n",
      "1\n",
      "on\n",
      "1\n",
      "Shine\n",
      "1\n",
      "until\n",
      "1\n",
      "tomorrow\n",
      "1\n",
      "wake\n",
      "1\n",
      "up\n",
      "1\n",
      "sound\n",
      "1\n",
      "music\n",
      "1\n",
      "yeah\n",
      "2\n"
     ]
    }
   ],
   "source": [
    "my_string = 'When I find myself in times of trouble Mother Mary comes to me Speaking words of wisdom let it be And in my hour of darkness she is standing right in front of me Speaking words of wisdom let it be Let it be let it be let it be let it be Whisper words of wisdom let it be And when the broken hearted people living in the world agree There will be an answer let it be For though they may be parted there is still a chance that they will see There will be an answer let it be Let it be let it be let it be let it be There will be an answer let it be Let it be let it be let it be let it be Whisper words of wisdom let it be Let it be let it be let it be let it be Whisper words of wisdom let it be And when the night is cloudy there is still a light that shines on me Shine until tomorrow let it be I wake up to the sound of music Mother Mary comes to me Speaking words of wisdom let it be Let it be let it be let it be yeah let it be There will be an answer let it be Let it be let it be let it be yeah let it be Whisper words of wisdom let it be'\n",
    "my_dict = {}\n",
    "\n",
    "for word in my_string.split():\n",
    "    if word in my_dict.keys():\n",
    "        my_dict[word]+= 1\n",
    "    else: \n",
    "        my_dict[word]= 1\n",
    "\n",
    "for key, value in my_dict.items():\n",
    "    print(key)\n",
    "    print(value)"
   ]
  },
  {
   "cell_type": "markdown",
   "metadata": {},
   "source": [
    "-----------\n",
    "Problem\n",
    "A string is simply an ordered collection of symbols selected from some alphabet and formed into a word; the length of a string is the number of symbols that it contains.\n",
    "\n",
    "An example of a length 21 DNA string (whose alphabet contains the symbols 'A', 'C', 'G', and 'T') is \"ATGCTTCAGAAAGGTCTTACG.\"\n",
    "\n",
    "Given: A DNA string s of length at most 1000 nt.\n",
    "\n",
    "Return: Four integers (separated by spaces) counting the respective number of times that the symbols 'A', 'C', 'G', and 'T' occur in s.\n",
    "\n",
    "Sample Dataset\n",
    "AGCTTTTCATTCTGACTGCAACGGGCAATATGTCTCTGTGTGGATTAAAAAAAGAGTGTCTGATAGCAGC\n",
    "Sample Output\n",
    "20 12 17 21"
   ]
  },
  {
   "cell_type": "code",
   "execution_count": 96,
   "metadata": {},
   "outputs": [
    {
     "name": "stdout",
     "output_type": "stream",
     "text": [
      "20 12 17 21\n"
     ]
    }
   ],
   "source": [
    "my_dict = {}\n",
    "my_string = 'AGCTTTTCATTCTGACTGCAACGGGCAATATGTCTCTGTGTGGATTAAAAAAAGAGTGTCTGATAGCAGC'\n",
    "\n",
    "for letter in my_string:\n",
    "    if letter in my_dict.keys():\n",
    "        my_dict[letter]+= 1\n",
    "    else: \n",
    "        my_dict[letter]= 1\n",
    "    \n",
    "print('{0} {1} {2} {3}'.format(my_dict['A'], my_dict['C'], my_dict['G'], my_dict['T']))"
   ]
  },
  {
   "cell_type": "code",
   "execution_count": 98,
   "metadata": {},
   "outputs": [
    {
     "name": "stdout",
     "output_type": "stream",
     "text": [
      "262 235 241 252\n"
     ]
    }
   ],
   "source": [
    "my_dict = {}\n",
    "my_string = 'GACTATCATGACCGACTTCCGAAGCGCACACTCTTCTCGGCACCCGTCCTAGCCGATAGTAAAAGCTCTTACCATGATGGCAGCTAGACCTGCTATCCGGATAAACAACACTTAGGACGCCTTCTCCTAACTTTCGACGAGGTCAGGACCAACAGAGACTACAATTTGTCCTGTCTATTCGCAGTAAAACAATACAGGCGAGCGATGAATTCAGTGGCGGCTGCTTCCACCTGTGAGGGACTGTGGATTGCAGATTTATCCAGACTGCACGGCTCTTACTACTAGGAGAGGTAAAAATTATTTTGTCAAAGTAATTGGGAGCCCAAAGTCTTTGATATACCCGTACAACGATTCAGTGAGGTCCCTATTCATTTGTTTAGCATATTGAGTGTTATCCAGCGAACTCACTCTCTGGGATTCAGGAATTATGAGTGAAAGTCCCGTTCCGAAGTGACATCCACGGGTGATAGTCGTTCCGCTGAACCTCTATTCGTGTGAGCACGCATAGTCTACCCGAACACTAGCGGAGACATGTTATGTGTAGATGTCAGGGGACTGGTCTTTGACGATCTCAGGATCTCCGATTACTAGGATTAATGAAAGCATCTGACTCCTAAGCCCACTTGTACATCAGAGCCGTCTAGTTCGAGTAACGTCGCGTACAGTGCCCGTGTACCGAGGCCAGGCGGTGATATGAACTATGTGTGGTAATCAAGGTAGGGGTTCATCTCGATACGTCCCAGGCTGGCAAACACTCACCAATCTGGGGAGGTTGATAAGCCAAAGCGTCACTACAGAGCTCGGTTGGAACGAATCGCGGTGGTATTGCGTTCCGATTAAAATTTACAGCTAACAGACCCGAGCGCACGGAATCGATTATAACAAGCGATCTGTGATCCGGCAAGTTAAGGTGGTTGTTCGTCTAGCACGGAAGCGTTCTTACGGTAAGAAAACCACATGCTACTACTCTGTCTACCTTTAAGAGCCGGT'\n",
    "\n",
    "for letter in my_string:\n",
    "    if letter in my_dict.keys():\n",
    "        my_dict[letter]+= 1\n",
    "    else: \n",
    "        my_dict[letter]= 1\n",
    "    \n",
    "print('{0} {1} {2} {3}'.format(my_dict['A'], my_dict['C'], my_dict['G'], my_dict['T']))"
   ]
  },
  {
   "cell_type": "markdown",
   "metadata": {},
   "source": [
    "--------------\n",
    "\n",
    "Problem\n",
    "An RNA string is a string formed from the alphabet containing 'A', 'C', 'G', and 'U'.\n",
    "\n",
    "Given a DNA string t corresponding to a coding strand, its transcribed RNA string u is formed by replacing all occurrences of 'T' in t with 'U' in u.\n",
    "\n",
    "Given: A DNA string t having length at most 1000 nt.\n",
    "\n",
    "Return: The transcribed RNA string of t.\n",
    "\n",
    "Sample Dataset\n",
    "GATGGAACTTGACTACGTAAATT\n",
    "\n",
    "Sample Output\n",
    "GAUGGAACUUGACUACGUAAAUU"
   ]
  },
  {
   "cell_type": "code",
   "execution_count": 106,
   "metadata": {},
   "outputs": [
    {
     "name": "stdout",
     "output_type": "stream",
     "text": [
      "GAUGGAACUUGACUACGUAAAUU\n"
     ]
    }
   ],
   "source": [
    "dnastring = 'GATGGAACTTGACTACGTAAATT'\n",
    "rna = []\n",
    "str = ''\n",
    "\n",
    "for letter in dnastring:\n",
    "    if letter == 'T':\n",
    "        rna.append('U')\n",
    "    else:\n",
    "        rna.append(letter)\n",
    "\n",
    "print(str.join(rna))\n"
   ]
  },
  {
   "cell_type": "code",
   "execution_count": 107,
   "metadata": {},
   "outputs": [
    {
     "name": "stdout",
     "output_type": "stream",
     "text": [
      "UCUGCUGGAGCGCGUGGAUGGUUGCCGAACGCAGUGGGAGGUAUUGAUGUACUGACGAUUACGUACAGGUACGACAACUCUCCUCAGCAAAAUUCGGAUUAUCAAUAUAUAUACUCAGUUAAACACAUACAUCCGGAUUGCCUUCGAAUGCUUACCUGCAAAUAAUGUUCAAGAGUCAUCAUACUUGCAUAGAGCUCCGGAAGACUUGGUUCAAGCAGAACACCGAGCUAUAUCGGCAACUUUCAAUCUAAUUCGAAAACACAACUAUUGCUCACCCUUCCUUCCCCAACUCGAACUCUACAUCGUGCCUUAAUUACACGUCCCUAAGUAUAUUUAGUUACUACCAAAGAGAGCAGAACAGGUUGCAUUAGCCGGAAGAAGCAUAGUGAAGGUAGUUUCUCAAUGGGUUAGUUUAGCAUGAUCGUGGACACCCUACGCGCCCCAUUAUCGUGCCUAAGUAUGUCCGUUCUUUUGCAAUGCUGGGCACUAUCAUGGUCAAGCCUAAGCGGUCCGACUCGGGGGCUUGUCAAUACAAGGCUAGCAGGAGGACUACCCACCCAGCUGGCAUUAUUAAUAUUCUAGGUGAGUCGGACGUCAACAUUCGGAACUACUGCUGGCAGUAAGUGGCUACGACAUACGCACGAUUACAGGGGGUUGGAAGAUAUGAGCGUCUUUGCGCGAGUGGAACGAAGUUUGUUCUAUGGGUAGUCUCAGGCCUGUAACGAAGACUUGACAAGACAGCAGGGAACCGAAUAUCGCCACGCGCGGGGAAUCCUGAUUACAUCUCCGACCAUACCCUUCGCGUGGGCUUCUGUGGGAAUAAGUUAGGUGUAAACCGCGUCGUUAUCGUCUAGCUCCAGCUCGGUCCUUCCCGCCUUUCUAAACUGCGGCGUGAGGGUCCACACGGAGAGAAGUUUACGGGCCACGUGUUAAAGAUGUUAUUUAAUUCG\n"
     ]
    }
   ],
   "source": [
    "dnastring = 'TCTGCTGGAGCGCGTGGATGGTTGCCGAACGCAGTGGGAGGTATTGATGTACTGACGATTACGTACAGGTACGACAACTCTCCTCAGCAAAATTCGGATTATCAATATATATACTCAGTTAAACACATACATCCGGATTGCCTTCGAATGCTTACCTGCAAATAATGTTCAAGAGTCATCATACTTGCATAGAGCTCCGGAAGACTTGGTTCAAGCAGAACACCGAGCTATATCGGCAACTTTCAATCTAATTCGAAAACACAACTATTGCTCACCCTTCCTTCCCCAACTCGAACTCTACATCGTGCCTTAATTACACGTCCCTAAGTATATTTAGTTACTACCAAAGAGAGCAGAACAGGTTGCATTAGCCGGAAGAAGCATAGTGAAGGTAGTTTCTCAATGGGTTAGTTTAGCATGATCGTGGACACCCTACGCGCCCCATTATCGTGCCTAAGTATGTCCGTTCTTTTGCAATGCTGGGCACTATCATGGTCAAGCCTAAGCGGTCCGACTCGGGGGCTTGTCAATACAAGGCTAGCAGGAGGACTACCCACCCAGCTGGCATTATTAATATTCTAGGTGAGTCGGACGTCAACATTCGGAACTACTGCTGGCAGTAAGTGGCTACGACATACGCACGATTACAGGGGGTTGGAAGATATGAGCGTCTTTGCGCGAGTGGAACGAAGTTTGTTCTATGGGTAGTCTCAGGCCTGTAACGAAGACTTGACAAGACAGCAGGGAACCGAATATCGCCACGCGCGGGGAATCCTGATTACATCTCCGACCATACCCTTCGCGTGGGCTTCTGTGGGAATAAGTTAGGTGTAAACCGCGTCGTTATCGTCTAGCTCCAGCTCGGTCCTTCCCGCCTTTCTAAACTGCGGCGTGAGGGTCCACACGGAGAGAAGTTTACGGGCCACGTGTTAAAGATGTTATTTAATTCG'\n",
    "rna = []\n",
    "rnastring = ''\n",
    "\n",
    "for letter in dnastring:\n",
    "    if letter == 'T':\n",
    "        rna.append('U')\n",
    "    else:\n",
    "        rna.append(letter)\n",
    "\n",
    "print(rnastring.join(rna))\n"
   ]
  },
  {
   "cell_type": "markdown",
   "metadata": {},
   "source": [
    "---------------\n",
    "Problem\n",
    "In DNA strings, symbols 'A' and 'T' are complements of each other, as are 'C' and 'G'.\n",
    "\n",
    "The reverse complement of a DNA string s is the string sc formed by reversing the symbols of s, then taking the complement of each symbol (e.g., the reverse complement of \"GTCA\" is \"TGAC\").\n",
    "\n",
    "Given: A DNA string s of length at most 1000 bp.\n",
    "\n",
    "Return: The reverse complement sc of s.\n",
    "\n",
    "Sample Dataset\n",
    "AAAACCCGGT\n",
    "\n",
    "Sample Output\n",
    "ACCGGGTTTT\n"
   ]
  },
  {
   "cell_type": "code",
   "execution_count": 117,
   "metadata": {},
   "outputs": [
    {
     "name": "stdout",
     "output_type": "stream",
     "text": [
      "ACCGGGTTTT\n"
     ]
    }
   ],
   "source": [
    "origstring = 'AAAACCCGGT'\n",
    "revstring = origstring[::-1]\n",
    "templist = []\n",
    "newstring = ''\n",
    "\n",
    "for letter in revstring:\n",
    "    if letter == 'T':\n",
    "        templist.append('A')\n",
    "    elif letter == 'G':\n",
    "        templist.append('C')\n",
    "    elif letter == 'C':\n",
    "        templist.append('G')\n",
    "    else:\n",
    "        templist.append('T')\n",
    "\n",
    "print(newstring.join(templist))      "
   ]
  },
  {
   "cell_type": "code",
   "execution_count": 118,
   "metadata": {},
   "outputs": [
    {
     "name": "stdout",
     "output_type": "stream",
     "text": [
      "CCGTGCACTGATCAAGAGGCAAAGTTCTGCGTGTAATAGATTGAATTGGCTTATTGCGTCGGTAGCCAATAATCACGCATCACCAATGGACGGATTCGAACGATAACCCGGCGCATGTCAATATCCTCTCATGTATTTCGGCCGGTTTCCCGAGGGCCCGTGGTAACCTCTAGCACCTTTACCTTTCAGAACGCACGCAAATGGTTAAGCATACTAGTAGCTTGTGCTACAGAACATATCAGTTCCGCCCCCGCGCCTCCTCCTTACTCGCTAATCGTTCGGCTTTATAATATGCCACTATCTGCCACCTGACGTGCGAATTTGTTCAAGTACCAATGGCGATAGGAATAAGGTCGGTTGCAATGTTAAGCTATGAGTAGGTTCTCTGGTTGCAGCTGACGAACTTTCAAAACTTCTTTCGATCAGTAGACTGGGACCGCGAGAGTGGCTTCACGTGTATAGATTGCTATCAATTCCTTAGTCGTCAACTTCTAGCCAGGTGGCGTTGGACGGTCTCAATGGCTCTTTGGACCGAACATCGGTTCTCAGTGAGCCCTAAGTTAATAGCTCATTTCAAGTCAGTAATCAGTGTTCCCCACTGTGATCGGGGTGAAATCTCCCCCCAGCAGACTGATGCCGTACACAGATAAGCTCCCGCAACATCAGCCGCCGGGCCTCTACTAGCCGTGGACTGTATCGTGGATCTTTTACATGTTGCGTCCCCGGCCCGGATCAAGGGATCTAGTATTTCGACCTGAAAGAACGTACTCCTGCACTCGCCATTCCTATTCTCGGGTAGCGTCTGACAGCTGCACTGCGCAATTGCTACGCACGAGCAGCAGTACTATCACTTTTGGTGACCCCGTGGACCCTTGGTACTAGGC\n"
     ]
    }
   ],
   "source": [
    "origstring = 'GCCTAGTACCAAGGGTCCACGGGGTCACCAAAAGTGATAGTACTGCTGCTCGTGCGTAGCAATTGCGCAGTGCAGCTGTCAGACGCTACCCGAGAATAGGAATGGCGAGTGCAGGAGTACGTTCTTTCAGGTCGAAATACTAGATCCCTTGATCCGGGCCGGGGACGCAACATGTAAAAGATCCACGATACAGTCCACGGCTAGTAGAGGCCCGGCGGCTGATGTTGCGGGAGCTTATCTGTGTACGGCATCAGTCTGCTGGGGGGAGATTTCACCCCGATCACAGTGGGGAACACTGATTACTGACTTGAAATGAGCTATTAACTTAGGGCTCACTGAGAACCGATGTTCGGTCCAAAGAGCCATTGAGACCGTCCAACGCCACCTGGCTAGAAGTTGACGACTAAGGAATTGATAGCAATCTATACACGTGAAGCCACTCTCGCGGTCCCAGTCTACTGATCGAAAGAAGTTTTGAAAGTTCGTCAGCTGCAACCAGAGAACCTACTCATAGCTTAACATTGCAACCGACCTTATTCCTATCGCCATTGGTACTTGAACAAATTCGCACGTCAGGTGGCAGATAGTGGCATATTATAAAGCCGAACGATTAGCGAGTAAGGAGGAGGCGCGGGGGCGGAACTGATATGTTCTGTAGCACAAGCTACTAGTATGCTTAACCATTTGCGTGCGTTCTGAAAGGTAAAGGTGCTAGAGGTTACCACGGGCCCTCGGGAAACCGGCCGAAATACATGAGAGGATATTGACATGCGCCGGGTTATCGTTCGAATCCGTCCATTGGTGATGCGTGATTATTGGCTACCGACGCAATAAGCCAATTCAATCTATTACACGCAGAACTTTGCCTCTTGATCAGTGCACGG'\n",
    "revstring = origstring[::-1]\n",
    "templist = []\n",
    "newstring = ''\n",
    "\n",
    "for letter in revstring:\n",
    "    if letter == 'T':\n",
    "        templist.append('A')\n",
    "    elif letter == 'G':\n",
    "        templist.append('C')\n",
    "    elif letter == 'C':\n",
    "        templist.append('G')\n",
    "    else:\n",
    "        templist.append('T')\n",
    "\n",
    "print(newstring.join(templist))    "
   ]
  },
  {
   "cell_type": "markdown",
   "metadata": {},
   "source": [
    "-----------\n",
    "Problem\n",
    "A sequence is an ordered collection of objects (usually numbers), which are allowed to repeat. Sequences can be finite or infinite. Two examples are the finite sequence (π,−2‾√,0,π) and the infinite sequence of odd numbers (1,3,5,7,9,…). We use the notation an to represent the n-th term of a sequence.\n",
    "\n",
    "A recurrence relation is a way of defining the terms of a sequence with respect to the values of previous terms. In the case of Fibonacci's rabbits from the introduction, any given month will contain the rabbits that were alive the previous month, plus any new offspring. A key observation is that the number of offspring in any month is equal to the number of rabbits that were alive two months prior. As a result, if Fn represents the number of rabbit pairs alive after the n-th month, then we obtain the Fibonacci sequence having terms Fn that are defined by the recurrence relation Fn=Fn−1+Fn−2 (with F1=F2=1 to initiate the sequence). Although the sequence bears Fibonacci's name, it was known to Indian mathematicians over two millennia ago.\n",
    "\n",
    "When finding the n-th term of a sequence defined by a recurrence relation, we can simply use the recurrence relation to generate terms for progressively larger values of n. This problem introduces us to the computational technique of dynamic programming, which successively builds up solutions by using the answers to smaller cases.\n",
    "\n",
    "Given: Positive integers n≤40 and k≤5.\n",
    "\n",
    "Return: The total number of rabbit pairs that will be present after n months, if we begin with 1 pair and in each generation, every pair of reproduction-age rabbits produces a litter of k rabbit pairs (instead of only 1 pair).\n",
    "\n",
    "Sample Dataset\n",
    "5 3\n",
    "\n",
    "Sample Output\n",
    "19"
   ]
  },
  {
   "cell_type": "code",
   "execution_count": 280,
   "metadata": {},
   "outputs": [],
   "source": [
    "def rabbit(n,k):\n",
    "    if n <= 2:\n",
    "        return 1\n",
    "    elif n == 3:\n",
    "        return 1 + k\n",
    "    else:\n",
    "        return rabbit(n-1, k) + (k * rabbit(n-2, k))"
   ]
  },
  {
   "cell_type": "code",
   "execution_count": 281,
   "metadata": {},
   "outputs": [
    {
     "data": {
      "text/plain": [
       "7334743797805"
      ]
     },
     "execution_count": 281,
     "metadata": {},
     "output_type": "execute_result"
    }
   ],
   "source": [
    "rabbit(33,4)"
   ]
  },
  {
   "cell_type": "markdown",
   "metadata": {},
   "source": [
    "---------------\n",
    "Problem\n",
    "The GC-content of a DNA string is given by the percentage of symbols in the string that are 'C' or 'G'. \n",
    "For example, the GC-content of \"AGCTATAG\" is 37.5%. Note that the reverse complement of any DNA string \n",
    "has the same GC-content.\n",
    "\n",
    "DNA strings must be labeled when they are consolidated into a database. A commonly used method of string \n",
    "labeling is called FASTA format. In this format, the string is introduced by a line that begins with '>', \n",
    "followed by some labeling information. Subsequent lines contain the string itself; the first line to begin \n",
    "with '>' indicates the label of the next string.\n",
    "\n",
    "In Rosalind's implementation, a string in FASTA format will be labeled by the ID \"Rosalind_xxxx\", where \n",
    "\"xxxx\" denotes a four-digit code between 0000 and 9999.\n",
    "\n",
    "Given: At most 10 DNA strings in FASTA format (of length at most 1 kbp each).\n",
    "\n",
    "Return: The ID of the string having the highest GC-content, followed by the GC-content of that string. \n",
    "Rosalind allows for a default error of 0.001 in all decimal answers unless otherwise stated; please see \n",
    "the note on absolute error below.\n",
    "\n",
    "Sample Dataset\n",
    ">Rosalind_6404\n",
    "CCTGCGGAAGATCGGCACTAGAATAGCCAGAACCGTTTCTCTGAGGCTTCCGGCCTTCCC\n",
    "TCCCACTAATAATTCTGAGG\n",
    ">Rosalind_5959\n",
    "CCATCGGTAGCGCATCCTTAGTCCAATTAAGTCCCTATCCAGGCGCTCCGCCGAAGGTCT\n",
    "ATATCCATTTGTCAGCAGACACGC\n",
    ">Rosalind_0808\n",
    "CCACCCTCGTGGTATGGCTAGGCATTCAGGAACCGGAGAACGCTTCAGACCAGCCCGGAC\n",
    "TGGGAACCTGCGGGCAGTAGGTGGAAT\n",
    "\n",
    "Sample Output\n",
    "Rosalind_0808\n",
    "60.919540"
   ]
  },
  {
   "cell_type": "code",
   "execution_count": 212,
   "metadata": {},
   "outputs": [
    {
     "name": "stdout",
     "output_type": "stream",
     "text": [
      "0.5375\n",
      "0.5365853658536586\n",
      "0.5617529880478087\n"
     ]
    }
   ],
   "source": [
    "my_dict = {'Rosalind_6404': 'CCTGCGGAAGATCGGCACTAGAATAGCCAGAACCGTTTCTCTGAGGCTTCCGGCCTTCCCTCCCACTAATAATTCTGAGG', 'Rosalind_5959': 'CCATCGGTAGCGCATCCTTAGTCCAATTAAGTCCCTATCCAGGCGCTCCGCCGAAGGTCTATATCCATTTGTCAGCAGACACGC', 'Rosalind_0808': 'CCACCCTCGTGGTATGGCTAGGCATTCAGGAACCGGAGAACGCTTCAGACCAGCCCGGACTGGGAACCTGCGGGCAGTAGGTGGAAT' }\n",
    "temp_dict = {}\n",
    "new_dict = {}\n",
    "counter = 0\n",
    "\n",
    "for items in my_dict.values():\n",
    "#     print(my_dict)\n",
    "    for letter in items:\n",
    "#         print(letter)\n",
    "        if letter in temp_dict.keys():\n",
    "            temp_dict[letter]+= 1\n",
    "        else:  \n",
    "            temp_dict[letter]= 1\n",
    "    print((temp_dict['C'] + temp_dict['G']) / (temp_dict['A'] + temp_dict['C'] + temp_dict['G'] + temp_dict['T']))\n"
   ]
  },
  {
   "cell_type": "code",
   "execution_count": 213,
   "metadata": {},
   "outputs": [
    {
     "name": "stdout",
     "output_type": "stream",
     "text": [
      "Rosalind_6404 0.5375\n",
      "Rosalind_5959 0.5375\n",
      "Rosalind_0808 0.5375\n",
      "Rosalind_6404 0.5365853658536586\n",
      "Rosalind_5959 0.5365853658536586\n",
      "Rosalind_0808 0.5365853658536586\n",
      "Rosalind_6404 0.5617529880478087\n",
      "Rosalind_5959 0.5617529880478087\n",
      "Rosalind_0808 0.5617529880478087\n"
     ]
    }
   ],
   "source": [
    "my_dict = {'Rosalind_6404': 'CCTGCGGAAGATCGGCACTAGAATAGCCAGAACCGTTTCTCTGAGGCTTCCGGCCTTCCCTCCCACTAATAATTCTGAGG', 'Rosalind_5959': 'CCATCGGTAGCGCATCCTTAGTCCAATTAAGTCCCTATCCAGGCGCTCCGCCGAAGGTCTATATCCATTTGTCAGCAGACACGC', 'Rosalind_0808': 'CCACCCTCGTGGTATGGCTAGGCATTCAGGAACCGGAGAACGCTTCAGACCAGCCCGGACTGGGAACCTGCGGGCAGTAGGTGGAAT' }\n",
    "temp_dict = {}\n",
    "new_dict = {}\n",
    "results = []\n",
    "    \n",
    "for items in my_dict.values():\n",
    "\n",
    "    for letter in items:\n",
    "\n",
    "        if letter in temp_dict.keys():\n",
    "            temp_dict[letter]+= 1\n",
    "        else:  \n",
    "            temp_dict[letter]= 1\n",
    "    results.append((temp_dict['C'] + temp_dict['G']) / (temp_dict['A'] + temp_dict['C'] + temp_dict['G'] + temp_dict['T']))\n",
    "\n",
    "for item in results:\n",
    "    for keys in my_dict.keys():\n",
    "        print('{} {}'.format(keys, item))\n",
    "\n",
    "# for item in results:\n",
    "#     print(item)\n",
    "    "
   ]
  },
  {
   "cell_type": "code",
   "execution_count": 214,
   "metadata": {},
   "outputs": [
    {
     "name": "stdout",
     "output_type": "stream",
     "text": [
      "Counter({'C': 25, 'T': 19, 'G': 18, 'A': 18})\n",
      "18\n",
      "Counter({'C': 28, 'T': 20, 'A': 19, 'G': 17})\n",
      "17\n",
      "Counter({'G': 29, 'C': 24, 'A': 20, 'T': 14})\n",
      "29\n"
     ]
    }
   ],
   "source": [
    "my_dict = {'Rosalind_6404': 'CCTGCGGAAGATCGGCACTAGAATAGCCAGAACCGTTTCTCTGAGGCTTCCGGCCTTCCCTCCCACTAATAATTCTGAGG', 'Rosalind_5959': 'CCATCGGTAGCGCATCCTTAGTCCAATTAAGTCCCTATCCAGGCGCTCCGCCGAAGGTCTATATCCATTTGTCAGCAGACACGC', 'Rosalind_0808': 'CCACCCTCGTGGTATGGCTAGGCATTCAGGAACCGGAGAACGCTTCAGACCAGCCCGGACTGGGAACCTGCGGGCAGTAGGTGGAAT' }\n",
    "import collections\n",
    "for i, (k, v) in enumerate(my_dict.items()):\n",
    "    print(collections.Counter(v))\n",
    "    print(collections.Counter(v)['G'])\n",
    "\n"
   ]
  },
  {
   "cell_type": "code",
   "execution_count": 60,
   "metadata": {},
   "outputs": [
    {
     "name": "stdout",
     "output_type": "stream",
     "text": [
      "Rosalind_0808 56.17529880478087\n"
     ]
    }
   ],
   "source": [
    "my_dict = {'Rosalind_6404': 'CCTGCGGAAGATCGGCACTAGAATAGCCAGAACCGTTTCTCTGAGGCTTCCGGCCTTCCCTCCCACTAATAATTCTGAGG', 'Rosalind_5959': 'CCATCGGTAGCGCATCCTTAGTCCAATTAAGTCCCTATCCAGGCGCTCCGCCGAAGGTCTATATCCATTTGTCAGCAGACACGC', 'Rosalind_0808': 'CCACCCTCGTGGTATGGCTAGGCATTCAGGAACCGGAGAACGCTTCAGACCAGCCCGGACTGGGAACCTGCGGGCAGTAGGTGGAAT'}\n",
    "temp_dict = {}\n",
    "new_dict = {}\n",
    "    \n",
    "for i, (k,v) in enumerate(my_dict.items()):\n",
    "\n",
    "    for letter in v:\n",
    "\n",
    "        if letter in temp_dict.keys():\n",
    "            temp_dict[letter]+= 1\n",
    "        else:  \n",
    "            temp_dict[letter]= 1\n",
    "        \n",
    "    new_dict[k] = ((temp_dict['C'] + temp_dict['G']) / (temp_dict['A'] + temp_dict['C'] + temp_dict['G'] + temp_dict['T']))\n",
    "\n",
    "# print(max(new_dict.values()))\n",
    " \n",
    "new_vals=list(new_dict.values())\n",
    "new_keys=list(new_dict.keys())\n",
    "print(new_keys[new_vals.index(max(new_vals))], new_dict[new_keys[new_vals.index(max(new_vals))]]*100)\n"
   ]
  },
  {
   "cell_type": "code",
   "execution_count": 219,
   "metadata": {},
   "outputs": [
    {
     "name": "stdout",
     "output_type": "stream",
     "text": [
      "Rosalind_5402 0.5103294249022893\n"
     ]
    }
   ],
   "source": [
    "my_dict = {'Rosalind_3421': 'GATAATTACTGTGTAATAGTAGCATGTTTGGCCCCAGATTCGCTCAGCTTCGCTATTATATCAGCAATGGCCAATAATCGACCTAGGGACATCGTACAGACCCTCTGTTCCATTCATAATTGGACATCCTCGCGGCTTAGCACTTGTACCGCCACAATCTAGAGGGCCTTAAGTAGCTACCGTGCACGTAGCATGGGCTACGCCGAAGGTCATAAAGTATTTAATGTTGCGTACTCTCGATCAGCCCAGTTTTTTGGACTTCACTAACGTTCCGAACCTCGTTATCGCCAAAGAACTTTACTAACTCGCCGAGGTTCGCCCTTTTTCGGAAACGATAAAGACGGTACGACATACTAGGCGGGGCGCAGGTCTCGGAAGCCAGAATGCTGCGAGGGTCTGGAGGTATGTGGTCGATCACCATTAGCCAAGAAACCTGTCGGCGGACGGGTCGTAGAAGGGTACCACGCACCCCGTCCTTGAGGGTTTACTCCGTAATTTGGTATTATTAGGTCTCCACCAGGATGCCCCCTTAGAGCCTCCCGGCGGCGATTAATAAGCCTACAGCGTCTACCTACAGGTCATGCAGTGGGGCGCAGTTCACCTTCGAGATGTGGTACGGGATCCAGTCTGGCCGTTAGACATAGATACAAATTCCTTCCACGGCCACGACCGCCATGGATATACCAGATGAGTGCTTGGTGAGTTTATCTTCGGCGCTTAGTGAAGTTTTCTTACACGGGTGACTTATACCCTGAAGACAGATCACCGCATTCACTGCTGGCCTGACGCCTAATCTTAATCATC',\n",
    "'Rosalind_5402':\n",
    "'CGCTGCGACGTTGGCAGACTTCTGGAAGTTCGGTTCAACACTGAAATACATCATGGGCTCGATGGACGTGCTCCCAAGAATCCGCAGCTGCTAAGTCGACGCTCGGATAACAGCTGGAGCATGATAACTCTTTATCGTCACGACCGGCTACTGCAAACAAGGTATCCGAGGATGGATCCCAAGACCGAACCCCAGTAGGTCAGCAAGATCCCCTAGGCCTGTGTCAACCAAGGAAAGTATTCTCTGTCAGTCCCAACCCGCTAAGCCCTCTAGGACTCTAAGGATAATACGACCTCTTACGTTGGGGAACACTCGTTCGCGATTTCCCGGAGCAAGCTGTGGGTGGACGTTTGAAATGTACGACTTCGATGCGAGTACGAGCGAACGAAAGTGTTTATGCTCGTCCGTCCCGGATGTCTGGGACATCCAGCGACAGTTGTACATGTGATTTCGGTTCGTCCGAAGAAACACTCGGGGGCCAGGAAGCCTCACGCTACTTGGCGCGGACTCCGAAGCGGAGAATCCCGGGGTTAAAATACGCCTGCCACTACCCGCGGTCATGATGATCGAGACTCTTCCCAGACTAACCGCTCAGTATTGGTCACTTCGTGGTCGCGTTCCCCGCATTCCTTTAGCATCGGTGTTTGAAATTGCAGTCCTACGCCACGTCCAAGTATGAAAAATAAAAGATAACTACTGGGATTCATACCAACCGGGAACCCGGTCCCCGTTCCTACTGTTATACTTCCGCCATGCCACGTCAGCCTACTAACACATGGGAGGCATTGTACCGTTATTCTAATTTCCCCCCAGAGTGAGCTTGTACTCCGACCAGTCATATTAAGATATGCTGCCGACTGAACCTAGTGTCTGCACGAGGATGAATCAAGCCAACCAGATATAAGGATGTCGAAGTGGCTCGGTATTGAATATTAAAGCAGAAGTACGTGATTGGACGCCAGCGTTGATGCCGAGTCCGTAAGTTCA',\n",
    "'Rosalind_6819':\n",
    "'GTGTTCGGATGCTTCTCTGCGTTATCCCCATCGTGACTGCGTAGCTCTCAACGGTAAGGACGAGGGACCGGGCCGGACGAAAGAACGGACACCATGCTAATTTTGATTTTTCTTGCCTTTCCGGAGGACCCGCCTCCGTACCTACCACCGAAGAACTGAGGAGCTTATTTAACCGTGTACGTAGTGCGGGACGCTCACCCTAAGCTTCGACGCTATCGGACTTGTCACCATTGCAGGAAGGACTTAAAGAACAATTCACCCGGCCTAGAAGTTTTCAAAACAGAGCCCGAGCACATTAATTTGATGGAACTACTCTGTCTAGACATCGATGTGCGGCTCTCTAATACCGCTAGCGCTGATGCAAACACGCACAATCCGACAACCAAGGCTCCATTGTTTGTTGCGATCATTTCACCGTCTTTCCTGCTCGTCAAAAAGCATACGCACAATATGTGATTGGTAGCAACATGGTTAAGCTCAGACCAAAGATTCGTGAAAATGCTTTCATACCCACTGGCGCCATTGGAGCCGGAAGCCACAGTGGTCTCAAGCCGTCCGTTCGACTACCAAAAGCTTACGCTCCATGTTACGGATACTGTACAAAAAGCAAGGGATTGGCCTCGAGGATCACGTATTTTTCTCACTCTGGAATAAAGTCAGGGATAGAAACCGCTTACGAATCCGATTGGAATTCCGTGTTTACTCTGGCTCCGTCCTGCGCTAATCCATTGGCTTGGCGTAGTACGGCGTCGGATTCTTTATCGACAGTAGGGGGAACCTCGGTTTCTAGGTATGTGAGTTAGTTAATGCGTGGAGCCAAGCTTCCGGACGACCGTAATGAATTGAAGGGCAGTAGGCCAAACGTCCAATTATATGGCTTCCCGGGATTTTG',\n",
    "'Rosalind_9164':'ATCATGGAGACCGAGGGCTGGTTATGACCGCCCCCATTGAAAGCGGTTTATCTCAACAATCCTGCGCGTTCCTCCTGGAGTTGTAGGGCGCATGGACGTATGCTGTCAATAAGTCGCCGCGGTAGCTTCCCTTCGGTCCAGACGGATATATCTGGTAAATGATCGGCTGGTACCCGCAGCCAGACACTGTGTTCACGACCACGGCAGCGGTGTCGTGGTCCCGTTTGATACATTGTGGGGATAGCCCCACGCAGGGGCCACCGCACGTAACCGTAAGTTGACAGGGCGCCAGACGGGTCTTCTCCGTTATAGAGATCGACCGTCAACCACCATCGCGAAGAGCCAGTTGGTCCATAAGGGTAGGGTATTGTATAATGCTAGTCCTATGATTTCCTTCTACGAAAATTTATCATAAGATACGTCGTACCTAACCTGACAACAATAATTCATCATAAAAGCCCGCACCGCAGAACGTATGTCTATACGCACTTCAACCTGAACCATCCCACTGTCCTATCCGTTGAGGGATTTGCTAAGTGAACACGATTTTACTGATTCAGAAATCATGGTTCTTATGCCTTACTCACCTCTCTTTGGGTCGAGATGAACTCGAGCAATCCGAGCAGCTAGCACGATGCGCAGCAGCAAGGTACTTCATAGATGGAGTTTTGCGAAGAGTTCAGCTCTCCAACTGTCATCTGTCCACTGCTCAATAAGTAGACCTTACCTCACCCCAAGCTGCAATGTTCGACTGCCGATGGCACTGCTGTTCTTCCCAGAGCTGTCAGTAACATCACCTAGGCTAACTCTGGACACCTACAGCGCAATACACCAGGGACTTGCA',\n",
    "'Rosalind_2451':\n",
    "'ACACCGCTCAAGACTCGAGAGAAATCTTTGGCGACGTTGGCCAGCACCAGTCTTAATGATCAGCGTGTTTCCAACGTACCTGGACAATGTAGTACCGCTCCCACGATCTGTATCACATTCGAGACAAAGATGTGGATATCATAGTCGAATCTGACTTTAATTCGTGAGTGTTAAGCCGCGTCGATTACCACTACAGATCAAGGACGGAAGAAGAGGTGCTCCAGACTTATCATCCGGTTACGCTCATACTCACAGCCAGCAAATCCCACGGGAAGATGCGATTGAGCTCGACGCCTTGGCGCGATCCCGAATTGCGCTCATGCTCTGTATCTTGTAAGTGACAACCTTTAGGCCGGTTCAGAATTCCCCAGTACTCTGCATGCTCCCCCATGCGTCGGATCTTGGTTCTACTAACAGATAGTATAAACCAAGTGGACTATCCACTCTTTTTTGGCCTTTTTTACTCCAAGTATCCTCCGGATTTGGGACGCAAACTCATCAGGTACTGGAGTGTCGGTGAGGGGGTAGGTTGAATGAACCTTGAGAAGCGGCGCGACCATTGGGCAATTCCGCCCAACGCCCTCACATAGATCCAACTTCGCGCGCAAACCCCGTACGGCACCAATCAGAACAAAATCAGGTCCAGGAGTAGGATCCCCAGAGACTCCACCTGCCGATTGCAGGGCGTTGTTAGATGGTAGCTCTTAGTGAAACCAATTTCGTGGAATCGTATGCCATCTTGGCACGTTGGAAGATGGCATCCACTGGCCAATCAAATTTGACCGGGCAAAACCGGCTACACGCGGTGGGTAGGCCAGGGGGTTCGTTTGAGGGGGGT',\n",
    "'Rosalind_6889':\n",
    "'CCTACTCCAGCTACCGGGTCCACCATGTGGATGTCATGCTCACCGCTCATGGAAGCCTTGTACACCTGGGTCTGAGCTGAGCCCTTCTACAATATGTCACATGGCTACATGCTCCTTGCTGCACTGCAGTTCAGGATATATCCTAACAGAGGGCCCACACATATTCAAAGGTATAAGGACGCGTTAGATGTGGTGTCGCCAACCGCCGTTGGCACTCTCACCGACGTCTAGGACAGTCAAACTGGTTGCGCGGAGGGGATGCAGGCGGTCGCAAAGGTTAGGTGGCAGCCGTCGAGAAAGCAAAACATTGAGGGGATGTACTGAGTCGCCTACTATAATGCAGATACGAAGTATTTCAGGAAGTGATGCACAGGTGGAAAGCCGACGCGGCAGATAGAGAGCGTCGCCTACAAAACAAGGGCTAAGGGGCGCGGCTAGTAATGTCTTCTAGGTCAACAACGGATTAGGCATCAGATGCCCTTGCGGATCTAGTCGATATCCCGCCCTGAGTTAGTACCATTGATCTTAGTGATGCATAGCGAGCCAGGCACAGGTTAGCGGAGAAAGAAACCCAAGATCGAAAGGTCACGACCTCTTCCACTGTTCTATGGGTCCCTTGCGTTCAACTCGGAGCAGATGTTTAGATTCCAAATTTGTCTGTTGGTCGAACCGCTGGGCAGGGTCTACCCAATCGGCTGCCATCTTTGAGGAATACATGAAACGCCCCCCCCTCAACACGTAGGCTATGAGCTTATTGTGTTTATTTGCGGACTGGAATGTAGTCCTTCCCTTTTAAGTCCCTGCACATCTAGGTCGAAATTCTCCCCTTTGTCCTATTGGTGCTGGAGCAGTAATGCTGGTGGCTTCCA'\n",
    "}\n",
    "temp_dict = {}\n",
    "new_dict = {}\n",
    "    \n",
    "for i, (k,v) in enumerate(my_dict.items()):\n",
    "\n",
    "    for letter in v:\n",
    "\n",
    "        if letter in temp_dict.keys():\n",
    "            temp_dict[letter]+= 1\n",
    "        else:  \n",
    "            temp_dict[letter]= 1\n",
    "        \n",
    "    new_dict[k] = ((temp_dict['C'] + temp_dict['G']) / (temp_dict['A'] + temp_dict['C'] + temp_dict['G'] + temp_dict['T']))\n",
    "\n",
    "# print(max(new_dict.values()))\n",
    " \n",
    "new_vals=list(new_dict.values())\n",
    "new_keys=list(new_dict.keys())\n",
    "print(new_keys[new_vals.index(max(new_vals))], new_dict[new_keys[new_vals.index(max(new_vals))]])\n"
   ]
  },
  {
   "cell_type": "code",
   "execution_count": 221,
   "metadata": {},
   "outputs": [],
   "source": [
    "def fib(n):\n",
    "    if(n<2):\n",
    "        return n\n",
    "    else:\n",
    "        return fib(n-1) + fib(n-2)"
   ]
  },
  {
   "cell_type": "code",
   "execution_count": 223,
   "metadata": {},
   "outputs": [
    {
     "data": {
      "text/plain": [
       "17711"
      ]
     },
     "execution_count": 223,
     "metadata": {},
     "output_type": "execute_result"
    }
   ],
   "source": [
    "fib(22)"
   ]
  },
  {
   "cell_type": "code",
   "execution_count": 232,
   "metadata": {},
   "outputs": [
    {
     "name": "stdout",
     "output_type": "stream",
     "text": [
      "222 211 230 217\n"
     ]
    }
   ],
   "source": [
    "my_str = 'ATCGCACTAAGCTCTTGGGCGACTGGGCCGTACAAGTACTTAATAGTGCTGGTCCTGACTCCTCGAAACAATTGGCTTGGTTACTGTGCGCGAAGACAAGGACCCTGCGCGAGACTGTACGGACTCATTCTACCGCCACCTCCACCAACCTGTGGCCTGTCTTTCTAAGATTTCGCTGGAAAACCCGGTATGCCATAGTCTTGGACCGTTCTGAACTAATTGCTCATGGATATGAACGAGTGACTCAACAGGGCGATAGTAATTACCAGTTAGAGGATTTAGCGGAACGCCCAGCAACACGACTGGGCCCGTTCGGTAAAGTCCGCAAATGTGTATACGTAATTCACCCGGGTAACGCGGAGATGTCGAGATGACTTGCAGGACCGGTTAGCATAGCTACCGATCTAAAACTGCATTCCCCTGAGGTCCATGACATGCTGCCCGTCTGGTAGTCTAGCCGCGTACCCTGGCAAGTTCAGGGTTCTGGAAGAAACAGAACCCAATTCCGATTTAGCTACGGCCTAGTCTTGAGATCCCACCGGATTAATCAGAGCTGGCATCGGTTCACATTCAAAAACGGGGCTAAAAATCCACGTCTACATATCAATTTTCTTATTTACTTGACACCCGGGAGGCTCAAGGGGGGAGACTCTATTTTACCTTTTCGGTAATAAGCTGAGATGGCTGGCGGTTCTAGGAGCTTAATTTGATCTTTGGACTCTAGGATCTTACTTGGGGGGCCGGGGACATACTTATGAAGCTGGGCGCCTAAAGCAAGGCTTAGGGTACCGGTCGGGGCGATTAATGGCGGGAGGAGAGGGCTTAAAGACAGCAATTCGATACATGAATCGCCCAAGGAGTGCTCTCTTCTACATTAGTA'\n",
    "my_dict = {}\n",
    "\n",
    "for letter in my_str:\n",
    "    if letter in my_dict.keys():\n",
    "        my_dict[letter]+= 1\n",
    "    else: \n",
    "        my_dict[letter]= 1\n",
    "    \n",
    "print('{0} {1} {2} {3}'.format(my_dict['A'], my_dict['C'], my_dict['G'], my_dict['T']))\n"
   ]
  },
  {
   "cell_type": "code",
   "execution_count": 3,
   "metadata": {},
   "outputs": [],
   "source": [
    "with open('rosalind_gc.txt') as f:\n",
    "    content = f.readlines()"
   ]
  },
  {
   "cell_type": "code",
   "execution_count": 4,
   "metadata": {},
   "outputs": [
    {
     "data": {
      "text/plain": [
       "['>Rosalind_3421\\n',\n",
       " 'GATAATTACTGTGTAATAGTAGCATGTTTGGCCCCAGATTCGCTCAGCTTCGCTATTATA\\n',\n",
       " 'TCAGCAATGGCCAATAATCGACCTAGGGACATCGTACAGACCCTCTGTTCCATTCATAAT\\n',\n",
       " 'TGGACATCCTCGCGGCTTAGCACTTGTACCGCCACAATCTAGAGGGCCTTAAGTAGCTAC\\n',\n",
       " 'CGTGCACGTAGCATGGGCTACGCCGAAGGTCATAAAGTATTTAATGTTGCGTACTCTCGA\\n',\n",
       " 'TCAGCCCAGTTTTTTGGACTTCACTAACGTTCCGAACCTCGTTATCGCCAAAGAACTTTA\\n',\n",
       " 'CTAACTCGCCGAGGTTCGCCCTTTTTCGGAAACGATAAAGACGGTACGACATACTAGGCG\\n',\n",
       " 'GGGCGCAGGTCTCGGAAGCCAGAATGCTGCGAGGGTCTGGAGGTATGTGGTCGATCACCA\\n',\n",
       " 'TTAGCCAAGAAACCTGTCGGCGGACGGGTCGTAGAAGGGTACCACGCACCCCGTCCTTGA\\n',\n",
       " 'GGGTTTACTCCGTAATTTGGTATTATTAGGTCTCCACCAGGATGCCCCCTTAGAGCCTCC\\n',\n",
       " 'CGGCGGCGATTAATAAGCCTACAGCGTCTACCTACAGGTCATGCAGTGGGGCGCAGTTCA\\n',\n",
       " 'CCTTCGAGATGTGGTACGGGATCCAGTCTGGCCGTTAGACATAGATACAAATTCCTTCCA\\n',\n",
       " 'CGGCCACGACCGCCATGGATATACCAGATGAGTGCTTGGTGAGTTTATCTTCGGCGCTTA\\n',\n",
       " 'GTGAAGTTTTCTTACACGGGTGACTTATACCCTGAAGACAGATCACCGCATTCACTGCTG\\n',\n",
       " 'GCCTGACGCCTAATCTTAATCATC\\n',\n",
       " '>Rosalind_5402\\n',\n",
       " 'CGCTGCGACGTTGGCAGACTTCTGGAAGTTCGGTTCAACACTGAAATACATCATGGGCTC\\n',\n",
       " 'GATGGACGTGCTCCCAAGAATCCGCAGCTGCTAAGTCGACGCTCGGATAACAGCTGGAGC\\n',\n",
       " 'ATGATAACTCTTTATCGTCACGACCGGCTACTGCAAACAAGGTATCCGAGGATGGATCCC\\n',\n",
       " 'AAGACCGAACCCCAGTAGGTCAGCAAGATCCCCTAGGCCTGTGTCAACCAAGGAAAGTAT\\n',\n",
       " 'TCTCTGTCAGTCCCAACCCGCTAAGCCCTCTAGGACTCTAAGGATAATACGACCTCTTAC\\n',\n",
       " 'GTTGGGGAACACTCGTTCGCGATTTCCCGGAGCAAGCTGTGGGTGGACGTTTGAAATGTA\\n',\n",
       " 'CGACTTCGATGCGAGTACGAGCGAACGAAAGTGTTTATGCTCGTCCGTCCCGGATGTCTG\\n',\n",
       " 'GGACATCCAGCGACAGTTGTACATGTGATTTCGGTTCGTCCGAAGAAACACTCGGGGGCC\\n',\n",
       " 'AGGAAGCCTCACGCTACTTGGCGCGGACTCCGAAGCGGAGAATCCCGGGGTTAAAATACG\\n',\n",
       " 'CCTGCCACTACCCGCGGTCATGATGATCGAGACTCTTCCCAGACTAACCGCTCAGTATTG\\n',\n",
       " 'GTCACTTCGTGGTCGCGTTCCCCGCATTCCTTTAGCATCGGTGTTTGAAATTGCAGTCCT\\n',\n",
       " 'ACGCCACGTCCAAGTATGAAAAATAAAAGATAACTACTGGGATTCATACCAACCGGGAAC\\n',\n",
       " 'CCGGTCCCCGTTCCTACTGTTATACTTCCGCCATGCCACGTCAGCCTACTAACACATGGG\\n',\n",
       " 'AGGCATTGTACCGTTATTCTAATTTCCCCCCAGAGTGAGCTTGTACTCCGACCAGTCATA\\n',\n",
       " 'TTAAGATATGCTGCCGACTGAACCTAGTGTCTGCACGAGGATGAATCAAGCCAACCAGAT\\n',\n",
       " 'ATAAGGATGTCGAAGTGGCTCGGTATTGAATATTAAAGCAGAAGTACGTGATTGGACGCC\\n',\n",
       " 'AGCGTTGATGCCGAGTCCGTAAGTTCA\\n',\n",
       " '>Rosalind_6819\\n',\n",
       " 'GTGTTCGGATGCTTCTCTGCGTTATCCCCATCGTGACTGCGTAGCTCTCAACGGTAAGGA\\n',\n",
       " 'CGAGGGACCGGGCCGGACGAAAGAACGGACACCATGCTAATTTTGATTTTTCTTGCCTTT\\n',\n",
       " 'CCGGAGGACCCGCCTCCGTACCTACCACCGAAGAACTGAGGAGCTTATTTAACCGTGTAC\\n',\n",
       " 'GTAGTGCGGGACGCTCACCCTAAGCTTCGACGCTATCGGACTTGTCACCATTGCAGGAAG\\n',\n",
       " 'GACTTAAAGAACAATTCACCCGGCCTAGAAGTTTTCAAAACAGAGCCCGAGCACATTAAT\\n',\n",
       " 'TTGATGGAACTACTCTGTCTAGACATCGATGTGCGGCTCTCTAATACCGCTAGCGCTGAT\\n',\n",
       " 'GCAAACACGCACAATCCGACAACCAAGGCTCCATTGTTTGTTGCGATCATTTCACCGTCT\\n',\n",
       " 'TTCCTGCTCGTCAAAAAGCATACGCACAATATGTGATTGGTAGCAACATGGTTAAGCTCA\\n',\n",
       " 'GACCAAAGATTCGTGAAAATGCTTTCATACCCACTGGCGCCATTGGAGCCGGAAGCCACA\\n',\n",
       " 'GTGGTCTCAAGCCGTCCGTTCGACTACCAAAAGCTTACGCTCCATGTTACGGATACTGTA\\n',\n",
       " 'CAAAAAGCAAGGGATTGGCCTCGAGGATCACGTATTTTTCTCACTCTGGAATAAAGTCAG\\n',\n",
       " 'GGATAGAAACCGCTTACGAATCCGATTGGAATTCCGTGTTTACTCTGGCTCCGTCCTGCG\\n',\n",
       " 'CTAATCCATTGGCTTGGCGTAGTACGGCGTCGGATTCTTTATCGACAGTAGGGGGAACCT\\n',\n",
       " 'CGGTTTCTAGGTATGTGAGTTAGTTAATGCGTGGAGCCAAGCTTCCGGACGACCGTAATG\\n',\n",
       " 'AATTGAAGGGCAGTAGGCCAAACGTCCAATTATATGGCTTCCCGGGATTTTG\\n',\n",
       " '>Rosalind_9164\\n',\n",
       " 'ATCATGGAGACCGAGGGCTGGTTATGACCGCCCCCATTGAAAGCGGTTTATCTCAACAAT\\n',\n",
       " 'CCTGCGCGTTCCTCCTGGAGTTGTAGGGCGCATGGACGTATGCTGTCAATAAGTCGCCGC\\n',\n",
       " 'GGTAGCTTCCCTTCGGTCCAGACGGATATATCTGGTAAATGATCGGCTGGTACCCGCAGC\\n',\n",
       " 'CAGACACTGTGTTCACGACCACGGCAGCGGTGTCGTGGTCCCGTTTGATACATTGTGGGG\\n',\n",
       " 'ATAGCCCCACGCAGGGGCCACCGCACGTAACCGTAAGTTGACAGGGCGCCAGACGGGTCT\\n',\n",
       " 'TCTCCGTTATAGAGATCGACCGTCAACCACCATCGCGAAGAGCCAGTTGGTCCATAAGGG\\n',\n",
       " 'TAGGGTATTGTATAATGCTAGTCCTATGATTTCCTTCTACGAAAATTTATCATAAGATAC\\n',\n",
       " 'GTCGTACCTAACCTGACAACAATAATTCATCATAAAAGCCCGCACCGCAGAACGTATGTC\\n',\n",
       " 'TATACGCACTTCAACCTGAACCATCCCACTGTCCTATCCGTTGAGGGATTTGCTAAGTGA\\n',\n",
       " 'ACACGATTTTACTGATTCAGAAATCATGGTTCTTATGCCTTACTCACCTCTCTTTGGGTC\\n',\n",
       " 'GAGATGAACTCGAGCAATCCGAGCAGCTAGCACGATGCGCAGCAGCAAGGTACTTCATAG\\n',\n",
       " 'ATGGAGTTTTGCGAAGAGTTCAGCTCTCCAACTGTCATCTGTCCACTGCTCAATAAGTAG\\n',\n",
       " 'ACCTTACCTCACCCCAAGCTGCAATGTTCGACTGCCGATGGCACTGCTGTTCTTCCCAGA\\n',\n",
       " 'GCTGTCAGTAACATCACCTAGGCTAACTCTGGACACCTACAGCGCAATACACCAGGGACT\\n',\n",
       " 'TGCA\\n',\n",
       " '>Rosalind_2451\\n',\n",
       " 'ACACCGCTCAAGACTCGAGAGAAATCTTTGGCGACGTTGGCCAGCACCAGTCTTAATGAT\\n',\n",
       " 'CAGCGTGTTTCCAACGTACCTGGACAATGTAGTACCGCTCCCACGATCTGTATCACATTC\\n',\n",
       " 'GAGACAAAGATGTGGATATCATAGTCGAATCTGACTTTAATTCGTGAGTGTTAAGCCGCG\\n',\n",
       " 'TCGATTACCACTACAGATCAAGGACGGAAGAAGAGGTGCTCCAGACTTATCATCCGGTTA\\n',\n",
       " 'CGCTCATACTCACAGCCAGCAAATCCCACGGGAAGATGCGATTGAGCTCGACGCCTTGGC\\n',\n",
       " 'GCGATCCCGAATTGCGCTCATGCTCTGTATCTTGTAAGTGACAACCTTTAGGCCGGTTCA\\n',\n",
       " 'GAATTCCCCAGTACTCTGCATGCTCCCCCATGCGTCGGATCTTGGTTCTACTAACAGATA\\n',\n",
       " 'GTATAAACCAAGTGGACTATCCACTCTTTTTTGGCCTTTTTTACTCCAAGTATCCTCCGG\\n',\n",
       " 'ATTTGGGACGCAAACTCATCAGGTACTGGAGTGTCGGTGAGGGGGTAGGTTGAATGAACC\\n',\n",
       " 'TTGAGAAGCGGCGCGACCATTGGGCAATTCCGCCCAACGCCCTCACATAGATCCAACTTC\\n',\n",
       " 'GCGCGCAAACCCCGTACGGCACCAATCAGAACAAAATCAGGTCCAGGAGTAGGATCCCCA\\n',\n",
       " 'GAGACTCCACCTGCCGATTGCAGGGCGTTGTTAGATGGTAGCTCTTAGTGAAACCAATTT\\n',\n",
       " 'CGTGGAATCGTATGCCATCTTGGCACGTTGGAAGATGGCATCCACTGGCCAATCAAATTT\\n',\n",
       " 'GACCGGGCAAAACCGGCTACACGCGGTGGGTAGGCCAGGGGGTTCGTTTGAGGGGGGT\\n',\n",
       " '>Rosalind_6889\\n',\n",
       " 'CCTACTCCAGCTACCGGGTCCACCATGTGGATGTCATGCTCACCGCTCATGGAAGCCTTG\\n',\n",
       " 'TACACCTGGGTCTGAGCTGAGCCCTTCTACAATATGTCACATGGCTACATGCTCCTTGCT\\n',\n",
       " 'GCACTGCAGTTCAGGATATATCCTAACAGAGGGCCCACACATATTCAAAGGTATAAGGAC\\n',\n",
       " 'GCGTTAGATGTGGTGTCGCCAACCGCCGTTGGCACTCTCACCGACGTCTAGGACAGTCAA\\n',\n",
       " 'ACTGGTTGCGCGGAGGGGATGCAGGCGGTCGCAAAGGTTAGGTGGCAGCCGTCGAGAAAG\\n',\n",
       " 'CAAAACATTGAGGGGATGTACTGAGTCGCCTACTATAATGCAGATACGAAGTATTTCAGG\\n',\n",
       " 'AAGTGATGCACAGGTGGAAAGCCGACGCGGCAGATAGAGAGCGTCGCCTACAAAACAAGG\\n',\n",
       " 'GCTAAGGGGCGCGGCTAGTAATGTCTTCTAGGTCAACAACGGATTAGGCATCAGATGCCC\\n',\n",
       " 'TTGCGGATCTAGTCGATATCCCGCCCTGAGTTAGTACCATTGATCTTAGTGATGCATAGC\\n',\n",
       " 'GAGCCAGGCACAGGTTAGCGGAGAAAGAAACCCAAGATCGAAAGGTCACGACCTCTTCCA\\n',\n",
       " 'CTGTTCTATGGGTCCCTTGCGTTCAACTCGGAGCAGATGTTTAGATTCCAAATTTGTCTG\\n',\n",
       " 'TTGGTCGAACCGCTGGGCAGGGTCTACCCAATCGGCTGCCATCTTTGAGGAATACATGAA\\n',\n",
       " 'ACGCCCCCCCCTCAACACGTAGGCTATGAGCTTATTGTGTTTATTTGCGGACTGGAATGT\\n',\n",
       " 'AGTCCTTCCCTTTTAAGTCCCTGCACATCTAGGTCGAAATTCTCCCCTTTGTCCTATTGG\\n',\n",
       " 'TGCTGGAGCAGTAATGCTGGTGGCTTCCA\\n']"
      ]
     },
     "execution_count": 4,
     "metadata": {},
     "output_type": "execute_result"
    }
   ],
   "source": [
    "content"
   ]
  },
  {
   "cell_type": "code",
   "execution_count": 5,
   "metadata": {},
   "outputs": [
    {
     "name": "stdout",
     "output_type": "stream",
     "text": [
      "['Rosalind_3421', 'Rosalind_5402', 'Rosalind_6819', 'Rosalind_9164', 'Rosalind_2451', 'Rosalind_6889']\n",
      "['GATAATTACTGTGTAATAGTAGCATGTTTGGCCCCAGATTCGCTCAGCTTCGCTATTATA', 'TCAGCAATGGCCAATAATCGACCTAGGGACATCGTACAGACCCTCTGTTCCATTCATAAT', 'TGGACATCCTCGCGGCTTAGCACTTGTACCGCCACAATCTAGAGGGCCTTAAGTAGCTAC', 'CGTGCACGTAGCATGGGCTACGCCGAAGGTCATAAAGTATTTAATGTTGCGTACTCTCGA', 'TCAGCCCAGTTTTTTGGACTTCACTAACGTTCCGAACCTCGTTATCGCCAAAGAACTTTA', 'CTAACTCGCCGAGGTTCGCCCTTTTTCGGAAACGATAAAGACGGTACGACATACTAGGCG', 'GGGCGCAGGTCTCGGAAGCCAGAATGCTGCGAGGGTCTGGAGGTATGTGGTCGATCACCA', 'TTAGCCAAGAAACCTGTCGGCGGACGGGTCGTAGAAGGGTACCACGCACCCCGTCCTTGA', 'GGGTTTACTCCGTAATTTGGTATTATTAGGTCTCCACCAGGATGCCCCCTTAGAGCCTCC', 'CGGCGGCGATTAATAAGCCTACAGCGTCTACCTACAGGTCATGCAGTGGGGCGCAGTTCA', 'CCTTCGAGATGTGGTACGGGATCCAGTCTGGCCGTTAGACATAGATACAAATTCCTTCCA', 'CGGCCACGACCGCCATGGATATACCAGATGAGTGCTTGGTGAGTTTATCTTCGGCGCTTA', 'GTGAAGTTTTCTTACACGGGTGACTTATACCCTGAAGACAGATCACCGCATTCACTGCTG', 'GCCTGACGCCTAATCTTAATCATC', 'CGCTGCGACGTTGGCAGACTTCTGGAAGTTCGGTTCAACACTGAAATACATCATGGGCTC', 'GATGGACGTGCTCCCAAGAATCCGCAGCTGCTAAGTCGACGCTCGGATAACAGCTGGAGC', 'ATGATAACTCTTTATCGTCACGACCGGCTACTGCAAACAAGGTATCCGAGGATGGATCCC', 'AAGACCGAACCCCAGTAGGTCAGCAAGATCCCCTAGGCCTGTGTCAACCAAGGAAAGTAT', 'TCTCTGTCAGTCCCAACCCGCTAAGCCCTCTAGGACTCTAAGGATAATACGACCTCTTAC', 'GTTGGGGAACACTCGTTCGCGATTTCCCGGAGCAAGCTGTGGGTGGACGTTTGAAATGTA', 'CGACTTCGATGCGAGTACGAGCGAACGAAAGTGTTTATGCTCGTCCGTCCCGGATGTCTG', 'GGACATCCAGCGACAGTTGTACATGTGATTTCGGTTCGTCCGAAGAAACACTCGGGGGCC', 'AGGAAGCCTCACGCTACTTGGCGCGGACTCCGAAGCGGAGAATCCCGGGGTTAAAATACG', 'CCTGCCACTACCCGCGGTCATGATGATCGAGACTCTTCCCAGACTAACCGCTCAGTATTG', 'GTCACTTCGTGGTCGCGTTCCCCGCATTCCTTTAGCATCGGTGTTTGAAATTGCAGTCCT', 'ACGCCACGTCCAAGTATGAAAAATAAAAGATAACTACTGGGATTCATACCAACCGGGAAC', 'CCGGTCCCCGTTCCTACTGTTATACTTCCGCCATGCCACGTCAGCCTACTAACACATGGG', 'AGGCATTGTACCGTTATTCTAATTTCCCCCCAGAGTGAGCTTGTACTCCGACCAGTCATA', 'TTAAGATATGCTGCCGACTGAACCTAGTGTCTGCACGAGGATGAATCAAGCCAACCAGAT', 'ATAAGGATGTCGAAGTGGCTCGGTATTGAATATTAAAGCAGAAGTACGTGATTGGACGCC', 'AGCGTTGATGCCGAGTCCGTAAGTTCA', 'GTGTTCGGATGCTTCTCTGCGTTATCCCCATCGTGACTGCGTAGCTCTCAACGGTAAGGA', 'CGAGGGACCGGGCCGGACGAAAGAACGGACACCATGCTAATTTTGATTTTTCTTGCCTTT', 'CCGGAGGACCCGCCTCCGTACCTACCACCGAAGAACTGAGGAGCTTATTTAACCGTGTAC', 'GTAGTGCGGGACGCTCACCCTAAGCTTCGACGCTATCGGACTTGTCACCATTGCAGGAAG', 'GACTTAAAGAACAATTCACCCGGCCTAGAAGTTTTCAAAACAGAGCCCGAGCACATTAAT', 'TTGATGGAACTACTCTGTCTAGACATCGATGTGCGGCTCTCTAATACCGCTAGCGCTGAT', 'GCAAACACGCACAATCCGACAACCAAGGCTCCATTGTTTGTTGCGATCATTTCACCGTCT', 'TTCCTGCTCGTCAAAAAGCATACGCACAATATGTGATTGGTAGCAACATGGTTAAGCTCA', 'GACCAAAGATTCGTGAAAATGCTTTCATACCCACTGGCGCCATTGGAGCCGGAAGCCACA', 'GTGGTCTCAAGCCGTCCGTTCGACTACCAAAAGCTTACGCTCCATGTTACGGATACTGTA', 'CAAAAAGCAAGGGATTGGCCTCGAGGATCACGTATTTTTCTCACTCTGGAATAAAGTCAG', 'GGATAGAAACCGCTTACGAATCCGATTGGAATTCCGTGTTTACTCTGGCTCCGTCCTGCG', 'CTAATCCATTGGCTTGGCGTAGTACGGCGTCGGATTCTTTATCGACAGTAGGGGGAACCT', 'CGGTTTCTAGGTATGTGAGTTAGTTAATGCGTGGAGCCAAGCTTCCGGACGACCGTAATG', 'AATTGAAGGGCAGTAGGCCAAACGTCCAATTATATGGCTTCCCGGGATTTTG', 'ATCATGGAGACCGAGGGCTGGTTATGACCGCCCCCATTGAAAGCGGTTTATCTCAACAAT', 'CCTGCGCGTTCCTCCTGGAGTTGTAGGGCGCATGGACGTATGCTGTCAATAAGTCGCCGC', 'GGTAGCTTCCCTTCGGTCCAGACGGATATATCTGGTAAATGATCGGCTGGTACCCGCAGC', 'CAGACACTGTGTTCACGACCACGGCAGCGGTGTCGTGGTCCCGTTTGATACATTGTGGGG', 'ATAGCCCCACGCAGGGGCCACCGCACGTAACCGTAAGTTGACAGGGCGCCAGACGGGTCT', 'TCTCCGTTATAGAGATCGACCGTCAACCACCATCGCGAAGAGCCAGTTGGTCCATAAGGG', 'TAGGGTATTGTATAATGCTAGTCCTATGATTTCCTTCTACGAAAATTTATCATAAGATAC', 'GTCGTACCTAACCTGACAACAATAATTCATCATAAAAGCCCGCACCGCAGAACGTATGTC', 'TATACGCACTTCAACCTGAACCATCCCACTGTCCTATCCGTTGAGGGATTTGCTAAGTGA', 'ACACGATTTTACTGATTCAGAAATCATGGTTCTTATGCCTTACTCACCTCTCTTTGGGTC', 'GAGATGAACTCGAGCAATCCGAGCAGCTAGCACGATGCGCAGCAGCAAGGTACTTCATAG', 'ATGGAGTTTTGCGAAGAGTTCAGCTCTCCAACTGTCATCTGTCCACTGCTCAATAAGTAG', 'ACCTTACCTCACCCCAAGCTGCAATGTTCGACTGCCGATGGCACTGCTGTTCTTCCCAGA', 'GCTGTCAGTAACATCACCTAGGCTAACTCTGGACACCTACAGCGCAATACACCAGGGACT', 'TGCA', 'ACACCGCTCAAGACTCGAGAGAAATCTTTGGCGACGTTGGCCAGCACCAGTCTTAATGAT', 'CAGCGTGTTTCCAACGTACCTGGACAATGTAGTACCGCTCCCACGATCTGTATCACATTC', 'GAGACAAAGATGTGGATATCATAGTCGAATCTGACTTTAATTCGTGAGTGTTAAGCCGCG', 'TCGATTACCACTACAGATCAAGGACGGAAGAAGAGGTGCTCCAGACTTATCATCCGGTTA', 'CGCTCATACTCACAGCCAGCAAATCCCACGGGAAGATGCGATTGAGCTCGACGCCTTGGC', 'GCGATCCCGAATTGCGCTCATGCTCTGTATCTTGTAAGTGACAACCTTTAGGCCGGTTCA', 'GAATTCCCCAGTACTCTGCATGCTCCCCCATGCGTCGGATCTTGGTTCTACTAACAGATA', 'GTATAAACCAAGTGGACTATCCACTCTTTTTTGGCCTTTTTTACTCCAAGTATCCTCCGG', 'ATTTGGGACGCAAACTCATCAGGTACTGGAGTGTCGGTGAGGGGGTAGGTTGAATGAACC', 'TTGAGAAGCGGCGCGACCATTGGGCAATTCCGCCCAACGCCCTCACATAGATCCAACTTC', 'GCGCGCAAACCCCGTACGGCACCAATCAGAACAAAATCAGGTCCAGGAGTAGGATCCCCA', 'GAGACTCCACCTGCCGATTGCAGGGCGTTGTTAGATGGTAGCTCTTAGTGAAACCAATTT', 'CGTGGAATCGTATGCCATCTTGGCACGTTGGAAGATGGCATCCACTGGCCAATCAAATTT', 'GACCGGGCAAAACCGGCTACACGCGGTGGGTAGGCCAGGGGGTTCGTTTGAGGGGGGT', 'CCTACTCCAGCTACCGGGTCCACCATGTGGATGTCATGCTCACCGCTCATGGAAGCCTTG', 'TACACCTGGGTCTGAGCTGAGCCCTTCTACAATATGTCACATGGCTACATGCTCCTTGCT', 'GCACTGCAGTTCAGGATATATCCTAACAGAGGGCCCACACATATTCAAAGGTATAAGGAC', 'GCGTTAGATGTGGTGTCGCCAACCGCCGTTGGCACTCTCACCGACGTCTAGGACAGTCAA', 'ACTGGTTGCGCGGAGGGGATGCAGGCGGTCGCAAAGGTTAGGTGGCAGCCGTCGAGAAAG', 'CAAAACATTGAGGGGATGTACTGAGTCGCCTACTATAATGCAGATACGAAGTATTTCAGG', 'AAGTGATGCACAGGTGGAAAGCCGACGCGGCAGATAGAGAGCGTCGCCTACAAAACAAGG', 'GCTAAGGGGCGCGGCTAGTAATGTCTTCTAGGTCAACAACGGATTAGGCATCAGATGCCC', 'TTGCGGATCTAGTCGATATCCCGCCCTGAGTTAGTACCATTGATCTTAGTGATGCATAGC', 'GAGCCAGGCACAGGTTAGCGGAGAAAGAAACCCAAGATCGAAAGGTCACGACCTCTTCCA', 'CTGTTCTATGGGTCCCTTGCGTTCAACTCGGAGCAGATGTTTAGATTCCAAATTTGTCTG', 'TTGGTCGAACCGCTGGGCAGGGTCTACCCAATCGGCTGCCATCTTTGAGGAATACATGAA', 'ACGCCCCCCCCTCAACACGTAGGCTATGAGCTTATTGTGTTTATTTGCGGACTGGAATGT', 'AGTCCTTCCCTTTTAAGTCCCTGCACATCTAGGTCGAAATTCTCCCCTTTGTCCTATTGG', 'TGCTGGAGCAGTAATGCTGGTGGCTTCCA']\n"
     ]
    }
   ],
   "source": [
    "stringy = ''\n",
    "empty = []\n",
    "keys = []\n",
    "new_dict = {}\n",
    "\n",
    "for line in content:\n",
    "#     while line != \">Rosalind_\":\n",
    "    if '>Rosalind' in line:\n",
    "# #         line.strip(\">\")\n",
    "        keys.append(line[1:14])\n",
    "    else:\n",
    "        empty.append(line.strip('>\\n,'))\n",
    "print(keys)\n",
    "print(empty)\n",
    "\n",
    "# NEED HELP PARSING OUT FASTA FILE\n",
    "# TO BE CONTINUED..."
   ]
  },
  {
   "cell_type": "markdown",
   "metadata": {},
   "source": [
    "- - - - - - - - - - - - \n",
    "Problem\n",
    "\n",
    "Figure 2. The Hamming distance between these two strings is 7. Mismatched symbols are colored red.\n",
    "Given two strings s and t of equal length, the Hamming distance between s and t, denoted dH(s,t), is the number of corresponding symbols that differ in s and t. See Figure 2.\n",
    "\n",
    "Given: Two DNA strings s and t of equal length (not exceeding 1 kbp).\n",
    "\n",
    "Return: The Hamming distance dH(s,t).\n",
    "\n",
    "Sample Dataset\n",
    "GAGCCTACTAACGGGAT\n",
    "CATCGTAATGACGGCCT\n",
    "\n",
    "Sample Output\n",
    "7"
   ]
  },
  {
   "cell_type": "code",
   "execution_count": 23,
   "metadata": {},
   "outputs": [
    {
     "name": "stdout",
     "output_type": "stream",
     "text": [
      "457\n"
     ]
    }
   ],
   "source": [
    "str_one = 'ATGGACTCCAACTTTGTGGCGACTATATGTGCATTAAGATAGTACATCAGAATTCGGCATTGTGACCTGAGCCCGCTGTCCCGAGAGGGGGTTGATACTGTCCAGTACATGGGGTGCCGAGTCCGACGGACACTTTGACCGGTTCAGAAGTCCCAAACCTGCGGCACTCGTCGATAAGTGGAGGGCAGATCTATACAGGTTTTTAGTCGTAGCATACTATCAATGTCACCCCTGGCCAGTGAGTTTGTGCTGAAGCTTCCCTTTAGTTTTGTCTACATCAGCCAAAGTTCCTAATACGAGGGTCTGAGCGGTTACAGTAAGCTCATCCAGACCTCATAAGCCACGACTGACGCTCAAGGTTATGTTGTTTCCCAAACATATGACTACAGTCCAGTTAAGGGCCTACGGCGTCAGTTCGTGCCTTAGGATTAGTCCAATCCATAACACAGGAATAAGCTCCGGTGTTTATTAAGGTTGGGGAAAGAGGTGTGGCTCATCTCTTCGATCAGGGACTCTGGCTCCGGCATAACCGATCCCGGCAAAGGACGTATTTAATTTTGAATTTGCAACGCGGGGATTACATGTTCTCGATGTACCAGTTCCCGCCTCGGGCCCGGCAGCCTGCTTGTGATCTCACTGTTTTCTGGTTCAAGGCACACTATAAGCGCCCCCGGGGCCTACCCGGGGAACGATTGGCGTCAGTGCCGCTTGAGGATACTCGTGCTGTTGCTGGCCCCTGTCTCTTGCCTCAGTTCCATAGCTCCGGTACTCGAACCCTGAATCCATACTTCCCGGGCGAAGGGCGGCCGGCTCTGGTCCACAGAAGCGGAATTTAACTCATATCTAGCGTAGTTCAGGACATGGAGTCAGGTATAAACGTAGCCTATCCTATTGGTCCAGCCATACGTACCATAGCATTGCCGGGGAAATACTACCCGGTT'\n",
    "str_two = 'ATCGACTCCACCACTCTGACGTCACTGGCTATTTTATAACCGTACAGCAGACTCGCCGATCCCGACGTTCTCGTGCGGTTTTGGGCAGGGGTTGATATAGTCGTGGACAGCGGATGTCAGGTGCTTTCAACGGCCGTTCAGGTCCTCCCGTTTAATCCAAGTAGAAGGTGTCGAAAATGCGGACAGATATTCATTAAGAGTATTTTTGGTGACGCACCATAAATATATCCCTTCGGGAGCAAGGCTGCTGTTAAGTCACCGACAAGTGATGACTACGTCAGGCACCAGTGAGCAGGCGTGGCGCTACACCTTTAGATACCGCACGAGTTGTACGCTTTATCTAATTGTCGCTCCCCGGGCGCTGGTGGTTACCAGTTACAAGTCTACTGTATAATTGTGGTACCACGGCGACAGGTCGGGATTTTGGCTTTGAGCACTGCAATGGAAGTGAAAAAGAATCTGGGATTCTTAACCTTCGATATGAAGTCTTCGACCATTTCAACTATCAAACCCCAGTAGTCCGGAAAATCCGAGCCCAGTACCTTCCAGGTTAACAACAGAATTTGTGGCCGAGAGCTTCTGTAAGCGCGCGGTACGGGTTGGCTATCGGGGATCGGCGTACAATTTGTGACCTCGACGGTTTCGGCGTCATAGGATGGGGTACGAGCACCTGAAGCCACAACGGGGAAAGAATGCCGCACGAGTAGCTTGCGGTGTCTTGAACGGCTAGAGTACTCCATTTCGTGCTTGGATTGCCTAGGTGCGTAAACTGGATGCTGAATCTATCATTATATTATGAAGTGCTGCCGTCTCAGGTAAACGCCCGCCGGATTGTTAGGCTGTATTCCCGACGCGGGGACGTGGACTGTAGTATTCCGTTACCCTTTCCCAAAATCCCAGCCATCCGACCAAGAGCATTTCCGTGGTAACATTAATTGGAC'\n",
    "hamming_counter = 0\n",
    "\n",
    "for a,b in zip(str_one, str_two):\n",
    "    if (a != b):\n",
    "        hamming_counter += 1\n",
    "\n",
    "print(hamming_counter)\n",
    "        "
   ]
  },
  {
   "cell_type": "code",
   "execution_count": null,
   "metadata": {},
   "outputs": [],
   "source": []
  },
  {
   "cell_type": "markdown",
   "metadata": {},
   "source": [
    "- - - - - - - - - -\n",
    "Rearrangements Power Large-Scale Genomic Changes\n",
    "\n",
    "Problem\n",
    "A permutation of length n is an ordering of the positive integers {1,2,…,n}. For example, π=(5,3,2,1,4) is \n",
    "a permutation of length 5.\n",
    "\n",
    "Given: A positive integer n≤7.\n",
    "\n",
    "Return: The total number of permutations of length n, followed by a list of all such permutations (in any order).\n",
    "\n",
    "Sample Dataset\n",
    "3\n",
    "\n",
    "Sample Output\n",
    "6\n",
    "1 2 3\n",
    "1 3 2\n",
    "2 1 3\n",
    "2 3 1\n",
    "3 1 2\n",
    "3 2 1"
   ]
  },
  {
   "cell_type": "code",
   "execution_count": 25,
   "metadata": {},
   "outputs": [
    {
     "name": "stdout",
     "output_type": "stream",
     "text": [
      "6\n"
     ]
    }
   ],
   "source": [
    "n = 3\n",
    "\n",
    "print(n * (n-1) * (n-2))"
   ]
  },
  {
   "cell_type": "code",
   "execution_count": 29,
   "metadata": {},
   "outputs": [],
   "source": [
    "def permutation(n):\n",
    "    for num in range(0,(n+1)):\n",
    "        print(num)"
   ]
  },
  {
   "cell_type": "code",
   "execution_count": 30,
   "metadata": {},
   "outputs": [
    {
     "name": "stdout",
     "output_type": "stream",
     "text": [
      "0\n",
      "1\n",
      "2\n",
      "3\n"
     ]
    }
   ],
   "source": [
    "permutation(3)"
   ]
  },
  {
   "cell_type": "markdown",
   "metadata": {},
   "source": [
    "- - - - - - - - - - - -\n",
    "The World's Biggest Genetic Database\n",
    "\n",
    "Problem\n",
    "GenBank comprises several subdivisions:\n",
    "\n",
    "Nucleotide: a collection of nucleic acid sequences from several sources.\n",
    "Genome Survey Sequence (GSS): uncharacterized short genomic sequences.\n",
    "Expressed Sequence Tags, (EST): uncharacterized short cDNA sequences.\n",
    "Searching the Nucleotide database with general text queries will produce the most relevant results. You can also use a simple query based on protein name, gene name or gene symbol.\n",
    "\n",
    "To limit your search to only certain kinds of records, you can search using GenBank's Limits page or alternatively use the Filter your results field to select categories of records after a search.\n",
    "\n",
    "If you cannot find what you are searching for, check how the database interpreted your query by investigating the Search details field on the right side of the page. This field automatically translates your search into standard keywords.\n",
    "\n",
    "For example, if you search for Drosophila, the Search details field will contain (Drosophila[All Fields]), and you will obtain all entries that mention Drosophila (including all its endosymbionts). You can restrict your search to only organisms belonging to the Drosophila genus by using a search tag and searching for Drosophila[Organism].\n",
    "\n",
    "Given: A genus name, followed by two dates in YYYY/M/D format.\n",
    "\n",
    "Return: The number of Nucleotide GenBank entries for the given genus that were published between the dates specified.\n",
    "\n",
    "Sample Dataset\n",
    "\n",
    "Anthoxanthum\n",
    "2003/7/25\n",
    "2005/12/27\n",
    "\n",
    "Sample Output\n",
    "7"
   ]
  },
  {
   "cell_type": "markdown",
   "metadata": {},
   "source": [
    "# Given this information in rosalind_gbk.txt\n",
    "Sporopachydermia\n",
    "2003/01/03\n",
    "2011/08/28"
   ]
  },
  {
   "cell_type": "markdown",
   "metadata": {},
   "source": [
    "Result found on https://www.ncbi.nlm.nih.gov/nuccore was:\n",
    "24"
   ]
  },
  {
   "cell_type": "code",
   "execution_count": 13,
   "metadata": {},
   "outputs": [],
   "source": []
  },
  {
   "cell_type": "code",
   "execution_count": 26,
   "metadata": {},
   "outputs": [],
   "source": [
    "\n",
    "from itertools import groupby\n",
    "\n",
    "def fasta_iter(fasta_name):\n",
    "\n",
    "    fh = open(fasta_name)\n",
    "\n",
    "# ditch the boolean (x[0]) and just keep the header or sequence since\n",
    "# we know they alternate.\n",
    "    faiter = (x[1] for x in groupby(fh, lambda line: line[0] == \">\"))\n",
    "\n",
    "    for header in faiter:\n",
    "    # drop the \">\"\n",
    "        headerStr = header.__next__()[1:].strip()\n",
    "\n",
    "    # join all sequence lines to one.\n",
    "        seq = \"\".join(s.strip() for s in faiter.__next__())\n",
    "\n",
    "        yield (headerStr, seq)\n",
    "\n"
   ]
  },
  {
   "cell_type": "code",
   "execution_count": 47,
   "metadata": {},
   "outputs": [
    {
     "name": "stdout",
     "output_type": "stream",
     "text": [
      "Rosalind_5402 0.5103294249022893\n"
     ]
    }
   ],
   "source": [
    "fiter = fasta_iter('rosalind_gc.txt')\n",
    "temp_dict = {}\n",
    "new_dict = {}\n",
    "\n",
    "for ff in fiter:\n",
    "    headerStr, seq = ff\n",
    "    \n",
    "    for letter in seq:\n",
    "#         print(letter)\n",
    "        if letter in temp_dict.keys():\n",
    "            temp_dict[letter]+= 1\n",
    "        else:  \n",
    "            temp_dict[letter]= 1\n",
    "#     print(headerStr)\n",
    "#     print((temp_dict['C'] + temp_dict['G']) / (temp_dict['A'] + temp_dict['C'] + temp_dict['G'] + temp_dict['T']))\n",
    "    new_dict[headerStr] = ((temp_dict['C'] + temp_dict['G']) / (temp_dict['A'] + temp_dict['C'] + temp_dict['G'] + temp_dict['T']))\n",
    "    \n",
    "# print(new_dict)\n",
    "#     print('{} {}'.format(keys, item))\n",
    "new_vals=list(new_dict.values())\n",
    "new_keys=list(new_dict.keys())\n",
    "print(new_keys[new_vals.index(max(new_vals))], new_dict[new_keys[new_vals.index(max(new_vals))]])"
   ]
  },
  {
   "cell_type": "code",
   "execution_count": 50,
   "metadata": {},
   "outputs": [
    {
     "name": "stdout",
     "output_type": "stream",
     "text": [
      "{'Rosalind_8746': 0.48216340621403914, 'Rosalind_7920': 0.49236192714453586, 'Rosalind_8823': 0.4845322400298174, 'Rosalind_7246': 0.49086944671572635, 'Rosalind_6482': 0.4950805008944544, 'Rosalind_0943': 0.4963113242345998}\n",
      "Rosalind_0943 49.63113242345998\n"
     ]
    }
   ],
   "source": [
    "fiter = fasta_iter('rosalind_gc.txt')\n",
    "temp_dict = {}\n",
    "new_dict = {}\n",
    "\n",
    "for ff in fiter:\n",
    "    headerStr, seq = ff\n",
    "    \n",
    "    for letter in seq:\n",
    "#         print(letter)\n",
    "        if letter in temp_dict.keys():\n",
    "            temp_dict[letter]+= 1\n",
    "        else:  \n",
    "            temp_dict[letter]= 1\n",
    "#     print(headerStr)\n",
    "#     print((temp_dict['C'] + temp_dict['G']) / (temp_dict['A'] + temp_dict['C'] + temp_dict['G'] + temp_dict['T']))\n",
    "    new_dict[headerStr] = ((temp_dict['C'] + temp_dict['G']) / (temp_dict['A'] + temp_dict['C'] + temp_dict['G'] + temp_dict['T']))\n",
    "    \n",
    "print(new_dict)\n",
    "#     print('{} {}'.format(keys, item))\n",
    "new_vals=list(new_dict.values())\n",
    "new_keys=list(new_dict.keys())\n",
    "print(new_keys[new_vals.index(max(new_vals))], new_dict[new_keys[new_vals.index(max(new_vals))]]*100)\n"
   ]
  },
  {
   "cell_type": "code",
   "execution_count": 52,
   "metadata": {},
   "outputs": [
    {
     "name": "stdout",
     "output_type": "stream",
     "text": [
      "Rosalind_1810 50.421654\n"
     ]
    }
   ],
   "source": [
    "fiter = fasta_iter('rosalind_gc.txt')\n",
    "temp_dict = {}\n",
    "new_dict = {}\n",
    "\n",
    "for ff in fiter:\n",
    "    headerStr, seq = ff\n",
    "    \n",
    "    for letter in seq:\n",
    "#         print(letter)\n",
    "        if letter in temp_dict.keys():\n",
    "            temp_dict[letter]+= 1\n",
    "        else:  \n",
    "            temp_dict[letter]= 1\n",
    "#     print(headerStr)\n",
    "#     print((temp_dict['C'] + temp_dict['G']) / (temp_dict['A'] + temp_dict['C'] + temp_dict['G'] + temp_dict['T']))\n",
    "    new_dict[headerStr] = ((temp_dict['C'] + temp_dict['G']) / (temp_dict['A'] + temp_dict['C'] + temp_dict['G'] + temp_dict['T']))\n",
    "    \n",
    "# print(new_dict)\n",
    "#     print('{} {}'.format(keys, item))\n",
    "new_vals=list(new_dict.values())\n",
    "new_keys=list(new_dict.keys())\n",
    "print('{} {r:1.6f}'.format(new_keys[new_vals.index(max(new_vals))], r = new_dict[new_keys[new_vals.index(max(new_vals))]]*100))\n"
   ]
  },
  {
   "cell_type": "code",
   "execution_count": 55,
   "metadata": {},
   "outputs": [
    {
     "name": "stdout",
     "output_type": "stream",
     "text": [
      "{'Rosalind_1292': 0.4859392575928009, 'Rosalind_9126': 0.48307860262008734, 'Rosalind_7920': 0.4874859917818454, 'Rosalind_7949': 0.4937106918238994, 'Rosalind_7717': 0.4963078988588051, 'Rosalind_2240': 0.49735149451381006, 'Rosalind_6026': 0.4978236337256166, 'Rosalind_3450': 0.4966545860050181}\n",
      "Rosalind_6026 49.78236337256166\n",
      "Rosalind_6026 49.782363\n"
     ]
    }
   ],
   "source": [
    "fiter = fasta_iter('rosalind_gc.txt')\n",
    "temp_dict = {}\n",
    "new_dict = {}\n",
    "\n",
    "for ff in fiter:\n",
    "    headerStr, seq = ff\n",
    "    \n",
    "    for letter in seq:\n",
    "\n",
    "        if letter in temp_dict.keys():\n",
    "            temp_dict[letter]+= 1\n",
    "        else:  \n",
    "            temp_dict[letter]= 1\n",
    "\n",
    "    new_dict[headerStr] = ((temp_dict['C'] + temp_dict['G']) / (temp_dict['A'] + temp_dict['C'] + temp_dict['G'] + temp_dict['T']))\n",
    "    \n",
    "print(new_dict)\n",
    "\n",
    "new_vals=list(new_dict.values())\n",
    "new_keys=list(new_dict.keys())\n",
    "print(new_keys[new_vals.index(max(new_vals))], new_dict[new_keys[new_vals.index(max(new_vals))]]*100)\n",
    "print('{} {r:1.8f}'.format(new_keys[new_vals.index(max(new_vals))], r = new_dict[new_keys[new_vals.index(max(new_vals))]]*100))\n"
   ]
  },
  {
   "cell_type": "code",
   "execution_count": 80,
   "metadata": {},
   "outputs": [
    {
     "name": "stdout",
     "output_type": "stream",
     "text": [
      "Rosalind_6295 52.435233%\n"
     ]
    }
   ],
   "source": [
    "fiter = fasta_iter('rosalind_gc.txt')\n",
    "temp_dict = {}\n",
    "new_dict = {}\n",
    "\n",
    "for ff in fiter:\n",
    "    headerStr, seq = ff\n",
    "    \n",
    "    for letter in seq:\n",
    "\n",
    "        if letter in temp_dict.keys():\n",
    "            temp_dict[letter]+= 1\n",
    "        else:  \n",
    "            temp_dict[letter]= 1\n",
    "\n",
    "    new_dict[headerStr] = ((temp_dict['C'] + temp_dict['G']) / (temp_dict['A'] + temp_dict['C'] + temp_dict['G'] + temp_dict['T']))\n",
    "    \n",
    "# print(new_dict)\n",
    "\n",
    "new_vals=list(new_dict.values())\n",
    "new_keys=list(new_dict.keys())\n",
    "# print(new_keys[new_vals.index(max(new_vals))], new_dict[new_keys[new_vals.index(max(new_vals))]]*100)\n",
    "print('{} {r:1.6f}%'.format(new_keys[new_vals.index(max(new_vals))], r = new_dict[new_keys[new_vals.index(max(new_vals))]]*100))\n"
   ]
  },
  {
   "cell_type": "markdown",
   "metadata": {},
   "source": [
    "- - - - - - - - - -\n",
    "Combing Throught the Haystack\n",
    "\n",
    "Problem\n",
    "Given two strings s and t, t is a substring of s if t is contained as a contiguous collection of symbols in s (as a result, t must be no longer than s).\n",
    "\n",
    "The position of a symbol in a string is the total number of symbols found to its left, including itself (e.g., the positions of all occurrences of 'U' in \"AUGCUUCAGAAAGGUCUUACG\" are 2, 5, 6, 15, 17, and 18). The symbol at position i of s is denoted by s[i].\n",
    "\n",
    "A substring of s can be represented as s[j:k], where j and k represent the starting and ending positions of the substring in s; for example, if s = \"AUGCUUCAGAAAGGUCUUACG\", then s[2:5] = \"UGCU\".\n",
    "\n",
    "The location of a substring s[j:k] is its beginning position j; note that t will have multiple locations in s if it occurs more than once as a substring of s (see the Sample below).\n",
    "\n",
    "Given: Two DNA strings s and t (each of length at most 1 kbp).\n",
    "\n",
    "Return: All locations of t as a substring of s.\n",
    "\n",
    "Sample Dataset\n",
    "GATATATGCATATACTT\n",
    "ATAT\n",
    "\n",
    "Sample Output\n",
    "2 4 10"
   ]
  },
  {
   "cell_type": "code",
   "execution_count": 101,
   "metadata": {},
   "outputs": [
    {
     "name": "stdout",
     "output_type": "stream",
     "text": [
      "2\n",
      "4\n",
      "10\n"
     ]
    }
   ],
   "source": [
    "my_str_t = 'GATATATGCATATACTT'\n",
    "my_str_s = 'ATAT'\n",
    "\n",
    "i = 0\n",
    "\n",
    "# print(len(my_str_s))\n",
    "section = my_str_t[i:(i+len(my_str_s))]\n",
    "# print(section)\n",
    "\n",
    "for section in my_str_t:\n",
    "    if my_str_t[i:(i+len(my_str_s))] == my_str_s:\n",
    "        print(i+1)\n",
    "    else:\n",
    "        pass\n",
    "    i += 1\n",
    "\n"
   ]
  },
  {
   "cell_type": "code",
   "execution_count": 103,
   "metadata": {},
   "outputs": [
    {
     "name": "stdout",
     "output_type": "stream",
     "text": [
      "10\n",
      "60\n",
      "81\n",
      "168\n",
      "226\n",
      "233\n",
      "251\n",
      "268\n",
      "308\n",
      "355\n",
      "393\n",
      "526\n",
      "541\n",
      "584\n",
      "611\n",
      "635\n",
      "653\n",
      "671\n",
      "678\n",
      "693\n",
      "767\n"
     ]
    }
   ],
   "source": [
    "my_str_t = 'ATAGCAGTATAGCAGTTAGCAGTGTTAGCAGTTGGCAAAACACTAGCAGTAAACGCAAATAGCAGTTAGCAGTGGTATGCTAGCAGTTAGCAGTCCCGCTAGCAGTATTAGGTTAGCAGTTTAGCAGTCGTTAGCAGTCAATAGCAGTATGCTGTAGTTAGCAGTCCTAGCAGTTATTAGCAGTGTAGCAGTTCACAATAGCAGTCTAGCAGTCTAGCAGTCAATTAGCAGTTAGCAGTTAGCAGTGGCATAGCAGTTAGCAGTAATTAGCAGTTAGCAGTCGTAGCAGTTCTCGGCCTAGCAGTTTTAGCAGTTAGCAGTATAGCAGTGTAGCAGTCATTAGCAGTCACATGATAGCAGTTAGTGGTTCCTAGCAGTTCTAGCAGTGTCTCTAGCAGTTAGCAGTCCAAGAATAGCAGTGAGATAGCAGTGAAGTAGGTAGCAGTGCGCTAGCAGTCAAGTAGCAGTCTTGTAGCAGTGAATAGCAGTCTAGCAGTATAGCAGTGTAGCAGTGTAGCAGTCTTATAGCAGTTAGCAGTCTAGCAGTTAGCAGTCGTAGCAGTCGTTAGCAGTGTAGCAGTCATAGCAGTTAGCAGTCCATAGCAGTTCCTAGCAGTTAGCAGTAATAGCAGTCTAGCAGTTAATAGCAGTGTAGCAGTTAGCAGTAACGTAGCAGTTAGCAGTTAGCAGTATAGCAGTTAGCAGTCCCTAGCAGTGCACTTTGCAATAGCAGTGTATAGCAGTAAAGATAATAGCAGTAGCCTGGTAGCAGTTAGCAGTAGGTTAGCAGTAGTGTTAGCAGTGCACGGGTAGCAGTTCAATAGCAGTGTAGCAGTGTCTAGCAGTCC'\n",
    "my_str_s = 'TAGCAGTTA'\n",
    "\n",
    "i = 0\n",
    "\n",
    "# section = my_str_t[i:(i+len(my_str_s))]\n",
    "\n",
    "for section in my_str_t:\n",
    "    if my_str_t[i:(i+len(my_str_s))] == my_str_s:\n",
    "        print(i+1)\n",
    "    else:\n",
    "        pass\n",
    "    i += 1\n"
   ]
  },
  {
   "cell_type": "markdown",
   "metadata": {},
   "source": [
    "- - - - - - - - - - - - - -\n",
    "FINDING A SHARED MOTIF\n",
    "\n",
    "Searching Through the Haystack\n",
    "\n",
    "Problem\n",
    "A common substring of a collection of strings is a substring of every member of the collection. We say that a \n",
    "common substring is a longest common substring if there does not exist a longer common substring. For example, \n",
    "\"CG\" is a common substring of \"ACGTACGT\" and \"AACCGTATA\", but it is not as long as possible; in this case, \n",
    "\"CGTA\" is a longest common substring of \"ACGTACGT\" and \"AACCGTATA\".\n",
    "\n",
    "Note that the longest common substring is not necessarily unique; for a simple example, \"AA\" and \"CC\" are \n",
    "both longest common substrings of \"AACC\" and \"CCAA\".\n",
    "\n",
    "Given: A collection of k (k≤100) DNA strings of length at most 1 kbp each in FASTA format.\n",
    "\n",
    "Return: A longest common substring of the collection. \n",
    "(If multiple solutions exist, you may return any single solution.)\n",
    "\n",
    "Sample Dataset\n",
    "\n",
    ">Rosalind_1\n",
    "GATTACA\n",
    "\n",
    ">Rosalind_2\n",
    "TAGACCA\n",
    "\n",
    ">Rosalind_3\n",
    "ATACA\n",
    "\n",
    "Sample Output\n",
    "AC"
   ]
  },
  {
   "cell_type": "code",
   "execution_count": null,
   "metadata": {},
   "outputs": [],
   "source": [
    "fiter = fasta_iter('NameOfFile.txt')\n",
    "temp_dict = {}\n",
    "new_dict = {}\n",
    "\n",
    "for ff in fiter:\n",
    "    headerStr, seq = ff\n",
    "    \n",
    "    for letter in seq:\n",
    "\n",
    "        if letter in temp_dict.keys():\n",
    "            temp_dict[letter]+= 1\n",
    "        else:  \n",
    "            temp_dict[letter]= 1\n",
    "\n",
    "    new_dict[headerStr] = ((temp_dict['C'] + temp_dict['G']) / (temp_dict['A'] + temp_dict['C'] + temp_dict['G'] + temp_dict['T']))\n",
    "    \n",
    "# print(new_dict)\n",
    "\n",
    "new_vals=list(new_dict.values())\n",
    "new_keys=list(new_dict.keys())\n",
    "# print(new_keys[new_vals.index(max(new_vals))], new_dict[new_keys[new_vals.index(max(new_vals))]]*100)\n",
    "print('{} {r:1.6f}%'.format(new_keys[new_vals.index(max(new_vals))], r = new_dict[new_keys[new_vals.index(max(new_vals))]]*100))\n"
   ]
  },
  {
   "cell_type": "code",
   "execution_count": 2,
   "metadata": {},
   "outputs": [
    {
     "name": "stdout",
     "output_type": "stream",
     "text": [
      "A A\n",
      "C C\n",
      "A A\n"
     ]
    }
   ],
   "source": [
    "str_one = 'GATTACA'\n",
    "str_two = 'TAGACCA'\n",
    "str_thr = 'ATACA'\n",
    "empty = []\n",
    "\n",
    "for a,b in zip(str_one, str_two):\n",
    "    if (a == b): \n",
    "        print(a,b)\n",
    "        \n",
    "\n",
    "# print(hamming_counter)"
   ]
  },
  {
   "cell_type": "code",
   "execution_count": null,
   "metadata": {},
   "outputs": [],
   "source": []
  },
  {
   "cell_type": "markdown",
   "metadata": {},
   "source": [
    "- - - - - - - - - - - - - - - - - \n",
    "ENUMERATING GENE ORDERS\n",
    "\n",
    "Problem\n",
    "A permutation of length n is an ordering of the positive integers {1,2,…,n}. For example, \n",
    "π=(5,3,2,1,4) is a permutation of length 5.\n",
    "\n",
    "Given: A positive integer n≤7.\n",
    "\n",
    "Return: The total number of permutations of length n, followed by a list of all such permutations (in any order).\n",
    "\n",
    "Sample Dataset\n",
    "3\n",
    "\n",
    "Sample Output\n",
    "6\n",
    "1 2 3\n",
    "1 3 2\n",
    "2 1 3\n",
    "2 3 1\n",
    "3 1 2\n",
    "3 2 1"
   ]
  },
  {
   "cell_type": "code",
   "execution_count": 44,
   "metadata": {},
   "outputs": [],
   "source": [
    "def permutation(n):\n",
    "    \n",
    "    my_list = (list(range(1,n+1)))\n",
    "    n = 0 \n",
    "    print(my_list)\n",
    "    print(my_list[::-1])\n",
    "\n",
    "    while n < len(my_list[::-1]):\n",
    "        print(my_list[n] * my_list[n + 1])\n",
    "        n -= 1"
   ]
  },
  {
   "cell_type": "code",
   "execution_count": 46,
   "metadata": {},
   "outputs": [
    {
     "name": "stdout",
     "output_type": "stream",
     "text": [
      "[1, 2, 3]\n",
      "[3, 2, 1]\n",
      "2\n",
      "3\n",
      "6\n",
      "2\n"
     ]
    },
    {
     "ename": "IndexError",
     "evalue": "list index out of range",
     "output_type": "error",
     "traceback": [
      "\u001b[0;31m---------------------------------------------------------------------------\u001b[0m",
      "\u001b[0;31mIndexError\u001b[0m                                Traceback (most recent call last)",
      "\u001b[0;32m<ipython-input-46-7ccc44bb3994>\u001b[0m in \u001b[0;36m<module>\u001b[0;34m\u001b[0m\n\u001b[0;32m----> 1\u001b[0;31m \u001b[0mpermutation\u001b[0m\u001b[0;34m(\u001b[0m\u001b[0;36m3\u001b[0m\u001b[0;34m)\u001b[0m\u001b[0;34m\u001b[0m\u001b[0;34m\u001b[0m\u001b[0m\n\u001b[0m",
      "\u001b[0;32m<ipython-input-44-ede87db4b759>\u001b[0m in \u001b[0;36mpermutation\u001b[0;34m(n)\u001b[0m\n\u001b[1;32m      7\u001b[0m \u001b[0;34m\u001b[0m\u001b[0m\n\u001b[1;32m      8\u001b[0m     \u001b[0;32mwhile\u001b[0m \u001b[0mn\u001b[0m \u001b[0;34m<\u001b[0m \u001b[0mlen\u001b[0m\u001b[0;34m(\u001b[0m\u001b[0mmy_list\u001b[0m\u001b[0;34m[\u001b[0m\u001b[0;34m:\u001b[0m\u001b[0;34m:\u001b[0m\u001b[0;34m-\u001b[0m\u001b[0;36m1\u001b[0m\u001b[0;34m]\u001b[0m\u001b[0;34m)\u001b[0m\u001b[0;34m:\u001b[0m\u001b[0;34m\u001b[0m\u001b[0;34m\u001b[0m\u001b[0m\n\u001b[0;32m----> 9\u001b[0;31m         \u001b[0mprint\u001b[0m\u001b[0;34m(\u001b[0m\u001b[0mmy_list\u001b[0m\u001b[0;34m[\u001b[0m\u001b[0mn\u001b[0m\u001b[0;34m]\u001b[0m \u001b[0;34m*\u001b[0m \u001b[0mmy_list\u001b[0m\u001b[0;34m[\u001b[0m\u001b[0mn\u001b[0m \u001b[0;34m+\u001b[0m \u001b[0;36m1\u001b[0m\u001b[0;34m]\u001b[0m\u001b[0;34m)\u001b[0m\u001b[0;34m\u001b[0m\u001b[0;34m\u001b[0m\u001b[0m\n\u001b[0m\u001b[1;32m     10\u001b[0m         \u001b[0mn\u001b[0m \u001b[0;34m-=\u001b[0m \u001b[0;36m1\u001b[0m\u001b[0;34m\u001b[0m\u001b[0;34m\u001b[0m\u001b[0m\n",
      "\u001b[0;31mIndexError\u001b[0m: list index out of range"
     ]
    }
   ],
   "source": [
    "permutation(3)"
   ]
  },
  {
   "cell_type": "code",
   "execution_count": null,
   "metadata": {},
   "outputs": [],
   "source": [
    "# RNA CODON TABLE\n",
    "UUU F      CUU L      AUU I      GUU V\n",
    "UUC F      CUC L      AUC I      GUC V\n",
    "UUA L      CUA L      AUA I      GUA V\n",
    "UUG L      CUG L      AUG M      GUG V\n",
    "UCU S      CCU P      ACU T      GCU A\n",
    "UCC S      CCC P      ACC T      GCC A\n",
    "UCA S      CCA P      ACA T      GCA A\n",
    "UCG S      CCG P      ACG T      GCG A\n",
    "UAU Y      CAU H      AAU N      GAU D\n",
    "UAC Y      CAC H      AAC N      GAC D\n",
    "UAA Stop   CAA Q      AAA K      GAA E\n",
    "UAG Stop   CAG Q      AAG K      GAG E\n",
    "UGU C      CGU R      AGU S      GGU G\n",
    "UGC C      CGC R      AGC S      GGC G\n",
    "UGA Stop   CGA R      AGA R      GGA G\n",
    "UGG W      CGG R      AGG R      GGG G \n"
   ]
  },
  {
   "cell_type": "markdown",
   "metadata": {},
   "source": [
    "- - - - - - - - - - - - - - - \n",
    "Translating RNA into Protein\n",
    "\n",
    "Problem\n",
    "The 20 commonly occurring amino acids are abbreviated by using 20 letters from the English alphabet \n",
    "(all letters except for B, J, O, U, X, and Z). Protein strings are constructed from these 20 symbols. \n",
    "Henceforth, the term genetic string will incorporate protein strings along with DNA strings and RNA strings.\n",
    "\n",
    "The RNA codon table dictates the details regarding the encoding of specific codons into the amino acid alphabet.\n",
    "\n",
    "Given: An RNA string s corresponding to a strand of mRNA (of length at most 10 kbp).\n",
    "\n",
    "Return: The protein string encoded by s.\n",
    "\n",
    "Sample Dataset\n",
    "\n",
    "AUGGCCAUGGCGCCCAGAACUGAGAUCAAUAGUACCCGUAUUAACGGGUGA\n",
    "\n",
    "\n",
    "Sample Output\n",
    "\n",
    "MAMAPRTEINSTRING"
   ]
  },
  {
   "cell_type": "code",
   "execution_count": 61,
   "metadata": {},
   "outputs": [
    {
     "name": "stdout",
     "output_type": "stream",
     "text": [
      "['AUG', 'AAC', 'ACC', 'GCU', 'UGU', 'UUA', 'UUA', 'ACG', 'UUG', 'GCC', 'GGG', 'AGG', 'CAC', 'UCA', 'CCU', 'AGG', 'CCU', 'GGA', 'GUA', 'GCC', 'CCC', 'GUU', 'CUU', 'AUG', 'GGC', 'UCU', 'AAU', 'GUC', 'CCU', 'GAC', 'AAA', 'UCU', 'AGG', 'AAC', 'GUU', 'GAG', 'CGG', 'CGA', 'CCA', 'GAA', 'AGG', 'CGG', 'CGU', 'UGC', 'CGU', 'GGG', 'UAC', 'GCU', 'GGG', 'AAA', 'GCU', 'GAG', 'AGG', 'GCC', 'CAA', 'UCC', 'AGC', 'CGU', 'UCC', 'AUA', 'CUA', 'AGG', 'CUC', 'UGU', 'ACU', 'CAG', 'CCG', 'UUC', 'CCU', 'GUC', 'GGG', 'CUU', 'CAU', 'UCG', 'GUC', 'CUC', 'CUU', 'UAU', 'AGA', 'UCA', 'UAU', 'GGC', 'GUC', 'ACU', 'UGC', 'GAU', 'CGA', 'UCA', 'GGC', 'AUU', 'GAG', 'CCG', 'CGG', 'UAU', 'UGU', 'AGG', 'ACU', 'CCU', 'CAU', 'CAC', 'GGC', 'AAA', 'GGG', 'GGG', 'UAU', 'UGU', 'CCC', 'AUC', 'GCU', 'ACA', 'UCA', 'CCU', 'GUG', 'GGU', 'CAC', 'GUG', 'ACC', 'UUA', 'CAA', 'AAG', 'UCA', 'UGC', 'ACU', 'UAC', 'AGU', 'GAA', 'ACG', 'GGC', 'CAA', 'GCA', 'GUU', 'UGU', 'CCC', 'UCC', 'CGC', 'GUC', 'GGG', 'CCC', 'CAC', 'UGC', 'AAG', 'GUC', 'GGU', 'CAG', 'CGG', 'UCG', 'AGA', 'UCG', 'UCG', 'GGU', 'AAC', 'CCA', 'CAG', 'AGU', 'CAC', 'AUC', 'UAU', 'AAU', 'GGG', 'CCA', 'ACA', 'UAU', 'GGG', 'GUU', 'CCG', 'CGA', 'GUA', 'CAA', 'UUU', 'GAA', 'AUA', 'CGA', 'AUC', 'GGC', 'UAC', 'UGC', 'UAC', 'AAU', 'GGA', 'AGC', 'CGG', 'CAU', 'ACC', 'CCA', 'AGC', 'AGU', 'CGC', 'GCA', 'UUG', 'GUU', 'CUU', 'CUG', 'AGA', 'AGU', 'GGA', 'UGC', 'UUU', 'CAC', 'ACA', 'AAG', 'GUU', 'GUA', 'GCA', 'AGG', 'AUA', 'CGA', 'UUU', 'AGU', 'UAU', 'AGU', 'ACA', 'UCG', 'AAC', 'CCC', 'UUA', 'AAU', 'GAU', 'ACC', 'CCG', 'UUU', 'CUA', 'UCC', 'AGG', 'CUC', 'AGC', 'GUG', 'UUA', 'GCA', 'AAU', 'GAG', 'GGC', 'CAC', 'AAG', 'UAC', 'UCC', 'CCU', 'CGA', 'CCC', 'GGU', 'GCA', 'UCA', 'GAA', 'UGC', 'GCA', 'GAG', 'AGG', 'GGU', 'CUC', 'GGA', 'UGG', 'GUU', 'CGU', 'CCG', 'CUG', 'CUC', 'CCA', 'CGU', 'UAU', 'AUU', 'GGU', 'GCA', 'UAU', 'UUU', 'CAA', 'GCU', 'CAC', 'CGC', 'AUU', 'GGC', 'CAC', 'UGC', 'CGG', 'CUC', 'AUA', 'ACC', 'GUG', 'ACU', 'UCU', 'CUA', 'GAA', 'GGG', 'GGU', 'AAG', 'UGU', 'AGA', 'GGG', 'CCC', 'ACC', 'AGG', 'AAG', 'UAU', 'CGC', 'UAC', 'GGG', 'ACU', 'GCA', 'AGU', 'GGU', 'CAA', 'UAC', 'AUU', 'AGA', 'UGG', 'CCG', 'GAU', 'AUG', 'ACG', 'CUA', 'GCU', 'AAU', 'CAG', 'CGG', 'UCA', 'AGA', 'GAA', 'AAA', 'AGA', 'GAA', 'UUC', 'GCG', 'UUC', 'GCU', 'AGC', 'GAA', 'AGC', 'GGC', 'CUA', 'AGU', 'GUC', 'CGC', 'CCG', 'GAG', 'ACU', 'GUA', 'GUU', 'GCC', 'CAG', 'AGU', 'UAC', 'UAC', 'CGU', 'AGU', 'AUG', 'AGC', 'GCG', 'GAC', 'AGC', 'UCC', 'GUU', 'GUG', 'GGG', 'GGU', 'AGC', 'UAU', 'CAG', 'GCU', 'GGA', 'AUU', 'CGC', 'CAU', 'UUU', 'GCU', 'UUU', 'GAA', 'GAA', 'GGA', 'GGA', 'UUA', 'GUU', 'CCA', 'AGC', 'UAC', 'AAC', 'AAA', 'AUC', 'CCG', 'ACG', 'CCC', 'CAA', 'GCA', 'CGA', 'ACU', 'GGU', 'CCU', 'CAA', 'GUC', 'AAA', 'GUC', 'CUA', 'GAA', 'AGA', 'CGA', 'UGU', 'UUU', 'GGU', 'GCG', 'AGC', 'UUC', 'CGA', 'AGA', 'CCA', 'UCA', 'CUC', 'GCC', 'UCG', 'CGG', 'GGG', 'CAG', 'CUG', 'AGA', 'UCC', 'UAC', 'AUC', 'GUG', 'AAG', 'CCG', 'AGC', 'UCA', 'UGG', 'CGU', 'UGU', 'UGU', 'AUA', 'AGG', 'UAU', 'CUG', 'AUU', 'UCG', 'GCA', 'AAA', 'CUA', 'CUG', 'UUC', 'AGU', 'GGG', 'AUU', 'GUG', 'UUC', 'GCG', 'UCC', 'CUA', 'GCC', 'CCA', 'GGG', 'UCG', 'AAG', 'ACA', 'AGA', 'UAU', 'UCG', 'ACC', 'GGA', 'CGC', 'ACA', 'UGG', 'CUG', 'AUG', 'CAC', 'CGA', 'GUU', 'GAA', 'CAU', 'GCU', 'UCU', 'GGC', 'UAC', 'GUC', 'CUG', 'UCA', 'CCG', 'UUC', 'GCA', 'UUA', 'CAC', 'CGG', 'UUU', 'UCA', 'CGC', 'AAA', 'GAC', 'CGC', 'GGG', 'CUU', 'GAC', 'ACC', 'UCU', 'ACU', 'CCU', 'AUC', 'ACG', 'GAC', 'AGU', 'UCG', 'UCA', 'GAU', 'CUU', 'UUA', 'AUU', 'GAC', 'GCA', 'CCA', 'UUC', 'CAC', 'AUC', 'GGU', 'ACG', 'GAG', 'CGU', 'GCU', 'CAC', 'CGA', 'AUG', 'GAG', 'CAU', 'UCC', 'GUG', 'UGU', 'AAU', 'UUA', 'UUC', 'GAU', 'GAG', 'CGC', 'UGG', 'CUC', 'CUU', 'CAA', 'CCC', 'UUA', 'UUG', 'GUA', 'CCG', 'CUC', 'AAU', 'GGA', 'UUG', 'GAA', 'UCU', 'CGU', 'GAA', 'ACA', 'CUC', 'ACC', 'UUU', 'ACC', 'UGU', 'CUG', 'UCA', 'AGG', 'UGC', 'ACU', 'GCC', 'ACG', 'CCU', 'AAC', 'CAA', 'GUG', 'UCG', 'GAA', 'GGG', 'UCA', 'CAU', 'GGA', 'CAC', 'CUC', 'UUG', 'UUC', 'UUC', 'CAU', 'AGU', 'AAG', 'GUC', 'UGC', 'GAG', 'AAA', 'GGU', 'GUC', 'AGU', 'AUC', 'AAA', 'GGG', 'ACU', 'GAC', 'AGC', 'UGG', 'GCU', 'UCG', 'GGG', 'UUC', 'CUA', 'CGU', 'GUC', 'GAU', 'CGA', 'UCU', 'GCA', 'AUG', 'AUA', 'CGU', 'GCU', 'UCU', 'UUC', 'CCG', 'CUA', 'UGG', 'CGA', 'AUU', 'CAA', 'AGG', 'GCC', 'GAG', 'UCA', 'GGA', 'CUU', 'UCU', 'GGA', 'GGA', 'CCG', 'UGU', 'UGC', 'UUA', 'CUG', 'UCG', 'AGA', 'ACA', 'UGU', 'GCU', 'CCC', 'AUA', 'CUU', 'ACG', 'CAC', 'CUC', 'CAA', 'AGG', 'GUC', 'CAG', 'GAU', 'UCU', 'UUG', 'CAG', 'AAU', 'CCG', 'ACA', 'GCC', 'GCG', 'UUG', 'UUU', 'CCA', 'UGU', 'UCC', 'AUU', 'UAC', 'GGU', 'CCC', 'AGC', 'CUU', 'CUA', 'CUU', 'CCC', 'GCC', 'CGC', 'CCC', 'AUU', 'AAG', 'GUG', 'CGG', 'CAC', 'AGC', 'AGC', 'UCA', 'GCC', 'UCG', 'UCU', 'CAC', 'CAC', 'GAU', 'GUU', 'ACG', 'AAU', 'ACC', 'AUG', 'GGG', 'ACG', 'CUA', 'CAU', 'CCG', 'UCU', 'AUU', 'UGU', 'GAG', 'GCA', 'GCA', 'GGU', 'GCU', 'AAU', 'AAC', 'AAA', 'CGG', 'GAC', 'CCA', 'UUU', 'ACA', 'UAU', 'AAG', 'GGU', 'UUC', 'CGU', 'AGG', 'AGC', 'UUU', 'GCG', 'CUC', 'CGU', 'AGU', 'GAU', 'AGA', 'UCG', 'AUC', 'CCG', 'CAA', 'UGU', 'GUC', 'GAG', 'GCG', 'UCC', 'GCC', 'CGG', 'ACC', 'CGG', 'CAG', 'AUG', 'AAU', 'UUU', 'GCA', 'CCA', 'GGA', 'GCU', 'GUA', 'UUU', 'GAU', 'GAU', 'UUC', 'GGU', 'GGG', 'AAA', 'CGG', 'AAG', 'AAG', 'CCC', 'AAG', 'CAA', 'UGU', 'AUC', 'UCG', 'CAC', 'CAA', 'AGC', 'GAA', 'GAC', 'UUC', 'GAC', 'CCA', 'UGU', 'GCU', 'GAA', 'CGU', 'GCC', 'CCU', 'UCA', 'GCG', 'CCG', 'CGA', 'GUU', 'CAC', 'AGG', 'UCG', 'GUC', 'GCU', 'AAA', 'CUG', 'CUG', 'UGG', 'CUG', 'CAC', 'ACU', 'GCA', 'CAU', 'GCC', 'CUG', 'UGU', 'AGG', 'AAU', 'UGU', 'CAC', 'CUU', 'ACC', 'CAC', 'UCG', 'GCG', 'UGC', 'UCC', 'UCA', 'AGU', 'GCU', 'AUC', 'AGA', 'UGU', 'CAG', 'GAA', 'AUA', 'ACG', 'UAU', 'UAU', 'UCA', 'UUC', 'AAG', 'GCC', 'AAA', 'UCC', 'CAA', 'UCA', 'UUA', 'CGU', 'CUU', 'CAA', 'GGC', 'AUC', 'AGC', 'ACC', 'AAU', 'CCG', 'ACG', 'AGU', 'GUG', 'GAC', 'AAA', 'GCA', 'AGU', 'AAA', 'ACU', 'AGG', 'CUU', 'CCC', 'AAU', 'UUA', 'CAG', 'ACA', 'ACU', 'GAU', 'GGC', 'UAU', 'ACA', 'GCU', 'CUA', 'UCA', 'AUA', 'CCC', 'UUG', 'ACA', 'UCA', 'GGG', 'UUC', 'UUG', 'GAA', 'UCC', 'CAG', 'GGU', 'GAG', 'GGU', 'CUA', 'CCC', 'GUA', 'CCG', 'CAA', 'GCG', 'UGG', 'UCG', 'GUU', 'AAU', 'ACU', 'CUU', 'UGC', 'ACU', 'CGG', 'CAC', 'UGU', 'UGC', 'AAC', 'GCU', 'AAU', 'CAC', 'ACC', 'ACG', 'UCA', 'UCU', 'UAC', 'ACU', 'CAA', 'GGU', 'GCU', 'GGC', 'AAG', 'UUG', 'GUG', 'CGU', 'CAU', 'GGG', 'CCC', 'AUC', 'GGG', 'GGU', 'CUC', 'ACA', 'GAG', 'CUU', 'CGU', 'AUG', 'AGC', 'GUU', 'UCA', 'ACC', 'GUA', 'GUC', 'AUC', 'CCA', 'ACA', 'GAU', 'GUC', 'UGU', 'CGG', 'CAU', 'AUU', 'CGC', 'ACA', 'AGG', 'AUG', 'UGG', 'GUG', 'UUG', 'AAA', 'UUU', 'CAU', 'GAA', 'GAU', 'AAU', 'CUA', 'AGG', 'CGC', 'GUG', 'CAC', 'CGA', 'CCA', 'UUC', 'GUA', 'CUG', 'UCU', 'UCC', 'GAG', 'CGC', 'AUA', 'UCC', 'AGU', 'GCA', 'GCC', 'CCG', 'CCU', 'GAC', 'AUC', 'CCG', 'CCU', 'AAG', 'GGG', 'UAU', 'CGC', 'UCU', 'GCU', 'ACA', 'GAU', 'CAC', 'UUG', 'UGG', 'CAC', 'CUC', 'UCU', 'AUC', 'GAC', 'CAG', 'CUA', 'CCU', 'AUC', 'AGA', 'CCA', 'GAU', 'UCU', 'GCA', 'AAC', 'CAU', 'UUU', 'UCG', 'CCA', 'GCG', 'AUG', 'GUU', 'CUA', 'GUA', 'CGC', 'UAC', 'CCA', 'ACA', 'AAA', 'UCA', 'AUC', 'GUU', 'UGC', 'GUG', 'GCU', 'CCC', 'CGA', 'AUA', 'UGG', 'GCU', 'UUU', 'UGU', 'GCG', 'UUU', 'CCA', 'ACC', 'CUG', 'CUG', 'CCU', 'UUA', 'GAC', 'ACC', 'CAA', 'GGU', 'AGG', 'CAA', 'GAU', 'UCA', 'AUA', 'GUA', 'AAA', 'UAC', 'CUG', 'CGA', 'GAU', 'AGG', 'CAC', 'CAC', 'CAU', 'CAG', 'UUC', 'UAC', 'GGA', 'UCC', 'ACU', 'UAU', 'CAU', 'AGA', 'AUU', 'UUU', 'GAG', 'AAU', 'ACA', 'AUU', 'CUA', 'AAU', 'GUA', 'UAU', 'AAC', 'AGC', 'AUG', 'GCA', 'UUC', 'UAU', 'CCG', 'CCC', 'UUU', 'CGG', 'UCA', 'CGU', 'AGA', 'UCG', 'AAC', 'AUG', 'AGC', 'CCU', 'GCU', 'GUG', 'AAU', 'AGA', 'UUG', 'GUU', 'CGG', 'AUA', 'ACC', 'AGA', 'GAC', 'GUU', 'UCA', 'CGU', 'GCU', 'AUA', 'CUU', 'AGU', 'UGU', 'CAC', 'AAU', 'GUA', 'GAU', 'CAA', 'GGA', 'UUG', 'ACC', 'GGG', 'AAG', 'GAC', 'CCU', 'AAA', 'CUC', 'UUC', 'CUG', 'UGC', 'ACG', 'AAC', 'GCA', 'UUG', 'UUC', 'UUC', 'CCG', 'AGU', 'UCU', 'GGC', 'GCU', 'AAU', 'CUG', 'AUU', 'AAC', 'GCA', 'UUG', 'ACA', 'GCU', 'AGU', 'UCU', 'GAA', 'UCU', 'CCA', 'UCG', 'GUU', 'UAU', 'GCU', 'UGU', 'UCU', 'AUC', 'AGU', 'ACG', 'GAG', 'CAC', 'UCC', 'GAU', 'AGU', 'CCU', 'AUC', 'ACC', 'AUU', 'AAC', 'CCC', 'UGC', 'CCU', 'UCG', 'CAC', 'CCU', 'AUU', 'CCA', 'GGC', 'GUC', 'UUG', 'GGU', 'CGU', 'AAG', 'CCA', 'UCA', 'CCC', 'UUG', 'GAG', 'GUG', 'GAA', 'AAA', 'CCU', 'GCU', 'UCA', 'ACU', 'GGC', 'CAU', 'CGU', 'AUC', 'CUG', 'CUU', 'AUU', 'CCU', 'ACU', 'CUC', 'CGA', 'AGU', 'UUA', 'ACA', 'CAU', 'CAU', 'UAC', 'CAC', 'ACU', 'AGU', 'CAG', 'GAC', 'AUG', 'UCU', 'AUU', 'ACA', 'CUU', 'AAG', 'AAA', 'GAC', 'AGC', 'UUA', 'CGG', 'AGG', 'ACC', 'UCC', 'GCG', 'CAG', 'CUC', 'CGG', 'UAU', 'AAG', 'CAU', 'UGC', 'CGA', 'CGC', 'GAU', 'AGG', 'CGU', 'CUG', 'ACA', 'GAA', 'CAU', 'CGU', 'CGU', 'CCC', 'UGC', 'GCC', 'ACA', 'UCC', 'CAC', 'UGU', 'UUC', 'CAA', 'CCG', 'AAC', 'AGG', 'GUG', 'CCA', 'UGC', 'CGG', 'CUC', 'AGC', 'GUU', 'AAU', 'UCA', 'CUG', 'GCG', 'AGG', 'GAC', 'UGU', 'CCA', 'UCC', 'UUC', 'CGU', 'CAA', 'ACA', 'GGG', 'CCC', 'UGC', 'GGA', 'UGG', 'CGU', 'GCC', 'GUU', 'GCA', 'AGA', 'CUC', 'CCC', 'GCU', 'AAC', 'CUU', 'AUG', 'AGG', 'UCA', 'AAU', 'CGU', 'GUU', 'UCC', 'CGC', 'AGC', 'AGC', 'GGC', 'GAC', 'GCU', 'AGG', 'GUC', 'AUG', 'GAC', 'CUA', 'UAU', 'CUC', 'UUA', 'CGU', 'UUU', 'UAU', 'ACG', 'UGG', 'CUC', 'CCA', 'GGG', 'UGU', 'UCU', 'CAC', 'UCC', 'AGG', 'ACG', 'GAU', 'AAU', 'CGG', 'AGA', 'CAG', 'GGC', 'AGA', 'GGG', 'CGU', 'CAG', 'UCA', 'CUG', 'GCG', 'UCU', 'GGC', 'AAU', 'GGU', 'ACG', 'GUU', 'GAC', 'GGG', 'CCC', 'CUA', 'CUA', 'GAC', 'ACA', 'GUG', 'UUC', 'AGA', 'UUU', 'CUG', 'UCC', 'AGU', 'UUG', 'AGC', 'AAC', 'AGC', 'UAC', 'CAC', 'AGG', 'CUG', 'AUU', 'GCU', 'AAA', 'GUG', 'GAG', 'GAU', 'UGC', 'CCA', 'CUA', 'CUC', 'GAU', 'CUG', 'UGG', 'CAU', 'GUC', 'GCC', 'CCA', 'GUU', 'UUU', 'GCC', 'AAG', 'ACU', 'GCA', 'GGU', 'GUC', 'UCC', 'CAA', 'UCA', 'AAU', 'CCG', 'UUU', 'CAU', 'AGG', 'UAC', 'CCU', 'GGC', 'UUA', 'GGG', 'UUC', 'CGU', 'AAU', 'UGC', 'GGA', 'CAG', 'CAA', 'GCU', 'CGG', 'UGU', 'AGG', 'UGG', 'CCA', 'UUA', 'AUC', 'GUU', 'GCG', 'UUU', 'UUU', 'AAC', 'CAA', 'GCU', 'GUU', 'GGG', 'CAC', 'ACC', 'CCU', 'UUC', 'GAU', 'GGG', 'CCU', 'ACC', 'UUA', 'GCA', 'UUA', 'UCA', 'AGA', 'GAC', 'GUA', 'GAA', 'UGU', 'ACG', 'AGA', 'AGC', 'GUA', 'GUC', 'UCG', 'UAC', 'CGG', 'UCC', 'GAU', 'GAU', 'AGG', 'UCA', 'ACU', 'CAA', 'UGU', 'GCA', 'CAG', 'GAC', 'GAC', 'AGA', 'GAA', 'GAG', 'GAA', 'CCG', 'CUU', 'ACA', 'CUC', 'UCC', 'GAU', 'GCU', 'ACA', 'AGA', 'AUA', 'AUG', 'UCA', 'CUA', 'GUC', 'UCC', 'AUG', 'UUC', 'UAU', 'UGC', 'UCU', 'UUC', 'AUC', 'GGA', 'CUA', 'ACC', 'UAC', 'UGU', 'UCA', 'GGG', 'ACC', 'GUA', 'CUG', 'AAA', 'CUA', 'UUA', 'ACA', 'GGG', 'AGC', 'CGG', 'ACA', 'CCG', 'GGU', 'AUG', 'UCA', 'CAC', 'AUA', 'GAG', 'GGG', 'CGC', 'CCU', 'GUG', 'CCG', 'UUG', 'GGC', 'AUA', 'ACU', 'GCU', 'UGU', 'CAC', 'UCU', 'GCU', 'GGU', 'GCU', 'AAU', 'GCA', 'GAU', 'GAG', 'AUA', 'UGU', 'GUG', 'UCC', 'GCG', 'UGC', 'UUA', 'CCU', 'CUA', 'GUC', 'UGU', 'GAC', 'CUC', 'UUC', 'UGC', 'GUA', 'CGG', 'AGU', 'UCU', 'UUA', 'GAG', 'CAG', 'CAG', 'UAC', 'CAG', 'AAA', 'AAU', 'CGU', 'UUG', 'UCG', 'CUA', 'UGU', 'UGC', 'GCC', 'UCA', 'CUC', 'UCG', 'CGG', 'CAG', 'CUA', 'GUG', 'AGU', 'UAC', 'ACG', 'GGU', 'GAG', 'AGA', 'ACG', 'CCU', 'AUC', 'UAC', 'GCA', 'CCA', 'CGG', 'UGC', 'UGG', 'CGC', 'CUC', 'AUG', 'AUG', 'AGA', 'AUA', 'UCC', 'GGG', 'AGG', 'ACA', 'CAC', 'AGG', 'GAC', 'CGA', 'UCA', 'UGU', 'UAC', 'UCA', 'ACC', 'AAC', 'UUC', 'ACA', 'GAG', 'ACA', 'CCA', 'GUU', 'CAC', 'CUG', 'AGA', 'GGU', 'CGC', 'UGG', 'AUG', 'GCA', 'GUG', 'GAU', 'GGG', 'CGU', 'GUA', 'GUC', 'CAC', 'GAC', 'UUA', 'GCC', 'CUA', 'AAA', 'GAA', 'GGU', 'UAC', 'UAU', 'AGC', 'GCC', 'CUU', 'GUU', 'ACG', 'UCC', 'UGG', 'AAU', 'GAG', 'ACG', 'UUA', 'GAU', 'UGC', 'CUC', 'UUC', 'GGA', 'GAC', 'CUC', 'CGG', 'UGU', 'GCC', 'CUG', 'CCA', 'CAA', 'GUA', 'UCU', 'ACU', 'GGG', 'AUG', 'AAG', 'GUA', 'AGG', 'UCG', 'UGC', 'ACA', 'CCC', 'CUC', 'UGG', 'CGG', 'GUG', 'UAC', 'GGG', 'GUC', 'CUA', 'CCU', 'UCC', 'GGA', 'ACC', 'GGG', 'GCU', 'GGU', 'GAU', 'CUG', 'CGU', 'CAA', 'CAC', 'UCG', 'CCG', 'UUC', 'GCU', 'GAA', 'ACU', 'GGG', 'CAA', 'ACA', 'CGA', 'ACG', 'UUC', 'CUA', 'ACC', 'GAG', 'GUA', 'CCC', 'GCA', 'AGU', 'UAC', 'GUC', 'AAC', 'GCA', 'CAU', 'GUA', 'GUA', 'GAC', 'GUC', 'CGA', 'GCA', 'CGA', 'UCU', 'AUC', 'CCG', 'AUU', 'UCU', 'UCU', 'ACU', 'CCA', 'UCA', 'AGC', 'GUA', 'CGA', 'GGA', 'ACG', 'GGC', 'CAG', 'GAC', 'AUC', 'GAU', 'GUU', 'GUC', 'GUA', 'GGC', 'ACG', 'AUA', 'CAC', 'CUU', 'CGU', 'UCU', 'GAU', 'AGU', 'ACA', 'CGA', 'ACG', 'UCG', 'CCC', 'AAG', 'AGG', 'GAU', 'CGA', 'ACG', 'GAU', 'CUA', 'AUA', 'AAU', 'AGC', 'UCU', 'ACU', 'UUC', 'CUU', 'AAG', 'AAA', 'CCU', 'CUC', 'ACA', 'GUA', 'AAC', 'UUU', 'CCU', 'CGC', 'ACG', 'GCC', 'CGA', 'CCU', 'CUC', 'CAC', 'GAG', 'GGU', 'UCG', 'CGA', 'UCU', 'GGU', 'UCA', 'CAA', 'CGU', 'UCG', 'GCC', 'GUU', 'ACU', 'CAC', 'UCC', 'AGA', 'CAA', 'AAU', 'CUC', 'GGA', 'ACA', 'AUC', 'UAU', 'UAU', 'CCG', 'AUU', 'UCA', 'UCA', 'GUU', 'UAC', 'UCG', 'AUC', 'AAG', 'UCC', 'AGC', 'GGA', 'GUA', 'CAG', 'UAU', 'GGU', 'AGU', 'UCA', 'GUC', 'CGU', 'GAC', 'ACU', 'ACC', 'CUC', 'AAU', 'ACC', 'ACA', 'CUG', 'CAA', 'GGC', 'UCU', 'GCA', 'AAG', 'AUU', 'GCU', 'CUA', 'UAC', 'AGU', 'GAG', 'GUA', 'AAU', 'AUU', 'AGG', 'CGA', 'GGC', 'AUG', 'UCA', 'GAU', 'CAA', 'AUA', 'GCG', 'UUU', 'UUA', 'CCA', 'CUG', 'AUU', 'CGC', 'UCU', 'AUU', 'ACA', 'GCG', 'GAG', 'AGC', 'CAA', 'GGA', 'AUG', 'AUG', 'AAG', 'GAC', 'CAG', 'CGC', 'AUC', 'ACG', 'AGC', 'AGU', 'GCC', 'ACU', 'UUU', 'AGA', 'CUC', 'GGA', 'AGU', 'AGU', 'CAC', 'GGG', 'GAG', 'AGG', 'GCG', 'CCU', 'CGU', 'GUA', 'AAA', 'AUG', 'UGU', 'UUC', 'GCU', 'GAA', 'AAU', 'UAU', 'CGA', 'GGC', 'AGG', 'CCG', 'CAU', 'CAC', 'GAG', 'AGC', 'UGG', 'GGC', 'AGC', 'GCG', 'GCC', 'GUA', 'UCC', 'AUU', 'CGU', 'CUG', 'CAG', 'AGU', 'UAC', 'AUG', 'CGU', 'GCC', 'AGC', 'GUG', 'GCG', 'CUA', 'UUU', 'AUG', 'ACG', 'ACA', 'UAC', 'UAC', 'AUC', 'CAC', 'CUC', 'UAC', 'AAC', 'ACG', 'CGC', 'UAC', 'CUU', 'AUU', 'CAG', 'AGC', 'CAG', 'UAU', 'AUC', 'AUC', 'GGG', 'UAU', 'CAA', 'AAU', 'CCU', 'GGC', 'CAG', 'CGU', 'AAG', 'GGC', 'GGU', 'GAA', 'CAG', 'CAU', 'ACC', 'UUG', 'AUU', 'CGA', 'UUU', 'GGA', 'CGC', 'UCG', 'UCC', 'CCC', 'GAC', 'UGC', 'AUA', 'GCU', 'GUA', 'AGA', 'GCU', 'CCG', 'CGA', 'AAG', 'UAC', 'CCA', 'ACC', 'CGC', 'ACA', 'UGG', 'AUA', 'GUC', 'UUU', 'GGC', 'GUC', 'CUU', 'UCU', 'GAG', 'GAC', 'ACA', 'AAC', 'UUA', 'CCG', 'ACC', 'AGG', 'GUG', 'CGG', 'CCG', 'UCG', 'AGU', 'UGU', 'GGG', 'CUU', 'UUC', 'ACU', 'GUG', 'CAG', 'AGC', 'CUA', 'GUA', 'GCA', 'CGG', 'AGG', 'UGU', 'CCU', 'UUG', 'GUC', 'UGG', 'AGU', 'CAG', 'GAC', 'AUC', 'AGC', 'ACC', 'CAG', 'AAG', 'CGC', 'CGC', 'AUU', 'AGA', 'GAU', 'UAC', 'UCA', 'UUG', 'AGU', 'UCU', 'AGC', 'UGG', 'AUA', 'CUU', 'ACC', 'AUG', 'AUG', 'GAG', 'GUG', 'AGU', 'CGU', 'AAG', 'CCC', 'CUC', 'GAC', 'CGA', 'AGG', 'AUG', 'UCG', 'CUG', 'UUU', 'AGC', 'CCC', 'GAU', 'AAC', 'CGU', 'CGA', 'AGA', 'UAU', 'CUU', 'GAA', 'AUG', 'CGU', 'CCC', 'GUU', 'GGA', 'CCU', 'CUU', 'CAG', 'AAU', 'UUU', 'AAG', 'GAA', 'UUG', 'GGU', 'CAG', 'AUU', 'GUU', 'GUA', 'CAC', 'AUG', 'UUC', 'GAC', 'AGC', 'CAU', 'AGU', 'GUG', 'CGA', 'GAG', 'GUU', 'UUC', 'CCA', 'CGC', 'CCA', 'AUC', 'CUC', 'AAU', 'GGG', 'GUG', 'CCA', 'GUA', 'CCU', 'AAU', 'ACU', 'CGC', 'GAG', 'GUG', 'UGG', 'GAA', 'GCC', 'GAG', 'GAU', 'AAA', 'GAA', 'AGU', 'AUU', 'CGC', 'UGU', 'UUG', 'CCA', 'AUA', 'UGC', 'UCC', 'GGU', 'GGC', 'CCA', 'UUA', 'UCU', 'AGC', 'AAC', 'UAC', 'UCC', 'ACA', 'ACA', 'UCU', 'CCA', 'UCC', 'CCA', 'AAG', 'GUG', 'CGC', 'UUG', 'GAG', 'UGU', 'CGU', 'CUC', 'UCU', 'ACA', 'AUG', 'GCA', 'GUU', 'CAA', 'AGA', 'CCA', 'UGU', 'AGG', 'UUC', 'GCG', 'GCU', 'CUA', 'ACA', 'CGA', 'UAU', 'ACU', 'AUC', 'ACC', 'UAU', 'UUA', 'CGU', 'UCG', 'CUU', 'UUC', 'GCA', 'UCG', 'GCG', 'CCU', 'AGU', 'GCC', 'CAG', 'GUU', 'GUG', 'GUA', 'CGA', 'CGA', 'CGU', 'UAC', 'GAU', 'UCU', 'UUU', 'UUA', 'AGU', 'UCG', 'UCU', 'CCG', 'CUA', 'GCC', 'GCA', 'GCU', 'GCU', 'CGC', 'AGA', 'UCG', 'ACA', 'GGU', 'UGG', 'AUU', 'CGC', 'GAC', 'UCU', 'UUG', 'CUU', 'CUU', 'AGG', 'GCU', 'AGU', 'CCU', 'AAU', 'GGC', 'CGC', 'CUU', 'AAG', 'CAA', 'ACU', 'AUA', 'CGC', 'ACU', 'GUC', 'AGA', 'UUG', 'AUA', 'UUC', 'AGG', 'CAU', 'GAG', 'GUC', 'UCG', 'CGA', 'CCC', 'AAC', 'CUC', 'GCG', 'CUA', 'GAA', 'GAG', 'GUA', 'GUA', 'GCA', 'GAG', 'CGU', 'CGG', 'UCG', 'CCC', 'CAC', 'UAU', 'AUG', 'ACG', 'UAC', 'CCA', 'ACU', 'UAU', 'GCA', 'AGU', 'CGC', 'AUA', 'GUU', 'CUG', 'UUU', 'ACG', 'GAU', 'GUU', 'AAU', 'UUG', 'GGA', 'AUA', 'GCU', 'GGA', 'CCC', 'GUC', 'CUA', 'GGC', 'UGU', 'CCA', 'AGC', 'CAU', 'AGU', 'AAA', 'UCA', 'CGA', 'GGA', 'CCG', 'CAU', 'AUC', 'CCU', 'GCA', 'CGU', 'ACU', 'AUA', 'UCC', 'GAG', 'GCA', 'UAC', 'CUC', 'UUA', 'GUG', 'UUU', 'CUU', 'CAC', 'AUG', 'AUG', 'GAU', 'GAC', 'UCG', 'UAU', 'GGG', 'GAG', 'GCU', 'CGU', 'AGC', 'ACU', 'CCG', 'GAC', 'AUC', 'ACC', 'CUA', 'UCG', 'GCA', 'GAG', 'UAU', 'AUG', 'GGU', 'UCG', 'ACA', 'CGA', 'ACC', 'UUG', 'UGU', 'UUU', 'AGG', 'GGA', 'GGC', 'CCC', 'UUG', 'AGU', 'UCU', 'AGG', 'AAU', 'GGU', 'UUG', 'GAU', 'GUA', 'CAU', 'CGU', 'CAC', 'CCG', 'CGC', 'GUA', 'CUU', 'GAC', 'GUC', 'CUC', 'GGA', 'AUC', 'CAU', 'GGA', 'GGA', 'CGG', 'CUA', 'GGG', 'UGU', 'CGA', 'GAA', 'UGU', 'GUC', 'GAU', 'GAU', 'GUU', 'AGC', 'GUA', 'CUA', 'GUA', 'ACA', 'CCA', 'AGA', 'AGA', 'AGA', 'GGC', 'AAU', 'UUG', 'GCA', 'UCU', 'AGG', 'UAU', 'GUU', 'GCG', 'GUG', 'UCG', 'CUU', 'GGC', 'GGA', 'GUA', 'UUA', 'UAC', 'UUG', 'GCA', 'UUG', 'UCA', 'AAA', 'UAU', 'CGG', 'CAG', 'AAG', 'GAU', 'ACA', 'AUU', 'UCC', 'GUA', 'CUC', 'AGG', 'CGU', 'AAG', 'CCU', 'UGC', 'GUC', 'CGA', 'CCC', 'CUG', 'CUG', 'AAA', 'AAU', 'CUG', 'ACG', 'UCU', 'GGG', 'ACG', 'CCG', 'CCU', 'UUG', 'CGG', 'GGG', 'AAC', 'GCU', 'UCU', 'AGG', 'UCU', 'ACG', 'UCG', 'UGG', 'GUG', 'CGC', 'UCU', 'UAC', 'AGG', 'AAC', 'CUU', 'UGU', 'UGG', 'AUU', 'UCA', 'AUA', 'GCG', 'UCU', 'AAA', 'AAG', 'AAC', 'CAU', 'CUG', 'UCC', 'AUG', 'AGC', 'AUA', 'AAU', 'GUU', 'ACA', 'ACG', 'CUC', 'CUU', 'ACA', 'GGC', 'ACG', 'GCC', 'GUC', 'CUC', 'ACU', 'GAU', 'GCC', 'AUC', 'ACA', 'CAC', 'UUU', 'CUA', 'GAC', 'GCU', 'GAC', 'CGG', 'GCU', 'ACG', 'CUU', 'GCU', 'CUG', 'UUC', 'GCU', 'CCC', 'UAU', 'GCC', 'GGU', 'CUC', 'CCA', 'UUU', 'UUU', 'GUA', 'CGC', 'CAG', 'ACU', 'GAG', 'CUU', 'CAU', 'UAC', 'GUU', 'ACU', 'ACU', 'UCA', 'GGU', 'AGG', 'UAU', 'CUG', 'UUA', 'UGC', 'CCC', 'AGG', 'GGU', 'UCA', 'CGG', 'AUU', 'AGC', 'AGG', 'GAG', 'AAA', 'GUG', 'UCA', 'CCA', 'CGA', 'GUU', 'CAA', 'CAG', 'UCG', 'AUU', 'GCG', 'CCA', 'UCA', 'AUC', 'UAC', 'GUA', 'UUG', 'GAU', 'CGC', 'AAA', 'CUA', 'UCC', 'AGU', 'GUC', 'UGU', 'GAC', 'GAA', 'GUC', 'GGA', 'AAC', 'UGU', 'UGG', 'GUG', 'UUA', 'GGU', 'CAU', 'GAC', 'GGG', 'AGA', 'GUC', 'ACU', 'ACG', 'UAC', 'AUG', 'GGU', 'UAU', 'CCA', 'GGC', 'GAC', 'ACG', 'UGG', 'UUU', 'ACG', 'GAA', 'UUA', 'AGG', 'UUC', 'CAA', 'UUA', 'AAU', 'CCG', 'GUG', 'AGU', 'AAG', 'CAG', 'GCA', 'GCA', 'UUG', 'CCC', 'GAG', 'GAU', 'UUG', 'GGC', 'GAU', 'ACG', 'GUA', 'GAC', 'AUG', 'GUU', 'AAA', 'CGA', 'CCG', 'AGU', 'AGU', 'GGU', 'AAA', 'GAU', 'AUU', 'GCA', 'CUC', 'UCA', 'AGG', 'UUU', 'CCC', 'GCG', 'GAG', 'AAC', 'CGA', 'GAU', 'UUC', 'ACG', 'CCA', 'CGA', 'UGG', 'AAU', 'UCG', 'ACG', 'UGU', 'CCC', 'GGC', 'GCU', 'CAG', 'ACU', 'AAC', 'CGC', 'GGC', 'UCC', 'CAA', 'GGC', 'ACA', 'AGU', 'GUU', 'CUC', 'AUU', 'GUU', 'CGG', 'AUA', 'GUC', 'ACU', 'UAU', 'GUA', 'UGG', 'CCC', 'UUG', 'AUC', 'AUG', 'CCG', 'GAU', 'UGU', 'UCA', 'ACG', 'CUA', 'CAA', 'GCU', 'CGU', 'CGU', 'AGA', 'AAC', 'AGA', 'UUA', 'CUU', 'AUG', 'CAG', 'CGA', 'CAU', 'UUA', 'GUU', 'GCC', 'UAC', 'GUU', 'AGU', 'UAC', 'CCA', 'AAU', 'AAA', 'CUA', 'GGU', 'UAU', 'AGG', 'CGU', 'AAA', 'GGC', 'GCA', 'UGC', 'AGU', 'AAC', 'AGU', 'UGU', 'GCG', 'AUG', 'CCU', 'AGG', 'AUU', 'GUC', 'GGC', 'AGC', 'GGG', 'AUG', 'CGC', 'AGC', 'AUC', 'GAG', 'GGU', 'AGA', 'GUU', 'AGU', 'GAU', 'GAG', 'AUA', 'CCC', 'GCU', 'GUG', 'ACC', 'GGG', 'CUU', 'GCG', 'CUA', 'ACG', 'UGU', 'AGA', 'ACG', 'UCC', 'UAU', 'UCU', 'CCA', 'GGU', 'UAU', 'GCU', 'GGU', 'CUG', 'AAA', 'GAG', 'GCG', 'CCA', 'UGU', 'GCA', 'CCG', 'UUC', 'AUU', 'ACA', 'GCG', 'GGA', 'CCA', 'ACU', 'AUA', 'GAU', 'CCC', 'GAA', 'GAA', 'GGA', 'CCG', 'GUU', 'GCC', 'AGA', 'GCC', 'CUC', 'GGG', 'CAC', 'GAG', 'ACC', 'GAU', 'CUG', 'AUG', 'UCA', 'CGC', 'AUG', 'CGA', 'CUG', 'GGU', 'AAU', 'GUA', 'CGU', 'AUU', 'UUC', 'GAG', 'CUA', 'ACC', 'GAA', 'UGC', 'UUU', 'CGA', 'GAG', 'GUG', 'CAG', 'GCG', 'GGU', 'UGC', 'AAG', 'UUA', 'GAA', 'GGG', 'ACC', 'AAG', 'UUU', 'AAG', 'ACA', 'ACG', 'CCU', 'GCA', 'CUC', 'CCG', 'CCA', 'AGC', 'UCG', 'AAC', 'UUU', 'UUU', 'ACG', 'ACG', 'GGA', 'UUA', 'GCG', 'ACA', 'ACU', 'CAC', 'ACC', 'GUA', 'AGU', 'ACU', 'AAU', 'GAC', 'CUA', 'AUG', 'CUA', 'GUA', 'GGC', 'GCC', 'CGC', 'ACC', 'AAC', 'CAA', 'CUC', 'UGG', 'GCA', 'GCA', 'GAC', 'UCU', 'AAC', 'ACA', 'AUG', 'GCC', 'UUU', 'GAU', 'UUG', 'AGG', 'ACA', 'CUA', 'GCU', 'CCU', 'GGU', 'UUG', 'ACC', 'GCC', 'AAU', 'CUC', 'UUC', 'UAC', 'UCC', 'GUA', 'GCU', 'GUC', 'UGU', 'GAC', 'CUC', 'GCG', 'UUA', 'CCC', 'UAC', 'GCG', 'GAU', 'CAC', 'GAA', 'AUU', 'AUA', 'CAU', 'AUG', 'CCU', 'GGU', 'AAA', 'CUC', 'GAU', 'UAC', 'CCG', 'UUG', 'UUG', 'CGU', 'AUC', 'GUA', 'UUU', 'GUG', 'AAU', 'UUU', 'CAU', 'UCU', 'GCC', 'CGU', 'UUA', 'AUC', 'CUG', 'AGU', 'AAC', 'CAA', 'AAA', 'UUC', 'GCA', 'AUU', 'CGU', 'UAC', 'UGU', 'GGU', 'CUG', 'GUA', 'ACG', 'AAG', 'CAA', 'CCA', 'AUC', 'GCA', 'GAG', 'CUA', 'UUC', 'CAC', 'CCG', 'UUG', 'AAG', 'GCA', 'UUC', 'GUA', 'CGG', 'GGA', 'AAC', 'CUC', 'AUG', 'ACG', 'GCC', 'AAC', 'AAU', 'AAA', 'UUA', 'GCU', 'ACC', 'UUA', 'GUC', 'CCC', 'AUA', 'CGG', 'AAU', 'AAA', 'UCG', 'AAC', 'UAU', 'UCC', 'UAU', 'UGG', 'CUU', 'CGG', 'GGU', 'GGG', 'AAC', 'CUA', 'UCG', 'AAG', 'CUG', 'GUG', 'GCG', 'GCG', 'GCU', 'GCU', 'GAG', 'CGA', 'AUA', 'AUA', 'ACA', 'UCA', 'AAU', 'GAG', 'ACG', 'AUG', 'AAG', 'CGA', 'ACC', 'AGU', 'UGC', 'AUA', 'GUA', 'ACU', 'GCA', 'GGA', 'GAU', 'GCU', 'UCG', 'AGU', 'GCA', 'CGG', 'AAG', 'CCC', 'UAC', 'UGG', 'AAG', 'GCG', 'CCU', 'CUG', 'CAC', 'GCU', 'CCC', 'GAA', 'UAU', 'GUA', 'UUG', 'CGG', 'GGA', 'GGU', 'GUU', 'GCU', 'GCA', 'UGC', 'UUG', 'GAC', 'ACC', 'CGC', 'UCA', 'CUG', 'CAG', 'GAU', 'UGC', 'GAC', 'GUC', 'GUG', 'AUC', 'CGG', 'CUC', 'GGU', 'UGC', 'AGG', 'GCG', 'CUC', 'CAU', 'ACU', 'ACG', 'UAU', 'GGC', 'UUC', 'AGA', 'AAC', 'CAG', 'GGG', 'ACC', 'CGU', 'ACC', 'CCU', 'CGG', 'CCA', 'AAA', 'CUC', 'CAA', 'AGC', 'AAC', 'GAG', 'UUG', 'CAG', 'CGU', 'AUG', 'GCA', 'ACG', 'AAA', 'CUU', 'CGA', 'CAU', 'GGU', 'ACC', 'UGG', 'AUG', 'UUA', 'GCU', 'CCG', 'GCG', 'UUU', 'UUG', 'CGC', 'UAC', 'UAC', 'GCG', 'CGG', 'CUU', 'UUC', 'UGG', 'ACA', 'GCU', 'UAU', 'CGC', 'GCC', 'AUG', 'AAC', 'GCA', 'CUU', 'CUG', 'GCA', 'CUU', 'AGG', 'CGU', 'GAG', 'CAU', 'UCG', 'AUA', 'CAA', 'AGA', 'AAA', 'CGC', 'GGU', 'UCA', 'CAC', 'ACG', 'CAA', 'GCA', 'CUA', 'CAA', 'GUU', 'CAC', 'CCU', 'CUA', 'UCU', 'AGA', 'GAC', 'ACA', 'UGG', 'ACU', 'GCG', 'CGG', 'AGG', 'AAC', 'GGC', 'CCG', 'CCC', 'UCU', 'AUU', 'AGC', 'AAU', 'UAC', 'UGU', 'UUC', 'AUC', 'GCA', 'UGC', 'CUC', 'CAU', 'UAC', 'GUU', 'ACA', 'AGU', 'CCC', 'GGG', 'CAU', 'GGA', 'AGG', 'UCC', 'AAU', 'AAG', 'AAA', 'GUA', 'CUC', 'UGC', 'GCU', 'CAU', 'CCG', 'CCA', 'UCC', 'UAC', 'GGC', 'GAC', 'CCC', 'GCA', 'UCC', 'AGA', 'UUA', 'CGC', 'UGG', 'CUU', 'CGC', 'CGG', 'GGC', 'AGG', 'UAU', 'ACU', 'ACC', 'UUU', 'UCC', 'UAU', 'UCC', 'UGA']\n"
     ]
    }
   ],
   "source": [
    "def split_by_n(seq, n):\n",
    "    '''A generator to divide a sequence into chunks of n units.'''\n",
    "    while seq:\n",
    "        yield seq[:n]\n",
    "        seq = seq[n:]\n",
    "\n",
    "print(list(split_by_n('AUGAACACCGCUUGUUUAUUAACGUUGGCCGGGAGGCACUCACCUAGGCCUGGAGUAGCCCCCGUUCUUAUGGGCUCUAAUGUCCCUGACAAAUCUAGGAACGUUGAGCGGCGACCAGAAAGGCGGCGUUGCCGUGGGUACGCUGGGAAAGCUGAGAGGGCCCAAUCCAGCCGUUCCAUACUAAGGCUCUGUACUCAGCCGUUCCCUGUCGGGCUUCAUUCGGUCCUCCUUUAUAGAUCAUAUGGCGUCACUUGCGAUCGAUCAGGCAUUGAGCCGCGGUAUUGUAGGACUCCUCAUCACGGCAAAGGGGGGUAUUGUCCCAUCGCUACAUCACCUGUGGGUCACGUGACCUUACAAAAGUCAUGCACUUACAGUGAAACGGGCCAAGCAGUUUGUCCCUCCCGCGUCGGGCCCCACUGCAAGGUCGGUCAGCGGUCGAGAUCGUCGGGUAACCCACAGAGUCACAUCUAUAAUGGGCCAACAUAUGGGGUUCCGCGAGUACAAUUUGAAAUACGAAUCGGCUACUGCUACAAUGGAAGCCGGCAUACCCCAAGCAGUCGCGCAUUGGUUCUUCUGAGAAGUGGAUGCUUUCACACAAAGGUUGUAGCAAGGAUACGAUUUAGUUAUAGUACAUCGAACCCCUUAAAUGAUACCCCGUUUCUAUCCAGGCUCAGCGUGUUAGCAAAUGAGGGCCACAAGUACUCCCCUCGACCCGGUGCAUCAGAAUGCGCAGAGAGGGGUCUCGGAUGGGUUCGUCCGCUGCUCCCACGUUAUAUUGGUGCAUAUUUUCAAGCUCACCGCAUUGGCCACUGCCGGCUCAUAACCGUGACUUCUCUAGAAGGGGGUAAGUGUAGAGGGCCCACCAGGAAGUAUCGCUACGGGACUGCAAGUGGUCAAUACAUUAGAUGGCCGGAUAUGACGCUAGCUAAUCAGCGGUCAAGAGAAAAAAGAGAAUUCGCGUUCGCUAGCGAAAGCGGCCUAAGUGUCCGCCCGGAGACUGUAGUUGCCCAGAGUUACUACCGUAGUAUGAGCGCGGACAGCUCCGUUGUGGGGGGUAGCUAUCAGGCUGGAAUUCGCCAUUUUGCUUUUGAAGAAGGAGGAUUAGUUCCAAGCUACAACAAAAUCCCGACGCCCCAAGCACGAACUGGUCCUCAAGUCAAAGUCCUAGAAAGACGAUGUUUUGGUGCGAGCUUCCGAAGACCAUCACUCGCCUCGCGGGGGCAGCUGAGAUCCUACAUCGUGAAGCCGAGCUCAUGGCGUUGUUGUAUAAGGUAUCUGAUUUCGGCAAAACUACUGUUCAGUGGGAUUGUGUUCGCGUCCCUAGCCCCAGGGUCGAAGACAAGAUAUUCGACCGGACGCACAUGGCUGAUGCACCGAGUUGAACAUGCUUCUGGCUACGUCCUGUCACCGUUCGCAUUACACCGGUUUUCACGCAAAGACCGCGGGCUUGACACCUCUACUCCUAUCACGGACAGUUCGUCAGAUCUUUUAAUUGACGCACCAUUCCACAUCGGUACGGAGCGUGCUCACCGAAUGGAGCAUUCCGUGUGUAAUUUAUUCGAUGAGCGCUGGCUCCUUCAACCCUUAUUGGUACCGCUCAAUGGAUUGGAAUCUCGUGAAACACUCACCUUUACCUGUCUGUCAAGGUGCACUGCCACGCCUAACCAAGUGUCGGAAGGGUCACAUGGACACCUCUUGUUCUUCCAUAGUAAGGUCUGCGAGAAAGGUGUCAGUAUCAAAGGGACUGACAGCUGGGCUUCGGGGUUCCUACGUGUCGAUCGAUCUGCAAUGAUACGUGCUUCUUUCCCGCUAUGGCGAAUUCAAAGGGCCGAGUCAGGACUUUCUGGAGGACCGUGUUGCUUACUGUCGAGAACAUGUGCUCCCAUACUUACGCACCUCCAAAGGGUCCAGGAUUCUUUGCAGAAUCCGACAGCCGCGUUGUUUCCAUGUUCCAUUUACGGUCCCAGCCUUCUACUUCCCGCCCGCCCCAUUAAGGUGCGGCACAGCAGCUCAGCCUCGUCUCACCACGAUGUUACGAAUACCAUGGGGACGCUACAUCCGUCUAUUUGUGAGGCAGCAGGUGCUAAUAACAAACGGGACCCAUUUACAUAUAAGGGUUUCCGUAGGAGCUUUGCGCUCCGUAGUGAUAGAUCGAUCCCGCAAUGUGUCGAGGCGUCCGCCCGGACCCGGCAGAUGAAUUUUGCACCAGGAGCUGUAUUUGAUGAUUUCGGUGGGAAACGGAAGAAGCCCAAGCAAUGUAUCUCGCACCAAAGCGAAGACUUCGACCCAUGUGCUGAACGUGCCCCUUCAGCGCCGCGAGUUCACAGGUCGGUCGCUAAACUGCUGUGGCUGCACACUGCACAUGCCCUGUGUAGGAAUUGUCACCUUACCCACUCGGCGUGCUCCUCAAGUGCUAUCAGAUGUCAGGAAAUAACGUAUUAUUCAUUCAAGGCCAAAUCCCAAUCAUUACGUCUUCAAGGCAUCAGCACCAAUCCGACGAGUGUGGACAAAGCAAGUAAAACUAGGCUUCCCAAUUUACAGACAACUGAUGGCUAUACAGCUCUAUCAAUACCCUUGACAUCAGGGUUCUUGGAAUCCCAGGGUGAGGGUCUACCCGUACCGCAAGCGUGGUCGGUUAAUACUCUUUGCACUCGGCACUGUUGCAACGCUAAUCACACCACGUCAUCUUACACUCAAGGUGCUGGCAAGUUGGUGCGUCAUGGGCCCAUCGGGGGUCUCACAGAGCUUCGUAUGAGCGUUUCAACCGUAGUCAUCCCAACAGAUGUCUGUCGGCAUAUUCGCACAAGGAUGUGGGUGUUGAAAUUUCAUGAAGAUAAUCUAAGGCGCGUGCACCGACCAUUCGUACUGUCUUCCGAGCGCAUAUCCAGUGCAGCCCCGCCUGACAUCCCGCCUAAGGGGUAUCGCUCUGCUACAGAUCACUUGUGGCACCUCUCUAUCGACCAGCUACCUAUCAGACCAGAUUCUGCAAACCAUUUUUCGCCAGCGAUGGUUCUAGUACGCUACCCAACAAAAUCAAUCGUUUGCGUGGCUCCCCGAAUAUGGGCUUUUUGUGCGUUUCCAACCCUGCUGCCUUUAGACACCCAAGGUAGGCAAGAUUCAAUAGUAAAAUACCUGCGAGAUAGGCACCACCAUCAGUUCUACGGAUCCACUUAUCAUAGAAUUUUUGAGAAUACAAUUCUAAAUGUAUAUAACAGCAUGGCAUUCUAUCCGCCCUUUCGGUCACGUAGAUCGAACAUGAGCCCUGCUGUGAAUAGAUUGGUUCGGAUAACCAGAGACGUUUCACGUGCUAUACUUAGUUGUCACAAUGUAGAUCAAGGAUUGACCGGGAAGGACCCUAAACUCUUCCUGUGCACGAACGCAUUGUUCUUCCCGAGUUCUGGCGCUAAUCUGAUUAACGCAUUGACAGCUAGUUCUGAAUCUCCAUCGGUUUAUGCUUGUUCUAUCAGUACGGAGCACUCCGAUAGUCCUAUCACCAUUAACCCCUGCCCUUCGCACCCUAUUCCAGGCGUCUUGGGUCGUAAGCCAUCACCCUUGGAGGUGGAAAAACCUGCUUCAACUGGCCAUCGUAUCCUGCUUAUUCCUACUCUCCGAAGUUUAACACAUCAUUACCACACUAGUCAGGACAUGUCUAUUACACUUAAGAAAGACAGCUUACGGAGGACCUCCGCGCAGCUCCGGUAUAAGCAUUGCCGACGCGAUAGGCGUCUGACAGAACAUCGUCGUCCCUGCGCCACAUCCCACUGUUUCCAACCGAACAGGGUGCCAUGCCGGCUCAGCGUUAAUUCACUGGCGAGGGACUGUCCAUCCUUCCGUCAAACAGGGCCCUGCGGAUGGCGUGCCGUUGCAAGACUCCCCGCUAACCUUAUGAGGUCAAAUCGUGUUUCCCGCAGCAGCGGCGACGCUAGGGUCAUGGACCUAUAUCUCUUACGUUUUUAUACGUGGCUCCCAGGGUGUUCUCACUCCAGGACGGAUAAUCGGAGACAGGGCAGAGGGCGUCAGUCACUGGCGUCUGGCAAUGGUACGGUUGACGGGCCCCUACUAGACACAGUGUUCAGAUUUCUGUCCAGUUUGAGCAACAGCUACCACAGGCUGAUUGCUAAAGUGGAGGAUUGCCCACUACUCGAUCUGUGGCAUGUCGCCCCAGUUUUUGCCAAGACUGCAGGUGUCUCCCAAUCAAAUCCGUUUCAUAGGUACCCUGGCUUAGGGUUCCGUAAUUGCGGACAGCAAGCUCGGUGUAGGUGGCCAUUAAUCGUUGCGUUUUUUAACCAAGCUGUUGGGCACACCCCUUUCGAUGGGCCUACCUUAGCAUUAUCAAGAGACGUAGAAUGUACGAGAAGCGUAGUCUCGUACCGGUCCGAUGAUAGGUCAACUCAAUGUGCACAGGACGACAGAGAAGAGGAACCGCUUACACUCUCCGAUGCUACAAGAAUAAUGUCACUAGUCUCCAUGUUCUAUUGCUCUUUCAUCGGACUAACCUACUGUUCAGGGACCGUACUGAAACUAUUAACAGGGAGCCGGACACCGGGUAUGUCACACAUAGAGGGGCGCCCUGUGCCGUUGGGCAUAACUGCUUGUCACUCUGCUGGUGCUAAUGCAGAUGAGAUAUGUGUGUCCGCGUGCUUACCUCUAGUCUGUGACCUCUUCUGCGUACGGAGUUCUUUAGAGCAGCAGUACCAGAAAAAUCGUUUGUCGCUAUGUUGCGCCUCACUCUCGCGGCAGCUAGUGAGUUACACGGGUGAGAGAACGCCUAUCUACGCACCACGGUGCUGGCGCCUCAUGAUGAGAAUAUCCGGGAGGACACACAGGGACCGAUCAUGUUACUCAACCAACUUCACAGAGACACCAGUUCACCUGAGAGGUCGCUGGAUGGCAGUGGAUGGGCGUGUAGUCCACGACUUAGCCCUAAAAGAAGGUUACUAUAGCGCCCUUGUUACGUCCUGGAAUGAGACGUUAGAUUGCCUCUUCGGAGACCUCCGGUGUGCCCUGCCACAAGUAUCUACUGGGAUGAAGGUAAGGUCGUGCACACCCCUCUGGCGGGUGUACGGGGUCCUACCUUCCGGAACCGGGGCUGGUGAUCUGCGUCAACACUCGCCGUUCGCUGAAACUGGGCAAACACGAACGUUCCUAACCGAGGUACCCGCAAGUUACGUCAACGCACAUGUAGUAGACGUCCGAGCACGAUCUAUCCCGAUUUCUUCUACUCCAUCAAGCGUACGAGGAACGGGCCAGGACAUCGAUGUUGUCGUAGGCACGAUACACCUUCGUUCUGAUAGUACACGAACGUCGCCCAAGAGGGAUCGAACGGAUCUAAUAAAUAGCUCUACUUUCCUUAAGAAACCUCUCACAGUAAACUUUCCUCGCACGGCCCGACCUCUCCACGAGGGUUCGCGAUCUGGUUCACAACGUUCGGCCGUUACUCACUCCAGACAAAAUCUCGGAACAAUCUAUUAUCCGAUUUCAUCAGUUUACUCGAUCAAGUCCAGCGGAGUACAGUAUGGUAGUUCAGUCCGUGACACUACCCUCAAUACCACACUGCAAGGCUCUGCAAAGAUUGCUCUAUACAGUGAGGUAAAUAUUAGGCGAGGCAUGUCAGAUCAAAUAGCGUUUUUACCACUGAUUCGCUCUAUUACAGCGGAGAGCCAAGGAAUGAUGAAGGACCAGCGCAUCACGAGCAGUGCCACUUUUAGACUCGGAAGUAGUCACGGGGAGAGGGCGCCUCGUGUAAAAAUGUGUUUCGCUGAAAAUUAUCGAGGCAGGCCGCAUCACGAGAGCUGGGGCAGCGCGGCCGUAUCCAUUCGUCUGCAGAGUUACAUGCGUGCCAGCGUGGCGCUAUUUAUGACGACAUACUACAUCCACCUCUACAACACGCGCUACCUUAUUCAGAGCCAGUAUAUCAUCGGGUAUCAAAAUCCUGGCCAGCGUAAGGGCGGUGAACAGCAUACCUUGAUUCGAUUUGGACGCUCGUCCCCCGACUGCAUAGCUGUAAGAGCUCCGCGAAAGUACCCAACCCGCACAUGGAUAGUCUUUGGCGUCCUUUCUGAGGACACAAACUUACCGACCAGGGUGCGGCCGUCGAGUUGUGGGCUUUUCACUGUGCAGAGCCUAGUAGCACGGAGGUGUCCUUUGGUCUGGAGUCAGGACAUCAGCACCCAGAAGCGCCGCAUUAGAGAUUACUCAUUGAGUUCUAGCUGGAUACUUACCAUGAUGGAGGUGAGUCGUAAGCCCCUCGACCGAAGGAUGUCGCUGUUUAGCCCCGAUAACCGUCGAAGAUAUCUUGAAAUGCGUCCCGUUGGACCUCUUCAGAAUUUUAAGGAAUUGGGUCAGAUUGUUGUACACAUGUUCGACAGCCAUAGUGUGCGAGAGGUUUUCCCACGCCCAAUCCUCAAUGGGGUGCCAGUACCUAAUACUCGCGAGGUGUGGGAAGCCGAGGAUAAAGAAAGUAUUCGCUGUUUGCCAAUAUGCUCCGGUGGCCCAUUAUCUAGCAACUACUCCACAACAUCUCCAUCCCCAAAGGUGCGCUUGGAGUGUCGUCUCUCUACAAUGGCAGUUCAAAGACCAUGUAGGUUCGCGGCUCUAACACGAUAUACUAUCACCUAUUUACGUUCGCUUUUCGCAUCGGCGCCUAGUGCCCAGGUUGUGGUACGACGACGUUACGAUUCUUUUUUAAGUUCGUCUCCGCUAGCCGCAGCUGCUCGCAGAUCGACAGGUUGGAUUCGCGACUCUUUGCUUCUUAGGGCUAGUCCUAAUGGCCGCCUUAAGCAAACUAUACGCACUGUCAGAUUGAUAUUCAGGCAUGAGGUCUCGCGACCCAACCUCGCGCUAGAAGAGGUAGUAGCAGAGCGUCGGUCGCCCCACUAUAUGACGUACCCAACUUAUGCAAGUCGCAUAGUUCUGUUUACGGAUGUUAAUUUGGGAAUAGCUGGACCCGUCCUAGGCUGUCCAAGCCAUAGUAAAUCACGAGGACCGCAUAUCCCUGCACGUACUAUAUCCGAGGCAUACCUCUUAGUGUUUCUUCACAUGAUGGAUGACUCGUAUGGGGAGGCUCGUAGCACUCCGGACAUCACCCUAUCGGCAGAGUAUAUGGGUUCGACACGAACCUUGUGUUUUAGGGGAGGCCCCUUGAGUUCUAGGAAUGGUUUGGAUGUACAUCGUCACCCGCGCGUACUUGACGUCCUCGGAAUCCAUGGAGGACGGCUAGGGUGUCGAGAAUGUGUCGAUGAUGUUAGCGUACUAGUAACACCAAGAAGAAGAGGCAAUUUGGCAUCUAGGUAUGUUGCGGUGUCGCUUGGCGGAGUAUUAUACUUGGCAUUGUCAAAAUAUCGGCAGAAGGAUACAAUUUCCGUACUCAGGCGUAAGCCUUGCGUCCGACCCCUGCUGAAAAAUCUGACGUCUGGGACGCCGCCUUUGCGGGGGAACGCUUCUAGGUCUACGUCGUGGGUGCGCUCUUACAGGAACCUUUGUUGGAUUUCAAUAGCGUCUAAAAAGAACCAUCUGUCCAUGAGCAUAAAUGUUACAACGCUCCUUACAGGCACGGCCGUCCUCACUGAUGCCAUCACACACUUUCUAGACGCUGACCGGGCUACGCUUGCUCUGUUCGCUCCCUAUGCCGGUCUCCCAUUUUUUGUACGCCAGACUGAGCUUCAUUACGUUACUACUUCAGGUAGGUAUCUGUUAUGCCCCAGGGGUUCACGGAUUAGCAGGGAGAAAGUGUCACCACGAGUUCAACAGUCGAUUGCGCCAUCAAUCUACGUAUUGGAUCGCAAACUAUCCAGUGUCUGUGACGAAGUCGGAAACUGUUGGGUGUUAGGUCAUGACGGGAGAGUCACUACGUACAUGGGUUAUCCAGGCGACACGUGGUUUACGGAAUUAAGGUUCCAAUUAAAUCCGGUGAGUAAGCAGGCAGCAUUGCCCGAGGAUUUGGGCGAUACGGUAGACAUGGUUAAACGACCGAGUAGUGGUAAAGAUAUUGCACUCUCAAGGUUUCCCGCGGAGAACCGAGAUUUCACGCCACGAUGGAAUUCGACGUGUCCCGGCGCUCAGACUAACCGCGGCUCCCAAGGCACAAGUGUUCUCAUUGUUCGGAUAGUCACUUAUGUAUGGCCCUUGAUCAUGCCGGAUUGUUCAACGCUACAAGCUCGUCGUAGAAACAGAUUACUUAUGCAGCGACAUUUAGUUGCCUACGUUAGUUACCCAAAUAAACUAGGUUAUAGGCGUAAAGGCGCAUGCAGUAACAGUUGUGCGAUGCCUAGGAUUGUCGGCAGCGGGAUGCGCAGCAUCGAGGGUAGAGUUAGUGAUGAGAUACCCGCUGUGACCGGGCUUGCGCUAACGUGUAGAACGUCCUAUUCUCCAGGUUAUGCUGGUCUGAAAGAGGCGCCAUGUGCACCGUUCAUUACAGCGGGACCAACUAUAGAUCCCGAAGAAGGACCGGUUGCCAGAGCCCUCGGGCACGAGACCGAUCUGAUGUCACGCAUGCGACUGGGUAAUGUACGUAUUUUCGAGCUAACCGAAUGCUUUCGAGAGGUGCAGGCGGGUUGCAAGUUAGAAGGGACCAAGUUUAAGACAACGCCUGCACUCCCGCCAAGCUCGAACUUUUUUACGACGGGAUUAGCGACAACUCACACCGUAAGUACUAAUGACCUAAUGCUAGUAGGCGCCCGCACCAACCAACUCUGGGCAGCAGACUCUAACACAAUGGCCUUUGAUUUGAGGACACUAGCUCCUGGUUUGACCGCCAAUCUCUUCUACUCCGUAGCUGUCUGUGACCUCGCGUUACCCUACGCGGAUCACGAAAUUAUACAUAUGCCUGGUAAACUCGAUUACCCGUUGUUGCGUAUCGUAUUUGUGAAUUUUCAUUCUGCCCGUUUAAUCCUGAGUAACCAAAAAUUCGCAAUUCGUUACUGUGGUCUGGUAACGAAGCAACCAAUCGCAGAGCUAUUCCACCCGUUGAAGGCAUUCGUACGGGGAAACCUCAUGACGGCCAACAAUAAAUUAGCUACCUUAGUCCCCAUACGGAAUAAAUCGAACUAUUCCUAUUGGCUUCGGGGUGGGAACCUAUCGAAGCUGGUGGCGGCGGCUGCUGAGCGAAUAAUAACAUCAAAUGAGACGAUGAAGCGAACCAGUUGCAUAGUAACUGCAGGAGAUGCUUCGAGUGCACGGAAGCCCUACUGGAAGGCGCCUCUGCACGCUCCCGAAUAUGUAUUGCGGGGAGGUGUUGCUGCAUGCUUGGACACCCGCUCACUGCAGGAUUGCGACGUCGUGAUCCGGCUCGGUUGCAGGGCGCUCCAUACUACGUAUGGCUUCAGAAACCAGGGGACCCGUACCCCUCGGCCAAAACUCCAAAGCAACGAGUUGCAGCGUAUGGCAACGAAACUUCGACAUGGUACCUGGAUGUUAGCUCCGGCGUUUUUGCGCUACUACGCGCGGCUUUUCUGGACAGCUUAUCGCGCCAUGAACGCACUUCUGGCACUUAGGCGUGAGCAUUCGAUACAAAGAAAACGCGGUUCACACACGCAAGCACUACAAGUUCACCCUCUAUCUAGAGACACAUGGACUGCGCGGAGGAACGGCCCGCCCUCUAUUAGCAAUUACUGUUUCAUCGCAUGCCUCCAUUACGUUACAAGUCCCGGGCAUGGAAGGUCCAAUAAGAAAGUACUCUGCGCUCAUCCGCCAUCCUACGGCGACCCCGCAUCCAGAUUACGCUGGCUUCGCCGGGGCAGGUAUACUACCUUUUCCUAUUCCUGA', 3)))"
   ]
  },
  {
   "cell_type": "code",
   "execution_count": 24,
   "metadata": {},
   "outputs": [],
   "source": [
    "rna_codon_table = {'UUU': 'F', 'CUU': 'L', 'AUU': 'I', 'GUU': 'V', \n",
    "                   'UUC': 'F', 'CUC': 'L', 'AUC': 'I', 'GUC': 'V', \n",
    "                   'UUA': 'L', 'CUA': 'L', 'AUA': 'I', 'GUA': 'V', \n",
    "                   'UUG': 'L', 'CUG': 'L', 'AUG': 'M', 'GUG': 'V', \n",
    "                   'UCU': 'S', 'CCU': 'P', 'ACU': 'T', 'GCU': 'A', \n",
    "                   'UCC': 'S', 'CCC': 'P', 'ACC': 'T', 'GCC': 'A', \n",
    "                   'UCA': 'S', 'CCA': 'P', 'ACA': 'T', 'GCA': 'A', \n",
    "                   'UCG': 'S', 'CCG': 'P', 'ACG': 'T', 'GCG': 'A',\n",
    "                   'UAU': 'Y', 'CAU': 'H', 'AAU': 'N', 'GAU': 'D', \n",
    "                   'UAC': 'Y', 'CAC': 'H', 'AAC': 'N', 'GAC': 'D',\n",
    "                   'UAA': 'Stop', 'CAA': 'Q', 'AAA': 'K', 'GAA': 'E', \n",
    "                   'UAG': 'Stop', 'CAG': 'Q', 'AAG': 'K', 'GAG': 'E', \n",
    "                   'UGU': 'C', 'CGU': 'R', 'AGU': 'S', 'GGU': 'G', \n",
    "                   'UGC': 'C', 'CGC': 'R', 'AGC': 'S', 'GGC': 'G', \n",
    "                   'UGA': 'Stop', 'CGA': 'R', 'AGA': 'R', 'GGA': 'G', \n",
    "                   'UGG': 'W', 'CGG': 'R', 'AGG': 'R', 'GGG': 'G' }"
   ]
  },
  {
   "cell_type": "code",
   "execution_count": 54,
   "metadata": {},
   "outputs": [
    {
     "name": "stdout",
     "output_type": "stream",
     "text": [
      "['AUG', 'ACC', 'ACG', 'ACG', 'UCU', 'GCG', 'GUG', 'UCA', 'AUA', 'UCG', 'CAG', 'GAU', 'CAU', 'AGC', 'GUC', 'GAU', 'GUA', 'GGG', 'UUG', 'UUU', 'CCU', 'AAA', 'AUA', 'AAU', 'GGC', 'AGG', 'UAU', 'AGA', 'CAU', 'AUC', 'UGC', 'CCA', 'ACA', 'GGC', 'AUU', 'CAC', 'CGC', 'AGC', 'ACG', 'CCA', 'CGU', 'CGU', 'UUU', 'AAA', 'AAU', 'CCC', 'CUU', 'AAU', 'CUA', 'CCG', 'UCC', 'AUA', 'GUG', 'GAA', 'GGC', 'UGC', 'UUC', 'CAU', 'ACU', 'GAA', 'CCC', 'GGG', 'GAA', 'AUU', 'AAG', 'ACG', 'UCA', 'CUA', 'CAU', 'AUG', 'GUG', 'AAC', 'AGU', 'UAC', 'CCC', 'ACC', 'CCG', 'AUG', 'GUG', 'CCC', 'AAU', 'AAG', 'CAA', 'AUG', 'CAC', 'UAC', 'UUA', 'AGC', 'ACA', 'CUC', 'AUA', 'AUG', 'GCC', 'CUU', 'CUC', 'CGG', 'UUU', 'GCA', 'ACC', 'GGU', 'GGC', 'AAU', 'GUC', 'GGC', 'GCG', 'GUG', 'CCC', 'CUU', 'CCU', 'CUU', 'AAU', 'AUU', 'GAG', 'UGU', 'AUU', 'CCC', 'UUA', 'UUC', 'CAA', 'UGG', 'CCC', 'CUG', 'GAU', 'CUG', 'CGA', 'CUG', 'CUA', 'CCU', 'AUC', 'AAC', 'CCA', 'GAU', 'GAG', 'GUU', 'UUU', 'UCG', 'CCG', 'GAA', 'AGA', 'UUU', 'UAU', 'CCU', 'AAG', 'GUC', 'AGC', 'GCC', 'CUC', 'UGG', 'AGC', 'CAC', 'GAU', 'GAA', 'CUC', 'AUU', 'AAU', 'GGU', 'CGG', 'GAG', 'GAG', 'AAC', 'ACG', 'AUU', 'UAC', 'CCU', 'AAG', 'CGA', 'GCU', 'AUA', 'AUU', 'AUU', 'CAU', 'UGU', 'GGU', 'GAC', 'UAU', 'CCG', 'AGA', 'UGU', 'UAU', 'GUU', 'CAU', 'AUC', 'AUG', 'UUC', 'CCG', 'GGG', 'UUC', 'AGU', 'ACU', 'AGU', 'UAC', 'UGG', 'GAG', 'CUA', 'GGC', 'GAA', 'GGA', 'CUG', 'AGU', 'CAG', 'GUC', 'GUA', 'AGA', 'GAA', 'CAA', 'AUC', 'ACA', 'GUC', 'CAA', 'AAG', 'GUG', 'AUG', 'UAU', 'CAC', 'UCG', 'AUC', 'GUG', 'UGC', 'CGC', 'ACA', 'ACA', 'AUG', 'UUG', 'UCA', 'GUA', 'AGU', 'UCU', 'CUU', 'ACC', 'GGA', 'CUU', 'UUA', 'CAA', 'CAU', 'AAC', 'UGU', 'AGC', 'UUG', 'AAA', 'CGU', 'ACC', 'AAC', 'GAC', 'CAC', 'CAU', 'AUU', 'CAG', 'UAC', 'AAA', 'CGG', 'AAG', 'GUC', 'ACC', 'AGU', 'GUA', 'CUA', 'GAC', 'CUG', 'ACC', 'CCC', 'AGU', 'AUG', 'GCU', 'UUG', 'UUG', 'UAU', 'AAU', 'GAA', 'GAU', 'UAU', 'AAG', 'UUG', 'GCC', 'CAC', 'GUU', 'UCG', 'CGU', 'GUA', 'UGG', 'CAU', 'AAG', 'CAA', 'ACU', 'UCA', 'ACG', 'UUC', 'CAC', 'CAC', 'AGC', 'GUU', 'AGU', 'ACA', 'UUG', 'CUU', 'GUG', 'GAG', 'UCA', 'ACA', 'UUC', 'CCG', 'AAC', 'UGU', 'GUC', 'CAU', 'CUG', 'UUG', 'AAA', 'AGU', 'UAU', 'AGA', 'CCA', 'AGG', 'CCC', 'UGG', 'UUC', 'UCA', 'UAC', 'CGU', 'GAA', 'CAU', 'GUU', 'CAU', 'GCC', 'UUU', 'GCC', 'GUG', 'UUC', 'ACA', 'AAU', 'ACG', 'GCA', 'AGG', 'AAG', 'AAG', 'AUU', 'GAU', 'GGC', 'GUC', 'CGU', 'CUC', 'AAC', 'GCC', 'UCC', 'CGA', 'CAG', 'CCU', 'GGC', 'GGU', 'CGC', 'ACC', 'CGG', 'UCC', 'GAA', 'CGU', 'GGG', 'UAU', 'UCG', 'UUU', 'UCG', 'GCA', 'CGG', 'CGA', 'GUG', 'GAA', 'AAA', 'GAU', 'CAA', 'ACA', 'AUU', 'GUG', 'CUU', 'AGA', 'CCU', 'CAU', 'AAC', 'CUU', 'GCU', 'UUC', 'GCU', 'GAU', 'ACU', 'AGC', 'ACA', 'AUU', 'GGC', 'CCA', 'CAG', 'CAA', 'AAA', 'GCA', 'ACU', 'UUG', 'CAG', 'CUU', 'UCA', 'CUC', 'GAG', 'AAU', 'GAA', 'CGU', 'CAC', 'GAA', 'CGG', 'AUG', 'AGC', 'UUU', 'AAG', 'AUU', 'GCC', 'CUC', 'ACU', 'GCC', 'GUC', 'GUU', 'UGG', 'UGG', 'GAC', 'CUA', 'GCA', 'UCA', 'GAG', 'GGC', 'CUU', 'CGU', 'UGG', 'AGG', 'UUU', 'GGU', 'GAG', 'CCA', 'CUC', 'AUC', 'GCG', 'GCA', 'UGG', 'UCG', 'GAU', 'CUA', 'CCU', 'CGC', 'AGC', 'CUC', 'AUC', 'CGC', 'CUG', 'AAA', 'GAU', 'GGU', 'CCA', 'CGC', 'AAC', 'AAU', 'GCC', 'UGC', 'AUG', 'CUC', 'CAG', 'CAG', 'GAC', 'UGU', 'GUA', 'AUU', 'GAU', 'AAU', 'CGU', 'AGC', 'CCU', 'CAU', 'CUG', 'AUC', 'UGC', 'CGA', 'AUC', 'UGC', 'AUG', 'GGU', 'UGU', 'AAA', 'GGG', 'ACU', 'CCU', 'UUC', 'GUC', 'GGC', 'GAU', 'GGG', 'AGG', 'UCG', 'AGU', 'CAA', 'CAU', 'GCG', 'CAU', 'GUU', 'CUC', 'AAU', 'AGA', 'AGU', 'CUG', 'GUC', 'GCU', 'GGU', 'GUG', 'ACA', 'CUC', 'AGG', 'GGU', 'CUC', 'CAU', 'GGG', 'CUG', 'CCC', 'GGA', 'UGC', 'GGA', 'AGC', 'GUG', 'UCG', 'GCC', 'AUA', 'UGU', 'GUU', 'GAG', 'CCA', 'AGU', 'UCA', 'CGU', 'GCC', 'GAA', 'ACA', 'GAC', 'AUC', 'AUC', 'AAG', 'UCU', 'CCA', 'ACC', 'CCA', 'AUC', 'UCC', 'UGC', 'AAC', 'GUG', 'CAA', 'UCC', 'UUA', 'CAG', 'CCG', 'ACG', 'CAC', 'UUG', 'AUU', 'GGU', 'GAU', 'AUA', 'GGG', 'GAU', 'UUA', 'UAC', 'GCC', 'AAA', 'UUU', 'GGC', 'CGC', 'GCU', 'AUA', 'CAU', 'AGU', 'CAG', 'AUC', 'ACA', 'CGC', 'UCG', 'UCC', 'GAG', 'CGU', 'GAC', 'CGG', 'GAA', 'GGG', 'ACG', 'GAG', 'AGU', 'CGC', 'CGU', 'ACC', 'GAA', 'AUA', 'UCA', 'CGG', 'UAC', 'CUC', 'UUA', 'GUU', 'GCC', 'AUU', 'AUG', 'AUA', 'AAC', 'ACA', 'GUC', 'UUA', 'CGA', 'GAA', 'CGU', 'GGC', 'GCA', 'UUA', 'GGA', 'CCG', 'GAA', 'AGU', 'AAU', 'GGC', 'AUA', 'GGU', 'AUG', 'CCA', 'CUC', 'UUA', 'AAU', 'CAC', 'AUU', 'GGG', 'CGG', 'UAC', 'UAU', 'GCC', 'AUU', 'AUU', 'GGC', 'AUU', 'GCA', 'AGG', 'AAU', 'AAC', 'UUG', 'GCA', 'GAU', 'UCU', 'UAC', 'GCC', 'AGG', 'AAU', 'UCC', 'CCU', 'GCC', 'CGU', 'GAU', 'UUC', 'CAG', 'GUA', 'AGA', 'CUA', 'CUA', 'UGG', 'ACU', 'CGC', 'GGU', 'GCA', 'UGG', 'GCU', 'ACA', 'GGU', 'UGG', 'UUG', 'GCC', 'GCU', 'UCA', 'CUC', 'GUG', 'CUU', 'CCU', 'AGU', 'UCG', 'GAC', 'UUU', 'CGG', 'CGA', 'UAC', 'GGU', 'AUC', 'UUG', 'UUU', 'CAG', 'AAG', 'GGU', 'UGC', 'UUG', 'UUU', 'UCA', 'CCG', 'AGA', 'UCG', 'UCC', 'AGU', 'UGU', 'UCA', 'AUU', 'AGG', 'AGU', 'GUG', 'GAU', 'GCC', 'GCC', 'ACC', 'AAC', 'UUU', 'GGG', 'CCU', 'ACA', 'AAC', 'CCU', 'CUC', 'UCC', 'GUU', 'UGU', 'CGA', 'ACC', 'CCG', 'ACG', 'GUC', 'GCU', 'AAA', 'GCC', 'UGC', 'GCC', 'UAU', 'GUU', 'CCG', 'GCA', 'GCU', 'CUC', 'UUG', 'AAU', 'AGG', 'AAC', 'AGU', 'UGC', 'UCA', 'UCG', 'GAG', 'UCC', 'GUU', 'CUU', 'CAC', 'AUG', 'AGU', 'CAG', 'GAU', 'GAU', 'CAA', 'GGC', 'CUA', 'GUA', 'CCG', 'UAC', 'AGU', 'ACC', 'GUU', 'CUC', 'GCG', 'GAU', 'UUG', 'CGG', 'UAU', 'ACC', 'CCA', 'CGG', 'CUA', 'CUG', 'CAU', 'GUU', 'UUG', 'UUG', 'CAG', 'CAU', 'UUU', 'AUU', 'AAG', 'GUG', 'GCC', 'UUG', 'UCU', 'CCG', 'UCG', 'CUG', 'CUA', 'AAA', 'CUG', 'CGA', 'GGC', 'GCG', 'AGU', 'CCG', 'UCA', 'UAC', 'UCG', 'CGA', 'UUG', 'CCG', 'CCC', 'AGG', 'ACU', 'UAC', 'UGG', 'CUU', 'CUU', 'CCU', 'ACG', 'GCU', 'AUC', 'ACU', 'CUG', 'AAU', 'ACU', 'GGG', 'UCA', 'CCG', 'GCG', 'CCU', 'AAU', 'GUG', 'AGC', 'AAU', 'GUC', 'CUU', 'CGC', 'GCA', 'GAU', 'GUC', 'GAG', 'AUU', 'GGG', 'GAC', 'CUC', 'ACG', 'CUC', 'GCU', 'CCA', 'GCG', 'GAC', 'GAG', 'ACC', 'CUG', 'UAU', 'CUG', 'UCU', 'AGC', 'UAC', 'GGG', 'ACG', 'UUG', 'GUG', 'AAA', 'UGG', 'CGC', 'AUA', 'CUG', 'CUU', 'GCC', 'GGA', 'ACG', 'AUC', 'CCC', 'CGG', 'ACU', 'AGG', 'CAG', 'CAA', 'CAU', 'CAG', 'UCA', 'GAC', 'AGG', 'UCA', 'CCU', 'AAC', 'CUC', 'AGU', 'CUU', 'UUG', 'GAA', 'GUG', 'CUA', 'GCA', 'AGA', 'CUU', 'UUA', 'UGG', 'AGA', 'CGG', 'AUC', 'AAU', 'UCA', 'AAG', 'AGA', 'AUG', 'AUC', 'CCU', 'AGA', 'CCA', 'GAA', 'CCC', 'UGU', 'GAG', 'GGG', 'UUC', 'CUC', 'CGG', 'AUA', 'AGA', 'AAG', 'GUG', 'GGC', 'GAA', 'UCG', 'CCC', 'AGG', 'GUG', 'GGU', 'CCA', 'UGG', 'CAA', 'AGG', 'GAC', 'CAG', 'UAC', 'ACU', 'CUU', 'GGG', 'CAC', 'UAU', 'AGU', 'CUG', 'AUU', 'AGU', 'AGC', 'UAC', 'UUU', 'UUA', 'GAC', 'UCG', 'CAC', 'GUG', 'GCC', 'GGU', 'AAC', 'CCC', 'AUC', 'GGC', 'GAC', 'CUU', 'CGG', 'GCC', 'CAU', 'GCU', 'GAG', 'UUC', 'UGG', 'AUA', 'CUC', 'AAG', 'GCC', 'AGC', 'CUA', 'UUA', 'GUG', 'AUG', 'GUG', 'UUU', 'CUC', 'CUA', 'UUG', 'CGU', 'CGU', 'GCG', 'GCA', 'GUG', 'AUU', 'CUU', 'ACA', 'CUA', 'GCU', 'CGU', 'GCU', 'CGA', 'GUC', 'CUU', 'CCA', 'GUC', 'CAG', 'UGC', 'GCG', 'UUU', 'UCG', 'UAC', 'UUG', 'GAG', 'CCG', 'CGA', 'AUU', 'CAU', 'AGC', 'UGU', 'CUC', 'ACC', 'UCU', 'ACU', 'GUA', 'GAU', 'ACA', 'AUC', 'UCC', 'AUU', 'CUA', 'UGU', 'AGC', 'CAG', 'AAA', 'CUA', 'CCG', 'AGA', 'AAC', 'CCU', 'GCG', 'AGG', 'UGU', 'GUC', 'CCG', 'UGU', 'AUC', 'CUC', 'CCC', 'AAG', 'ACG', 'UGG', 'AUG', 'CAA', 'AGA', 'UUG', 'AUU', 'GAG', 'CAG', 'UCC', 'CUU', 'CGC', 'GGU', 'CGU', 'AGG', 'CCA', 'AGG', 'GUU', 'CUG', 'GAA', 'AAG', 'CGC', 'AGG', 'UCA', 'GAG', 'CUA', 'GAG', 'CAA', 'AAA', 'GGA', 'UAC', 'CUC', 'UCU', 'GGU', 'AGC', 'AGA', 'UCU', 'AAC', 'CGU', 'AAA', 'CUC', 'UUA', 'CAA', 'CUC', 'GCU', 'CGU', 'CGA', 'ACC', 'AAA', 'GCU', 'AAU', 'CCU', 'GCU', 'CCA', 'GAU', 'CCU', 'GCC', 'AAU', 'AUG', 'AAG', 'UAC', 'UCU', 'CCG', 'AAC', 'CCC', 'GAU', 'CUA', 'GCA', 'AAG', 'GGG', 'UUA', 'UUA', 'GAA', 'CGC', 'CAA', 'GAG', 'AGA', 'UCU', 'GUG', 'AUG', 'GCU', 'UUA', 'GCU', 'UAC', 'ACG', 'GAA', 'CUG', 'ACG', 'AAU', 'GUC', 'AUU', 'GCC', 'ACA', 'AAC', 'GCG', 'CCA', 'GAG', 'UUC', 'GAG', 'CUG', 'CCG', 'GUU', 'ACG', 'UGU', 'CAC', 'CCG', 'GUC', 'GAU', 'CCU', 'CUU', 'GGU', 'AGC', 'CCA', 'CUC', 'UUG', 'CGA', 'CCG', 'GAC', 'GAU', 'CUC', 'AAC', 'CCG', 'CGA', 'CCU', 'CAA', 'AAC', 'CCG', 'CGU', 'UCU', 'AGC', 'UAC', 'GCC', 'AUG', 'CAC', 'AAU', 'CUA', 'ACA', 'CUU', 'UCU', 'AUC', 'UUC', 'CUA', 'GGU', 'GCG', 'GUU', 'UUC', 'GAU', 'CCA', 'UGU', 'ACG', 'GUA', 'AGU', 'GCA', 'UUU', 'AUG', 'GGU', 'CGU', 'ACA', 'UCG', 'GGA', 'CGA', 'ACC', 'AUG', 'CAG', 'UGG', 'UAC', 'ACC', 'GGA', 'CUA', 'UUU', 'GAU', 'UAU', 'AUG', 'AGU', 'GCG', 'UAU', 'GGG', 'CAG', 'GAU', 'AGC', 'AGU', 'UCG', 'AUU', 'GCG', 'UUG', 'CAU', 'AAA', 'AGU', 'CGC', 'CAU', 'CAA', 'GCG', 'AAA', 'UAU', 'CGG', 'UCA', 'GGG', 'UUC', 'CAU', 'ACC', 'GAU', 'UCC', 'GCU', 'GCC', 'CGG', 'AUA', 'GCA', 'GCG', 'GUG', 'CCC', 'ACC', 'CGG', 'AGC', 'CGU', 'GUA', 'AAC', 'AGA', 'AGA', 'CUG', 'GGG', 'UAU', 'GAU', 'UCA', 'GCG', 'AGC', 'CAU', 'ACG', 'UGC', 'CAC', 'GAC', 'CAC', 'GAU', 'CAG', 'AUC', 'CCG', 'GAU', 'AUC', 'GUU', 'GUU', 'GGU', 'ACU', 'GAA', 'ACU', 'UAU', 'UCA', 'AAA', 'AGC', 'UCC', 'AAC', 'ACA', 'GGC', 'GCC', 'GCC', 'CAA', 'CUG', 'UUU', 'CGC', 'UCG', 'AGG', 'AGA', 'CAC', 'AUG', 'CAG', 'AAC', 'AAA', 'CUA', 'UUA', 'UUU', 'CAU', 'GAG', 'CUU', 'AUA', 'AGG', 'UCU', 'AGG', 'GUG', 'CCC', 'CUU', 'GAC', 'CUC', 'UAC', 'AUA', 'GUG', 'CGA', 'UCG', 'UCA', 'CAG', 'GAU', 'CAG', 'GCG', 'UGG', 'CCG', 'CCU', 'GUU', 'CAG', 'GAA', 'ACU', 'UUU', 'UGG', 'GCA', 'GAA', 'UUG', 'AGC', 'CGC', 'CGG', 'GCG', 'AAG', 'GCG', 'CUC', 'CAU', 'GCU', 'UCA', 'CAU', 'UCG', 'UGC', 'UCG', 'CAA', 'GAU', 'ACC', 'UUG', 'UCC', 'UUA', 'AAU', 'AAC', 'GAA', 'GGC', 'CUU', 'UGC', 'GUC', 'GAC', 'GUC', 'CUC', 'CGG', 'GAC', 'CCC', 'AUU', 'GCU', 'CUU', 'GUU', 'AGU', 'AAU', 'AAU', 'UUC', 'UGG', 'UUU', 'GAG', 'UUU', 'ACG', 'CAC', 'ACA', 'GGC', 'CGC', 'UUC', 'GAC', 'UUG', 'AAU', 'AAC', 'GAA', 'GUG', 'GUU', 'UCC', 'GUA', 'GGU', 'CCA', 'GUU', 'CGG', 'UCU', 'UGU', 'CUA', 'CGC', 'CAC', 'CGC', 'AUC', 'UGU', 'AGG', 'GGC', 'UUG', 'GAC', 'GUU', 'CUG', 'AAG', 'CCU', 'GGU', 'UUG', 'UAC', 'GUU', 'UGC', 'GAA', 'AGU', 'GAU', 'AUC', 'UAU', 'CCA', 'ACU', 'ACC', 'AGU', 'GAU', 'UAU', 'AUC', 'CAC', 'GCA', 'AGG', 'CAC', 'CUG', 'CUG', 'ACA', 'CCC', 'GGC', 'GGC', 'UUC', 'CAA', 'CCA', 'GAG', 'GUU', 'UCA', 'UGU', 'UCG', 'GCU', 'AUU', 'GUG', 'UCU', 'GUC', 'CUC', 'CGA', 'GGA', 'CAG', 'GCC', 'ACU', 'GAC', 'AUG', 'AAC', 'GAU', 'GAU', 'GUU', 'GUA', 'ACA', 'CCU', 'AGC', 'CUA', 'CAC', 'AAU', 'CAA', 'GAU', 'CGC', 'UUC', 'CGA', 'AAA', 'ACG', 'GCC', 'GCC', 'UCU', 'UGU', 'GAG', 'ACC', 'ACG', 'GCG', 'UGU', 'GUU', 'GGG', 'UCC', 'ACC', 'GUU', 'GGC', 'UGU', 'CGC', 'AUA', 'GUG', 'AAC', 'GGC', 'GGG', 'UCG', 'CGU', 'UCC', 'AGA', 'GUU', 'UUA', 'ACA', 'UGU', 'GCA', 'CUC', 'CCU', 'GUC', 'GCC', 'CUC', 'CUA', 'ACG', 'UCG', 'CAG', 'CUU', 'UAC', 'GGG', 'CAU', 'CCA', 'CAG', 'AAA', 'UCU', 'AGG', 'UAC', 'GGA', 'GGA', 'UUA', 'ACA', 'ACC', 'CGG', 'UGG', 'UGC', 'CAC', 'AUG', 'UUG', 'GAA', 'GUG', 'CUG', 'UUU', 'AAA', 'AAC', 'CUU', 'GAU', 'UCG', 'CCC', 'UCU', 'UGG', 'GAC', 'UAC', 'UGU', 'AGC', 'GAG', 'CUA', 'UUC', 'GGG', 'GUU', 'ACG', 'GUU', 'UGC', 'GGG', 'GGA', 'UAC', 'UCC', 'UCA', 'UUA', 'AGU', 'UCU', 'GAU', 'GGA', 'ACU', 'UCU', 'CGG', 'ACG', 'GUC', 'GAU', 'UCA', 'CGG', 'ACA', 'GCU', 'GCC', 'UGU', 'CUC', 'GGG', 'GCA', 'AGA', 'GCG', 'CAC', 'UAU', 'CCA', 'GAU', 'UGU', 'AUG', 'CUU', 'GGA', 'CGC', 'AGC', 'UCC', 'AGC', 'AAU', 'GAC', 'UCC', 'AGC', 'UGU', 'ACC', 'AGU', 'CAG', 'GAC', 'AAA', 'GCU', 'CUG', 'AAG', 'UAC', 'CCG', 'GGC', 'CUA', 'AGU', 'GGU', 'CAC', 'CGC', 'UUG', 'CCG', 'UUG', 'GUC', 'ACU', 'CCG', 'GUU', 'AUU', 'GCG', 'CUU', 'AGG', 'AGU', 'UGU', 'CCC', 'GGU', 'UUA', 'CUG', 'CCU', 'AUC', 'CGG', 'UGG', 'CUA', 'GAC', 'ACA', 'GGG', 'UUC', 'AGG', 'UGU', 'GAA', 'UGC', 'CAA', 'UUG', 'CGU', 'CCG', 'CGA', 'GGU', 'AAC', 'GUA', 'GUA', 'AAU', 'CUC', 'GGC', 'UCC', 'GCC', 'GAU', 'GCA', 'UGU', 'UCG', 'UAU', 'UCA', 'GUC', 'GGG', 'UCU', 'UUU', 'CAA', 'AAC', 'CGC', 'CGA', 'GGU', 'AAU', 'UGG', 'ACU', 'UUC', 'UUA', 'CCU', 'GUC', 'GCG', 'AAU', 'CGA', 'CUU', 'AGU', 'CGC', 'GCA', 'GAC', 'AAG', 'UUG', 'GCC', 'GAG', 'CGG', 'CGC', 'GUC', 'AGU', 'AAG', 'ACC', 'CAC', 'ACC', 'GCA', 'UUA', 'CGA', 'GUG', 'GGG', 'ACA', 'GCG', 'CCU', 'AGA', 'AUC', 'CCA', 'UUA', 'GCG', 'UAU', 'GCG', 'UGG', 'GCA', 'GGA', 'GCA', 'UUA', 'UCU', 'ACG', 'ACU', 'GAU', 'GGC', 'UCA', 'CAC', 'CGC', 'CAA', 'CGC', 'GUU', 'ACC', 'GCU', 'AUA', 'ACC', 'AGC', 'AAC', 'AUU', 'AGC', 'GCC', 'CCA', 'GCC', 'GGG', 'CUC', 'CAG', 'GCA', 'ACG', 'GGU', 'GCG', 'GCA', 'CAC', 'UAC', 'CAU', 'UGU', 'CCG', 'ACA', 'CCC', 'AGC', 'GAU', 'UCG', 'ACU', 'GAC', 'CCC', 'AUU', 'GAG', 'UCG', 'CUC', 'UUG', 'CAG', 'CGC', 'AUG', 'CUU', 'CAU', 'CUU', 'CCU', 'GAG', 'GCA', 'GUA', 'CGC', 'AUA', 'CCC', 'CGA', 'GGC', 'CUA', 'UGG', 'AUA', 'UUG', 'UAU', 'UUA', 'UAC', 'GUA', 'GGA', 'GGA', 'CCA', 'AGU', 'CUG', 'GGG', 'GGG', 'AAC', 'UCG', 'CUG', 'GGU', 'GAC', 'CGU', 'GAU', 'GGA', 'GUA', 'GCU', 'AUC', 'CUG', 'UUC', 'CUG', 'UCA', 'GUG', 'UUG', 'CGG', 'GGA', 'AAC', 'GUA', 'CUC', 'AUA', 'AGA', 'UCC', 'UUU', 'CCC', 'UUU', 'AAG', 'ACA', 'AGC', 'GUG', 'UAC', 'CGC', 'GCG', 'GGA', 'GAU', 'AGA', 'AGG', 'UGG', 'CGC', 'GAC', 'CAC', 'AGG', 'CUA', 'AAC', 'CAA', 'ACC', 'AGG', 'AUU', 'UAC', 'AGG', 'UUC', 'UGC', 'AGC', 'GAC', 'AAU', 'UGC', 'CAG', 'GCC', 'GUC', 'ACC', 'CAU', 'CUC', 'GAA', 'ACA', 'AUC', 'AUU', 'CAU', 'CGA', 'AAA', 'UUA', 'GAU', 'GCU', 'UUA', 'CCU', 'CUC', 'GCG', 'CCG', 'ACU', 'AUG', 'GGU', 'CGA', 'UUG', 'UUG', 'ACU', 'AAA', 'GAG', 'CGA', 'AGA', 'UCU', 'GCC', 'UUU', 'GUA', 'GGU', 'AUA', 'UAU', 'GGA', 'GAC', 'AGU', 'CAA', 'CGG', 'GUG', 'AUG', 'CCC', 'UUC', 'AUA', 'AAA', 'AUU', 'GUG', 'UUU', 'GUG', 'GGU', 'AAG', 'UAC', 'CCG', 'GGC', 'CAU', 'GAA', 'CAC', 'CAU', 'CCU', 'CGG', 'GGG', 'ACU', 'AGA', 'CCG', 'CAA', 'AUC', 'GUA', 'GUA', 'GUU', 'GGC', 'GAC', 'AUU', 'CCA', 'GUG', 'GUC', 'AUU', 'CCC', 'ACA', 'AAU', 'GAA', 'UAU', 'CUU', 'GCU', 'GCC', 'AGA', 'ACA', 'ACU', 'CAG', 'UCC', 'UCA', 'CUG', 'UAC', 'CUU', 'CGU', 'GUU', 'GGA', 'GCA', 'GGA', 'CUA', 'UCC', 'CCU', 'GAA', 'UCA', 'UAC', 'GUA', 'AAU', 'GAC', 'UCA', 'CUC', 'ACG', 'CUA', 'ACU', 'CCA', 'CUG', 'UUG', 'UGC', 'GUC', 'AAA', 'CAU', 'AUU', 'UCA', 'UUG', 'UCC', 'GGU', 'UUU', 'GUA', 'AGC', 'GGA', 'CAG', 'GUU', 'AAA', 'UUG', 'CGA', 'GCA', 'GGG', 'GCU', 'UGC', 'CUU', 'ACC', 'CCG', 'GUU', 'AAU', 'CAG', 'CGU', 'GUU', 'UAC', 'AAA', 'UCC', 'AGC', 'UGC', 'AGG', 'GGA', 'CGA', 'AGA', 'CAA', 'GGC', 'CUA', 'CCU', 'ACA', 'CGG', 'UUG', 'GCU', 'CUU', 'CGA', 'AUU', 'UUU', 'AUG', 'CCG', 'GCG', 'GAC', 'ACG', 'UCA', 'CGA', 'GGU', 'CAG', 'CGU', 'CCA', 'AUU', 'CGU', 'CAA', 'GAA', 'GUG', 'CCC', 'GUA', 'GAC', 'ACA', 'CUC', 'CUU', 'CGG', 'UGU', 'UAU', 'ACU', 'UGG', 'ACC', 'UGG', 'CCG', 'CAC', 'GAC', 'ACA', 'GUG', 'GAA', 'AGA', 'GGA', 'AGU', 'ACA', 'AAG', 'CAC', 'ACG', 'CAA', 'UUA', 'GUA', 'AAA', 'AUC', 'CCU', 'CCA', 'AAU', 'GCG', 'CAG', 'UUU', 'AUG', 'UCC', 'CAA', 'AGC', 'UUG', 'CCA', 'GCG', 'UUG', 'AGG', 'AUU', 'CUC', 'GGC', 'CGG', 'GAU', 'UAU', 'UCA', 'UGC', 'AUG', 'CCA', 'AAG', 'CUG', 'AUG', 'ACG', 'CGG', 'AUU', 'GCA', 'UUG', 'CUG', 'AUA', 'UAU', 'GGC', 'CUU', 'UCG', 'ACU', 'ACC', 'AGC', 'AUA', 'CUG', 'UCU', 'GAC', 'GGU', 'CUA', 'ACU', 'UCA', 'AUA', 'GAA', 'CGC', 'CCG', 'GGU', 'GCU', 'UCA', 'UGU', 'ACC', 'GCC', 'CAG', 'UCC', 'GGA', 'UCU', 'CAG', 'CCG', 'UAC', 'GCU', 'GUU', 'CGA', 'CGC', 'AGC', 'GAU', 'GCU', 'AGG', 'AGG', 'GAG', 'CGU', 'CAU', 'GAG', 'CGA', 'UUC', 'UUA', 'UUU', 'CGA', 'UAC', 'GUC', 'GAG', 'GCG', 'CGA', 'CUC', 'UUG', 'CAA', 'UUC', 'AUG', 'AAA', 'GUA', 'GUC', 'UCC', 'UGU', 'AGU', 'UAC', 'AUA', 'AUU', 'AAG', 'GGA', 'AUG', 'GGG', 'AUA', 'CCG', 'AUU', 'CGA', 'GGU', 'UUC', 'UGG', 'CAA', 'CAC', 'AAU', 'CGA', 'GAA', 'UCU', 'GUU', 'UUU', 'GGU', 'GUU', 'UUC', 'GUC', 'UCG', 'UCU', 'UUG', 'GGU', 'CUC', 'UUA', 'UGC', 'AUC', 'CUG', 'CCC', 'CUG', 'CCU', 'ACC', 'UCA', 'AGC', 'AUA', 'UUU', 'GAG', 'UUU', 'GGA', 'GAG', 'AAU', 'ACA', 'CUC', 'CUU', 'CCA', 'UGC', 'CUC', 'CUA', 'ACU', 'ACU', 'UUC', 'AUC', 'GAG', 'CCC', 'GUA', 'GUU', 'AAC', 'ACU', 'AUU', 'UCC', 'CUG', 'GCC', 'GAC', 'GAC', 'CAA', 'GUC', 'ACU', 'GGG', 'GAG', 'AAA', 'AGA', 'GAG', 'AUA', 'GAU', 'CUG', 'CAC', 'AGC', 'AGU', 'CUU', 'GCA', 'GAA', 'GAC', 'CCG', 'GGC', 'GGU', 'UAC', 'CUG', 'CGA', 'GCC', 'UAC', 'ACU', 'AGU', 'UGC', 'GCU', 'UCG', 'GAA', 'AGU', 'GAG', 'GUG', 'CAG', 'CGA', 'GAU', 'AGA', 'CCU', 'GGC', 'AGG', 'CUC', 'AAG', 'AUU', 'AGA', 'GAC', 'CUC', 'UUU', 'ACU', 'GCU', 'UUA', 'GGG', 'CUG', 'ACG', 'UGU', 'ACG', 'GCU', 'CUG', 'UCU', 'CAG', 'UUA', 'CCA', 'GUA', 'AGG', 'UGU', 'CUU', 'CCU', 'GCG', 'GAA', 'AGG', 'CGA', 'CCA', 'UCU', 'CCA', 'AGG', 'UUA', 'UGC', 'AAG', 'GAU', 'UCA', 'CCG', 'GUA', 'UUG', 'UGC', 'UUA', 'UUC', 'CCG', 'ACU', 'CAC', 'CGU', 'AUC', 'CAA', 'GGA', 'AGG', 'UUC', 'CCG', 'CCC', 'CCG', 'GUG', 'CAA', 'CUG', 'AUG', 'CCC', 'GGA', 'GUC', 'AGG', 'GCA', 'GGG', 'CUA', 'CUA', 'CAC', 'GGG', 'GCA', 'UGC', 'GAU', 'UUU', 'UCG', 'CUA', 'GCG', 'CAU', 'UAC', 'CCA', 'AUA', 'GUU', 'AUC', 'UAU', 'UCU', 'UUU', 'AUC', 'GAG', 'AAC', 'GCG', 'CUA', 'CGU', 'AGU', 'UUC', 'CGG', 'UUA', 'GUU', 'UGG', 'CGC', 'CCG', 'CUC', 'CGC', 'AGA', 'CGA', 'CGG', 'AAC', 'CAA', 'GUA', 'UUA', 'CUU', 'GAG', 'AGG', 'UCC', 'CCU', 'AAA', 'CAU', 'CCC', 'AGA', 'CGU', 'UCC', 'CUA', 'AUC', 'UUU', 'CGG', 'CUG', 'GUG', 'AGG', 'CCU', 'CCA', 'CGG', 'CCU', 'UCC', 'UCU', 'AGA', 'GGA', 'GCU', 'CUC', 'UAU', 'AAU', 'GCC', 'GGG', 'CGU', 'UCG', 'GGA', 'UAU', 'AGA', 'CUC', 'CAU', 'CGC', 'GAU', 'GAG', 'CUG', 'AAU', 'CGU', 'CUA', 'UGG', 'CCG', 'CCG', 'UCG', 'CCA', 'GCU', 'AUU', 'CUG', 'AGC', 'GCG', 'UGC', 'CAA', 'AAC', 'GUU', 'CCC', 'CCG', 'CGU', 'AUU', 'AAG', 'CAG', 'GGC', 'UGC', 'GAA', 'GUU', 'CGG', 'GUG', 'CGU', 'GCA', 'GGU', 'GGG', 'AGG', 'ACU', 'GUG', 'UGU', 'GAC', 'UCG', 'UGC', 'GAC', 'CCA', 'AUC', 'CGG', 'CGC', 'GAA', 'ACU', 'GUG', 'CUU', 'GCA', 'GUU', 'UUG', 'UAU', 'GAG', 'UUU', 'AGG', 'AAA', 'CUA', 'GGA', 'AGG', 'GCU', 'AUA', 'AUG', 'GUC', 'CCG', 'CCA', 'GAG', 'UCU', 'AUA', 'AUC', 'CCG', 'CGG', 'UUU', 'UCC', 'CGU', 'UUA', 'UGG', 'AAC', 'UAC', 'GCG', 'UCC', 'AGC', 'CUA', 'AAA', 'CUC', 'GCC', 'CGA', 'GUU', 'CGA', 'CAG', 'AUA', 'CCA', 'UAU', 'GGU', 'CUA', 'GAU', 'CCC', 'GGC', 'GGA', 'CCU', 'CUC', 'AGC', 'CUU', 'GGA', 'GGA', 'UUG', 'AGA', 'GAG', 'CCG', 'CAA', 'CCU', 'UCU', 'AUC', 'CAC', 'UAU', 'UGG', 'GAA', 'AUG', 'AUG', 'UCU', 'AGG', 'UCU', 'CCA', 'AUC', 'GUG', 'ACA', 'UUU', 'AGA', 'GCC', 'CUA', 'ACU', 'CCA', 'AGC', 'GAC', 'GUA', 'GGA', 'UUG', 'ACA', 'UAU', 'AGA', 'AUC', 'UGC', 'GUG', 'GUA', 'AAU', 'ACG', 'AGG', 'GUU', 'AAA', 'GUC', 'AGU', 'GCG', 'CUA', 'AAU', 'GAG', 'CCC', 'CAA', 'AGA', 'UGG', 'CAU', 'CCG', 'GCG', 'ACU', 'GAA', 'CUC', 'GAG', 'CGG', 'CGG', 'AAG', 'ACG', 'UAU', 'CGU', 'CAG', 'AGG', 'AUU', 'UCC', 'AGA', 'AAC', 'CCU', 'CUC', 'UAU', 'AUU', 'CCG', 'UCU', 'AAA', 'GUG', 'CGG', 'AGU', 'CAC', 'AUA', 'ACG', 'AAG', 'ACC', 'GUA', 'CCU', 'CUU', 'GAU', 'UGG', 'UUG', 'CCG', 'CAU', 'AAC', 'CUC', 'AAA', 'UUG', 'AAU', 'CUC', 'ACA', 'CGA', 'CAG', 'AGA', 'GUC', 'GUG', 'CAU', 'GCG', 'AGG', 'GGG', 'UUU', 'AUA', 'UCG', 'GGA', 'GCA', 'ACA', 'CAA', 'CGA', 'CGU', 'GUG', 'GAU', 'CGG', 'CGA', 'GCC', 'AAU', 'AAA', 'AUC', 'UCG', 'UCG', 'UAC', 'CCC', 'AGU', 'AUA', 'AUG', 'CUG', 'GAA', 'AUG', 'GCG', 'ACC', 'GCG', 'UGU', 'UGU', 'CGG', 'UGG', 'CUC', 'AAA', 'CUC', 'CAC', 'GUA', 'AUG', 'AAG', 'CAC', 'UGU', 'GUU', 'GCC', 'UCA', 'GGG', 'CAA', 'CGA', 'CGG', 'UUU', 'AUA', 'UCU', 'AUG', 'GAG', 'GGC', 'CGU', 'GUA', 'UGC', 'CGC', 'GCU', 'CUA', 'CGG', 'CAU', 'UCC', 'UCA', 'UCG', 'AAU', 'CCG', 'GCU', 'GAA', 'ACU', 'AAC', 'AGC', 'CUA', 'UGG', 'UUU', 'UAU', 'AGC', 'CUU', 'CCC', 'CAU', 'UUU', 'CCA', 'AGU', 'CUU', 'CAA', 'AGU', 'AUC', 'AUU', 'AGU', 'UGU', 'AGG', 'GUG', 'GAC', 'GAU', 'GUC', 'GUG', 'ACG', 'UUU', 'GUU', 'GCU', 'CAG', 'CUU', 'CUG', 'GCA', 'GAU', 'AUA', 'CGC', 'GGU', 'UCA', 'UAC', 'AAA', 'CUC', 'AAC', 'GCU', 'UGG', 'GAA', 'UUA', 'GUU', 'AGG', 'UAU', 'ACG', 'CAG', 'AUC', 'CUA', 'UAU', 'CGG', 'CUU', 'AUC', 'AAC', 'CCU', 'CGG', 'UCC', 'CCC', 'CGC', 'GCU', 'AGU', 'GAU', 'AUU', 'AUU', 'AUG', 'GGU', 'ACC', 'CCU', 'UUA', 'AUU', 'AAU', 'UCC', 'UUU', 'AAG', 'UGC', 'GCC', 'CAA', 'CAA', 'CCC', 'UAU', 'GAU', 'AGC', 'GAU', 'ACU', 'AUC', 'UCG', 'GGU', 'CCU', 'AAA', 'AAA', 'CCA', 'GCU', 'UGC', 'GUC', 'CUU', 'AUC', 'UUG', 'UCA', 'CUA', 'UCA', 'CCA', 'CUG', 'UAC', 'GUG', 'CCG', 'GGU', 'GCG', 'GGG', 'CUA', 'UCU', 'GUU', 'AUA', 'CCC', 'GAC', 'ACA', 'AAC', 'GUC', 'CAG', 'CAC', 'GAU', 'AAU', 'CCA', 'AUC', 'CAA', 'CCU', 'GAC', 'CCU', 'ACG', 'CGG', 'ACU', 'GAA', 'AUU', 'GUU', 'CUA', 'UCG', 'AAG', 'ACA', 'CUG', 'CUU', 'CAA', 'GAC', 'CUG', 'GUC', 'UCA', 'UCG', 'CCG', 'ACG', 'CGG', 'GGU', 'UUA', 'GAA', 'AGA', 'ACC', 'ACC', 'UUU', 'AAG', 'CAG', 'UGC', 'AUC', 'AAU', 'ACU', 'ACU', 'UAU', 'GUA', 'CUG', 'GUC', 'GUU', 'ACG', 'GAU', 'UUA', 'AAC', 'ACA', 'AUC', 'GUG', 'GGG', 'GGC', 'CCG', 'CCC', 'GUG', 'GGU', 'ACC', 'UUC', 'CCU', 'GAG', 'CCG', 'CCU', 'CGC', 'UCG', 'ACU', 'AAA', 'UAC', 'AGG', 'ACC', 'CGU', 'GAG', 'GGC', 'CAC', 'GUU', 'CUC', 'AGC', 'CUG', 'UGC', 'AAA', 'CAG', 'CAC', 'GAC', 'UCC', 'CUC', 'CUU', 'UAU', 'ACG', 'CGG', 'CGA', 'ACG', 'AGC', 'ACG', 'AGG', 'GGC', 'AUU', 'UUU', 'CCG', 'UCG', 'ACC', 'AUC', 'AUG', 'CAG', 'UUA', 'CCG', 'GGC', 'AGG', 'AAU', 'GCU', 'AGG', 'CCC', 'UCG', 'GCA', 'GAC', 'AUU', 'CUG', 'ACG', 'UCC', 'GUA', 'CUC', 'AAC', 'GCG', 'ACA', 'AUU', 'GUA', 'CAU', 'AAU', 'CAU', 'CCG', 'AUG', 'UCA', 'UUA', 'CUC', 'AAC', 'UUU', 'AAA', 'AUG', 'UGU', 'UUC', 'UUU', 'CGA', 'GCC', 'CUC', 'UGG', 'UUA', 'AAG', 'GGU', 'ACC', 'CCU', 'UUC', 'CGC', 'CCU', 'CAU', 'UGG', 'GCC', 'CUC', 'ACG', 'GUC', 'CUG', 'GGA', 'GAA', 'CGC', 'GUU', 'GAG', 'GGU', 'AAG', 'CGG', 'UUC', 'AAA', 'UAU', 'AAA', 'CCC', 'CAC', 'UUU', 'GGC', 'UGC', 'AGC', 'AUA', 'AGA', 'GAA', 'CUA', 'AUA', 'CUC', 'CCA', 'GCC', 'GUU', 'CUG', 'CCC', 'GAC', 'UAU', 'GAA', 'CUG', 'CUU', 'ACU', 'UGC', 'CAC', 'CUG', 'GCC', 'AUG', 'UCU', 'UAC', 'ACC', 'AGU', 'UAC', 'AUG', 'CUG', 'GAU', 'AUC', 'GCA', 'UAU', 'AAG', 'UCC', 'GUA', 'CCC', 'CGA', 'CGC', 'UUC', 'UGC', 'ACA', 'GGU', 'CCU', 'CAC', 'AUU', 'CGA', 'GAA', 'CUC', 'AAA', 'GGA', 'ACG', 'CCG', 'CGU', 'GUG', 'GAU', 'CGA', 'GCC', 'UGU', 'CUC', 'CGA', 'CGG', 'CAA', 'AAA', 'AAU', 'CGA', 'CGG', 'UUU', 'GUU', 'ACA', 'UUA', 'UGU', 'GGA', 'GUU', 'GGU', 'AAA', 'UUU', 'GAC', 'CAU', 'CAG', 'GCU', 'UUC', 'AAA', 'AUC', 'CUU', 'GAC', 'CGC', 'GGG', 'GUG', 'GAU', 'UGC', 'CUU', 'GAG', 'CUC', 'GUU', 'CAU', 'CAA', 'GUC', 'UCC', 'ACA', 'AGU', 'UGG', 'CUA', 'GUA', 'CGU', 'GGA', 'GCU', 'UGC', 'CUA', 'CUU', 'GCC', 'GGU', 'CUG', 'UCG', 'UUC', 'AGA', 'GAA', 'CCC', 'GCG', 'CUG', 'CAC', 'CGG', 'GGA', 'UCC', 'GAG', 'GGC', 'GAC', 'UCU', 'UUA', 'GAG', 'UUG', 'UAU', 'CUU', 'UCC', 'ACU', 'CAA', 'AGG', 'UAU', 'AGU', 'AAC', 'CAU', 'CCG', 'AGU', 'CCU', 'UCA', 'CCA', 'AGG', 'AGC', 'CCC', 'GGU', 'UCC', 'AUG', 'UAG']\n"
     ]
    }
   ],
   "source": [
    "def split_by_n(seq, n):\n",
    "    '''A generator to divide a sequence into chunks of n units.'''\n",
    "    while seq:\n",
    "        yield seq[:n]\n",
    "        seq = seq[n:]\n",
    "\n",
    "print(list(split_by_n('AUGACCACGACGUCUGCGGUGUCAAUAUCGCAGGAUCAUAGCGUCGAUGUAGGGUUGUUUCCUAAAAUAAAUGGCAGGUAUAGACAUAUCUGCCCAACAGGCAUUCACCGCAGCACGCCACGUCGUUUUAAAAAUCCCCUUAAUCUACCGUCCAUAGUGGAAGGCUGCUUCCAUACUGAACCCGGGGAAAUUAAGACGUCACUACAUAUGGUGAACAGUUACCCCACCCCGAUGGUGCCCAAUAAGCAAAUGCACUACUUAAGCACACUCAUAAUGGCCCUUCUCCGGUUUGCAACCGGUGGCAAUGUCGGCGCGGUGCCCCUUCCUCUUAAUAUUGAGUGUAUUCCCUUAUUCCAAUGGCCCCUGGAUCUGCGACUGCUACCUAUCAACCCAGAUGAGGUUUUUUCGCCGGAAAGAUUUUAUCCUAAGGUCAGCGCCCUCUGGAGCCACGAUGAACUCAUUAAUGGUCGGGAGGAGAACACGAUUUACCCUAAGCGAGCUAUAAUUAUUCAUUGUGGUGACUAUCCGAGAUGUUAUGUUCAUAUCAUGUUCCCGGGGUUCAGUACUAGUUACUGGGAGCUAGGCGAAGGACUGAGUCAGGUCGUAAGAGAACAAAUCACAGUCCAAAAGGUGAUGUAUCACUCGAUCGUGUGCCGCACAACAAUGUUGUCAGUAAGUUCUCUUACCGGACUUUUACAACAUAACUGUAGCUUGAAACGUACCAACGACCACCAUAUUCAGUACAAACGGAAGGUCACCAGUGUACUAGACCUGACCCCCAGUAUGGCUUUGUUGUAUAAUGAAGAUUAUAAGUUGGCCCACGUUUCGCGUGUAUGGCAUAAGCAAACUUCAACGUUCCACCACAGCGUUAGUACAUUGCUUGUGGAGUCAACAUUCCCGAACUGUGUCCAUCUGUUGAAAAGUUAUAGACCAAGGCCCUGGUUCUCAUACCGUGAACAUGUUCAUGCCUUUGCCGUGUUCACAAAUACGGCAAGGAAGAAGAUUGAUGGCGUCCGUCUCAACGCCUCCCGACAGCCUGGCGGUCGCACCCGGUCCGAACGUGGGUAUUCGUUUUCGGCACGGCGAGUGGAAAAAGAUCAAACAAUUGUGCUUAGACCUCAUAACCUUGCUUUCGCUGAUACUAGCACAAUUGGCCCACAGCAAAAAGCAACUUUGCAGCUUUCACUCGAGAAUGAACGUCACGAACGGAUGAGCUUUAAGAUUGCCCUCACUGCCGUCGUUUGGUGGGACCUAGCAUCAGAGGGCCUUCGUUGGAGGUUUGGUGAGCCACUCAUCGCGGCAUGGUCGGAUCUACCUCGCAGCCUCAUCCGCCUGAAAGAUGGUCCACGCAACAAUGCCUGCAUGCUCCAGCAGGACUGUGUAAUUGAUAAUCGUAGCCCUCAUCUGAUCUGCCGAAUCUGCAUGGGUUGUAAAGGGACUCCUUUCGUCGGCGAUGGGAGGUCGAGUCAACAUGCGCAUGUUCUCAAUAGAAGUCUGGUCGCUGGUGUGACACUCAGGGGUCUCCAUGGGCUGCCCGGAUGCGGAAGCGUGUCGGCCAUAUGUGUUGAGCCAAGUUCACGUGCCGAAACAGACAUCAUCAAGUCUCCAACCCCAAUCUCCUGCAACGUGCAAUCCUUACAGCCGACGCACUUGAUUGGUGAUAUAGGGGAUUUAUACGCCAAAUUUGGCCGCGCUAUACAUAGUCAGAUCACACGCUCGUCCGAGCGUGACCGGGAAGGGACGGAGAGUCGCCGUACCGAAAUAUCACGGUACCUCUUAGUUGCCAUUAUGAUAAACACAGUCUUACGAGAACGUGGCGCAUUAGGACCGGAAAGUAAUGGCAUAGGUAUGCCACUCUUAAAUCACAUUGGGCGGUACUAUGCCAUUAUUGGCAUUGCAAGGAAUAACUUGGCAGAUUCUUACGCCAGGAAUUCCCCUGCCCGUGAUUUCCAGGUAAGACUACUAUGGACUCGCGGUGCAUGGGCUACAGGUUGGUUGGCCGCUUCACUCGUGCUUCCUAGUUCGGACUUUCGGCGAUACGGUAUCUUGUUUCAGAAGGGUUGCUUGUUUUCACCGAGAUCGUCCAGUUGUUCAAUUAGGAGUGUGGAUGCCGCCACCAACUUUGGGCCUACAAACCCUCUCUCCGUUUGUCGAACCCCGACGGUCGCUAAAGCCUGCGCCUAUGUUCCGGCAGCUCUCUUGAAUAGGAACAGUUGCUCAUCGGAGUCCGUUCUUCACAUGAGUCAGGAUGAUCAAGGCCUAGUACCGUACAGUACCGUUCUCGCGGAUUUGCGGUAUACCCCACGGCUACUGCAUGUUUUGUUGCAGCAUUUUAUUAAGGUGGCCUUGUCUCCGUCGCUGCUAAAACUGCGAGGCGCGAGUCCGUCAUACUCGCGAUUGCCGCCCAGGACUUACUGGCUUCUUCCUACGGCUAUCACUCUGAAUACUGGGUCACCGGCGCCUAAUGUGAGCAAUGUCCUUCGCGCAGAUGUCGAGAUUGGGGACCUCACGCUCGCUCCAGCGGACGAGACCCUGUAUCUGUCUAGCUACGGGACGUUGGUGAAAUGGCGCAUACUGCUUGCCGGAACGAUCCCCCGGACUAGGCAGCAACAUCAGUCAGACAGGUCACCUAACCUCAGUCUUUUGGAAGUGCUAGCAAGACUUUUAUGGAGACGGAUCAAUUCAAAGAGAAUGAUCCCUAGACCAGAACCCUGUGAGGGGUUCCUCCGGAUAAGAAAGGUGGGCGAAUCGCCCAGGGUGGGUCCAUGGCAAAGGGACCAGUACACUCUUGGGCACUAUAGUCUGAUUAGUAGCUACUUUUUAGACUCGCACGUGGCCGGUAACCCCAUCGGCGACCUUCGGGCCCAUGCUGAGUUCUGGAUACUCAAGGCCAGCCUAUUAGUGAUGGUGUUUCUCCUAUUGCGUCGUGCGGCAGUGAUUCUUACACUAGCUCGUGCUCGAGUCCUUCCAGUCCAGUGCGCGUUUUCGUACUUGGAGCCGCGAAUUCAUAGCUGUCUCACCUCUACUGUAGAUACAAUCUCCAUUCUAUGUAGCCAGAAACUACCGAGAAACCCUGCGAGGUGUGUCCCGUGUAUCCUCCCCAAGACGUGGAUGCAAAGAUUGAUUGAGCAGUCCCUUCGCGGUCGUAGGCCAAGGGUUCUGGAAAAGCGCAGGUCAGAGCUAGAGCAAAAAGGAUACCUCUCUGGUAGCAGAUCUAACCGUAAACUCUUACAACUCGCUCGUCGAACCAAAGCUAAUCCUGCUCCAGAUCCUGCCAAUAUGAAGUACUCUCCGAACCCCGAUCUAGCAAAGGGGUUAUUAGAACGCCAAGAGAGAUCUGUGAUGGCUUUAGCUUACACGGAACUGACGAAUGUCAUUGCCACAAACGCGCCAGAGUUCGAGCUGCCGGUUACGUGUCACCCGGUCGAUCCUCUUGGUAGCCCACUCUUGCGACCGGACGAUCUCAACCCGCGACCUCAAAACCCGCGUUCUAGCUACGCCAUGCACAAUCUAACACUUUCUAUCUUCCUAGGUGCGGUUUUCGAUCCAUGUACGGUAAGUGCAUUUAUGGGUCGUACAUCGGGACGAACCAUGCAGUGGUACACCGGACUAUUUGAUUAUAUGAGUGCGUAUGGGCAGGAUAGCAGUUCGAUUGCGUUGCAUAAAAGUCGCCAUCAAGCGAAAUAUCGGUCAGGGUUCCAUACCGAUUCCGCUGCCCGGAUAGCAGCGGUGCCCACCCGGAGCCGUGUAAACAGAAGACUGGGGUAUGAUUCAGCGAGCCAUACGUGCCACGACCACGAUCAGAUCCCGGAUAUCGUUGUUGGUACUGAAACUUAUUCAAAAAGCUCCAACACAGGCGCCGCCCAACUGUUUCGCUCGAGGAGACACAUGCAGAACAAACUAUUAUUUCAUGAGCUUAUAAGGUCUAGGGUGCCCCUUGACCUCUACAUAGUGCGAUCGUCACAGGAUCAGGCGUGGCCGCCUGUUCAGGAAACUUUUUGGGCAGAAUUGAGCCGCCGGGCGAAGGCGCUCCAUGCUUCACAUUCGUGCUCGCAAGAUACCUUGUCCUUAAAUAACGAAGGCCUUUGCGUCGACGUCCUCCGGGACCCCAUUGCUCUUGUUAGUAAUAAUUUCUGGUUUGAGUUUACGCACACAGGCCGCUUCGACUUGAAUAACGAAGUGGUUUCCGUAGGUCCAGUUCGGUCUUGUCUACGCCACCGCAUCUGUAGGGGCUUGGACGUUCUGAAGCCUGGUUUGUACGUUUGCGAAAGUGAUAUCUAUCCAACUACCAGUGAUUAUAUCCACGCAAGGCACCUGCUGACACCCGGCGGCUUCCAACCAGAGGUUUCAUGUUCGGCUAUUGUGUCUGUCCUCCGAGGACAGGCCACUGACAUGAACGAUGAUGUUGUAACACCUAGCCUACACAAUCAAGAUCGCUUCCGAAAAACGGCCGCCUCUUGUGAGACCACGGCGUGUGUUGGGUCCACCGUUGGCUGUCGCAUAGUGAACGGCGGGUCGCGUUCCAGAGUUUUAACAUGUGCACUCCCUGUCGCCCUCCUAACGUCGCAGCUUUACGGGCAUCCACAGAAAUCUAGGUACGGAGGAUUAACAACCCGGUGGUGCCACAUGUUGGAAGUGCUGUUUAAAAACCUUGAUUCGCCCUCUUGGGACUACUGUAGCGAGCUAUUCGGGGUUACGGUUUGCGGGGGAUACUCCUCAUUAAGUUCUGAUGGAACUUCUCGGACGGUCGAUUCACGGACAGCUGCCUGUCUCGGGGCAAGAGCGCACUAUCCAGAUUGUAUGCUUGGACGCAGCUCCAGCAAUGACUCCAGCUGUACCAGUCAGGACAAAGCUCUGAAGUACCCGGGCCUAAGUGGUCACCGCUUGCCGUUGGUCACUCCGGUUAUUGCGCUUAGGAGUUGUCCCGGUUUACUGCCUAUCCGGUGGCUAGACACAGGGUUCAGGUGUGAAUGCCAAUUGCGUCCGCGAGGUAACGUAGUAAAUCUCGGCUCCGCCGAUGCAUGUUCGUAUUCAGUCGGGUCUUUUCAAAACCGCCGAGGUAAUUGGACUUUCUUACCUGUCGCGAAUCGACUUAGUCGCGCAGACAAGUUGGCCGAGCGGCGCGUCAGUAAGACCCACACCGCAUUACGAGUGGGGACAGCGCCUAGAAUCCCAUUAGCGUAUGCGUGGGCAGGAGCAUUAUCUACGACUGAUGGCUCACACCGCCAACGCGUUACCGCUAUAACCAGCAACAUUAGCGCCCCAGCCGGGCUCCAGGCAACGGGUGCGGCACACUACCAUUGUCCGACACCCAGCGAUUCGACUGACCCCAUUGAGUCGCUCUUGCAGCGCAUGCUUCAUCUUCCUGAGGCAGUACGCAUACCCCGAGGCCUAUGGAUAUUGUAUUUAUACGUAGGAGGACCAAGUCUGGGGGGGAACUCGCUGGGUGACCGUGAUGGAGUAGCUAUCCUGUUCCUGUCAGUGUUGCGGGGAAACGUACUCAUAAGAUCCUUUCCCUUUAAGACAAGCGUGUACCGCGCGGGAGAUAGAAGGUGGCGCGACCACAGGCUAAACCAAACCAGGAUUUACAGGUUCUGCAGCGACAAUUGCCAGGCCGUCACCCAUCUCGAAACAAUCAUUCAUCGAAAAUUAGAUGCUUUACCUCUCGCGCCGACUAUGGGUCGAUUGUUGACUAAAGAGCGAAGAUCUGCCUUUGUAGGUAUAUAUGGAGACAGUCAACGGGUGAUGCCCUUCAUAAAAAUUGUGUUUGUGGGUAAGUACCCGGGCCAUGAACACCAUCCUCGGGGGACUAGACCGCAAAUCGUAGUAGUUGGCGACAUUCCAGUGGUCAUUCCCACAAAUGAAUAUCUUGCUGCCAGAACAACUCAGUCCUCACUGUACCUUCGUGUUGGAGCAGGACUAUCCCCUGAAUCAUACGUAAAUGACUCACUCACGCUAACUCCACUGUUGUGCGUCAAACAUAUUUCAUUGUCCGGUUUUGUAAGCGGACAGGUUAAAUUGCGAGCAGGGGCUUGCCUUACCCCGGUUAAUCAGCGUGUUUACAAAUCCAGCUGCAGGGGACGAAGACAAGGCCUACCUACACGGUUGGCUCUUCGAAUUUUUAUGCCGGCGGACACGUCACGAGGUCAGCGUCCAAUUCGUCAAGAAGUGCCCGUAGACACACUCCUUCGGUGUUAUACUUGGACCUGGCCGCACGACACAGUGGAAAGAGGAAGUACAAAGCACACGCAAUUAGUAAAAAUCCCUCCAAAUGCGCAGUUUAUGUCCCAAAGCUUGCCAGCGUUGAGGAUUCUCGGCCGGGAUUAUUCAUGCAUGCCAAAGCUGAUGACGCGGAUUGCAUUGCUGAUAUAUGGCCUUUCGACUACCAGCAUACUGUCUGACGGUCUAACUUCAAUAGAACGCCCGGGUGCUUCAUGUACCGCCCAGUCCGGAUCUCAGCCGUACGCUGUUCGACGCAGCGAUGCUAGGAGGGAGCGUCAUGAGCGAUUCUUAUUUCGAUACGUCGAGGCGCGACUCUUGCAAUUCAUGAAAGUAGUCUCCUGUAGUUACAUAAUUAAGGGAAUGGGGAUACCGAUUCGAGGUUUCUGGCAACACAAUCGAGAAUCUGUUUUUGGUGUUUUCGUCUCGUCUUUGGGUCUCUUAUGCAUCCUGCCCCUGCCUACCUCAAGCAUAUUUGAGUUUGGAGAGAAUACACUCCUUCCAUGCCUCCUAACUACUUUCAUCGAGCCCGUAGUUAACACUAUUUCCCUGGCCGACGACCAAGUCACUGGGGAGAAAAGAGAGAUAGAUCUGCACAGCAGUCUUGCAGAAGACCCGGGCGGUUACCUGCGAGCCUACACUAGUUGCGCUUCGGAAAGUGAGGUGCAGCGAGAUAGACCUGGCAGGCUCAAGAUUAGAGACCUCUUUACUGCUUUAGGGCUGACGUGUACGGCUCUGUCUCAGUUACCAGUAAGGUGUCUUCCUGCGGAAAGGCGACCAUCUCCAAGGUUAUGCAAGGAUUCACCGGUAUUGUGCUUAUUCCCGACUCACCGUAUCCAAGGAAGGUUCCCGCCCCCGGUGCAACUGAUGCCCGGAGUCAGGGCAGGGCUACUACACGGGGCAUGCGAUUUUUCGCUAGCGCAUUACCCAAUAGUUAUCUAUUCUUUUAUCGAGAACGCGCUACGUAGUUUCCGGUUAGUUUGGCGCCCGCUCCGCAGACGACGGAACCAAGUAUUACUUGAGAGGUCCCCUAAACAUCCCAGACGUUCCCUAAUCUUUCGGCUGGUGAGGCCUCCACGGCCUUCCUCUAGAGGAGCUCUCUAUAAUGCCGGGCGUUCGGGAUAUAGACUCCAUCGCGAUGAGCUGAAUCGUCUAUGGCCGCCGUCGCCAGCUAUUCUGAGCGCGUGCCAAAACGUUCCCCCGCGUAUUAAGCAGGGCUGCGAAGUUCGGGUGCGUGCAGGUGGGAGGACUGUGUGUGACUCGUGCGACCCAAUCCGGCGCGAAACUGUGCUUGCAGUUUUGUAUGAGUUUAGGAAACUAGGAAGGGCUAUAAUGGUCCCGCCAGAGUCUAUAAUCCCGCGGUUUUCCCGUUUAUGGAACUACGCGUCCAGCCUAAAACUCGCCCGAGUUCGACAGAUACCAUAUGGUCUAGAUCCCGGCGGACCUCUCAGCCUUGGAGGAUUGAGAGAGCCGCAACCUUCUAUCCACUAUUGGGAAAUGAUGUCUAGGUCUCCAAUCGUGACAUUUAGAGCCCUAACUCCAAGCGACGUAGGAUUGACAUAUAGAAUCUGCGUGGUAAAUACGAGGGUUAAAGUCAGUGCGCUAAAUGAGCCCCAAAGAUGGCAUCCGGCGACUGAACUCGAGCGGCGGAAGACGUAUCGUCAGAGGAUUUCCAGAAACCCUCUCUAUAUUCCGUCUAAAGUGCGGAGUCACAUAACGAAGACCGUACCUCUUGAUUGGUUGCCGCAUAACCUCAAAUUGAAUCUCACACGACAGAGAGUCGUGCAUGCGAGGGGGUUUAUAUCGGGAGCAACACAACGACGUGUGGAUCGGCGAGCCAAUAAAAUCUCGUCGUACCCCAGUAUAAUGCUGGAAAUGGCGACCGCGUGUUGUCGGUGGCUCAAACUCCACGUAAUGAAGCACUGUGUUGCCUCAGGGCAACGACGGUUUAUAUCUAUGGAGGGCCGUGUAUGCCGCGCUCUACGGCAUUCCUCAUCGAAUCCGGCUGAAACUAACAGCCUAUGGUUUUAUAGCCUUCCCCAUUUUCCAAGUCUUCAAAGUAUCAUUAGUUGUAGGGUGGACGAUGUCGUGACGUUUGUUGCUCAGCUUCUGGCAGAUAUACGCGGUUCAUACAAACUCAACGCUUGGGAAUUAGUUAGGUAUACGCAGAUCCUAUAUCGGCUUAUCAACCCUCGGUCCCCCCGCGCUAGUGAUAUUAUUAUGGGUACCCCUUUAAUUAAUUCCUUUAAGUGCGCCCAACAACCCUAUGAUAGCGAUACUAUCUCGGGUCCUAAAAAACCAGCUUGCGUCCUUAUCUUGUCACUAUCACCACUGUACGUGCCGGGUGCGGGGCUAUCUGUUAUACCCGACACAAACGUCCAGCACGAUAAUCCAAUCCAACCUGACCCUACGCGGACUGAAAUUGUUCUAUCGAAGACACUGCUUCAAGACCUGGUCUCAUCGCCGACGCGGGGUUUAGAAAGAACCACCUUUAAGCAGUGCAUCAAUACUACUUAUGUACUGGUCGUUACGGAUUUAAACACAAUCGUGGGGGGCCCGCCCGUGGGUACCUUCCCUGAGCCGCCUCGCUCGACUAAAUACAGGACCCGUGAGGGCCACGUUCUCAGCCUGUGCAAACAGCACGACUCCCUCCUUUAUACGCGGCGAACGAGCACGAGGGGCAUUUUUCCGUCGACCAUCAUGCAGUUACCGGGCAGGAAUGCUAGGCCCUCGGCAGACAUUCUGACGUCCGUACUCAACGCGACAAUUGUACAUAAUCAUCCGAUGUCAUUACUCAACUUUAAAAUGUGUUUCUUUCGAGCCCUCUGGUUAAAGGGUACCCCUUUCCGCCCUCAUUGGGCCCUCACGGUCCUGGGAGAACGCGUUGAGGGUAAGCGGUUCAAAUAUAAACCCCACUUUGGCUGCAGCAUAAGAGAACUAAUACUCCCAGCCGUUCUGCCCGACUAUGAACUGCUUACUUGCCACCUGGCCAUGUCUUACACCAGUUACAUGCUGGAUAUCGCAUAUAAGUCCGUACCCCGACGCUUCUGCACAGGUCCUCACAUUCGAGAACUCAAAGGAACGCCGCGUGUGGAUCGAGCCUGUCUCCGACGGCAAAAAAAUCGACGGUUUGUUACAUUAUGUGGAGUUGGUAAAUUUGACCAUCAGGCUUUCAAAAUCCUUGACCGCGGGGUGGAUUGCCUUGAGCUCGUUCAUCAAGUCUCCACAAGUUGGCUAGUACGUGGAGCUUGCCUACUUGCCGGUCUGUCGUUCAGAGAACCCGCGCUGCACCGGGGAUCCGAGGGCGACUCUUUAGAGUUGUAUCUUUCCACUCAAAGGUAUAGUAACCAUCCGAGUCCUUCACCAAGGAGCCCCGGUUCCAUGUAG', 3)))"
   ]
  },
  {
   "cell_type": "code",
   "execution_count": 58,
   "metadata": {},
   "outputs": [],
   "source": [
    "my_array = ['AUG', 'ACC', 'ACG', 'ACG', 'UCU', 'GCG', 'GUG', 'UCA', 'AUA', 'UCG', 'CAG', 'GAU', 'CAU', 'AGC', 'GUC', 'GAU', 'GUA', 'GGG', 'UUG', 'UUU', 'CCU', 'AAA', 'AUA', 'AAU', 'GGC', 'AGG', 'UAU', 'AGA', 'CAU', 'AUC', 'UGC', 'CCA', 'ACA', 'GGC', 'AUU', 'CAC', 'CGC', 'AGC', 'ACG', 'CCA', 'CGU', 'CGU', 'UUU', 'AAA', 'AAU', 'CCC', 'CUU', 'AAU', 'CUA', 'CCG', 'UCC', 'AUA', 'GUG', 'GAA', 'GGC', 'UGC', 'UUC', 'CAU', 'ACU', 'GAA', 'CCC', 'GGG', 'GAA', 'AUU', 'AAG', 'ACG', 'UCA', 'CUA', 'CAU', 'AUG', 'GUG', 'AAC', 'AGU', 'UAC', 'CCC', 'ACC', 'CCG', 'AUG', 'GUG', 'CCC', 'AAU', 'AAG', 'CAA', 'AUG', 'CAC', 'UAC', 'UUA', 'AGC', 'ACA', 'CUC', 'AUA', 'AUG', 'GCC', 'CUU', 'CUC', 'CGG', 'UUU', 'GCA', 'ACC', 'GGU', 'GGC', 'AAU', 'GUC', 'GGC', 'GCG', 'GUG', 'CCC', 'CUU', 'CCU', 'CUU', 'AAU', 'AUU', 'GAG', 'UGU', 'AUU', 'CCC', 'UUA', 'UUC', 'CAA', 'UGG', 'CCC', 'CUG', 'GAU', 'CUG', 'CGA', 'CUG', 'CUA', 'CCU', 'AUC', 'AAC', 'CCA', 'GAU', 'GAG', 'GUU', 'UUU', 'UCG', 'CCG', 'GAA', 'AGA', 'UUU', 'UAU', 'CCU', 'AAG', 'GUC', 'AGC', 'GCC', 'CUC', 'UGG', 'AGC', 'CAC', 'GAU', 'GAA', 'CUC', 'AUU', 'AAU', 'GGU', 'CGG', 'GAG', 'GAG', 'AAC', 'ACG', 'AUU', 'UAC', 'CCU', 'AAG', 'CGA', 'GCU', 'AUA', 'AUU', 'AUU', 'CAU', 'UGU', 'GGU', 'GAC', 'UAU', 'CCG', 'AGA', 'UGU', 'UAU', 'GUU', 'CAU', 'AUC', 'AUG', 'UUC', 'CCG', 'GGG', 'UUC', 'AGU', 'ACU', 'AGU', 'UAC', 'UGG', 'GAG', 'CUA', 'GGC', 'GAA', 'GGA', 'CUG', 'AGU', 'CAG', 'GUC', 'GUA', 'AGA', 'GAA', 'CAA', 'AUC', 'ACA', 'GUC', 'CAA', 'AAG', 'GUG', 'AUG', 'UAU', 'CAC', 'UCG', 'AUC', 'GUG', 'UGC', 'CGC', 'ACA', 'ACA', 'AUG', 'UUG', 'UCA', 'GUA', 'AGU', 'UCU', 'CUU', 'ACC', 'GGA', 'CUU', 'UUA', 'CAA', 'CAU', 'AAC', 'UGU', 'AGC', 'UUG', 'AAA', 'CGU', 'ACC', 'AAC', 'GAC', 'CAC', 'CAU', 'AUU', 'CAG', 'UAC', 'AAA', 'CGG', 'AAG', 'GUC', 'ACC', 'AGU', 'GUA', 'CUA', 'GAC', 'CUG', 'ACC', 'CCC', 'AGU', 'AUG', 'GCU', 'UUG', 'UUG', 'UAU', 'AAU', 'GAA', 'GAU', 'UAU', 'AAG', 'UUG', 'GCC', 'CAC', 'GUU', 'UCG', 'CGU', 'GUA', 'UGG', 'CAU', 'AAG', 'CAA', 'ACU', 'UCA', 'ACG', 'UUC', 'CAC', 'CAC', 'AGC', 'GUU', 'AGU', 'ACA', 'UUG', 'CUU', 'GUG', 'GAG', 'UCA', 'ACA', 'UUC', 'CCG', 'AAC', 'UGU', 'GUC', 'CAU', 'CUG', 'UUG', 'AAA', 'AGU', 'UAU', 'AGA', 'CCA', 'AGG', 'CCC', 'UGG', 'UUC', 'UCA', 'UAC', 'CGU', 'GAA', 'CAU', 'GUU', 'CAU', 'GCC', 'UUU', 'GCC', 'GUG', 'UUC', 'ACA', 'AAU', 'ACG', 'GCA', 'AGG', 'AAG', 'AAG', 'AUU', 'GAU', 'GGC', 'GUC', 'CGU', 'CUC', 'AAC', 'GCC', 'UCC', 'CGA', 'CAG', 'CCU', 'GGC', 'GGU', 'CGC', 'ACC', 'CGG', 'UCC', 'GAA', 'CGU', 'GGG', 'UAU', 'UCG', 'UUU', 'UCG', 'GCA', 'CGG', 'CGA', 'GUG', 'GAA', 'AAA', 'GAU', 'CAA', 'ACA', 'AUU', 'GUG', 'CUU', 'AGA', 'CCU', 'CAU', 'AAC', 'CUU', 'GCU', 'UUC', 'GCU', 'GAU', 'ACU', 'AGC', 'ACA', 'AUU', 'GGC', 'CCA', 'CAG', 'CAA', 'AAA', 'GCA', 'ACU', 'UUG', 'CAG', 'CUU', 'UCA', 'CUC', 'GAG', 'AAU', 'GAA', 'CGU', 'CAC', 'GAA', 'CGG', 'AUG', 'AGC', 'UUU', 'AAG', 'AUU', 'GCC', 'CUC', 'ACU', 'GCC', 'GUC', 'GUU', 'UGG', 'UGG', 'GAC', 'CUA', 'GCA', 'UCA', 'GAG', 'GGC', 'CUU', 'CGU', 'UGG', 'AGG', 'UUU', 'GGU', 'GAG', 'CCA', 'CUC', 'AUC', 'GCG', 'GCA', 'UGG', 'UCG', 'GAU', 'CUA', 'CCU', 'CGC', 'AGC', 'CUC', 'AUC', 'CGC', 'CUG', 'AAA', 'GAU', 'GGU', 'CCA', 'CGC', 'AAC', 'AAU', 'GCC', 'UGC', 'AUG', 'CUC', 'CAG', 'CAG', 'GAC', 'UGU', 'GUA', 'AUU', 'GAU', 'AAU', 'CGU', 'AGC', 'CCU', 'CAU', 'CUG', 'AUC', 'UGC', 'CGA', 'AUC', 'UGC', 'AUG', 'GGU', 'UGU', 'AAA', 'GGG', 'ACU', 'CCU', 'UUC', 'GUC', 'GGC', 'GAU', 'GGG', 'AGG', 'UCG', 'AGU', 'CAA', 'CAU', 'GCG', 'CAU', 'GUU', 'CUC', 'AAU', 'AGA', 'AGU', 'CUG', 'GUC', 'GCU', 'GGU', 'GUG', 'ACA', 'CUC', 'AGG', 'GGU', 'CUC', 'CAU', 'GGG', 'CUG', 'CCC', 'GGA', 'UGC', 'GGA', 'AGC', 'GUG', 'UCG', 'GCC', 'AUA', 'UGU', 'GUU', 'GAG', 'CCA', 'AGU', 'UCA', 'CGU', 'GCC', 'GAA', 'ACA', 'GAC', 'AUC', 'AUC', 'AAG', 'UCU', 'CCA', 'ACC', 'CCA', 'AUC', 'UCC', 'UGC', 'AAC', 'GUG', 'CAA', 'UCC', 'UUA', 'CAG', 'CCG', 'ACG', 'CAC', 'UUG', 'AUU', 'GGU', 'GAU', 'AUA', 'GGG', 'GAU', 'UUA', 'UAC', 'GCC', 'AAA', 'UUU', 'GGC', 'CGC', 'GCU', 'AUA', 'CAU', 'AGU', 'CAG', 'AUC', 'ACA', 'CGC', 'UCG', 'UCC', 'GAG', 'CGU', 'GAC', 'CGG', 'GAA', 'GGG', 'ACG', 'GAG', 'AGU', 'CGC', 'CGU', 'ACC', 'GAA', 'AUA', 'UCA', 'CGG', 'UAC', 'CUC', 'UUA', 'GUU', 'GCC', 'AUU', 'AUG', 'AUA', 'AAC', 'ACA', 'GUC', 'UUA', 'CGA', 'GAA', 'CGU', 'GGC', 'GCA', 'UUA', 'GGA', 'CCG', 'GAA', 'AGU', 'AAU', 'GGC', 'AUA', 'GGU', 'AUG', 'CCA', 'CUC', 'UUA', 'AAU', 'CAC', 'AUU', 'GGG', 'CGG', 'UAC', 'UAU', 'GCC', 'AUU', 'AUU', 'GGC', 'AUU', 'GCA', 'AGG', 'AAU', 'AAC', 'UUG', 'GCA', 'GAU', 'UCU', 'UAC', 'GCC', 'AGG', 'AAU', 'UCC', 'CCU', 'GCC', 'CGU', 'GAU', 'UUC', 'CAG', 'GUA', 'AGA', 'CUA', 'CUA', 'UGG', 'ACU', 'CGC', 'GGU', 'GCA', 'UGG', 'GCU', 'ACA', 'GGU', 'UGG', 'UUG', 'GCC', 'GCU', 'UCA', 'CUC', 'GUG', 'CUU', 'CCU', 'AGU', 'UCG', 'GAC', 'UUU', 'CGG', 'CGA', 'UAC', 'GGU', 'AUC', 'UUG', 'UUU', 'CAG', 'AAG', 'GGU', 'UGC', 'UUG', 'UUU', 'UCA', 'CCG', 'AGA', 'UCG', 'UCC', 'AGU', 'UGU', 'UCA', 'AUU', 'AGG', 'AGU', 'GUG', 'GAU', 'GCC', 'GCC', 'ACC', 'AAC', 'UUU', 'GGG', 'CCU', 'ACA', 'AAC', 'CCU', 'CUC', 'UCC', 'GUU', 'UGU', 'CGA', 'ACC', 'CCG', 'ACG', 'GUC', 'GCU', 'AAA', 'GCC', 'UGC', 'GCC', 'UAU', 'GUU', 'CCG', 'GCA', 'GCU', 'CUC', 'UUG', 'AAU', 'AGG', 'AAC', 'AGU', 'UGC', 'UCA', 'UCG', 'GAG', 'UCC', 'GUU', 'CUU', 'CAC', 'AUG', 'AGU', 'CAG', 'GAU', 'GAU', 'CAA', 'GGC', 'CUA', 'GUA', 'CCG', 'UAC', 'AGU', 'ACC', 'GUU', 'CUC', 'GCG', 'GAU', 'UUG', 'CGG', 'UAU', 'ACC', 'CCA', 'CGG', 'CUA', 'CUG', 'CAU', 'GUU', 'UUG', 'UUG', 'CAG', 'CAU', 'UUU', 'AUU', 'AAG', 'GUG', 'GCC', 'UUG', 'UCU', 'CCG', 'UCG', 'CUG', 'CUA', 'AAA', 'CUG', 'CGA', 'GGC', 'GCG', 'AGU', 'CCG', 'UCA', 'UAC', 'UCG', 'CGA', 'UUG', 'CCG', 'CCC', 'AGG', 'ACU', 'UAC', 'UGG', 'CUU', 'CUU', 'CCU', 'ACG', 'GCU', 'AUC', 'ACU', 'CUG', 'AAU', 'ACU', 'GGG', 'UCA', 'CCG', 'GCG', 'CCU', 'AAU', 'GUG', 'AGC', 'AAU', 'GUC', 'CUU', 'CGC', 'GCA', 'GAU', 'GUC', 'GAG', 'AUU', 'GGG', 'GAC', 'CUC', 'ACG', 'CUC', 'GCU', 'CCA', 'GCG', 'GAC', 'GAG', 'ACC', 'CUG', 'UAU', 'CUG', 'UCU', 'AGC', 'UAC', 'GGG', 'ACG', 'UUG', 'GUG', 'AAA', 'UGG', 'CGC', 'AUA', 'CUG', 'CUU', 'GCC', 'GGA', 'ACG', 'AUC', 'CCC', 'CGG', 'ACU', 'AGG', 'CAG', 'CAA', 'CAU', 'CAG', 'UCA', 'GAC', 'AGG', 'UCA', 'CCU', 'AAC', 'CUC', 'AGU', 'CUU', 'UUG', 'GAA', 'GUG', 'CUA', 'GCA', 'AGA', 'CUU', 'UUA', 'UGG', 'AGA', 'CGG', 'AUC', 'AAU', 'UCA', 'AAG', 'AGA', 'AUG', 'AUC', 'CCU', 'AGA', 'CCA', 'GAA', 'CCC', 'UGU', 'GAG', 'GGG', 'UUC', 'CUC', 'CGG', 'AUA', 'AGA', 'AAG', 'GUG', 'GGC', 'GAA', 'UCG', 'CCC', 'AGG', 'GUG', 'GGU', 'CCA', 'UGG', 'CAA', 'AGG', 'GAC', 'CAG', 'UAC', 'ACU', 'CUU', 'GGG', 'CAC', 'UAU', 'AGU', 'CUG', 'AUU', 'AGU', 'AGC', 'UAC', 'UUU', 'UUA', 'GAC', 'UCG', 'CAC', 'GUG', 'GCC', 'GGU', 'AAC', 'CCC', 'AUC', 'GGC', 'GAC', 'CUU', 'CGG', 'GCC', 'CAU', 'GCU', 'GAG', 'UUC', 'UGG', 'AUA', 'CUC', 'AAG', 'GCC', 'AGC', 'CUA', 'UUA', 'GUG', 'AUG', 'GUG', 'UUU', 'CUC', 'CUA', 'UUG', 'CGU', 'CGU', 'GCG', 'GCA', 'GUG', 'AUU', 'CUU', 'ACA', 'CUA', 'GCU', 'CGU', 'GCU', 'CGA', 'GUC', 'CUU', 'CCA', 'GUC', 'CAG', 'UGC', 'GCG', 'UUU', 'UCG', 'UAC', 'UUG', 'GAG', 'CCG', 'CGA', 'AUU', 'CAU', 'AGC', 'UGU', 'CUC', 'ACC', 'UCU', 'ACU', 'GUA', 'GAU', 'ACA', 'AUC', 'UCC', 'AUU', 'CUA', 'UGU', 'AGC', 'CAG', 'AAA', 'CUA', 'CCG', 'AGA', 'AAC', 'CCU', 'GCG', 'AGG', 'UGU', 'GUC', 'CCG', 'UGU', 'AUC', 'CUC', 'CCC', 'AAG', 'ACG', 'UGG', 'AUG', 'CAA', 'AGA', 'UUG', 'AUU', 'GAG', 'CAG', 'UCC', 'CUU', 'CGC', 'GGU', 'CGU', 'AGG', 'CCA', 'AGG', 'GUU', 'CUG', 'GAA', 'AAG', 'CGC', 'AGG', 'UCA', 'GAG', 'CUA', 'GAG', 'CAA', 'AAA', 'GGA', 'UAC', 'CUC', 'UCU', 'GGU', 'AGC', 'AGA', 'UCU', 'AAC', 'CGU', 'AAA', 'CUC', 'UUA', 'CAA', 'CUC', 'GCU', 'CGU', 'CGA', 'ACC', 'AAA', 'GCU', 'AAU', 'CCU', 'GCU', 'CCA', 'GAU', 'CCU', 'GCC', 'AAU', 'AUG', 'AAG', 'UAC', 'UCU', 'CCG', 'AAC', 'CCC', 'GAU', 'CUA', 'GCA', 'AAG', 'GGG', 'UUA', 'UUA', 'GAA', 'CGC', 'CAA', 'GAG', 'AGA', 'UCU', 'GUG', 'AUG', 'GCU', 'UUA', 'GCU', 'UAC', 'ACG', 'GAA', 'CUG', 'ACG', 'AAU', 'GUC', 'AUU', 'GCC', 'ACA', 'AAC', 'GCG', 'CCA', 'GAG', 'UUC', 'GAG', 'CUG', 'CCG', 'GUU', 'ACG', 'UGU', 'CAC', 'CCG', 'GUC', 'GAU', 'CCU', 'CUU', 'GGU', 'AGC', 'CCA', 'CUC', 'UUG', 'CGA', 'CCG', 'GAC', 'GAU', 'CUC', 'AAC', 'CCG', 'CGA', 'CCU', 'CAA', 'AAC', 'CCG', 'CGU', 'UCU', 'AGC', 'UAC', 'GCC', 'AUG', 'CAC', 'AAU', 'CUA', 'ACA', 'CUU', 'UCU', 'AUC', 'UUC', 'CUA', 'GGU', 'GCG', 'GUU', 'UUC', 'GAU', 'CCA', 'UGU', 'ACG', 'GUA', 'AGU', 'GCA', 'UUU', 'AUG', 'GGU', 'CGU', 'ACA', 'UCG', 'GGA', 'CGA', 'ACC', 'AUG', 'CAG', 'UGG', 'UAC', 'ACC', 'GGA', 'CUA', 'UUU', 'GAU', 'UAU', 'AUG', 'AGU', 'GCG', 'UAU', 'GGG', 'CAG', 'GAU', 'AGC', 'AGU', 'UCG', 'AUU', 'GCG', 'UUG', 'CAU', 'AAA', 'AGU', 'CGC', 'CAU', 'CAA', 'GCG', 'AAA', 'UAU', 'CGG', 'UCA', 'GGG', 'UUC', 'CAU', 'ACC', 'GAU', 'UCC', 'GCU', 'GCC', 'CGG', 'AUA', 'GCA', 'GCG', 'GUG', 'CCC', 'ACC', 'CGG', 'AGC', 'CGU', 'GUA', 'AAC', 'AGA', 'AGA', 'CUG', 'GGG', 'UAU', 'GAU', 'UCA', 'GCG', 'AGC', 'CAU', 'ACG', 'UGC', 'CAC', 'GAC', 'CAC', 'GAU', 'CAG', 'AUC', 'CCG', 'GAU', 'AUC', 'GUU', 'GUU', 'GGU', 'ACU', 'GAA', 'ACU', 'UAU', 'UCA', 'AAA', 'AGC', 'UCC', 'AAC', 'ACA', 'GGC', 'GCC', 'GCC', 'CAA', 'CUG', 'UUU', 'CGC', 'UCG', 'AGG', 'AGA', 'CAC', 'AUG', 'CAG', 'AAC', 'AAA', 'CUA', 'UUA', 'UUU', 'CAU', 'GAG', 'CUU', 'AUA', 'AGG', 'UCU', 'AGG', 'GUG', 'CCC', 'CUU', 'GAC', 'CUC', 'UAC', 'AUA', 'GUG', 'CGA', 'UCG', 'UCA', 'CAG', 'GAU', 'CAG', 'GCG', 'UGG', 'CCG', 'CCU', 'GUU', 'CAG', 'GAA', 'ACU', 'UUU', 'UGG', 'GCA', 'GAA', 'UUG', 'AGC', 'CGC', 'CGG', 'GCG', 'AAG', 'GCG', 'CUC', 'CAU', 'GCU', 'UCA', 'CAU', 'UCG', 'UGC', 'UCG', 'CAA', 'GAU', 'ACC', 'UUG', 'UCC', 'UUA', 'AAU', 'AAC', 'GAA', 'GGC', 'CUU', 'UGC', 'GUC', 'GAC', 'GUC', 'CUC', 'CGG', 'GAC', 'CCC', 'AUU', 'GCU', 'CUU', 'GUU', 'AGU', 'AAU', 'AAU', 'UUC', 'UGG', 'UUU', 'GAG', 'UUU', 'ACG', 'CAC', 'ACA', 'GGC', 'CGC', 'UUC', 'GAC', 'UUG', 'AAU', 'AAC', 'GAA', 'GUG', 'GUU', 'UCC', 'GUA', 'GGU', 'CCA', 'GUU', 'CGG', 'UCU', 'UGU', 'CUA', 'CGC', 'CAC', 'CGC', 'AUC', 'UGU', 'AGG', 'GGC', 'UUG', 'GAC', 'GUU', 'CUG', 'AAG', 'CCU', 'GGU', 'UUG', 'UAC', 'GUU', 'UGC', 'GAA', 'AGU', 'GAU', 'AUC', 'UAU', 'CCA', 'ACU', 'ACC', 'AGU', 'GAU', 'UAU', 'AUC', 'CAC', 'GCA', 'AGG', 'CAC', 'CUG', 'CUG', 'ACA', 'CCC', 'GGC', 'GGC', 'UUC', 'CAA', 'CCA', 'GAG', 'GUU', 'UCA', 'UGU', 'UCG', 'GCU', 'AUU', 'GUG', 'UCU', 'GUC', 'CUC', 'CGA', 'GGA', 'CAG', 'GCC', 'ACU', 'GAC', 'AUG', 'AAC', 'GAU', 'GAU', 'GUU', 'GUA', 'ACA', 'CCU', 'AGC', 'CUA', 'CAC', 'AAU', 'CAA', 'GAU', 'CGC', 'UUC', 'CGA', 'AAA', 'ACG', 'GCC', 'GCC', 'UCU', 'UGU', 'GAG', 'ACC', 'ACG', 'GCG', 'UGU', 'GUU', 'GGG', 'UCC', 'ACC', 'GUU', 'GGC', 'UGU', 'CGC', 'AUA', 'GUG', 'AAC', 'GGC', 'GGG', 'UCG', 'CGU', 'UCC', 'AGA', 'GUU', 'UUA', 'ACA', 'UGU', 'GCA', 'CUC', 'CCU', 'GUC', 'GCC', 'CUC', 'CUA', 'ACG', 'UCG', 'CAG', 'CUU', 'UAC', 'GGG', 'CAU', 'CCA', 'CAG', 'AAA', 'UCU', 'AGG', 'UAC', 'GGA', 'GGA', 'UUA', 'ACA', 'ACC', 'CGG', 'UGG', 'UGC', 'CAC', 'AUG', 'UUG', 'GAA', 'GUG', 'CUG', 'UUU', 'AAA', 'AAC', 'CUU', 'GAU', 'UCG', 'CCC', 'UCU', 'UGG', 'GAC', 'UAC', 'UGU', 'AGC', 'GAG', 'CUA', 'UUC', 'GGG', 'GUU', 'ACG', 'GUU', 'UGC', 'GGG', 'GGA', 'UAC', 'UCC', 'UCA', 'UUA', 'AGU', 'UCU', 'GAU', 'GGA', 'ACU', 'UCU', 'CGG', 'ACG', 'GUC', 'GAU', 'UCA', 'CGG', 'ACA', 'GCU', 'GCC', 'UGU', 'CUC', 'GGG', 'GCA', 'AGA', 'GCG', 'CAC', 'UAU', 'CCA', 'GAU', 'UGU', 'AUG', 'CUU', 'GGA', 'CGC', 'AGC', 'UCC', 'AGC', 'AAU', 'GAC', 'UCC', 'AGC', 'UGU', 'ACC', 'AGU', 'CAG', 'GAC', 'AAA', 'GCU', 'CUG', 'AAG', 'UAC', 'CCG', 'GGC', 'CUA', 'AGU', 'GGU', 'CAC', 'CGC', 'UUG', 'CCG', 'UUG', 'GUC', 'ACU', 'CCG', 'GUU', 'AUU', 'GCG', 'CUU', 'AGG', 'AGU', 'UGU', 'CCC', 'GGU', 'UUA', 'CUG', 'CCU', 'AUC', 'CGG', 'UGG', 'CUA', 'GAC', 'ACA', 'GGG', 'UUC', 'AGG', 'UGU', 'GAA', 'UGC', 'CAA', 'UUG', 'CGU', 'CCG', 'CGA', 'GGU', 'AAC', 'GUA', 'GUA', 'AAU', 'CUC', 'GGC', 'UCC', 'GCC', 'GAU', 'GCA', 'UGU', 'UCG', 'UAU', 'UCA', 'GUC', 'GGG', 'UCU', 'UUU', 'CAA', 'AAC', 'CGC', 'CGA', 'GGU', 'AAU', 'UGG', 'ACU', 'UUC', 'UUA', 'CCU', 'GUC', 'GCG', 'AAU', 'CGA', 'CUU', 'AGU', 'CGC', 'GCA', 'GAC', 'AAG', 'UUG', 'GCC', 'GAG', 'CGG', 'CGC', 'GUC', 'AGU', 'AAG', 'ACC', 'CAC', 'ACC', 'GCA', 'UUA', 'CGA', 'GUG', 'GGG', 'ACA', 'GCG', 'CCU', 'AGA', 'AUC', 'CCA', 'UUA', 'GCG', 'UAU', 'GCG', 'UGG', 'GCA', 'GGA', 'GCA', 'UUA', 'UCU', 'ACG', 'ACU', 'GAU', 'GGC', 'UCA', 'CAC', 'CGC', 'CAA', 'CGC', 'GUU', 'ACC', 'GCU', 'AUA', 'ACC', 'AGC', 'AAC', 'AUU', 'AGC', 'GCC', 'CCA', 'GCC', 'GGG', 'CUC', 'CAG', 'GCA', 'ACG', 'GGU', 'GCG', 'GCA', 'CAC', 'UAC', 'CAU', 'UGU', 'CCG', 'ACA', 'CCC', 'AGC', 'GAU', 'UCG', 'ACU', 'GAC', 'CCC', 'AUU', 'GAG', 'UCG', 'CUC', 'UUG', 'CAG', 'CGC', 'AUG', 'CUU', 'CAU', 'CUU', 'CCU', 'GAG', 'GCA', 'GUA', 'CGC', 'AUA', 'CCC', 'CGA', 'GGC', 'CUA', 'UGG', 'AUA', 'UUG', 'UAU', 'UUA', 'UAC', 'GUA', 'GGA', 'GGA', 'CCA', 'AGU', 'CUG', 'GGG', 'GGG', 'AAC', 'UCG', 'CUG', 'GGU', 'GAC', 'CGU', 'GAU', 'GGA', 'GUA', 'GCU', 'AUC', 'CUG', 'UUC', 'CUG', 'UCA', 'GUG', 'UUG', 'CGG', 'GGA', 'AAC', 'GUA', 'CUC', 'AUA', 'AGA', 'UCC', 'UUU', 'CCC', 'UUU', 'AAG', 'ACA', 'AGC', 'GUG', 'UAC', 'CGC', 'GCG', 'GGA', 'GAU', 'AGA', 'AGG', 'UGG', 'CGC', 'GAC', 'CAC', 'AGG', 'CUA', 'AAC', 'CAA', 'ACC', 'AGG', 'AUU', 'UAC', 'AGG', 'UUC', 'UGC', 'AGC', 'GAC', 'AAU', 'UGC', 'CAG', 'GCC', 'GUC', 'ACC', 'CAU', 'CUC', 'GAA', 'ACA', 'AUC', 'AUU', 'CAU', 'CGA', 'AAA', 'UUA', 'GAU', 'GCU', 'UUA', 'CCU', 'CUC', 'GCG', 'CCG', 'ACU', 'AUG', 'GGU', 'CGA', 'UUG', 'UUG', 'ACU', 'AAA', 'GAG', 'CGA', 'AGA', 'UCU', 'GCC', 'UUU', 'GUA', 'GGU', 'AUA', 'UAU', 'GGA', 'GAC', 'AGU', 'CAA', 'CGG', 'GUG', 'AUG', 'CCC', 'UUC', 'AUA', 'AAA', 'AUU', 'GUG', 'UUU', 'GUG', 'GGU', 'AAG', 'UAC', 'CCG', 'GGC', 'CAU', 'GAA', 'CAC', 'CAU', 'CCU', 'CGG', 'GGG', 'ACU', 'AGA', 'CCG', 'CAA', 'AUC', 'GUA', 'GUA', 'GUU', 'GGC', 'GAC', 'AUU', 'CCA', 'GUG', 'GUC', 'AUU', 'CCC', 'ACA', 'AAU', 'GAA', 'UAU', 'CUU', 'GCU', 'GCC', 'AGA', 'ACA', 'ACU', 'CAG', 'UCC', 'UCA', 'CUG', 'UAC', 'CUU', 'CGU', 'GUU', 'GGA', 'GCA', 'GGA', 'CUA', 'UCC', 'CCU', 'GAA', 'UCA', 'UAC', 'GUA', 'AAU', 'GAC', 'UCA', 'CUC', 'ACG', 'CUA', 'ACU', 'CCA', 'CUG', 'UUG', 'UGC', 'GUC', 'AAA', 'CAU', 'AUU', 'UCA', 'UUG', 'UCC', 'GGU', 'UUU', 'GUA', 'AGC', 'GGA', 'CAG', 'GUU', 'AAA', 'UUG', 'CGA', 'GCA', 'GGG', 'GCU', 'UGC', 'CUU', 'ACC', 'CCG', 'GUU', 'AAU', 'CAG', 'CGU', 'GUU', 'UAC', 'AAA', 'UCC', 'AGC', 'UGC', 'AGG', 'GGA', 'CGA', 'AGA', 'CAA', 'GGC', 'CUA', 'CCU', 'ACA', 'CGG', 'UUG', 'GCU', 'CUU', 'CGA', 'AUU', 'UUU', 'AUG', 'CCG', 'GCG', 'GAC', 'ACG', 'UCA', 'CGA', 'GGU', 'CAG', 'CGU', 'CCA', 'AUU', 'CGU', 'CAA', 'GAA', 'GUG', 'CCC', 'GUA', 'GAC', 'ACA', 'CUC', 'CUU', 'CGG', 'UGU', 'UAU', 'ACU', 'UGG', 'ACC', 'UGG', 'CCG', 'CAC', 'GAC', 'ACA', 'GUG', 'GAA', 'AGA', 'GGA', 'AGU', 'ACA', 'AAG', 'CAC', 'ACG', 'CAA', 'UUA', 'GUA', 'AAA', 'AUC', 'CCU', 'CCA', 'AAU', 'GCG', 'CAG', 'UUU', 'AUG', 'UCC', 'CAA', 'AGC', 'UUG', 'CCA', 'GCG', 'UUG', 'AGG', 'AUU', 'CUC', 'GGC', 'CGG', 'GAU', 'UAU', 'UCA', 'UGC', 'AUG', 'CCA', 'AAG', 'CUG', 'AUG', 'ACG', 'CGG', 'AUU', 'GCA', 'UUG', 'CUG', 'AUA', 'UAU', 'GGC', 'CUU', 'UCG', 'ACU', 'ACC', 'AGC', 'AUA', 'CUG', 'UCU', 'GAC', 'GGU', 'CUA', 'ACU', 'UCA', 'AUA', 'GAA', 'CGC', 'CCG', 'GGU', 'GCU', 'UCA', 'UGU', 'ACC', 'GCC', 'CAG', 'UCC', 'GGA', 'UCU', 'CAG', 'CCG', 'UAC', 'GCU', 'GUU', 'CGA', 'CGC', 'AGC', 'GAU', 'GCU', 'AGG', 'AGG', 'GAG', 'CGU', 'CAU', 'GAG', 'CGA', 'UUC', 'UUA', 'UUU', 'CGA', 'UAC', 'GUC', 'GAG', 'GCG', 'CGA', 'CUC', 'UUG', 'CAA', 'UUC', 'AUG', 'AAA', 'GUA', 'GUC', 'UCC', 'UGU', 'AGU', 'UAC', 'AUA', 'AUU', 'AAG', 'GGA', 'AUG', 'GGG', 'AUA', 'CCG', 'AUU', 'CGA', 'GGU', 'UUC', 'UGG', 'CAA', 'CAC', 'AAU', 'CGA', 'GAA', 'UCU', 'GUU', 'UUU', 'GGU', 'GUU', 'UUC', 'GUC', 'UCG', 'UCU', 'UUG', 'GGU', 'CUC', 'UUA', 'UGC', 'AUC', 'CUG', 'CCC', 'CUG', 'CCU', 'ACC', 'UCA', 'AGC', 'AUA', 'UUU', 'GAG', 'UUU', 'GGA', 'GAG', 'AAU', 'ACA', 'CUC', 'CUU', 'CCA', 'UGC', 'CUC', 'CUA', 'ACU', 'ACU', 'UUC', 'AUC', 'GAG', 'CCC', 'GUA', 'GUU', 'AAC', 'ACU', 'AUU', 'UCC', 'CUG', 'GCC', 'GAC', 'GAC', 'CAA', 'GUC', 'ACU', 'GGG', 'GAG', 'AAA', 'AGA', 'GAG', 'AUA', 'GAU', 'CUG', 'CAC', 'AGC', 'AGU', 'CUU', 'GCA', 'GAA', 'GAC', 'CCG', 'GGC', 'GGU', 'UAC', 'CUG', 'CGA', 'GCC', 'UAC', 'ACU', 'AGU', 'UGC', 'GCU', 'UCG', 'GAA', 'AGU', 'GAG', 'GUG', 'CAG', 'CGA', 'GAU', 'AGA', 'CCU', 'GGC', 'AGG', 'CUC', 'AAG', 'AUU', 'AGA', 'GAC', 'CUC', 'UUU', 'ACU', 'GCU', 'UUA', 'GGG', 'CUG', 'ACG', 'UGU', 'ACG', 'GCU', 'CUG', 'UCU', 'CAG', 'UUA', 'CCA', 'GUA', 'AGG', 'UGU', 'CUU', 'CCU', 'GCG', 'GAA', 'AGG', 'CGA', 'CCA', 'UCU', 'CCA', 'AGG', 'UUA', 'UGC', 'AAG', 'GAU', 'UCA', 'CCG', 'GUA', 'UUG', 'UGC', 'UUA', 'UUC', 'CCG', 'ACU', 'CAC', 'CGU', 'AUC', 'CAA', 'GGA', 'AGG', 'UUC', 'CCG', 'CCC', 'CCG', 'GUG', 'CAA', 'CUG', 'AUG', 'CCC', 'GGA', 'GUC', 'AGG', 'GCA', 'GGG', 'CUA', 'CUA', 'CAC', 'GGG', 'GCA', 'UGC', 'GAU', 'UUU', 'UCG', 'CUA', 'GCG', 'CAU', 'UAC', 'CCA', 'AUA', 'GUU', 'AUC', 'UAU', 'UCU', 'UUU', 'AUC', 'GAG', 'AAC', 'GCG', 'CUA', 'CGU', 'AGU', 'UUC', 'CGG', 'UUA', 'GUU', 'UGG', 'CGC', 'CCG', 'CUC', 'CGC', 'AGA', 'CGA', 'CGG', 'AAC', 'CAA', 'GUA', 'UUA', 'CUU', 'GAG', 'AGG', 'UCC', 'CCU', 'AAA', 'CAU', 'CCC', 'AGA', 'CGU', 'UCC', 'CUA', 'AUC', 'UUU', 'CGG', 'CUG', 'GUG', 'AGG', 'CCU', 'CCA', 'CGG', 'CCU', 'UCC', 'UCU', 'AGA', 'GGA', 'GCU', 'CUC', 'UAU', 'AAU', 'GCC', 'GGG', 'CGU', 'UCG', 'GGA', 'UAU', 'AGA', 'CUC', 'CAU', 'CGC', 'GAU', 'GAG', 'CUG', 'AAU', 'CGU', 'CUA', 'UGG', 'CCG', 'CCG', 'UCG', 'CCA', 'GCU', 'AUU', 'CUG', 'AGC', 'GCG', 'UGC', 'CAA', 'AAC', 'GUU', 'CCC', 'CCG', 'CGU', 'AUU', 'AAG', 'CAG', 'GGC', 'UGC', 'GAA', 'GUU', 'CGG', 'GUG', 'CGU', 'GCA', 'GGU', 'GGG', 'AGG', 'ACU', 'GUG', 'UGU', 'GAC', 'UCG', 'UGC', 'GAC', 'CCA', 'AUC', 'CGG', 'CGC', 'GAA', 'ACU', 'GUG', 'CUU', 'GCA', 'GUU', 'UUG', 'UAU', 'GAG', 'UUU', 'AGG', 'AAA', 'CUA', 'GGA', 'AGG', 'GCU', 'AUA', 'AUG', 'GUC', 'CCG', 'CCA', 'GAG', 'UCU', 'AUA', 'AUC', 'CCG', 'CGG', 'UUU', 'UCC', 'CGU', 'UUA', 'UGG', 'AAC', 'UAC', 'GCG', 'UCC', 'AGC', 'CUA', 'AAA', 'CUC', 'GCC', 'CGA', 'GUU', 'CGA', 'CAG', 'AUA', 'CCA', 'UAU', 'GGU', 'CUA', 'GAU', 'CCC', 'GGC', 'GGA', 'CCU', 'CUC', 'AGC', 'CUU', 'GGA', 'GGA', 'UUG', 'AGA', 'GAG', 'CCG', 'CAA', 'CCU', 'UCU', 'AUC', 'CAC', 'UAU', 'UGG', 'GAA', 'AUG', 'AUG', 'UCU', 'AGG', 'UCU', 'CCA', 'AUC', 'GUG', 'ACA', 'UUU', 'AGA', 'GCC', 'CUA', 'ACU', 'CCA', 'AGC', 'GAC', 'GUA', 'GGA', 'UUG', 'ACA', 'UAU', 'AGA', 'AUC', 'UGC', 'GUG', 'GUA', 'AAU', 'ACG', 'AGG', 'GUU', 'AAA', 'GUC', 'AGU', 'GCG', 'CUA', 'AAU', 'GAG', 'CCC', 'CAA', 'AGA', 'UGG', 'CAU', 'CCG', 'GCG', 'ACU', 'GAA', 'CUC', 'GAG', 'CGG', 'CGG', 'AAG', 'ACG', 'UAU', 'CGU', 'CAG', 'AGG', 'AUU', 'UCC', 'AGA', 'AAC', 'CCU', 'CUC', 'UAU', 'AUU', 'CCG', 'UCU', 'AAA', 'GUG', 'CGG', 'AGU', 'CAC', 'AUA', 'ACG', 'AAG', 'ACC', 'GUA', 'CCU', 'CUU', 'GAU', 'UGG', 'UUG', 'CCG', 'CAU', 'AAC', 'CUC', 'AAA', 'UUG', 'AAU', 'CUC', 'ACA', 'CGA', 'CAG', 'AGA', 'GUC', 'GUG', 'CAU', 'GCG', 'AGG', 'GGG', 'UUU', 'AUA', 'UCG', 'GGA', 'GCA', 'ACA', 'CAA', 'CGA', 'CGU', 'GUG', 'GAU', 'CGG', 'CGA', 'GCC', 'AAU', 'AAA', 'AUC', 'UCG', 'UCG', 'UAC', 'CCC', 'AGU', 'AUA', 'AUG', 'CUG', 'GAA', 'AUG', 'GCG', 'ACC', 'GCG', 'UGU', 'UGU', 'CGG', 'UGG', 'CUC', 'AAA', 'CUC', 'CAC', 'GUA', 'AUG', 'AAG', 'CAC', 'UGU', 'GUU', 'GCC', 'UCA', 'GGG', 'CAA', 'CGA', 'CGG', 'UUU', 'AUA', 'UCU', 'AUG', 'GAG', 'GGC', 'CGU', 'GUA', 'UGC', 'CGC', 'GCU', 'CUA', 'CGG', 'CAU', 'UCC', 'UCA', 'UCG', 'AAU', 'CCG', 'GCU', 'GAA', 'ACU', 'AAC', 'AGC', 'CUA', 'UGG', 'UUU', 'UAU', 'AGC', 'CUU', 'CCC', 'CAU', 'UUU', 'CCA', 'AGU', 'CUU', 'CAA', 'AGU', 'AUC', 'AUU', 'AGU', 'UGU', 'AGG', 'GUG', 'GAC', 'GAU', 'GUC', 'GUG', 'ACG', 'UUU', 'GUU', 'GCU', 'CAG', 'CUU', 'CUG', 'GCA', 'GAU', 'AUA', 'CGC', 'GGU', 'UCA', 'UAC', 'AAA', 'CUC', 'AAC', 'GCU', 'UGG', 'GAA', 'UUA', 'GUU', 'AGG', 'UAU', 'ACG', 'CAG', 'AUC', 'CUA', 'UAU', 'CGG', 'CUU', 'AUC', 'AAC', 'CCU', 'CGG', 'UCC', 'CCC', 'CGC', 'GCU', 'AGU', 'GAU', 'AUU', 'AUU', 'AUG', 'GGU', 'ACC', 'CCU', 'UUA', 'AUU', 'AAU', 'UCC', 'UUU', 'AAG', 'UGC', 'GCC', 'CAA', 'CAA', 'CCC', 'UAU', 'GAU', 'AGC', 'GAU', 'ACU', 'AUC', 'UCG', 'GGU', 'CCU', 'AAA', 'AAA', 'CCA', 'GCU', 'UGC', 'GUC', 'CUU', 'AUC', 'UUG', 'UCA', 'CUA', 'UCA', 'CCA', 'CUG', 'UAC', 'GUG', 'CCG', 'GGU', 'GCG', 'GGG', 'CUA', 'UCU', 'GUU', 'AUA', 'CCC', 'GAC', 'ACA', 'AAC', 'GUC', 'CAG', 'CAC', 'GAU', 'AAU', 'CCA', 'AUC', 'CAA', 'CCU', 'GAC', 'CCU', 'ACG', 'CGG', 'ACU', 'GAA', 'AUU', 'GUU', 'CUA', 'UCG', 'AAG', 'ACA', 'CUG', 'CUU', 'CAA', 'GAC', 'CUG', 'GUC', 'UCA', 'UCG', 'CCG', 'ACG', 'CGG', 'GGU', 'UUA', 'GAA', 'AGA', 'ACC', 'ACC', 'UUU', 'AAG', 'CAG', 'UGC', 'AUC', 'AAU', 'ACU', 'ACU', 'UAU', 'GUA', 'CUG', 'GUC', 'GUU', 'ACG', 'GAU', 'UUA', 'AAC', 'ACA', 'AUC', 'GUG', 'GGG', 'GGC', 'CCG', 'CCC', 'GUG', 'GGU', 'ACC', 'UUC', 'CCU', 'GAG', 'CCG', 'CCU', 'CGC', 'UCG', 'ACU', 'AAA', 'UAC', 'AGG', 'ACC', 'CGU', 'GAG', 'GGC', 'CAC', 'GUU', 'CUC', 'AGC', 'CUG', 'UGC', 'AAA', 'CAG', 'CAC', 'GAC', 'UCC', 'CUC', 'CUU', 'UAU', 'ACG', 'CGG', 'CGA', 'ACG', 'AGC', 'ACG', 'AGG', 'GGC', 'AUU', 'UUU', 'CCG', 'UCG', 'ACC', 'AUC', 'AUG', 'CAG', 'UUA', 'CCG', 'GGC', 'AGG', 'AAU', 'GCU', 'AGG', 'CCC', 'UCG', 'GCA', 'GAC', 'AUU', 'CUG', 'ACG', 'UCC', 'GUA', 'CUC', 'AAC', 'GCG', 'ACA', 'AUU', 'GUA', 'CAU', 'AAU', 'CAU', 'CCG', 'AUG', 'UCA', 'UUA', 'CUC', 'AAC', 'UUU', 'AAA', 'AUG', 'UGU', 'UUC', 'UUU', 'CGA', 'GCC', 'CUC', 'UGG', 'UUA', 'AAG', 'GGU', 'ACC', 'CCU', 'UUC', 'CGC', 'CCU', 'CAU', 'UGG', 'GCC', 'CUC', 'ACG', 'GUC', 'CUG', 'GGA', 'GAA', 'CGC', 'GUU', 'GAG', 'GGU', 'AAG', 'CGG', 'UUC', 'AAA', 'UAU', 'AAA', 'CCC', 'CAC', 'UUU', 'GGC', 'UGC', 'AGC', 'AUA', 'AGA', 'GAA', 'CUA', 'AUA', 'CUC', 'CCA', 'GCC', 'GUU', 'CUG', 'CCC', 'GAC', 'UAU', 'GAA', 'CUG', 'CUU', 'ACU', 'UGC', 'CAC', 'CUG', 'GCC', 'AUG', 'UCU', 'UAC', 'ACC', 'AGU', 'UAC', 'AUG', 'CUG', 'GAU', 'AUC', 'GCA', 'UAU', 'AAG', 'UCC', 'GUA', 'CCC', 'CGA', 'CGC', 'UUC', 'UGC', 'ACA', 'GGU', 'CCU', 'CAC', 'AUU', 'CGA', 'GAA', 'CUC', 'AAA', 'GGA', 'ACG', 'CCG', 'CGU', 'GUG', 'GAU', 'CGA', 'GCC', 'UGU', 'CUC', 'CGA', 'CGG', 'CAA', 'AAA', 'AAU', 'CGA', 'CGG', 'UUU', 'GUU', 'ACA', 'UUA', 'UGU', 'GGA', 'GUU', 'GGU', 'AAA', 'UUU', 'GAC', 'CAU', 'CAG', 'GCU', 'UUC', 'AAA', 'AUC', 'CUU', 'GAC', 'CGC', 'GGG', 'GUG', 'GAU', 'UGC', 'CUU', 'GAG', 'CUC', 'GUU', 'CAU', 'CAA', 'GUC', 'UCC', 'ACA', 'AGU', 'UGG', 'CUA', 'GUA', 'CGU', 'GGA', 'GCU', 'UGC', 'CUA', 'CUU', 'GCC', 'GGU', 'CUG', 'UCG', 'UUC', 'AGA', 'GAA', 'CCC', 'GCG', 'CUG', 'CAC', 'CGG', 'GGA', 'UCC', 'GAG', 'GGC', 'GAC', 'UCU', 'UUA', 'GAG', 'UUG', 'UAU', 'CUU', 'UCC', 'ACU', 'CAA', 'AGG', 'UAU', 'AGU', 'AAC', 'CAU', 'CCG', 'AGU', 'CCU', 'UCA', 'CCA', 'AGG', 'AGC', 'CCC', 'GGU', 'UCC', 'AUG', 'UAG']"
   ]
  },
  {
   "cell_type": "code",
   "execution_count": 59,
   "metadata": {},
   "outputs": [
    {
     "name": "stdout",
     "output_type": "stream",
     "text": [
      "MTTTSAVSISQDHSVDVGLFPKINGRYRHICPTGIHRSTPRRFKNPLNLPSIVEGCFHTEPGEIKTSLHMVNSYPTPMVPNKQMHYLSTLIMALLRFATGGNVGAVPLPLNIECIPLFQWPLDLRLLPINPDEVFSPERFYPKVSALWSHDELINGREENTIYPKRAIIIHCGDYPRCYVHIMFPGFSTSYWELGEGLSQVVREQITVQKVMYHSIVCRTTMLSVSSLTGLLQHNCSLKRTNDHHIQYKRKVTSVLDLTPSMALLYNEDYKLAHVSRVWHKQTSTFHHSVSTLLVESTFPNCVHLLKSYRPRPWFSYREHVHAFAVFTNTARKKIDGVRLNASRQPGGRTRSERGYSFSARRVEKDQTIVLRPHNLAFADTSTIGPQQKATLQLSLENERHERMSFKIALTAVVWWDLASEGLRWRFGEPLIAAWSDLPRSLIRLKDGPRNNACMLQQDCVIDNRSPHLICRICMGCKGTPFVGDGRSSQHAHVLNRSLVAGVTLRGLHGLPGCGSVSAICVEPSSRAETDIIKSPTPISCNVQSLQPTHLIGDIGDLYAKFGRAIHSQITRSSERDREGTESRRTEISRYLLVAIMINTVLRERGALGPESNGIGMPLLNHIGRYYAIIGIARNNLADSYARNSPARDFQVRLLWTRGAWATGWLAASLVLPSSDFRRYGILFQKGCLFSPRSSSCSIRSVDAATNFGPTNPLSVCRTPTVAKACAYVPAALLNRNSCSSESVLHMSQDDQGLVPYSTVLADLRYTPRLLHVLLQHFIKVALSPSLLKLRGASPSYSRLPPRTYWLLPTAITLNTGSPAPNVSNVLRADVEIGDLTLAPADETLYLSSYGTLVKWRILLAGTIPRTRQQHQSDRSPNLSLLEVLARLLWRRINSKRMIPRPEPCEGFLRIRKVGESPRVGPWQRDQYTLGHYSLISSYFLDSHVAGNPIGDLRAHAEFWILKASLLVMVFLLLRRAAVILTLARARVLPVQCAFSYLEPRIHSCLTSTVDTISILCSQKLPRNPARCVPCILPKTWMQRLIEQSLRGRRPRVLEKRRSELEQKGYLSGSRSNRKLLQLARRTKANPAPDPANMKYSPNPDLAKGLLERQERSVMALAYTELTNVIATNAPEFELPVTCHPVDPLGSPLLRPDDLNPRPQNPRSSYAMHNLTLSIFLGAVFDPCTVSAFMGRTSGRTMQWYTGLFDYMSAYGQDSSSIALHKSRHQAKYRSGFHTDSAARIAAVPTRSRVNRRLGYDSASHTCHDHDQIPDIVVGTETYSKSSNTGAAQLFRSRRHMQNKLLFHELIRSRVPLDLYIVRSSQDQAWPPVQETFWAELSRRAKALHASHSCSQDTLSLNNEGLCVDVLRDPIALVSNNFWFEFTHTGRFDLNNEVVSVGPVRSCLRHRICRGLDVLKPGLYVCESDIYPTTSDYIHARHLLTPGGFQPEVSCSAIVSVLRGQATDMNDDVVTPSLHNQDRFRKTAASCETTACVGSTVGCRIVNGGSRSRVLTCALPVALLTSQLYGHPQKSRYGGLTTRWCHMLEVLFKNLDSPSWDYCSELFGVTVCGGYSSLSSDGTSRTVDSRTAACLGARAHYPDCMLGRSSSNDSSCTSQDKALKYPGLSGHRLPLVTPVIALRSCPGLLPIRWLDTGFRCECQLRPRGNVVNLGSADACSYSVGSFQNRRGNWTFLPVANRLSRADKLAERRVSKTHTALRVGTAPRIPLAYAWAGALSTTDGSHRQRVTAITSNISAPAGLQATGAAHYHCPTPSDSTDPIESLLQRMLHLPEAVRIPRGLWILYLYVGGPSLGGNSLGDRDGVAILFLSVLRGNVLIRSFPFKTSVYRAGDRRWRDHRLNQTRIYRFCSDNCQAVTHLETIIHRKLDALPLAPTMGRLLTKERRSAFVGIYGDSQRVMPFIKIVFVGKYPGHEHHPRGTRPQIVVVGDIPVVIPTNEYLAARTTQSSLYLRVGAGLSPESYVNDSLTLTPLLCVKHISLSGFVSGQVKLRAGACLTPVNQRVYKSSCRGRRQGLPTRLALRIFMPADTSRGQRPIRQEVPVDTLLRCYTWTWPHDTVERGSTKHTQLVKIPPNAQFMSQSLPALRILGRDYSCMPKLMTRIALLIYGLSTTSILSDGLTSIERPGASCTAQSGSQPYAVRRSDARRERHERFLFRYVEARLLQFMKVVSCSYIIKGMGIPIRGFWQHNRESVFGVFVSSLGLLCILPLPTSSIFEFGENTLLPCLLTTFIEPVVNTISLADDQVTGEKREIDLHSSLAEDPGGYLRAYTSCASESEVQRDRPGRLKIRDLFTALGLTCTALSQLPVRCLPAERRPSPRLCKDSPVLCLFPTHRIQGRFPPPVQLMPGVRAGLLHGACDFSLAHYPIVIYSFIENALRSFRLVWRPLRRRRNQVLLERSPKHPRRSLIFRLVRPPRPSSRGALYNAGRSGYRLHRDELNRLWPPSPAILSACQNVPPRIKQGCEVRVRAGGRTVCDSCDPIRRETVLAVLYEFRKLGRAIMVPPESIIPRFSRLWNYASSLKLARVRQIPYGLDPGGPLSLGGLREPQPSIHYWEMMSRSPIVTFRALTPSDVGLTYRICVVNTRVKVSALNEPQRWHPATELERRKTYRQRISRNPLYIPSKVRSHITKTVPLDWLPHNLKLNLTRQRVVHARGFISGATQRRVDRRANKISSYPSIMLEMATACCRWLKLHVMKHCVASGQRRFISMEGRVCRALRHSSSNPAETNSLWFYSLPHFPSLQSIISCRVDDVVTFVAQLLADIRGSYKLNAWELVRYTQILYRLINPRSPRASDIIMGTPLINSFKCAQQPYDSDTISGPKKPACVLILSLSPLYVPGAGLSVIPDTNVQHDNPIQPDPTRTEIVLSKTLLQDLVSSPTRGLERTTFKQCINTTYVLVVTDLNTIVGGPPVGTFPEPPRSTKYRTREGHVLSLCKQHDSLLYTRRTSTRGIFPSTIMQLPGRNARPSADILTSVLNATIVHNHPMSLLNFKMCFFRALWLKGTPFRPHWALTVLGERVEGKRFKYKPHFGCSIRELILPAVLPDYELLTCHLAMSYTSYMLDIAYKSVPRRFCTGPHIRELKGTPRVDRACLRRQKNRRFVTLCGVGKFDHQAFKILDRGVDCLELVHQVSTSWLVRGACLLAGLSFREPALHRGSEGDSLELYLSTQRYSNHPSPSPRSPGSM\n"
     ]
    }
   ],
   "source": [
    "new_arr = []\n",
    "\n",
    "# for i, (k,v) in enumerate(rna_codon_table.items()):\n",
    "    #print(k)\n",
    "for elem in my_array:\n",
    "    new_arr.append(rna_codon_table[elem])\n",
    "\n",
    "print(''.join(new_arr[0:-1]))"
   ]
  },
  {
   "cell_type": "code",
   "execution_count": null,
   "metadata": {},
   "outputs": [],
   "source": []
  },
  {
   "cell_type": "code",
   "execution_count": null,
   "metadata": {},
   "outputs": [],
   "source": []
  }
 ],
 "metadata": {
  "kernelspec": {
   "display_name": "Python 3",
   "language": "python",
   "name": "python3"
  },
  "language_info": {
   "codemirror_mode": {
    "name": "ipython",
    "version": 3
   },
   "file_extension": ".py",
   "mimetype": "text/x-python",
   "name": "python",
   "nbconvert_exporter": "python",
   "pygments_lexer": "ipython3",
   "version": "3.7.4"
  }
 },
 "nbformat": 4,
 "nbformat_minor": 2
}
