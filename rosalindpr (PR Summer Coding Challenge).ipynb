{
 "cells": [
  {
   "cell_type": "code",
   "execution_count": 1,
   "metadata": {},
   "outputs": [
    {
     "name": "stdout",
     "output_type": "stream",
     "text": [
      "The Zen of Python, by Tim Peters\n",
      "\n",
      "Beautiful is better than ugly.\n",
      "Explicit is better than implicit.\n",
      "Simple is better than complex.\n",
      "Complex is better than complicated.\n",
      "Flat is better than nested.\n",
      "Sparse is better than dense.\n",
      "Readability counts.\n",
      "Special cases aren't special enough to break the rules.\n",
      "Although practicality beats purity.\n",
      "Errors should never pass silently.\n",
      "Unless explicitly silenced.\n",
      "In the face of ambiguity, refuse the temptation to guess.\n",
      "There should be one-- and preferably only one --obvious way to do it.\n",
      "Although that way may not be obvious at first unless you're Dutch.\n",
      "Now is better than never.\n",
      "Although never is often better than *right* now.\n",
      "If the implementation is hard to explain, it's a bad idea.\n",
      "If the implementation is easy to explain, it may be a good idea.\n",
      "Namespaces are one honking great idea -- let's do more of those!\n"
     ]
    }
   ],
   "source": [
    "import this"
   ]
  },
  {
   "cell_type": "markdown",
   "metadata": {},
   "source": [
    "-----------\n",
    "Problem\n",
    "Given: Two positive integers a and b, each less than 1000.\n",
    "\n",
    "Return: The integer corresponding to the square of the hypotenuse of the right triangle whose legs have lengths a and b."
   ]
  },
  {
   "cell_type": "code",
   "execution_count": 3,
   "metadata": {},
   "outputs": [
    {
     "name": "stdout",
     "output_type": "stream",
     "text": [
      "1601064\n"
     ]
    }
   ],
   "source": [
    "a = 858\n",
    "b = 930\n",
    "print (a ** 2 + b ** 2)"
   ]
  },
  {
   "cell_type": "markdown",
   "metadata": {},
   "source": [
    "-----\n",
    "Problem\n",
    "Given: A string s of length at most 200 letters and four integers a, b, c and d.\n",
    "\n",
    "Return: The slice of this string from indices a through b and c through d (with space in between), inclusively. In other words, we should include elements s[b] and s[d] in our slice.\n",
    "\n",
    "Sample Dataset\n",
    "HumptyDumptysatonawallHumptyDumptyhadagreatfallAlltheKingshorsesandalltheKingsmenCouldntputHumptyDumptyinhisplaceagain.\n",
    "22 27 97 102\n",
    "Sample Output\n",
    "Humpty Dumpty"
   ]
  },
  {
   "cell_type": "code",
   "execution_count": 4,
   "metadata": {},
   "outputs": [
    {
     "name": "stdout",
     "output_type": "stream",
     "text": [
      "Heterodon calamita\n"
     ]
    }
   ],
   "source": [
    "my_string = \"6byWCpouqfQ44pKz624IHeterodonddXEXiosparQddb2Sg0Wp2mpF6xG6ZcRfWTaCuoLcu5xyDzoSKzCwHNFtGmqTWGY53ncalamitaREzZ4wmaC4ahjkWLoIZVdAGZAEDFtOl3ahzn9t7maKrl9YDPeAxNnLcI2AyIqfujZ8yQJiB1Gmg.\"\n",
    "a = 20\n",
    "b = 28\n",
    "c = 96\n",
    "d = 103\n",
    "print (my_string[20:29] + ' ' + my_string[96:104])"
   ]
  },
  {
   "cell_type": "markdown",
   "metadata": {},
   "source": [
    "------\n",
    "Problem\n",
    "Given: Two positive integers a and b (a<b<10000).\n",
    "\n",
    "Return: The sum of all odd integers from a through b, inclusively.\n",
    "\n",
    "Sample Dataset\n",
    "100 200\n",
    "Sample Output\n",
    "7500\n",
    "Hintclick to collapse\n",
    "You can use a % 2 == 1 to test if a is odd."
   ]
  },
  {
   "cell_type": "code",
   "execution_count": 16,
   "metadata": {},
   "outputs": [
    {
     "name": "stdout",
     "output_type": "stream",
     "text": [
      "14784957\n"
     ]
    }
   ],
   "source": [
    "counter = 0\n",
    "a = 4476\n",
    "b = 8897\n",
    "\n",
    "for num in range(a, b+1):\n",
    "    if(num % 2 == 1):\n",
    "        counter += num\n",
    "\n",
    "print(counter)\n",
    "        "
   ]
  },
  {
   "cell_type": "markdown",
   "metadata": {},
   "source": [
    "------\n",
    "Problem\n",
    "Given: A file containing at most 1000 lines.\n",
    "\n",
    "Return: A file containing all the even-numbered lines from the original file. Assume 1-based numbering of lines.\n",
    "\n",
    "Sample Dataset\n",
    "Bravely bold Sir Robin rode forth from Camelot\n",
    "Yes, brave Sir Robin turned about\n",
    "He was not afraid to die, O brave Sir Robin\n",
    "And gallantly he chickened out\n",
    "He was not at all afraid to be killed in nasty ways\n",
    "Bravely talking to his feet\n",
    "Brave, brave, brave, brave Sir Robin\n",
    "He beat a very brave retreat\n",
    "\n",
    "Sample Output\n",
    "Yes, brave Sir Robin turned about\n",
    "And gallantly he chickened out\n",
    "Bravely talking to his feet\n",
    "He beat a very brave retreat"
   ]
  },
  {
   "cell_type": "code",
   "execution_count": 37,
   "metadata": {},
   "outputs": [],
   "source": [
    "with open('rosalind_ini5.txt') as f:\n",
    "    content = f.readlines()"
   ]
  },
  {
   "cell_type": "code",
   "execution_count": 38,
   "metadata": {},
   "outputs": [
    {
     "data": {
      "text/plain": [
       "40"
      ]
     },
     "execution_count": 38,
     "metadata": {},
     "output_type": "execute_result"
    }
   ],
   "source": [
    "len(content)"
   ]
  },
  {
   "cell_type": "code",
   "execution_count": 39,
   "metadata": {},
   "outputs": [
    {
     "data": {
      "text/plain": [
       "['`Twas brillig, and the slithy toves\\n',\n",
       " 'Some things in life are bad, they can really make you mad\\n',\n",
       " '  Did gyre and gimble in the wabe:\\n',\n",
       " 'Other things just make you swear and curse\\n',\n",
       " 'All mimsy were the borogoves,\\n',\n",
       " \"When you're chewing on life's gristle, don't grumble give a whistle\\n\",\n",
       " '  And the mome raths outgrabe.\\n',\n",
       " 'This will help things turn out for the best\\n',\n",
       " '\"Beware the Jabberwock, my son!\\n',\n",
       " 'Always look on the bright side of life\\n',\n",
       " '  The jaws that bite, the claws that catch!\\n',\n",
       " 'Always look on the right side of life\\n',\n",
       " 'Beware the Jubjub bird, and shun\\n',\n",
       " \"If life seems jolly rotten, there's something you've forgotten\\n\",\n",
       " '  The frumious Bandersnatch!\"\\n',\n",
       " \"And that's to laugh and smile and dance and sing\\n\",\n",
       " 'He took his vorpal sword in hand:\\n',\n",
       " \"When you're feeling in the dumps, don't be silly, chumps\\n\",\n",
       " '  Long time the manxome foe he sought --\\n',\n",
       " \"Just purse your lips and whistle, that's the thing\\n\",\n",
       " 'So rested he by the Tumtum tree,\\n',\n",
       " 'So, always look on the bright side of death\\n',\n",
       " '  And stood awhile in thought.\\n',\n",
       " 'Just before you draw your terminal breath\\n',\n",
       " 'And, as in uffish thought he stood,\\n',\n",
       " \"Life's a counterfeit and when you look at it\\n\",\n",
       " '  The Jabberwock, with eyes of flame,\\n',\n",
       " \"Life's a laugh and death's the joke, it's true\\n\",\n",
       " 'Came whiffling through the tulgey wood,\\n',\n",
       " \"You see, it's all a show, keep them laughing as you go\\n\",\n",
       " '  And burbled as it came!\\n',\n",
       " 'Just remember the last laugh is on you\\n',\n",
       " 'One, two! One, two! And through and through\\n',\n",
       " 'Always look on the bright side of life\\n',\n",
       " '  The vorpal blade went snicker-snack!\\n',\n",
       " 'And always look on the right side of life\\n',\n",
       " 'He left it dead, and with its head\\n',\n",
       " 'Always look on the bright side of life\\n',\n",
       " '  He went galumphing back.\\n',\n",
       " 'And always look on the right side of life\\n']"
      ]
     },
     "execution_count": 39,
     "metadata": {},
     "output_type": "execute_result"
    }
   ],
   "source": [
    "content"
   ]
  },
  {
   "cell_type": "code",
   "execution_count": 48,
   "metadata": {},
   "outputs": [
    {
     "name": "stdout",
     "output_type": "stream",
     "text": [
      "Some things in life are bad, they can really make you mad\n",
      "\n",
      "Other things just make you swear and curse\n",
      "\n",
      "When you're chewing on life's gristle, don't grumble give a whistle\n",
      "\n",
      "This will help things turn out for the best\n",
      "\n",
      "Always look on the bright side of life\n",
      "\n",
      "Always look on the right side of life\n",
      "\n",
      "If life seems jolly rotten, there's something you've forgotten\n",
      "\n",
      "And that's to laugh and smile and dance and sing\n",
      "\n",
      "When you're feeling in the dumps, don't be silly, chumps\n",
      "\n",
      "Just purse your lips and whistle, that's the thing\n",
      "\n",
      "So, always look on the bright side of death\n",
      "\n",
      "Just before you draw your terminal breath\n",
      "\n",
      "Life's a counterfeit and when you look at it\n",
      "\n",
      "Life's a laugh and death's the joke, it's true\n",
      "\n",
      "You see, it's all a show, keep them laughing as you go\n",
      "\n",
      "Just remember the last laugh is on you\n",
      "\n",
      "Always look on the bright side of life\n",
      "\n",
      "And always look on the right side of life\n",
      "\n",
      "Always look on the bright side of life\n",
      "\n",
      "And always look on the right side of life\n",
      "\n"
     ]
    }
   ],
   "source": [
    "i = 1\n",
    "while i <= len(content):\n",
    "    print(content[i])\n",
    "    i = i + 2"
   ]
  },
  {
   "cell_type": "code",
   "execution_count": 68,
   "metadata": {},
   "outputs": [],
   "source": [
    "def charMap(string):\n",
    "  my_dict = {}\n",
    "\n",
    "  for word in string.split():\n",
    "    if word in my_dict.keys():\n",
    "      my_dict[word]+= 1\n",
    "    else: \n",
    "      my_dict[word]= 1\n",
    "    \n",
    "  return my_dict\n"
   ]
  },
  {
   "cell_type": "code",
   "execution_count": 63,
   "metadata": {},
   "outputs": [
    {
     "data": {
      "text/plain": [
       "{'We': 1,\n",
       " 'tried': 3,\n",
       " 'list': 1,\n",
       " 'and': 1,\n",
       " 'we': 2,\n",
       " 'dicts': 1,\n",
       " 'also': 1,\n",
       " 'Zen': 1}"
      ]
     },
     "execution_count": 63,
     "metadata": {},
     "output_type": "execute_result"
    }
   ],
   "source": [
    "charMap('We tried list and we tried dicts also we tried Zen')"
   ]
  },
  {
   "cell_type": "code",
   "execution_count": 73,
   "metadata": {},
   "outputs": [
    {
     "name": "stdout",
     "output_type": "stream",
     "text": [
      "We\n",
      "1\n",
      "tried\n",
      "3\n",
      "list\n",
      "1\n",
      "and\n",
      "1\n",
      "we\n",
      "2\n",
      "dicts\n",
      "1\n",
      "also\n",
      "1\n",
      "Zen\n",
      "1\n"
     ]
    }
   ],
   "source": [
    "my_dict = {}\n",
    "my_string = 'We tried list and we tried dicts also we tried Zen'\n",
    "\n",
    "for word in my_string.split():\n",
    "  if word in my_dict.keys():\n",
    "    my_dict[word]+= 1\n",
    "  else: \n",
    "    my_dict[word]= 1\n",
    "\n",
    "for key, value in my_dict.items():\n",
    "    print(key)\n",
    "    print(value)"
   ]
  },
  {
   "cell_type": "code",
   "execution_count": 74,
   "metadata": {},
   "outputs": [
    {
     "name": "stdout",
     "output_type": "stream",
     "text": [
      "When\n",
      "1\n",
      "I\n",
      "2\n",
      "find\n",
      "1\n",
      "myself\n",
      "1\n",
      "in\n",
      "4\n",
      "times\n",
      "1\n",
      "of\n",
      "11\n",
      "trouble\n",
      "1\n",
      "Mother\n",
      "2\n",
      "Mary\n",
      "2\n",
      "comes\n",
      "2\n",
      "to\n",
      "3\n",
      "me\n",
      "4\n",
      "Speaking\n",
      "3\n",
      "words\n",
      "7\n",
      "wisdom\n",
      "7\n",
      "let\n",
      "30\n",
      "it\n",
      "36\n",
      "be\n",
      "41\n",
      "And\n",
      "3\n",
      "my\n",
      "1\n",
      "hour\n",
      "1\n",
      "darkness\n",
      "1\n",
      "she\n",
      "1\n",
      "is\n",
      "4\n",
      "standing\n",
      "1\n",
      "right\n",
      "1\n",
      "front\n",
      "1\n",
      "Let\n",
      "6\n",
      "Whisper\n",
      "4\n",
      "when\n",
      "2\n",
      "the\n",
      "4\n",
      "broken\n",
      "1\n",
      "hearted\n",
      "1\n",
      "people\n",
      "1\n",
      "living\n",
      "1\n",
      "world\n",
      "1\n",
      "agree\n",
      "1\n",
      "There\n",
      "4\n",
      "will\n",
      "5\n",
      "an\n",
      "4\n",
      "answer\n",
      "4\n",
      "For\n",
      "1\n",
      "though\n",
      "1\n",
      "they\n",
      "2\n",
      "may\n",
      "1\n",
      "parted\n",
      "1\n",
      "there\n",
      "2\n",
      "still\n",
      "2\n",
      "a\n",
      "2\n",
      "chance\n",
      "1\n",
      "that\n",
      "2\n",
      "see\n",
      "1\n",
      "night\n",
      "1\n",
      "cloudy\n",
      "1\n",
      "light\n",
      "1\n",
      "shines\n",
      "1\n",
      "on\n",
      "1\n",
      "Shine\n",
      "1\n",
      "until\n",
      "1\n",
      "tomorrow\n",
      "1\n",
      "wake\n",
      "1\n",
      "up\n",
      "1\n",
      "sound\n",
      "1\n",
      "music\n",
      "1\n",
      "yeah\n",
      "2\n"
     ]
    }
   ],
   "source": [
    "my_string = 'When I find myself in times of trouble Mother Mary comes to me Speaking words of wisdom let it be And in my hour of darkness she is standing right in front of me Speaking words of wisdom let it be Let it be let it be let it be let it be Whisper words of wisdom let it be And when the broken hearted people living in the world agree There will be an answer let it be For though they may be parted there is still a chance that they will see There will be an answer let it be Let it be let it be let it be let it be There will be an answer let it be Let it be let it be let it be let it be Whisper words of wisdom let it be Let it be let it be let it be let it be Whisper words of wisdom let it be And when the night is cloudy there is still a light that shines on me Shine until tomorrow let it be I wake up to the sound of music Mother Mary comes to me Speaking words of wisdom let it be Let it be let it be let it be yeah let it be There will be an answer let it be Let it be let it be let it be yeah let it be Whisper words of wisdom let it be'\n",
    "my_dict = {}\n",
    "\n",
    "for word in my_string.split():\n",
    "  if word in my_dict.keys():\n",
    "    my_dict[word]+= 1\n",
    "  else: \n",
    "    my_dict[word]= 1\n",
    "\n",
    "for key, value in my_dict.items():\n",
    "    print(key)\n",
    "    print(value)"
   ]
  },
  {
   "cell_type": "markdown",
   "metadata": {},
   "source": [
    "-----------\n",
    "Problem\n",
    "A string is simply an ordered collection of symbols selected from some alphabet and formed into a word; the length of a string is the number of symbols that it contains.\n",
    "\n",
    "An example of a length 21 DNA string (whose alphabet contains the symbols 'A', 'C', 'G', and 'T') is \"ATGCTTCAGAAAGGTCTTACG.\"\n",
    "\n",
    "Given: A DNA string s of length at most 1000 nt.\n",
    "\n",
    "Return: Four integers (separated by spaces) counting the respective number of times that the symbols 'A', 'C', 'G', and 'T' occur in s.\n",
    "\n",
    "Sample Dataset\n",
    "AGCTTTTCATTCTGACTGCAACGGGCAATATGTCTCTGTGTGGATTAAAAAAAGAGTGTCTGATAGCAGC\n",
    "Sample Output\n",
    "20 12 17 21"
   ]
  },
  {
   "cell_type": "code",
   "execution_count": 96,
   "metadata": {},
   "outputs": [
    {
     "name": "stdout",
     "output_type": "stream",
     "text": [
      "20 12 17 21\n"
     ]
    }
   ],
   "source": [
    "my_dict = {}\n",
    "my_string = 'AGCTTTTCATTCTGACTGCAACGGGCAATATGTCTCTGTGTGGATTAAAAAAAGAGTGTCTGATAGCAGC'\n",
    "\n",
    "for letter in my_string:\n",
    "  if letter in my_dict.keys():\n",
    "    my_dict[letter]+= 1\n",
    "  else: \n",
    "    my_dict[letter]= 1\n",
    "    \n",
    "print('{0} {1} {2} {3}'.format(my_dict['A'], my_dict['C'], my_dict['G'], my_dict['T']))"
   ]
  },
  {
   "cell_type": "code",
   "execution_count": 98,
   "metadata": {},
   "outputs": [
    {
     "name": "stdout",
     "output_type": "stream",
     "text": [
      "262 235 241 252\n"
     ]
    }
   ],
   "source": [
    "my_dict = {}\n",
    "my_string = 'GACTATCATGACCGACTTCCGAAGCGCACACTCTTCTCGGCACCCGTCCTAGCCGATAGTAAAAGCTCTTACCATGATGGCAGCTAGACCTGCTATCCGGATAAACAACACTTAGGACGCCTTCTCCTAACTTTCGACGAGGTCAGGACCAACAGAGACTACAATTTGTCCTGTCTATTCGCAGTAAAACAATACAGGCGAGCGATGAATTCAGTGGCGGCTGCTTCCACCTGTGAGGGACTGTGGATTGCAGATTTATCCAGACTGCACGGCTCTTACTACTAGGAGAGGTAAAAATTATTTTGTCAAAGTAATTGGGAGCCCAAAGTCTTTGATATACCCGTACAACGATTCAGTGAGGTCCCTATTCATTTGTTTAGCATATTGAGTGTTATCCAGCGAACTCACTCTCTGGGATTCAGGAATTATGAGTGAAAGTCCCGTTCCGAAGTGACATCCACGGGTGATAGTCGTTCCGCTGAACCTCTATTCGTGTGAGCACGCATAGTCTACCCGAACACTAGCGGAGACATGTTATGTGTAGATGTCAGGGGACTGGTCTTTGACGATCTCAGGATCTCCGATTACTAGGATTAATGAAAGCATCTGACTCCTAAGCCCACTTGTACATCAGAGCCGTCTAGTTCGAGTAACGTCGCGTACAGTGCCCGTGTACCGAGGCCAGGCGGTGATATGAACTATGTGTGGTAATCAAGGTAGGGGTTCATCTCGATACGTCCCAGGCTGGCAAACACTCACCAATCTGGGGAGGTTGATAAGCCAAAGCGTCACTACAGAGCTCGGTTGGAACGAATCGCGGTGGTATTGCGTTCCGATTAAAATTTACAGCTAACAGACCCGAGCGCACGGAATCGATTATAACAAGCGATCTGTGATCCGGCAAGTTAAGGTGGTTGTTCGTCTAGCACGGAAGCGTTCTTACGGTAAGAAAACCACATGCTACTACTCTGTCTACCTTTAAGAGCCGGT'\n",
    "\n",
    "for letter in my_string:\n",
    "  if letter in my_dict.keys():\n",
    "    my_dict[letter]+= 1\n",
    "  else: \n",
    "    my_dict[letter]= 1\n",
    "    \n",
    "print('{0} {1} {2} {3}'.format(my_dict['A'], my_dict['C'], my_dict['G'], my_dict['T']))"
   ]
  },
  {
   "cell_type": "markdown",
   "metadata": {},
   "source": [
    "--------------\n",
    "\n",
    "Problem\n",
    "An RNA string is a string formed from the alphabet containing 'A', 'C', 'G', and 'U'.\n",
    "\n",
    "Given a DNA string t corresponding to a coding strand, its transcribed RNA string u is formed by replacing all occurrences of 'T' in t with 'U' in u.\n",
    "\n",
    "Given: A DNA string t having length at most 1000 nt.\n",
    "\n",
    "Return: The transcribed RNA string of t.\n",
    "\n",
    "Sample Dataset\n",
    "GATGGAACTTGACTACGTAAATT\n",
    "\n",
    "Sample Output\n",
    "GAUGGAACUUGACUACGUAAAUU"
   ]
  },
  {
   "cell_type": "code",
   "execution_count": 106,
   "metadata": {},
   "outputs": [
    {
     "name": "stdout",
     "output_type": "stream",
     "text": [
      "GAUGGAACUUGACUACGUAAAUU\n"
     ]
    }
   ],
   "source": [
    "dnastring = 'GATGGAACTTGACTACGTAAATT'\n",
    "rna = []\n",
    "str = ''\n",
    "\n",
    "for letter in dnastring:\n",
    "    if letter == 'T':\n",
    "        rna.append('U')\n",
    "    else:\n",
    "        rna.append(letter)\n",
    "\n",
    "print(str.join(rna))\n"
   ]
  },
  {
   "cell_type": "code",
   "execution_count": 107,
   "metadata": {},
   "outputs": [
    {
     "name": "stdout",
     "output_type": "stream",
     "text": [
      "UCUGCUGGAGCGCGUGGAUGGUUGCCGAACGCAGUGGGAGGUAUUGAUGUACUGACGAUUACGUACAGGUACGACAACUCUCCUCAGCAAAAUUCGGAUUAUCAAUAUAUAUACUCAGUUAAACACAUACAUCCGGAUUGCCUUCGAAUGCUUACCUGCAAAUAAUGUUCAAGAGUCAUCAUACUUGCAUAGAGCUCCGGAAGACUUGGUUCAAGCAGAACACCGAGCUAUAUCGGCAACUUUCAAUCUAAUUCGAAAACACAACUAUUGCUCACCCUUCCUUCCCCAACUCGAACUCUACAUCGUGCCUUAAUUACACGUCCCUAAGUAUAUUUAGUUACUACCAAAGAGAGCAGAACAGGUUGCAUUAGCCGGAAGAAGCAUAGUGAAGGUAGUUUCUCAAUGGGUUAGUUUAGCAUGAUCGUGGACACCCUACGCGCCCCAUUAUCGUGCCUAAGUAUGUCCGUUCUUUUGCAAUGCUGGGCACUAUCAUGGUCAAGCCUAAGCGGUCCGACUCGGGGGCUUGUCAAUACAAGGCUAGCAGGAGGACUACCCACCCAGCUGGCAUUAUUAAUAUUCUAGGUGAGUCGGACGUCAACAUUCGGAACUACUGCUGGCAGUAAGUGGCUACGACAUACGCACGAUUACAGGGGGUUGGAAGAUAUGAGCGUCUUUGCGCGAGUGGAACGAAGUUUGUUCUAUGGGUAGUCUCAGGCCUGUAACGAAGACUUGACAAGACAGCAGGGAACCGAAUAUCGCCACGCGCGGGGAAUCCUGAUUACAUCUCCGACCAUACCCUUCGCGUGGGCUUCUGUGGGAAUAAGUUAGGUGUAAACCGCGUCGUUAUCGUCUAGCUCCAGCUCGGUCCUUCCCGCCUUUCUAAACUGCGGCGUGAGGGUCCACACGGAGAGAAGUUUACGGGCCACGUGUUAAAGAUGUUAUUUAAUUCG\n"
     ]
    }
   ],
   "source": [
    "dnastring = 'TCTGCTGGAGCGCGTGGATGGTTGCCGAACGCAGTGGGAGGTATTGATGTACTGACGATTACGTACAGGTACGACAACTCTCCTCAGCAAAATTCGGATTATCAATATATATACTCAGTTAAACACATACATCCGGATTGCCTTCGAATGCTTACCTGCAAATAATGTTCAAGAGTCATCATACTTGCATAGAGCTCCGGAAGACTTGGTTCAAGCAGAACACCGAGCTATATCGGCAACTTTCAATCTAATTCGAAAACACAACTATTGCTCACCCTTCCTTCCCCAACTCGAACTCTACATCGTGCCTTAATTACACGTCCCTAAGTATATTTAGTTACTACCAAAGAGAGCAGAACAGGTTGCATTAGCCGGAAGAAGCATAGTGAAGGTAGTTTCTCAATGGGTTAGTTTAGCATGATCGTGGACACCCTACGCGCCCCATTATCGTGCCTAAGTATGTCCGTTCTTTTGCAATGCTGGGCACTATCATGGTCAAGCCTAAGCGGTCCGACTCGGGGGCTTGTCAATACAAGGCTAGCAGGAGGACTACCCACCCAGCTGGCATTATTAATATTCTAGGTGAGTCGGACGTCAACATTCGGAACTACTGCTGGCAGTAAGTGGCTACGACATACGCACGATTACAGGGGGTTGGAAGATATGAGCGTCTTTGCGCGAGTGGAACGAAGTTTGTTCTATGGGTAGTCTCAGGCCTGTAACGAAGACTTGACAAGACAGCAGGGAACCGAATATCGCCACGCGCGGGGAATCCTGATTACATCTCCGACCATACCCTTCGCGTGGGCTTCTGTGGGAATAAGTTAGGTGTAAACCGCGTCGTTATCGTCTAGCTCCAGCTCGGTCCTTCCCGCCTTTCTAAACTGCGGCGTGAGGGTCCACACGGAGAGAAGTTTACGGGCCACGTGTTAAAGATGTTATTTAATTCG'\n",
    "rna = []\n",
    "rnastring = ''\n",
    "\n",
    "for letter in dnastring:\n",
    "    if letter == 'T':\n",
    "        rna.append('U')\n",
    "    else:\n",
    "        rna.append(letter)\n",
    "\n",
    "print(rnastring.join(rna))\n"
   ]
  },
  {
   "cell_type": "code",
   "execution_count": null,
   "metadata": {},
   "outputs": [],
   "source": [
    "\n"
   ]
  }
 ],
 "metadata": {
  "kernelspec": {
   "display_name": "Python 3",
   "language": "python",
   "name": "python3"
  },
  "language_info": {
   "codemirror_mode": {
    "name": "ipython",
    "version": 3
   },
   "file_extension": ".py",
   "mimetype": "text/x-python",
   "name": "python",
   "nbconvert_exporter": "python",
   "pygments_lexer": "ipython3",
   "version": "3.7.4"
  }
 },
 "nbformat": 4,
 "nbformat_minor": 2
}
